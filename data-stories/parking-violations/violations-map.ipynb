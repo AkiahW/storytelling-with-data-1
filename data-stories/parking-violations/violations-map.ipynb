{
 "cells": [
  {
   "cell_type": "code",
   "execution_count": 1,
   "metadata": {
    "ExecuteTime": {
     "end_time": "2019-05-01T18:11:58.706713Z",
     "start_time": "2019-05-01T18:11:57.278674Z"
    }
   },
   "outputs": [],
   "source": [
    "# Imports\n",
    "import numpy as np\n",
    "import pandas as pd\n",
    "import folium as fm # For the map, will only work in Jupyter since it needs a browser\n",
    "from folium.plugins import MarkerCluster # In order to add map markers\n",
    "from pyproj import Proj, transform\n",
    "import matplotlib.pyplot as plt\n",
    "import time\n",
    "\n",
    "np.set_printoptions(threshold=np.inf, linewidth = 500, suppress=True)\n",
    "pd.set_option('display.max_rows', 3000)\n",
    "pd.set_option('display.max_columns', 3000)\n",
    "pd.set_option('display.width', 1000)\n",
    "pd.set_option('display.float_format', lambda x: '%.3f' % x)"
   ]
  },
  {
   "cell_type": "markdown",
   "metadata": {},
   "source": [
    "# data cleaning"
   ]
  },
  {
   "cell_type": "code",
   "execution_count": 2,
   "metadata": {
    "ExecuteTime": {
     "end_time": "2019-05-01T18:12:04.817825Z",
     "start_time": "2019-05-01T18:12:04.794145Z"
    },
    "scrolled": true
   },
   "outputs": [],
   "source": [
    "# load in data\n",
    "df = pd.read_csv('violations_final.csv', index_col='Unnamed: 0', \n",
    "                 parse_dates=['Issue Datetime'], dtype={'Ticket Cost' : str})\n",
    "\n",
    "df.dropna(subset=['Zip Code', 'Ticket Cost'], inplace=True)\n",
    "\n",
    "df['Zip Code'] = df['Zip Code'].astype(np.int64)\n"
   ]
  },
  {
   "cell_type": "code",
   "execution_count": 3,
   "metadata": {
    "scrolled": true
   },
   "outputs": [
    {
     "data": {
      "text/plain": [
       "5582"
      ]
     },
     "execution_count": 3,
     "metadata": {},
     "output_type": "execute_result"
    }
   ],
   "source": [
    "# how many datapoints do we have?\n",
    "len(df)"
   ]
  },
  {
   "cell_type": "code",
   "execution_count": 4,
   "metadata": {
    "scrolled": true
   },
   "outputs": [
    {
     "data": {
      "text/html": [
       "<div>\n",
       "<style scoped>\n",
       "    .dataframe tbody tr th:only-of-type {\n",
       "        vertical-align: middle;\n",
       "    }\n",
       "\n",
       "    .dataframe tbody tr th {\n",
       "        vertical-align: top;\n",
       "    }\n",
       "\n",
       "    .dataframe thead th {\n",
       "        text-align: right;\n",
       "    }\n",
       "</style>\n",
       "<table border=\"1\" class=\"dataframe\">\n",
       "  <thead>\n",
       "    <tr style=\"text-align: right;\">\n",
       "      <th></th>\n",
       "      <th>Issue Datetime</th>\n",
       "      <th>Summons Number</th>\n",
       "      <th>Violation Code</th>\n",
       "      <th>Violation Location</th>\n",
       "      <th>Violation Precinct</th>\n",
       "      <th>House Number</th>\n",
       "      <th>Street Name</th>\n",
       "      <th>Intersecting Street</th>\n",
       "      <th>City &amp; State</th>\n",
       "      <th>Ticket Cost</th>\n",
       "      <th>Ticket Type</th>\n",
       "      <th>Zip Code</th>\n",
       "      <th>Lat</th>\n",
       "      <th>Long</th>\n",
       "    </tr>\n",
       "  </thead>\n",
       "  <tbody>\n",
       "    <tr>\n",
       "      <th>0</th>\n",
       "      <td>2019-01-14 12:00:00</td>\n",
       "      <td>8678224277</td>\n",
       "      <td>14</td>\n",
       "      <td>83</td>\n",
       "      <td>83</td>\n",
       "      <td>W</td>\n",
       "      <td>St Nicholas Ave</td>\n",
       "      <td>07ft N/of Jefferson</td>\n",
       "      <td>Brooklyn, NY</td>\n",
       "      <td>115.0</td>\n",
       "      <td>General No Standing: Standing or parking where...</td>\n",
       "      <td>11237</td>\n",
       "      <td>40.708</td>\n",
       "      <td>-73.923</td>\n",
       "    </tr>\n",
       "    <tr>\n",
       "      <th>1</th>\n",
       "      <td>2019-01-11 11:29:00</td>\n",
       "      <td>8678223868</td>\n",
       "      <td>21</td>\n",
       "      <td>90</td>\n",
       "      <td>90</td>\n",
       "      <td>N</td>\n",
       "      <td>Wythe Ave</td>\n",
       "      <td>08ft W/of Rutledge S</td>\n",
       "      <td>Brooklyn, NY</td>\n",
       "      <td>45.0</td>\n",
       "      <td>Street Cleaning: No parking where parking is n...</td>\n",
       "      <td>11249</td>\n",
       "      <td>40.700</td>\n",
       "      <td>-73.960</td>\n",
       "    </tr>\n",
       "    <tr>\n",
       "      <th>2</th>\n",
       "      <td>2019-01-13 15:05:00</td>\n",
       "      <td>8699568241</td>\n",
       "      <td>50</td>\n",
       "      <td>79</td>\n",
       "      <td>79</td>\n",
       "      <td>S</td>\n",
       "      <td>Macon St</td>\n",
       "      <td>0ft E/of Arlington P</td>\n",
       "      <td>Brooklyn, NY</td>\n",
       "      <td>115.0</td>\n",
       "      <td>Stopping, standing or parking in a crosswalk. ...</td>\n",
       "      <td>11216</td>\n",
       "      <td>40.681</td>\n",
       "      <td>-73.951</td>\n",
       "    </tr>\n",
       "    <tr>\n",
       "      <th>3</th>\n",
       "      <td>2019-01-11 08:37:00</td>\n",
       "      <td>8701817176</td>\n",
       "      <td>50</td>\n",
       "      <td>90</td>\n",
       "      <td>90</td>\n",
       "      <td>N</td>\n",
       "      <td>S 1st St</td>\n",
       "      <td>0ft E/of Driggs Ave</td>\n",
       "      <td>Brooklyn, NY</td>\n",
       "      <td>115.0</td>\n",
       "      <td>Stopping, standing or parking in a crosswalk. ...</td>\n",
       "      <td>11211</td>\n",
       "      <td>40.713</td>\n",
       "      <td>-73.960</td>\n",
       "    </tr>\n",
       "    <tr>\n",
       "      <th>4</th>\n",
       "      <td>2019-01-14 12:37:00</td>\n",
       "      <td>8695487570</td>\n",
       "      <td>50</td>\n",
       "      <td>90</td>\n",
       "      <td>90</td>\n",
       "      <td>S</td>\n",
       "      <td>Debevoise St</td>\n",
       "      <td>0ft E/of Graham Ave</td>\n",
       "      <td>Brooklyn, NY</td>\n",
       "      <td>115.0</td>\n",
       "      <td>Stopping, standing or parking in a crosswalk. ...</td>\n",
       "      <td>11206</td>\n",
       "      <td>40.702</td>\n",
       "      <td>-73.942</td>\n",
       "    </tr>\n",
       "  </tbody>\n",
       "</table>\n",
       "</div>"
      ],
      "text/plain": [
       "       Issue Datetime  Summons Number  Violation Code  Violation Location  Violation Precinct House Number      Street Name   Intersecting Street  City & State Ticket Cost                                        Ticket Type  Zip Code    Lat    Long\n",
       "0 2019-01-14 12:00:00      8678224277              14                  83                  83            W  St Nicholas Ave   07ft N/of Jefferson  Brooklyn, NY       115.0  General No Standing: Standing or parking where...     11237 40.708 -73.923\n",
       "1 2019-01-11 11:29:00      8678223868              21                  90                  90            N        Wythe Ave  08ft W/of Rutledge S  Brooklyn, NY        45.0  Street Cleaning: No parking where parking is n...     11249 40.700 -73.960\n",
       "2 2019-01-13 15:05:00      8699568241              50                  79                  79            S         Macon St  0ft E/of Arlington P  Brooklyn, NY       115.0  Stopping, standing or parking in a crosswalk. ...     11216 40.681 -73.951\n",
       "3 2019-01-11 08:37:00      8701817176              50                  90                  90            N         S 1st St   0ft E/of Driggs Ave  Brooklyn, NY       115.0  Stopping, standing or parking in a crosswalk. ...     11211 40.713 -73.960\n",
       "4 2019-01-14 12:37:00      8695487570              50                  90                  90            S     Debevoise St   0ft E/of Graham Ave  Brooklyn, NY       115.0  Stopping, standing or parking in a crosswalk. ...     11206 40.702 -73.942"
      ]
     },
     "execution_count": 4,
     "metadata": {},
     "output_type": "execute_result"
    }
   ],
   "source": [
    "# check formatting\n",
    "df.head()"
   ]
  },
  {
   "cell_type": "code",
   "execution_count": 5,
   "metadata": {
    "ExecuteTime": {
     "end_time": "2019-05-01T18:12:13.451111Z",
     "start_time": "2019-05-01T18:12:13.445426Z"
    }
   },
   "outputs": [],
   "source": [
    "# map between folium color options and ticket costs\n",
    "v_types = pd.unique(df['Ticket Cost'])\n",
    "colors = ['red', 'blue', 'green', 'purple', 'orange', 'beige', 'white', 'pink']\n",
    "\n",
    "cdict = {v : c for v, c in zip(v_types, colors)}"
   ]
  },
  {
   "cell_type": "code",
   "execution_count": 6,
   "metadata": {
    "ExecuteTime": {
     "end_time": "2019-05-01T18:12:14.995345Z",
     "start_time": "2019-05-01T18:12:14.916058Z"
    },
    "scrolled": false
   },
   "outputs": [],
   "source": [
    "# clear map for successive runs\n",
    "\n",
    "# create map instance\n",
    "m = fm.Map([40.7255, -73.9465], zoom_start=14)\n",
    "\n",
    "# create lists of violation times, format them into popup icons\n",
    "vtimes = df['Issue Datetime'].apply(lambda x: x.strftime('%m/%d/%y')).tolist()\n",
    "vcodes = df['Violation Code'].astype(str).tolist()\n",
    "popups = ['\\nViolation Code: '.join([t, c]) for t, c in zip(vtimes, vcodes)]\n",
    "icons = [fm.Icon(color=cdict[tcost]) for tcost in df['Ticket Cost']]\n",
    "\n",
    "# create MarkerCluster object with location and info of each violation\n",
    "marker_cluster = MarkerCluster(locations=list(zip(df['Lat'], df['Long'])), \n",
    "                               popups=popups, \n",
    "                               icons=icons).add_to(m)\n"
   ]
  },
  {
   "cell_type": "code",
   "execution_count": 7,
   "metadata": {
    "ExecuteTime": {
     "end_time": "2019-05-01T18:12:16.175661Z",
     "start_time": "2019-05-01T18:12:15.787693Z"
    }
   },
   "outputs": [],
   "source": [
    "# folium/Jupyter can't handle a map with this much data, so save it out as an HTML file that can be opened later\n",
    "m.save(outfile='all_days_clustered.html')"
   ]
  },
  {
   "cell_type": "code",
   "execution_count": 8,
   "metadata": {},
   "outputs": [],
   "source": [
    "# code graveyard\n",
    "\n",
    "\n",
    "# for ix, row in df.iterrows():\n",
    "# #     if row['Issue Datetime'].date() == dt:\n",
    "#     # create an icon object\n",
    "#     point = fm.Icon(color=cdict[row['Ticket Cost']])\n",
    "#     # create popup text for each icon\n",
    "#     try:\n",
    "#         vtime = row['Issue Datetime'].strftime('%m/%d/%y')\n",
    "#         vcode = str(row['Violation Code'])\n",
    "#         popup = '\\n'.join([vcode, vtime])\n",
    "\n",
    "#     except:\n",
    "#         popup = 'No data!'\n",
    "\n",
    "#     # create a marker at the proper location\n",
    "#     mrkr = fm.Marker(location=(row['Lat'], row['Long']), icon=point, popup=popup)\n",
    "#     # add it to the map\n",
    "#     mrkr.add_to(m)\n",
    "#     display(m)"
   ]
  }
 ],
 "metadata": {
  "kernelspec": {
   "display_name": "Psych81.09",
   "language": "python",
   "name": "psych81.09"
  },
  "language_info": {
   "codemirror_mode": {
    "name": "ipython",
    "version": 3
   },
   "file_extension": ".py",
   "mimetype": "text/x-python",
   "name": "python",
   "nbconvert_exporter": "python",
   "pygments_lexer": "ipython3",
   "version": "3.6.8"
  }
 },
 "nbformat": 4,
 "nbformat_minor": 2
}
