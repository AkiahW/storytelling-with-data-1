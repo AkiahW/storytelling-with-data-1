{
  "nbformat": 4,
  "nbformat_minor": 0,
  "metadata": {
    "colab": {
      "name": "language_shift.ipynb",
      "provenance": [],
      "collapsed_sections": []
    },
    "kernelspec": {
      "name": "python3",
      "display_name": "Python 3"
    }
  },
  "cells": [
    {
      "cell_type": "markdown",
      "metadata": {
        "id": "NaGWOjMpQ_z_",
        "colab_type": "text"
      },
      "source": [
        "Youtube link: https://youtu.be/xf1qqlUgZpk"
      ]
    },
    {
      "cell_type": "markdown",
      "metadata": {
        "id": "uKTkZVbG8pwW",
        "colab_type": "text"
      },
      "source": [
        "# Set Up"
      ]
    },
    {
      "cell_type": "code",
      "metadata": {
        "id": "udPgZPAdDksG",
        "colab_type": "code",
        "outputId": "18d613c4-b0ce-4c9a-a6fd-98172b1d41f8",
        "colab": {
          "base_uri": "https://localhost:8080/",
          "height": 68
        }
      },
      "source": [
        "import numpy as np\n",
        "import pandas as pd\n",
        "\n",
        "!pip install -U plotly\n",
        "\n",
        "import plotly.express as px\n",
        "import plotly"
      ],
      "execution_count": 0,
      "outputs": [
        {
          "output_type": "stream",
          "text": [
            "Requirement already up-to-date: plotly in /usr/local/lib/python3.6/dist-packages (4.7.1)\n",
            "Requirement already satisfied, skipping upgrade: six in /usr/local/lib/python3.6/dist-packages (from plotly) (1.12.0)\n",
            "Requirement already satisfied, skipping upgrade: retrying>=1.3.3 in /usr/local/lib/python3.6/dist-packages (from plotly) (1.3.3)\n"
          ],
          "name": "stdout"
        }
      ]
    },
    {
      "cell_type": "markdown",
      "metadata": {
        "id": "fFdnVjkZ9DrO",
        "colab_type": "text"
      },
      "source": [
        "# Background/Overview"
      ]
    },
    {
      "cell_type": "markdown",
      "metadata": {
        "id": "78zob8xTA6EK",
        "colab_type": "text"
      },
      "source": [
        "Linguists have noticed a strange phenomenon dubbed third generation shift. Most immigrant groups switch to using English as their primary language by the 3rd generation. We found an interesting dataset that covers three generations of multiple Asian and Hispanic ethnicities and their language proficiency in various U.S. cities. \n",
        "\n",
        "As we compared general trends, we found that third generation Asian immigrants have a greater shift to English compared to third generation Hispanic immigrants. Why does this happen?"
      ]
    },
    {
      "cell_type": "markdown",
      "metadata": {
        "id": "PFvdVzWh9INP",
        "colab_type": "text"
      },
      "source": [
        "# Approach"
      ]
    },
    {
      "cell_type": "markdown",
      "metadata": {
        "id": "uy2j92sIBlAr",
        "colab_type": "text"
      },
      "source": [
        "First, we created multiple graphs in order split up this enormous dataset and look at larger trends by only using broad populations of 'Asian' and 'Hispanic' rather than the individual ethnicities in each group. Once we identified trends, we explored whether there was a geographical reason that could explain the difference between the two groups. Finally, we took a magnifying glass and compared each ethnicity to each other using bar graphs."
      ]
    },
    {
      "cell_type": "markdown",
      "metadata": {
        "id": "WfjQ_tZ89IY8",
        "colab_type": "text"
      },
      "source": [
        "# Quick Summary"
      ]
    },
    {
      "cell_type": "markdown",
      "metadata": {
        "id": "6jIl1TM0Omqn",
        "colab_type": "text"
      },
      "source": [
        "Although Asian immigrants had higher English Only scores than Hispanic immigrants in every generation, if one investigates how all the ethnicities within these broad categories, they will find that the trends within the groups vary greatly.\n",
        "\n",
        "In conclusion, Asian and Hispanic are broad categories that fit very different and diverse cultures within them. To understand the third generation shift, one must look at individual ethnicities rather than these broad labels."
      ]
    },
    {
      "cell_type": "markdown",
      "metadata": {
        "id": "ZLFemTOL9RXv",
        "colab_type": "text"
      },
      "source": [
        "# Data"
      ]
    },
    {
      "cell_type": "code",
      "metadata": {
        "id": "j7GUpDlzEWRr",
        "colab_type": "code",
        "colab": {}
      },
      "source": [
        "#The following 5 datasets originate from this source: https://ccis.ucsd.edu/_files/wp111.pdf\n",
        "#English proficiency across three generations of multiple Asian and Hispanic ethnicities.\n",
        "overall_language = pd.read_csv('https://raw.githubusercontent.com/jaeshong/bob-the-weasel/master/out%201.csv')\n",
        "#Asian population in tested cities in 2004. \n",
        "area_asian_pop = pd.read_csv('https://raw.githubusercontent.com/jaeshong/bob-the-weasel/master/area_vs_asian_population.csv')\n",
        "#Hispanic population in tested cities in 2004.\n",
        "area_hispanic_pop = pd.read_csv('https://raw.githubusercontent.com/jaeshong/bob-the-weasel/master/area_vs_hispanic_population.csv')\n",
        "#English proficiency across three generations of Asians. \n",
        "area_asian_language = pd.read_csv('https://raw.githubusercontent.com/jaeshong/bob-the-weasel/master/asian_generational_language_statistics.csv')\n",
        "#English proficiency across three generations of Hispanics. \n",
        "area_hispanic_language = pd.read_csv('https://raw.githubusercontent.com/jaeshong/bob-the-weasel/master/hispanic_generational_language_statistics.csv')\n",
        "\n",
        "#County FIPS\n",
        "zip_to_fips = pd.read_csv('https://raw.githubusercontent.com/jaeshong/bob-the-weasel/master/ZIP-COUNTY-FIPS_2012-06.csv')"
      ],
      "execution_count": 0,
      "outputs": []
    },
    {
      "cell_type": "code",
      "metadata": {
        "id": "9N02cXyR-CkB",
        "colab_type": "code",
        "colab": {}
      },
      "source": [
        "area_asian_language.columns = ['LOCATION', 'PROFICIENCY', 'GENERATION', 'PERCENTAGE']\n",
        "area_hispanic_language.columns = ['LOCATION', 'PROFICIENCY', 'GENERATION', 'PERCENTAGE']\n",
        "\n",
        "asian_cities = area_asian_language['LOCATION'].unique()\n",
        "hispanic_cities = area_hispanic_language['LOCATION'].unique()\n",
        "\n",
        "combined_cities = set(set(asian_cities) & set(hispanic_cities))\n",
        "\n",
        "area_asian_language['ETHNICITY'] = \"ASIAN\"\n",
        "area_hispanic_language['ETHNICITY'] = \"HISPANIC\"\n",
        "\n",
        "area_combined_language = area_asian_language.append(area_hispanic_language, ignore_index=True)\n",
        "area_combined_language = area_combined_language[area_combined_language['LOCATION'].isin(list(combined_cities))]"
      ],
      "execution_count": 0,
      "outputs": []
    },
    {
      "cell_type": "markdown",
      "metadata": {
        "id": "wYE2qqJb-E-M",
        "colab_type": "text"
      },
      "source": [
        "# Analysis"
      ]
    },
    {
      "cell_type": "markdown",
      "metadata": {
        "id": "AwwBCsXF-0_w",
        "colab_type": "text"
      },
      "source": [
        "In the following analysis, the bar graphs are sorted vertically by generation. Asian ethnicities are represented on the right while Hispanic ethnicities are shown on the left. On the x axis of each graph is city location. On the y axis of each graph is the percent that said English Well (Blue), English Not Well (Red), and English Only (Green)."
      ]
    },
    {
      "cell_type": "code",
      "metadata": {
        "id": "M3JmVcsh2rmW",
        "colab_type": "code",
        "outputId": "8df4c7d4-402e-4cad-ebf2-a1762c229ef9",
        "colab": {
          "base_uri": "https://localhost:8080/",
          "height": 817
        }
      },
      "source": [
        "area_combined_language\n",
        "fig = px.bar(area_combined_language, x=\"LOCATION\", y=\"PERCENTAGE\", color='PROFICIENCY', facet_col=\"ETHNICITY\", facet_row=\"GENERATION\", barmode='group',\n",
        "             height=800)\n",
        "fig.show()"
      ],
      "execution_count": 0,
      "outputs": [
        {
          "output_type": "display_data",
          "data": {
            "text/html": [
              "<html>\n",
              "<head><meta charset=\"utf-8\" /></head>\n",
              "<body>\n",
              "    <div>\n",
              "            <script src=\"https://cdnjs.cloudflare.com/ajax/libs/mathjax/2.7.5/MathJax.js?config=TeX-AMS-MML_SVG\"></script><script type=\"text/javascript\">if (window.MathJax) {MathJax.Hub.Config({SVG: {font: \"STIX-Web\"}});}</script>\n",
              "                <script type=\"text/javascript\">window.PlotlyConfig = {MathJaxConfig: 'local'};</script>\n",
              "        <script src=\"https://cdn.plot.ly/plotly-latest.min.js\"></script>    \n",
              "            <div id=\"25fbb169-be0e-4323-9fa2-b6c6c95806a7\" class=\"plotly-graph-div\" style=\"height:800px; width:100%;\"></div>\n",
              "            <script type=\"text/javascript\">\n",
              "                \n",
              "                    window.PLOTLYENV=window.PLOTLYENV || {};\n",
              "                    \n",
              "                if (document.getElementById(\"25fbb169-be0e-4323-9fa2-b6c6c95806a7\")) {\n",
              "                    Plotly.newPlot(\n",
              "                        '25fbb169-be0e-4323-9fa2-b6c6c95806a7',\n",
              "                        [{\"alignmentgroup\": \"True\", \"hovertemplate\": \"PROFICIENCY=English Well<br>GENERATION=1<br>ETHNICITY=ASIAN<br>LOCATION=%{x}<br>PERCENTAGE=%{y}<extra></extra>\", \"legendgroup\": \"English Well\", \"marker\": {\"color\": \"#636efa\"}, \"name\": \"English Well\", \"offsetgroup\": \"English Well\", \"orientation\": \"v\", \"showlegend\": true, \"textposition\": \"auto\", \"type\": \"bar\", \"x\": [\"LosAngeles-LongBeachCA\", \"NewYorkNY\", \"SanJoseCA\", \"OaklandCA\", \"SanFranciscoCA\", \"OrangeCountyCA\", \"ChicagoIL\", \"WashingtonDC-MD-VA-WV\", \"SanDiegoCA\", \"HoustonTX\", \"PhiladelphiaPA-NJ\", \"BostonMA-NH\", \"SacramentoCA\", \"Riverside-SanBernardinoCA\", \"DallasTX\", \"AtlantaGA\", \"Middlesex-Somerset-HunterdonNJ\", \"DetroitMI\", \"Bergen-PassaicNJ\", \"Nassau-SuffolkNY\", \"Portland-VancouverOR-WA\", \"LasVegasNV-AZ\", \"NewarkNJ\", \"Phoenix-MesaAZ\", \"DenverCO\", \"Stockton-LodiCA\", \"FresnoCA\", \"JerseyCityNJ\", \"FortWorth-ArlingtonTX\", \"Tampa-St.Petersburg-ClearwaterFL\", \"OrlandoFL\", \"Austin-SanMarcosTX\", \"VenturaCA\", \"FortLauderdaleFL\", \"MiamiFL\", \"SaltLakeCity-OgdenUT\"], \"xaxis\": \"x5\", \"y\": [\"76.7\", \"72.6\", \"77.3\", \"79.0\", \"76.6\", \"77.3\", \"77.8\", \"74.4\", \"65.3\", \"78.5\", \"77.9\", \"75.4\", \"73.7\", \"67.3\", \"76.6\", \"79.6\", \"77.6\", \"72.3\", \"75.1\", \"74.4\", \"76.8\", \"58.1\", \"70.5\", \"66.9\", \"72.4\", \"71.6\", \"80.1\", \"83.8\", \"79.8\", \"60.8\", \"72.6\", \"71.0\", \"74.0\", \"50.7\", \"78.4\", \"71.8\"], \"yaxis\": \"y5\"}, {\"alignmentgroup\": \"True\", \"hovertemplate\": \"PROFICIENCY=English Well<br>GENERATION=1<br>ETHNICITY=HISPANIC<br>LOCATION=%{x}<br>PERCENTAGE=%{y}<extra></extra>\", \"legendgroup\": \"English Well\", \"marker\": {\"color\": \"#636efa\"}, \"name\": \"English Well\", \"offsetgroup\": \"English Well\", \"orientation\": \"v\", \"showlegend\": false, \"textposition\": \"auto\", \"type\": \"bar\", \"x\": [\"LosAngeles-LongBeachCA\", \"NewYorkNY\", \"ChicagoIL\", \"MiamiFL\", \"HoustonTX\", \"Riverside-SanBernardinoCA\", \"OrangeCountyCA\", \"Phoenix-MesaAZ\", \"DallasTX\", \"SanDiegoCA\", \"OaklandCA\", \"WashingtonDC-MD-VA-WV\", \"FresnoCA\", \"SanJoseCA\", \"DenverCO\", \"Austin-SanMarcosTX\", \"LasVegasNV-AZ\", \"FortWorth-ArlingtonTX\", \"SanFranciscoCA\", \"Nassau-SuffolkNY\", \"FortLauderdaleFL\", \"OrlandoFL\", \"NewarkNJ\", \"AtlantaGA\", \"PhiladelphiaPA-NJ\", \"VenturaCA\", \"Tampa-St.Petersburg-ClearwaterFL\", \"JerseyCityNJ\", \"Bergen-PassaicNJ\", \"SacramentoCA\", \"BostonMA-NH\", \"Stockton-LodiCA\", \"SaltLakeCity-OgdenUT\", \"Portland-VancouverOR-WA\", \"Middlesex-Somerset-HunterdonNJ\", \"DetroitMI\"], \"xaxis\": \"x6\", \"y\": [\"76.3\", \"77.6\", \"71.3\", \"78.7\", \"70.2\", \"78.6\", \"77.3\", \"70.9\", \"70.6\", \"77.2\", \"73.0\", \"75.3\", \"68.5\", \"77.3\", \"60.7\", \"58.7\", \"74.1\", \"72.0\", \"77.9\", \"79.5\", \"81.1\", \"80.6\", \"76.6\", \"69.8\", \"73.8\", \"74.1\", \"79.0\", \"82.2\", \"82.1\", \"75.2\", \"84.4\", \"65.7\", \"75.2\", \"68.4\", \"73.5\", \"68.3\"], \"yaxis\": \"y6\"}, {\"alignmentgroup\": \"True\", \"hovertemplate\": \"PROFICIENCY=English Well<br>GENERATION=2<br>ETHNICITY=ASIAN<br>LOCATION=%{x}<br>PERCENTAGE=%{y}<extra></extra>\", \"legendgroup\": \"English Well\", \"marker\": {\"color\": \"#636efa\"}, \"name\": \"English Well\", \"offsetgroup\": \"English Well\", \"orientation\": \"v\", \"showlegend\": false, \"textposition\": \"auto\", \"type\": \"bar\", \"x\": [\"LosAngeles-LongBeachCA\", \"NewYorkNY\", \"SanJoseCA\", \"OaklandCA\", \"SanFranciscoCA\", \"OrangeCountyCA\", \"ChicagoIL\", \"WashingtonDC-MD-VA-WV\", \"SanDiegoCA\", \"HoustonTX\", \"PhiladelphiaPA-NJ\", \"BostonMA-NH\", \"SacramentoCA\", \"Riverside-SanBernardinoCA\", \"DallasTX\", \"AtlantaGA\", \"Middlesex-Somerset-HunterdonNJ\", \"DetroitMI\", \"Bergen-PassaicNJ\", \"Nassau-SuffolkNY\", \"Portland-VancouverOR-WA\", \"LasVegasNV-AZ\", \"NewarkNJ\", \"Phoenix-MesaAZ\", \"DenverCO\", \"Stockton-LodiCA\", \"FresnoCA\", \"JerseyCityNJ\", \"FortWorth-ArlingtonTX\", \"Tampa-St.Petersburg-ClearwaterFL\", \"OrlandoFL\", \"Austin-SanMarcosTX\", \"VenturaCA\", \"FortLauderdaleFL\", \"MiamiFL\", \"SaltLakeCity-OgdenUT\"], \"xaxis\": \"x3\", \"y\": [\"62.1\", \"67.2\", \"59.5\", \"56.1\", \"58.1\", \"66.9\", \"58.1\", \"60.2\", \"37.5\", \"64.5\", \"62.9\", \"66.7\", \"63.0\", \"46.4\", \"64.9\", \"62.8\", \"65.1\", \"57.5\", \"65.5\", \"54.5\", \"52.6\", \"43.1\", \"53.9\", \"45.1\", \"63.5\", \"66.0\", \"74.2\", \"59.3\", \"62.1\", \"55.1\", \"44.7\", \"56.3\", \"42.3\", \"48.1\", \"56.1\", \"56.2\"], \"yaxis\": \"y3\"}, {\"alignmentgroup\": \"True\", \"hovertemplate\": \"PROFICIENCY=English Well<br>GENERATION=2<br>ETHNICITY=HISPANIC<br>LOCATION=%{x}<br>PERCENTAGE=%{y}<extra></extra>\", \"legendgroup\": \"English Well\", \"marker\": {\"color\": \"#636efa\"}, \"name\": \"English Well\", \"offsetgroup\": \"English Well\", \"orientation\": \"v\", \"showlegend\": false, \"textposition\": \"auto\", \"type\": \"bar\", \"x\": [\"LosAngeles-LongBeachCA\", \"NewYorkNY\", \"ChicagoIL\", \"MiamiFL\", \"HoustonTX\", \"Riverside-SanBernardinoCA\", \"OrangeCountyCA\", \"Phoenix-MesaAZ\", \"DallasTX\", \"SanDiegoCA\", \"OaklandCA\", \"WashingtonDC-MD-VA-WV\", \"FresnoCA\", \"SanJoseCA\", \"DenverCO\", \"Austin-SanMarcosTX\", \"LasVegasNV-AZ\", \"FortWorth-ArlingtonTX\", \"SanFranciscoCA\", \"Nassau-SuffolkNY\", \"FortLauderdaleFL\", \"OrlandoFL\", \"NewarkNJ\", \"AtlantaGA\", \"PhiladelphiaPA-NJ\", \"VenturaCA\", \"Tampa-St.Petersburg-ClearwaterFL\", \"JerseyCityNJ\", \"Bergen-PassaicNJ\", \"SacramentoCA\", \"BostonMA-NH\", \"Stockton-LodiCA\", \"SaltLakeCity-OgdenUT\", \"Portland-VancouverOR-WA\", \"Middlesex-Somerset-HunterdonNJ\", \"DetroitMI\"], \"xaxis\": \"x4\", \"y\": [\"82.0\", \"79.4\", \"79.5\", \"88.3\", \"77.5\", \"77.3\", \"80.0\", \"76.5\", \"79.4\", \"77.6\", \"76.0\", \"80.7\", \"77.5\", \"76.7\", \"74.2\", \"68.3\", \"82.0\", \"79.9\", \"80.3\", \"70.7\", \"71.2\", \"69.4\", \"74.2\", \"71.1\", \"67.6\", \"74.4\", \"67.3\", \"85.7\", \"78.2\", \"70.0\", \"78.6\", \"78.9\", \"72.0\", \"72.6\", \"70.1\", \"66.5\"], \"yaxis\": \"y4\"}, {\"alignmentgroup\": \"True\", \"hovertemplate\": \"PROFICIENCY=English Well<br>GENERATION=3<br>ETHNICITY=ASIAN<br>LOCATION=%{x}<br>PERCENTAGE=%{y}<extra></extra>\", \"legendgroup\": \"English Well\", \"marker\": {\"color\": \"#636efa\"}, \"name\": \"English Well\", \"offsetgroup\": \"English Well\", \"orientation\": \"v\", \"showlegend\": false, \"textposition\": \"auto\", \"type\": \"bar\", \"x\": [\"LosAngeles-LongBeachCA\", \"NewYorkNY\", \"SanJoseCA\", \"OaklandCA\", \"SanFranciscoCA\", \"OrangeCountyCA\", \"ChicagoIL\", \"WashingtonDC-MD-VA-WV\", \"SanDiegoCA\", \"HoustonTX\", \"PhiladelphiaPA-NJ\", \"BostonMA-NH\", \"SacramentoCA\", \"Riverside-SanBernardinoCA\", \"DallasTX\", \"AtlantaGA\", \"Middlesex-Somerset-HunterdonNJ\", \"DetroitMI\", \"Bergen-PassaicNJ\", \"Nassau-SuffolkNY\", \"Portland-VancouverOR-WA\", \"LasVegasNV-AZ\", \"NewarkNJ\", \"Phoenix-MesaAZ\", \"DenverCO\", \"Stockton-LodiCA\", \"FresnoCA\", \"JerseyCityNJ\", \"FortWorth-ArlingtonTX\", \"Tampa-St.Petersburg-ClearwaterFL\", \"OrlandoFL\", \"Austin-SanMarcosTX\", \"VenturaCA\", \"FortLauderdaleFL\", \"MiamiFL\", \"SaltLakeCity-OgdenUT\"], \"xaxis\": \"x\", \"y\": [\"6.8\", \"18.0\", \"4.4\", \"5.9\", \"12.8\", \"6.2\", \"14.7\", \"3.4\", \"11.2\", \"14.3\", \"4.0\", \"7.3\", \"6.1\", \"4.2\", \"13.0\", \"2.9\", \"--\", \"5.5\", \"--\", \"2.7\", \"3.3\", \"12.6\", \"--\", \"8.8\", \"6.1\", \"7.4\", \"1.0\", \"--\", \"--\", \"8.3\", \"--\", \"--\", \"5.8\", \"--\", \"--\", \"0.0\"], \"yaxis\": \"y\"}, {\"alignmentgroup\": \"True\", \"hovertemplate\": \"PROFICIENCY=English Well<br>GENERATION=3<br>ETHNICITY=HISPANIC<br>LOCATION=%{x}<br>PERCENTAGE=%{y}<extra></extra>\", \"legendgroup\": \"English Well\", \"marker\": {\"color\": \"#636efa\"}, \"name\": \"English Well\", \"offsetgroup\": \"English Well\", \"orientation\": \"v\", \"showlegend\": false, \"textposition\": \"auto\", \"type\": \"bar\", \"x\": [\"LosAngeles-LongBeachCA\", \"NewYorkNY\", \"ChicagoIL\", \"MiamiFL\", \"HoustonTX\", \"Riverside-SanBernardinoCA\", \"OrangeCountyCA\", \"Phoenix-MesaAZ\", \"DallasTX\", \"SanDiegoCA\", \"OaklandCA\", \"WashingtonDC-MD-VA-WV\", \"FresnoCA\", \"SanJoseCA\", \"DenverCO\", \"Austin-SanMarcosTX\", \"LasVegasNV-AZ\", \"FortWorth-ArlingtonTX\", \"SanFranciscoCA\", \"Nassau-SuffolkNY\", \"FortLauderdaleFL\", \"OrlandoFL\", \"NewarkNJ\", \"AtlantaGA\", \"PhiladelphiaPA-NJ\", \"VenturaCA\", \"Tampa-St.Petersburg-ClearwaterFL\", \"JerseyCityNJ\", \"Bergen-PassaicNJ\", \"SacramentoCA\", \"BostonMA-NH\", \"Stockton-LodiCA\", \"SaltLakeCity-OgdenUT\", \"Portland-VancouverOR-WA\", \"Middlesex-Somerset-HunterdonNJ\", \"DetroitMI\"], \"xaxis\": \"x2\", \"y\": [\"25.6\", \"44.6\", \"29.0\", \"63.1\", \"28.3\", \"16.4\", \"15.8\", \"20.3\", \"32.0\", \"24.6\", \"13.4\", \"15.9\", \"19.1\", \"14.4\", \"10.5\", \"22.4\", \"16.1\", \"22.2\", \"21.6\", \"17.1\", \"28.7\", \"32.7\", \"40.3\", \"14.8\", \"31.1\", \"18.0\", \"21.0\", \"50.3\", \"37.8\", \"10.9\", \"35.3\", \"15.7\", \"13.8\", \"10.2\", \"23.6\", \"12.5\"], \"yaxis\": \"y2\"}, {\"alignmentgroup\": \"True\", \"hovertemplate\": \"PROFICIENCY=English Not Well<br>GENERATION=1<br>ETHNICITY=ASIAN<br>LOCATION=%{x}<br>PERCENTAGE=%{y}<extra></extra>\", \"legendgroup\": \"English Not Well\", \"marker\": {\"color\": \"#EF553B\"}, \"name\": \"English Not Well\", \"offsetgroup\": \"English Not Well\", \"orientation\": \"v\", \"showlegend\": true, \"textposition\": \"auto\", \"type\": \"bar\", \"x\": [\"LosAngeles-LongBeachCA\", \"NewYorkNY\", \"SanJoseCA\", \"OaklandCA\", \"SanFranciscoCA\", \"OrangeCountyCA\", \"ChicagoIL\", \"WashingtonDC-MD-VA-WV\", \"SanDiegoCA\", \"HoustonTX\", \"PhiladelphiaPA-NJ\", \"BostonMA-NH\", \"SacramentoCA\", \"Riverside-SanBernardinoCA\", \"DallasTX\", \"AtlantaGA\", \"Middlesex-Somerset-HunterdonNJ\", \"DetroitMI\", \"Bergen-PassaicNJ\", \"Nassau-SuffolkNY\", \"Portland-VancouverOR-WA\", \"LasVegasNV-AZ\", \"NewarkNJ\", \"Phoenix-MesaAZ\", \"DenverCO\", \"Stockton-LodiCA\", \"FresnoCA\", \"JerseyCityNJ\", \"FortWorth-ArlingtonTX\", \"Tampa-St.Petersburg-ClearwaterFL\", \"OrlandoFL\", \"Austin-SanMarcosTX\", \"VenturaCA\", \"FortLauderdaleFL\", \"MiamiFL\", \"SaltLakeCity-OgdenUT\"], \"xaxis\": \"x5\", \"y\": [\"11.8\", \"12.7\", \"9.6\", \"6.1\", \"12.7\", \"13.5\", \"8.2\", \"10.5\", \"5.5\", \"9.0\", \"8.0\", \"11.4\", \"12.9\", \"5.5\", \"9.9\", \"10.1\", \"7.6\", \"9.3\", \"15.3\", \"7.5\", \"10.1\", \"6.4\", \"7.3\", \"8.7\", \"9.4\", \"9.7\", \"13.9\", \"5.7\", \"5.1\", \"11.7\", \"5.5\", \"6.0\", \"5.3\", \"6.4\", \"0.0\", \"7.0\"], \"yaxis\": \"y5\"}, {\"alignmentgroup\": \"True\", \"hovertemplate\": \"PROFICIENCY=English Not Well<br>GENERATION=1<br>ETHNICITY=HISPANIC<br>LOCATION=%{x}<br>PERCENTAGE=%{y}<extra></extra>\", \"legendgroup\": \"English Not Well\", \"marker\": {\"color\": \"#EF553B\"}, \"name\": \"English Not Well\", \"offsetgroup\": \"English Not Well\", \"orientation\": \"v\", \"showlegend\": false, \"textposition\": \"auto\", \"type\": \"bar\", \"x\": [\"LosAngeles-LongBeachCA\", \"NewYorkNY\", \"ChicagoIL\", \"MiamiFL\", \"HoustonTX\", \"Riverside-SanBernardinoCA\", \"OrangeCountyCA\", \"Phoenix-MesaAZ\", \"DallasTX\", \"SanDiegoCA\", \"OaklandCA\", \"WashingtonDC-MD-VA-WV\", \"FresnoCA\", \"SanJoseCA\", \"DenverCO\", \"Austin-SanMarcosTX\", \"LasVegasNV-AZ\", \"FortWorth-ArlingtonTX\", \"SanFranciscoCA\", \"Nassau-SuffolkNY\", \"FortLauderdaleFL\", \"OrlandoFL\", \"NewarkNJ\", \"AtlantaGA\", \"PhiladelphiaPA-NJ\", \"VenturaCA\", \"Tampa-St.Petersburg-ClearwaterFL\", \"JerseyCityNJ\", \"Bergen-PassaicNJ\", \"SacramentoCA\", \"BostonMA-NH\", \"Stockton-LodiCA\", \"SaltLakeCity-OgdenUT\", \"Portland-VancouverOR-WA\", \"Middlesex-Somerset-HunterdonNJ\", \"DetroitMI\"], \"xaxis\": \"x6\", \"y\": [\"19.2\", \"16.4\", \"24.0\", \"17.3\", \"25.2\", \"16.8\", \"18.7\", \"24.2\", \"26.5\", \"16.6\", \"21.8\", \"17.9\", \"21.4\", \"17.1\", \"32.8\", \"28.6\", \"18.8\", \"22.3\", \"17.2\", \"11.8\", \"13.2\", \"12.6\", \"19.4\", \"24.3\", \"16.5\", \"22.8\", \"13.3\", \"14.3\", \"15.4\", \"19.6\", \"10.8\", \"28.6\", \"19.3\", \"26.5\", \"20.9\", \"26.0\"], \"yaxis\": \"y6\"}, {\"alignmentgroup\": \"True\", \"hovertemplate\": \"PROFICIENCY=English Not Well<br>GENERATION=2<br>ETHNICITY=ASIAN<br>LOCATION=%{x}<br>PERCENTAGE=%{y}<extra></extra>\", \"legendgroup\": \"English Not Well\", \"marker\": {\"color\": \"#EF553B\"}, \"name\": \"English Not Well\", \"offsetgroup\": \"English Not Well\", \"orientation\": \"v\", \"showlegend\": false, \"textposition\": \"auto\", \"type\": \"bar\", \"x\": [\"LosAngeles-LongBeachCA\", \"NewYorkNY\", \"SanJoseCA\", \"OaklandCA\", \"SanFranciscoCA\", \"OrangeCountyCA\", \"ChicagoIL\", \"WashingtonDC-MD-VA-WV\", \"SanDiegoCA\", \"HoustonTX\", \"PhiladelphiaPA-NJ\", \"BostonMA-NH\", \"SacramentoCA\", \"Riverside-SanBernardinoCA\", \"DallasTX\", \"AtlantaGA\", \"Middlesex-Somerset-HunterdonNJ\", \"DetroitMI\", \"Bergen-PassaicNJ\", \"Nassau-SuffolkNY\", \"Portland-VancouverOR-WA\", \"LasVegasNV-AZ\", \"NewarkNJ\", \"Phoenix-MesaAZ\", \"DenverCO\", \"Stockton-LodiCA\", \"FresnoCA\", \"JerseyCityNJ\", \"FortWorth-ArlingtonTX\", \"Tampa-St.Petersburg-ClearwaterFL\", \"OrlandoFL\", \"Austin-SanMarcosTX\", \"VenturaCA\", \"FortLauderdaleFL\", \"MiamiFL\", \"SaltLakeCity-OgdenUT\"], \"xaxis\": \"x3\", \"y\": [\"4.4\", \"4.3\", \"4.9\", \"4.0\", \"2.4\", \"4.4\", \"4.1\", \"4.2\", \"3.0\", \"4.4\", \"4.7\", \"5.8\", \"8.1\", \"4.0\", \"4.2\", \"6.9\", \"3.5\", \"4.0\", \"7.1\", \"3.1\", \"5.0\", \"3.2\", \"2.4\", \"2.5\", \"2.6\", \"10.5\", \"9.3\", \"3.2\", \"4.5\", \"2.6\", \"1.0\", \"5.3\", \"2.1\", \"0.2\", \"1.9\", \"0.6\"], \"yaxis\": \"y3\"}, {\"alignmentgroup\": \"True\", \"hovertemplate\": \"PROFICIENCY=English Not Well<br>GENERATION=2<br>ETHNICITY=HISPANIC<br>LOCATION=%{x}<br>PERCENTAGE=%{y}<extra></extra>\", \"legendgroup\": \"English Not Well\", \"marker\": {\"color\": \"#EF553B\"}, \"name\": \"English Not Well\", \"offsetgroup\": \"English Not Well\", \"orientation\": \"v\", \"showlegend\": false, \"textposition\": \"auto\", \"type\": \"bar\", \"x\": [\"LosAngeles-LongBeachCA\", \"NewYorkNY\", \"ChicagoIL\", \"MiamiFL\", \"HoustonTX\", \"Riverside-SanBernardinoCA\", \"OrangeCountyCA\", \"Phoenix-MesaAZ\", \"DallasTX\", \"SanDiegoCA\", \"OaklandCA\", \"WashingtonDC-MD-VA-WV\", \"FresnoCA\", \"SanJoseCA\", \"DenverCO\", \"Austin-SanMarcosTX\", \"LasVegasNV-AZ\", \"FortWorth-ArlingtonTX\", \"SanFranciscoCA\", \"Nassau-SuffolkNY\", \"FortLauderdaleFL\", \"OrlandoFL\", \"NewarkNJ\", \"AtlantaGA\", \"PhiladelphiaPA-NJ\", \"VenturaCA\", \"Tampa-St.Petersburg-ClearwaterFL\", \"JerseyCityNJ\", \"Bergen-PassaicNJ\", \"SacramentoCA\", \"BostonMA-NH\", \"Stockton-LodiCA\", \"SaltLakeCity-OgdenUT\", \"Portland-VancouverOR-WA\", \"Middlesex-Somerset-HunterdonNJ\", \"DetroitMI\"], \"xaxis\": \"x4\", \"y\": [\"9.0\", \"5.9\", \"9.3\", \"3.4\", \"10.6\", \"6.9\", \"9.4\", \"9.5\", \"9.6\", \"9.7\", \"7.7\", \"3.9\", \"9.2\", \"7.2\", \"9.0\", \"10.4\", \"7.2\", \"7.3\", \"5.9\", \"3.6\", \"3.6\", \"6.3\", \"6.1\", \"6.0\", \"6.9\", \"11.0\", \"4.8\", \"3.9\", \"4.5\", \"6.8\", \"5.2\", \"6.3\", \"4.4\", \"6.4\", \"5.1\", \"6.5\"], \"yaxis\": \"y4\"}, {\"alignmentgroup\": \"True\", \"hovertemplate\": \"PROFICIENCY=English Not Well<br>GENERATION=3<br>ETHNICITY=ASIAN<br>LOCATION=%{x}<br>PERCENTAGE=%{y}<extra></extra>\", \"legendgroup\": \"English Not Well\", \"marker\": {\"color\": \"#EF553B\"}, \"name\": \"English Not Well\", \"offsetgroup\": \"English Not Well\", \"orientation\": \"v\", \"showlegend\": false, \"textposition\": \"auto\", \"type\": \"bar\", \"x\": [\"LosAngeles-LongBeachCA\", \"NewYorkNY\", \"SanJoseCA\", \"OaklandCA\", \"SanFranciscoCA\", \"OrangeCountyCA\", \"ChicagoIL\", \"WashingtonDC-MD-VA-WV\", \"SanDiegoCA\", \"HoustonTX\", \"PhiladelphiaPA-NJ\", \"BostonMA-NH\", \"SacramentoCA\", \"Riverside-SanBernardinoCA\", \"DallasTX\", \"AtlantaGA\", \"Middlesex-Somerset-HunterdonNJ\", \"DetroitMI\", \"Bergen-PassaicNJ\", \"Nassau-SuffolkNY\", \"Portland-VancouverOR-WA\", \"LasVegasNV-AZ\", \"NewarkNJ\", \"Phoenix-MesaAZ\", \"DenverCO\", \"Stockton-LodiCA\", \"FresnoCA\", \"JerseyCityNJ\", \"FortWorth-ArlingtonTX\", \"Tampa-St.Petersburg-ClearwaterFL\", \"OrlandoFL\", \"Austin-SanMarcosTX\", \"VenturaCA\", \"FortLauderdaleFL\", \"MiamiFL\", \"SaltLakeCity-OgdenUT\"], \"xaxis\": \"x\", \"y\": [\"0.5\", \"4.4\", \"0.7\", \"0.4\", \"0.7\", \"0.5\", \"1.2\", \"0.0\", \"0.0\", \"4.6\", \"1.2\", \"0.0\", \"0.2\", \"0.7\", \"1.5\", \"0.8\", \"--\", \"0.0\", \"--\", \"0.0\", \"0.8\", \"2.1\", \"--\", \"0.0\", \"1.0\", \"0.7\", \"0.5\", \"--\", \"--\", \"1.2\", \"--\", \"--\", \"0.0\", \"--\", \"--\", \"0.0\"], \"yaxis\": \"y\"}, {\"alignmentgroup\": \"True\", \"hovertemplate\": \"PROFICIENCY=English Not Well<br>GENERATION=3<br>ETHNICITY=HISPANIC<br>LOCATION=%{x}<br>PERCENTAGE=%{y}<extra></extra>\", \"legendgroup\": \"English Not Well\", \"marker\": {\"color\": \"#EF553B\"}, \"name\": \"English Not Well\", \"offsetgroup\": \"English Not Well\", \"orientation\": \"v\", \"showlegend\": false, \"textposition\": \"auto\", \"type\": \"bar\", \"x\": [\"LosAngeles-LongBeachCA\", \"NewYorkNY\", \"ChicagoIL\", \"MiamiFL\", \"HoustonTX\", \"Riverside-SanBernardinoCA\", \"OrangeCountyCA\", \"Phoenix-MesaAZ\", \"DallasTX\", \"SanDiegoCA\", \"OaklandCA\", \"WashingtonDC-MD-VA-WV\", \"FresnoCA\", \"SanJoseCA\", \"DenverCO\", \"Austin-SanMarcosTX\", \"LasVegasNV-AZ\", \"FortWorth-ArlingtonTX\", \"SanFranciscoCA\", \"Nassau-SuffolkNY\", \"FortLauderdaleFL\", \"OrlandoFL\", \"NewarkNJ\", \"AtlantaGA\", \"PhiladelphiaPA-NJ\", \"VenturaCA\", \"Tampa-St.Petersburg-ClearwaterFL\", \"JerseyCityNJ\", \"Bergen-PassaicNJ\", \"SacramentoCA\", \"BostonMA-NH\", \"Stockton-LodiCA\", \"SaltLakeCity-OgdenUT\", \"Portland-VancouverOR-WA\", \"Middlesex-Somerset-HunterdonNJ\", \"DetroitMI\"], \"xaxis\": \"x2\", \"y\": [\"2.1\", \"5.1\", \"3.4\", \"2.5\", \"3.7\", \"1.4\", \"1.0\", \"2.4\", \"3.9\", \"1.9\", \"2.2\", \"3.2\", \"1.5\", \"2.0\", \"1.7\", \"4.1\", \"2.3\", \"3.1\", \"0.8\", \"1.6\", \"2.2\", \"5.1\", \"3.9\", \"2.5\", \"6.8\", \"2.2\", \"2.5\", \"2.9\", \"4.0\", \"1.1\", \"2.1\", \"1.6\", \"0.5\", \"1.8\", \"2.2\", \"1.7\"], \"yaxis\": \"y2\"}, {\"alignmentgroup\": \"True\", \"hovertemplate\": \"PROFICIENCY=English Only<br>GENERATION=1<br>ETHNICITY=ASIAN<br>LOCATION=%{x}<br>PERCENTAGE=%{y}<extra></extra>\", \"legendgroup\": \"English Only\", \"marker\": {\"color\": \"#00cc96\"}, \"name\": \"English Only\", \"offsetgroup\": \"English Only\", \"orientation\": \"v\", \"showlegend\": true, \"textposition\": \"auto\", \"type\": \"bar\", \"x\": [\"NewYorkNY\", \"SanJoseCA\", \"OaklandCA\", \"SanFranciscoCA\", \"OrangeCountyCA\", \"ChicagoIL\", \"WashingtonDC-MD-VA-WV\", \"SanDiegoCA\", \"HoustonTX\", \"PhiladelphiaPA-NJ\", \"BostonMA-NH\", \"SacramentoCA\", \"Riverside-SanBernardinoCA\", \"DallasTX\", \"AtlantaGA\", \"Middlesex-Somerset-HunterdonNJ\", \"DetroitMI\", \"Bergen-PassaicNJ\", \"Nassau-SuffolkNY\", \"Portland-VancouverOR-WA\", \"LasVegasNV-AZ\", \"NewarkNJ\", \"Phoenix-MesaAZ\", \"DenverCO\", \"Stockton-LodiCA\", \"FresnoCA\", \"JerseyCityNJ\", \"FortWorth-ArlingtonTX\", \"Tampa-St.Petersburg-ClearwaterFL\", \"OrlandoFL\", \"Austin-SanMarcosTX\", \"VenturaCA\", \"FortLauderdaleFL\", \"MiamiFL\", \"SaltLakeCity-OgdenUT\"], \"xaxis\": \"x5\", \"y\": [\"14.6\", \"13.1\", \"15.0\", \"10.7\", \"9.2\", \"14.0\", \"15.1\", \"29.1\", \"12.5\", \"14.2\", \"13.2\", \"13.3\", \"27.2\", \"13.5\", \"10.4\", \"14.8\", \"18.5\", \"9.5\", \"18.1\", \"13.1\", \"35.5\", \"22.2\", \"24.4\", \"18.2\", \"18.7\", \"6.1\", \"10.5\", \"15.1\", \"27.5\", \"21.9\", \"22.9\", \"20.7\", \"42.9\", \"21.6\", \"21.2\"], \"yaxis\": \"y5\"}, {\"alignmentgroup\": \"True\", \"hovertemplate\": \"PROFICIENCY=English Only<br>GENERATION=1<br>ETHNICITY=HISPANIC<br>LOCATION=%{x}<br>PERCENTAGE=%{y}<extra></extra>\", \"legendgroup\": \"English Only\", \"marker\": {\"color\": \"#00cc96\"}, \"name\": \"English Only\", \"offsetgroup\": \"English Only\", \"orientation\": \"v\", \"showlegend\": false, \"textposition\": \"auto\", \"type\": \"bar\", \"x\": [\"NewYorkNY\", \"ChicagoIL\", \"MiamiFL\", \"HoustonTX\", \"Riverside-SanBernardinoCA\", \"OrangeCountyCA\", \"Phoenix-MesaAZ\", \"DallasTX\", \"SanDiegoCA\", \"OaklandCA\", \"WashingtonDC-MD-VA-WV\", \"FresnoCA\", \"SanJoseCA\", \"DenverCO\", \"Austin-SanMarcosTX\", \"LasVegasNV-AZ\", \"FortWorth-ArlingtonTX\", \"SanFranciscoCA\", \"Nassau-SuffolkNY\", \"FortLauderdaleFL\", \"OrlandoFL\", \"NewarkNJ\", \"AtlantaGA\", \"PhiladelphiaPA-NJ\", \"VenturaCA\", \"Tampa-St.Petersburg-ClearwaterFL\", \"JerseyCityNJ\", \"Bergen-PassaicNJ\", \"SacramentoCA\", \"BostonMA-NH\", \"Stockton-LodiCA\", \"SaltLakeCity-OgdenUT\", \"Portland-VancouverOR-WA\", \"Middlesex-Somerset-HunterdonNJ\", \"DetroitMI\"], \"xaxis\": \"x6\", \"y\": [\"6.0\", \"4.7\", \"4.0\", \"4.6\", \"4.6\", \"4.1\", \"4.9\", \"2.9\", \"6.2\", \"5.2\", \"6.8\", \"10.1\", \"5.6\", \"6.4\", \"12.7\", \"7.2\", \"5.7\", \"4.9\", \"8.7\", \"5.8\", \"6.8\", \"4.1\", \"6.0\", \"9.7\", \"3.1\", \"7.7\", \"3.5\", \"2.5\", \"5.1\", \"4.8\", \"5.7\", \"5.5\", \"5.1\", \"5.7\", \"5.7\"], \"yaxis\": \"y6\"}, {\"alignmentgroup\": \"True\", \"hovertemplate\": \"PROFICIENCY=English Only<br>GENERATION=2<br>ETHNICITY=ASIAN<br>LOCATION=%{x}<br>PERCENTAGE=%{y}<extra></extra>\", \"legendgroup\": \"English Only\", \"marker\": {\"color\": \"#00cc96\"}, \"name\": \"English Only\", \"offsetgroup\": \"English Only\", \"orientation\": \"v\", \"showlegend\": false, \"textposition\": \"auto\", \"type\": \"bar\", \"x\": [\"LosAngeles-LongBeachCA\", \"NewYorkNY\", \"SanJoseCA\", \"OaklandCA\", \"SanFranciscoCA\", \"OrangeCountyCA\", \"ChicagoIL\", \"WashingtonDC-MD-VA-WV\", \"SanDiegoCA\", \"HoustonTX\", \"PhiladelphiaPA-NJ\", \"BostonMA-NH\", \"SacramentoCA\", \"Riverside-SanBernardinoCA\", \"DallasTX\", \"AtlantaGA\", \"Middlesex-Somerset-HunterdonNJ\", \"DetroitMI\", \"Bergen-PassaicNJ\", \"Nassau-SuffolkNY\", \"Portland-VancouverOR-WA\", \"LasVegasNV-AZ\", \"NewarkNJ\", \"Phoenix-MesaAZ\", \"DenverCO\", \"Stockton-LodiCA\", \"FresnoCA\", \"JerseyCityNJ\", \"FortWorth-ArlingtonTX\", \"Tampa-St.Petersburg-ClearwaterFL\", \"OrlandoFL\", \"Austin-SanMarcosTX\", \"VenturaCA\", \"FortLauderdaleFL\", \"MiamiFL\", \"SaltLakeCity-OgdenUT\"], \"xaxis\": \"x3\", \"y\": [\"33.6\", \"28.5\", \"35.6\", \"39.9\", \"39.5\", \"28.7\", \"37.8\", \"35.6\", \"59.5\", \"31.1\", \"32.4\", \"27.5\", \"28.8\", \"49.6\", \"30.9\", \"30.3\", \"31.4\", \"38.5\", \"27.4\", \"42.4\", \"42.4\", \"53.7\", \"43.7\", \"52.4\", \"33.9\", \"23.5\", \"16.5\", \"37.6\", \"33.4\", \"42.3\", \"54.3\", \"38.4\", \"55.6\", \"51.7\", \"42.0\", \"43.1\"], \"yaxis\": \"y3\"}, {\"alignmentgroup\": \"True\", \"hovertemplate\": \"PROFICIENCY=English Only<br>GENERATION=2<br>ETHNICITY=HISPANIC<br>LOCATION=%{x}<br>PERCENTAGE=%{y}<extra></extra>\", \"legendgroup\": \"English Only\", \"marker\": {\"color\": \"#00cc96\"}, \"name\": \"English Only\", \"offsetgroup\": \"English Only\", \"orientation\": \"v\", \"showlegend\": false, \"textposition\": \"auto\", \"type\": \"bar\", \"x\": [\"LosAngeles-LongBeachCA\", \"NewYorkNY\", \"ChicagoIL\", \"MiamiFL\", \"HoustonTX\", \"Riverside-SanBernardinoCA\", \"OrangeCountyCA\", \"Phoenix-MesaAZ\", \"DallasTX\", \"SanDiegoCA\", \"OaklandCA\", \"WashingtonDC-MD-VA-WV\", \"FresnoCA\", \"SanJoseCA\", \"DenverCO\", \"Austin-SanMarcosTX\", \"LasVegasNV-AZ\", \"FortWorth-ArlingtonTX\", \"SanFranciscoCA\", \"Nassau-SuffolkNY\", \"FortLauderdaleFL\", \"OrlandoFL\", \"NewarkNJ\", \"AtlantaGA\", \"PhiladelphiaPA-NJ\", \"VenturaCA\", \"Tampa-St.Petersburg-ClearwaterFL\", \"JerseyCityNJ\", \"Bergen-PassaicNJ\", \"SacramentoCA\", \"BostonMA-NH\", \"Stockton-LodiCA\", \"SaltLakeCity-OgdenUT\", \"Portland-VancouverOR-WA\", \"Middlesex-Somerset-HunterdonNJ\", \"DetroitMI\"], \"xaxis\": \"x4\", \"y\": [\"8.9\", \"14.6\", \"11.2\", \"8.3\", \"12.0\", \"15.8\", \"10.6\", \"13.9\", \"11.0\", \"12.7\", \"16.4\", \"15.4\", \"13.4\", \"16.0\", \"16.8\", \"21.3\", \"10.8\", \"12.8\", \"13.8\", \"25.7\", \"25.2\", \"24.2\", \"19.7\", \"22.9\", \"25.5\", \"14.6\", \"27.9\", \"10.4\", \"17.4\", \"23.2\", \"16.2\", \"14.9\", \"23.6\", \"21.0\", \"24.8\", \"27.0\"], \"yaxis\": \"y4\"}, {\"alignmentgroup\": \"True\", \"hovertemplate\": \"PROFICIENCY=English Only<br>GENERATION=3<br>ETHNICITY=ASIAN<br>LOCATION=%{x}<br>PERCENTAGE=%{y}<extra></extra>\", \"legendgroup\": \"English Only\", \"marker\": {\"color\": \"#00cc96\"}, \"name\": \"English Only\", \"offsetgroup\": \"English Only\", \"orientation\": \"v\", \"showlegend\": false, \"textposition\": \"auto\", \"type\": \"bar\", \"x\": [\"LosAngeles-LongBeachCA\", \"NewYorkNY\", \"SanJoseCA\", \"OaklandCA\", \"SanFranciscoCA\", \"OrangeCountyCA\", \"ChicagoIL\", \"WashingtonDC-MD-VA-WV\", \"SanDiegoCA\", \"HoustonTX\", \"PhiladelphiaPA-NJ\", \"BostonMA-NH\", \"SacramentoCA\", \"Riverside-SanBernardinoCA\", \"DallasTX\", \"AtlantaGA\", \"Middlesex-Somerset-HunterdonNJ\", \"DetroitMI\", \"Bergen-PassaicNJ\", \"Nassau-SuffolkNY\", \"Portland-VancouverOR-WA\", \"LasVegasNV-AZ\", \"NewarkNJ\", \"Phoenix-MesaAZ\", \"DenverCO\", \"Stockton-LodiCA\", \"FresnoCA\", \"JerseyCityNJ\", \"FortWorth-ArlingtonTX\", \"Tampa-St.Petersburg-ClearwaterFL\", \"OrlandoFL\", \"Austin-SanMarcosTX\", \"VenturaCA\", \"FortLauderdaleFL\", \"MiamiFL\", \"SaltLakeCity-OgdenUT\"], \"xaxis\": \"x\", \"y\": [\"92.6\", \"77.5\", \"94.8\", \"93.7\", \"86.5\", \"93.3\", \"84.2\", \"96.6\", \"88.8\", \"81.1\", \"94.8\", \"92.7\", \"93.7\", \"95.2\", \"85.5\", \"96.3\", \"--\", \"94.5\", \"--\", \"97.3\", \"95.9\", \"85.2\", \"--\", \"91.2\", \"92.9\", \"92.0\", \"98.5\", \"--\", \"--\", \"90.5\", \"--\", \"--\", \"94.2\", \"--\", \"--\", \"100.0\"], \"yaxis\": \"y\"}, {\"alignmentgroup\": \"True\", \"hovertemplate\": \"PROFICIENCY=English Only<br>GENERATION=3<br>ETHNICITY=HISPANIC<br>LOCATION=%{x}<br>PERCENTAGE=%{y}<extra></extra>\", \"legendgroup\": \"English Only\", \"marker\": {\"color\": \"#00cc96\"}, \"name\": \"English Only\", \"offsetgroup\": \"English Only\", \"orientation\": \"v\", \"showlegend\": false, \"textposition\": \"auto\", \"type\": \"bar\", \"x\": [\"LosAngeles-LongBeachCA\", \"NewYorkNY\", \"ChicagoIL\", \"MiamiFL\", \"HoustonTX\", \"Riverside-SanBernardinoCA\", \"OrangeCountyCA\", \"Phoenix-MesaAZ\", \"DallasTX\", \"SanDiegoCA\", \"OaklandCA\", \"WashingtonDC-MD-VA-WV\", \"FresnoCA\", \"SanJoseCA\", \"DenverCO\", \"Austin-SanMarcosTX\", \"LasVegasNV-AZ\", \"FortWorth-ArlingtonTX\", \"SanFranciscoCA\", \"Nassau-SuffolkNY\", \"FortLauderdaleFL\", \"OrlandoFL\", \"NewarkNJ\", \"AtlantaGA\", \"PhiladelphiaPA-NJ\", \"VenturaCA\", \"Tampa-St.Petersburg-ClearwaterFL\", \"JerseyCityNJ\", \"Bergen-PassaicNJ\", \"SacramentoCA\", \"BostonMA-NH\", \"Stockton-LodiCA\", \"SaltLakeCity-OgdenUT\", \"Portland-VancouverOR-WA\", \"Middlesex-Somerset-HunterdonNJ\", \"DetroitMI\"], \"xaxis\": \"x2\", \"y\": [\"72.3\", \"50.3\", \"67.6\", \"34.3\", \"68.1\", \"82.2\", \"83.2\", \"77.2\", \"64.1\", \"73.5\", \"84.4\", \"81.0\", \"79.5\", \"83.6\", \"87.8\", \"73.5\", \"81.5\", \"74.7\", \"77.6\", \"81.3\", \"69.2\", \"62.2\", \"55.8\", \"82.7\", \"62.0\", \"79.8\", \"76.5\", \"46.8\", \"58.2\", \"88.0\", \"62.6\", \"82.7\", \"85.7\", \"88.0\", \"74.2\", \"85.8\"], \"yaxis\": \"y2\"}],\n",
              "                        {\"annotations\": [{\"font\": {}, \"showarrow\": false, \"text\": \"ETHNICITY=ASIAN\", \"x\": 0.24, \"xanchor\": \"center\", \"xref\": \"paper\", \"y\": 0.9999999999999998, \"yanchor\": \"bottom\", \"yref\": \"paper\"}, {\"font\": {}, \"showarrow\": false, \"text\": \"ETHNICITY=HISPANIC\", \"x\": 0.74, \"xanchor\": \"center\", \"xref\": \"paper\", \"y\": 0.9999999999999998, \"yanchor\": \"bottom\", \"yref\": \"paper\"}, {\"font\": {}, \"showarrow\": false, \"text\": \"GENERATION=3\", \"textangle\": 90, \"x\": 0.98, \"xanchor\": \"left\", \"xref\": \"paper\", \"y\": 0.15666666666666665, \"yanchor\": \"middle\", \"yref\": \"paper\"}, {\"font\": {}, \"showarrow\": false, \"text\": \"GENERATION=2\", \"textangle\": 90, \"x\": 0.98, \"xanchor\": \"left\", \"xref\": \"paper\", \"y\": 0.4999999999999999, \"yanchor\": \"middle\", \"yref\": \"paper\"}, {\"font\": {}, \"showarrow\": false, \"text\": \"GENERATION=1\", \"textangle\": 90, \"x\": 0.98, \"xanchor\": \"left\", \"xref\": \"paper\", \"y\": 0.8433333333333332, \"yanchor\": \"middle\", \"yref\": \"paper\"}], \"barmode\": \"group\", \"height\": 800, \"legend\": {\"title\": {\"text\": \"PROFICIENCY\"}, \"tracegroupgap\": 0}, \"margin\": {\"t\": 60}, \"template\": {\"data\": {\"bar\": [{\"error_x\": {\"color\": \"#2a3f5f\"}, \"error_y\": {\"color\": \"#2a3f5f\"}, \"marker\": {\"line\": {\"color\": \"#E5ECF6\", \"width\": 0.5}}, \"type\": \"bar\"}], \"barpolar\": [{\"marker\": {\"line\": {\"color\": \"#E5ECF6\", \"width\": 0.5}}, \"type\": \"barpolar\"}], \"carpet\": [{\"aaxis\": {\"endlinecolor\": \"#2a3f5f\", \"gridcolor\": \"white\", \"linecolor\": \"white\", \"minorgridcolor\": \"white\", \"startlinecolor\": \"#2a3f5f\"}, \"baxis\": {\"endlinecolor\": \"#2a3f5f\", \"gridcolor\": \"white\", \"linecolor\": \"white\", \"minorgridcolor\": \"white\", \"startlinecolor\": \"#2a3f5f\"}, \"type\": \"carpet\"}], \"choropleth\": [{\"colorbar\": {\"outlinewidth\": 0, \"ticks\": \"\"}, \"type\": \"choropleth\"}], \"contour\": [{\"colorbar\": {\"outlinewidth\": 0, \"ticks\": \"\"}, \"colorscale\": [[0.0, \"#0d0887\"], [0.1111111111111111, \"#46039f\"], [0.2222222222222222, \"#7201a8\"], [0.3333333333333333, \"#9c179e\"], [0.4444444444444444, \"#bd3786\"], [0.5555555555555556, \"#d8576b\"], [0.6666666666666666, \"#ed7953\"], [0.7777777777777778, \"#fb9f3a\"], [0.8888888888888888, \"#fdca26\"], [1.0, \"#f0f921\"]], \"type\": \"contour\"}], \"contourcarpet\": [{\"colorbar\": {\"outlinewidth\": 0, \"ticks\": \"\"}, \"type\": \"contourcarpet\"}], \"heatmap\": [{\"colorbar\": {\"outlinewidth\": 0, \"ticks\": \"\"}, \"colorscale\": [[0.0, \"#0d0887\"], [0.1111111111111111, \"#46039f\"], [0.2222222222222222, \"#7201a8\"], [0.3333333333333333, \"#9c179e\"], [0.4444444444444444, \"#bd3786\"], [0.5555555555555556, \"#d8576b\"], [0.6666666666666666, \"#ed7953\"], [0.7777777777777778, \"#fb9f3a\"], [0.8888888888888888, \"#fdca26\"], [1.0, \"#f0f921\"]], \"type\": \"heatmap\"}], \"heatmapgl\": [{\"colorbar\": {\"outlinewidth\": 0, \"ticks\": \"\"}, \"colorscale\": [[0.0, \"#0d0887\"], [0.1111111111111111, \"#46039f\"], [0.2222222222222222, \"#7201a8\"], [0.3333333333333333, \"#9c179e\"], [0.4444444444444444, \"#bd3786\"], [0.5555555555555556, \"#d8576b\"], [0.6666666666666666, \"#ed7953\"], [0.7777777777777778, \"#fb9f3a\"], [0.8888888888888888, \"#fdca26\"], [1.0, \"#f0f921\"]], \"type\": \"heatmapgl\"}], \"histogram\": [{\"marker\": {\"colorbar\": {\"outlinewidth\": 0, \"ticks\": \"\"}}, \"type\": \"histogram\"}], \"histogram2d\": [{\"colorbar\": {\"outlinewidth\": 0, \"ticks\": \"\"}, \"colorscale\": [[0.0, \"#0d0887\"], [0.1111111111111111, \"#46039f\"], [0.2222222222222222, \"#7201a8\"], [0.3333333333333333, \"#9c179e\"], [0.4444444444444444, \"#bd3786\"], [0.5555555555555556, \"#d8576b\"], [0.6666666666666666, \"#ed7953\"], [0.7777777777777778, \"#fb9f3a\"], [0.8888888888888888, \"#fdca26\"], [1.0, \"#f0f921\"]], \"type\": \"histogram2d\"}], \"histogram2dcontour\": [{\"colorbar\": {\"outlinewidth\": 0, \"ticks\": \"\"}, \"colorscale\": [[0.0, \"#0d0887\"], [0.1111111111111111, \"#46039f\"], [0.2222222222222222, \"#7201a8\"], [0.3333333333333333, \"#9c179e\"], [0.4444444444444444, \"#bd3786\"], [0.5555555555555556, \"#d8576b\"], [0.6666666666666666, \"#ed7953\"], [0.7777777777777778, \"#fb9f3a\"], [0.8888888888888888, \"#fdca26\"], [1.0, \"#f0f921\"]], \"type\": \"histogram2dcontour\"}], \"mesh3d\": [{\"colorbar\": {\"outlinewidth\": 0, \"ticks\": \"\"}, \"type\": \"mesh3d\"}], \"parcoords\": [{\"line\": {\"colorbar\": {\"outlinewidth\": 0, \"ticks\": \"\"}}, \"type\": \"parcoords\"}], \"pie\": [{\"automargin\": true, \"type\": \"pie\"}], \"scatter\": [{\"marker\": {\"colorbar\": {\"outlinewidth\": 0, \"ticks\": \"\"}}, \"type\": \"scatter\"}], \"scatter3d\": [{\"line\": {\"colorbar\": {\"outlinewidth\": 0, \"ticks\": \"\"}}, \"marker\": {\"colorbar\": {\"outlinewidth\": 0, \"ticks\": \"\"}}, \"type\": \"scatter3d\"}], \"scattercarpet\": [{\"marker\": {\"colorbar\": {\"outlinewidth\": 0, \"ticks\": \"\"}}, \"type\": \"scattercarpet\"}], \"scattergeo\": [{\"marker\": {\"colorbar\": {\"outlinewidth\": 0, \"ticks\": \"\"}}, \"type\": \"scattergeo\"}], \"scattergl\": [{\"marker\": {\"colorbar\": {\"outlinewidth\": 0, \"ticks\": \"\"}}, \"type\": \"scattergl\"}], \"scattermapbox\": [{\"marker\": {\"colorbar\": {\"outlinewidth\": 0, \"ticks\": \"\"}}, \"type\": \"scattermapbox\"}], \"scatterpolar\": [{\"marker\": {\"colorbar\": {\"outlinewidth\": 0, \"ticks\": \"\"}}, \"type\": \"scatterpolar\"}], \"scatterpolargl\": [{\"marker\": {\"colorbar\": {\"outlinewidth\": 0, \"ticks\": \"\"}}, \"type\": \"scatterpolargl\"}], \"scatterternary\": [{\"marker\": {\"colorbar\": {\"outlinewidth\": 0, \"ticks\": \"\"}}, \"type\": \"scatterternary\"}], \"surface\": [{\"colorbar\": {\"outlinewidth\": 0, \"ticks\": \"\"}, \"colorscale\": [[0.0, \"#0d0887\"], [0.1111111111111111, \"#46039f\"], [0.2222222222222222, \"#7201a8\"], [0.3333333333333333, \"#9c179e\"], [0.4444444444444444, \"#bd3786\"], [0.5555555555555556, \"#d8576b\"], [0.6666666666666666, \"#ed7953\"], [0.7777777777777778, \"#fb9f3a\"], [0.8888888888888888, \"#fdca26\"], [1.0, \"#f0f921\"]], \"type\": \"surface\"}], \"table\": [{\"cells\": {\"fill\": {\"color\": \"#EBF0F8\"}, \"line\": {\"color\": \"white\"}}, \"header\": {\"fill\": {\"color\": \"#C8D4E3\"}, \"line\": {\"color\": \"white\"}}, \"type\": \"table\"}]}, \"layout\": {\"annotationdefaults\": {\"arrowcolor\": \"#2a3f5f\", \"arrowhead\": 0, \"arrowwidth\": 1}, \"coloraxis\": {\"colorbar\": {\"outlinewidth\": 0, \"ticks\": \"\"}}, \"colorscale\": {\"diverging\": [[0, \"#8e0152\"], [0.1, \"#c51b7d\"], [0.2, \"#de77ae\"], [0.3, \"#f1b6da\"], [0.4, \"#fde0ef\"], [0.5, \"#f7f7f7\"], [0.6, \"#e6f5d0\"], [0.7, \"#b8e186\"], [0.8, \"#7fbc41\"], [0.9, \"#4d9221\"], [1, \"#276419\"]], \"sequential\": [[0.0, \"#0d0887\"], [0.1111111111111111, \"#46039f\"], [0.2222222222222222, \"#7201a8\"], [0.3333333333333333, \"#9c179e\"], [0.4444444444444444, \"#bd3786\"], [0.5555555555555556, \"#d8576b\"], [0.6666666666666666, \"#ed7953\"], [0.7777777777777778, \"#fb9f3a\"], [0.8888888888888888, \"#fdca26\"], [1.0, \"#f0f921\"]], \"sequentialminus\": [[0.0, \"#0d0887\"], [0.1111111111111111, \"#46039f\"], [0.2222222222222222, \"#7201a8\"], [0.3333333333333333, \"#9c179e\"], [0.4444444444444444, \"#bd3786\"], [0.5555555555555556, \"#d8576b\"], [0.6666666666666666, \"#ed7953\"], [0.7777777777777778, \"#fb9f3a\"], [0.8888888888888888, \"#fdca26\"], [1.0, \"#f0f921\"]]}, \"colorway\": [\"#636efa\", \"#EF553B\", \"#00cc96\", \"#ab63fa\", \"#FFA15A\", \"#19d3f3\", \"#FF6692\", \"#B6E880\", \"#FF97FF\", \"#FECB52\"], \"font\": {\"color\": \"#2a3f5f\"}, \"geo\": {\"bgcolor\": \"white\", \"lakecolor\": \"white\", \"landcolor\": \"#E5ECF6\", \"showlakes\": true, \"showland\": true, \"subunitcolor\": \"white\"}, \"hoverlabel\": {\"align\": \"left\"}, \"hovermode\": \"closest\", \"mapbox\": {\"style\": \"light\"}, \"paper_bgcolor\": \"white\", \"plot_bgcolor\": \"#E5ECF6\", \"polar\": {\"angularaxis\": {\"gridcolor\": \"white\", \"linecolor\": \"white\", \"ticks\": \"\"}, \"bgcolor\": \"#E5ECF6\", \"radialaxis\": {\"gridcolor\": \"white\", \"linecolor\": \"white\", \"ticks\": \"\"}}, \"scene\": {\"xaxis\": {\"backgroundcolor\": \"#E5ECF6\", \"gridcolor\": \"white\", \"gridwidth\": 2, \"linecolor\": \"white\", \"showbackground\": true, \"ticks\": \"\", \"zerolinecolor\": \"white\"}, \"yaxis\": {\"backgroundcolor\": \"#E5ECF6\", \"gridcolor\": \"white\", \"gridwidth\": 2, \"linecolor\": \"white\", \"showbackground\": true, \"ticks\": \"\", \"zerolinecolor\": \"white\"}, \"zaxis\": {\"backgroundcolor\": \"#E5ECF6\", \"gridcolor\": \"white\", \"gridwidth\": 2, \"linecolor\": \"white\", \"showbackground\": true, \"ticks\": \"\", \"zerolinecolor\": \"white\"}}, \"shapedefaults\": {\"line\": {\"color\": \"#2a3f5f\"}}, \"ternary\": {\"aaxis\": {\"gridcolor\": \"white\", \"linecolor\": \"white\", \"ticks\": \"\"}, \"baxis\": {\"gridcolor\": \"white\", \"linecolor\": \"white\", \"ticks\": \"\"}, \"bgcolor\": \"#E5ECF6\", \"caxis\": {\"gridcolor\": \"white\", \"linecolor\": \"white\", \"ticks\": \"\"}}, \"title\": {\"x\": 0.05}, \"xaxis\": {\"automargin\": true, \"gridcolor\": \"white\", \"linecolor\": \"white\", \"ticks\": \"\", \"title\": {\"standoff\": 15}, \"zerolinecolor\": \"white\", \"zerolinewidth\": 2}, \"yaxis\": {\"automargin\": true, \"gridcolor\": \"white\", \"linecolor\": \"white\", \"ticks\": \"\", \"title\": {\"standoff\": 15}, \"zerolinecolor\": \"white\", \"zerolinewidth\": 2}}}, \"xaxis\": {\"anchor\": \"y\", \"domain\": [0.0, 0.48], \"title\": {\"text\": \"LOCATION\"}}, \"xaxis2\": {\"anchor\": \"y2\", \"domain\": [0.5, 0.98], \"matches\": \"x\", \"title\": {\"text\": \"LOCATION\"}}, \"xaxis3\": {\"anchor\": \"y3\", \"domain\": [0.0, 0.48], \"matches\": \"x\", \"showticklabels\": false}, \"xaxis4\": {\"anchor\": \"y4\", \"domain\": [0.5, 0.98], \"matches\": \"x\", \"showticklabels\": false}, \"xaxis5\": {\"anchor\": \"y5\", \"domain\": [0.0, 0.48], \"matches\": \"x\", \"showticklabels\": false}, \"xaxis6\": {\"anchor\": \"y6\", \"domain\": [0.5, 0.98], \"matches\": \"x\", \"showticklabels\": false}, \"yaxis\": {\"anchor\": \"x\", \"domain\": [0.0, 0.3133333333333333], \"title\": {\"text\": \"PERCENTAGE\"}}, \"yaxis2\": {\"anchor\": \"x2\", \"domain\": [0.0, 0.3133333333333333], \"matches\": \"y\", \"showticklabels\": false}, \"yaxis3\": {\"anchor\": \"x3\", \"domain\": [0.34333333333333327, 0.6566666666666665], \"matches\": \"y\", \"title\": {\"text\": \"PERCENTAGE\"}}, \"yaxis4\": {\"anchor\": \"x4\", \"domain\": [0.34333333333333327, 0.6566666666666665], \"matches\": \"y\", \"showticklabels\": false}, \"yaxis5\": {\"anchor\": \"x5\", \"domain\": [0.6866666666666665, 0.9999999999999998], \"matches\": \"y\", \"title\": {\"text\": \"PERCENTAGE\"}}, \"yaxis6\": {\"anchor\": \"x6\", \"domain\": [0.6866666666666665, 0.9999999999999998], \"matches\": \"y\", \"showticklabels\": false}},\n",
              "                        {\"responsive\": true}\n",
              "                    ).then(function(){\n",
              "                            \n",
              "var gd = document.getElementById('25fbb169-be0e-4323-9fa2-b6c6c95806a7');\n",
              "var x = new MutationObserver(function (mutations, observer) {{\n",
              "        var display = window.getComputedStyle(gd).display;\n",
              "        if (!display || display === 'none') {{\n",
              "            console.log([gd, 'removed!']);\n",
              "            Plotly.purge(gd);\n",
              "            observer.disconnect();\n",
              "        }}\n",
              "}});\n",
              "\n",
              "// Listen for the removal of the full notebook cells\n",
              "var notebookContainer = gd.closest('#notebook-container');\n",
              "if (notebookContainer) {{\n",
              "    x.observe(notebookContainer, {childList: true});\n",
              "}}\n",
              "\n",
              "// Listen for the clearing of the current output cell\n",
              "var outputEl = gd.closest('.output');\n",
              "if (outputEl) {{\n",
              "    x.observe(outputEl, {childList: true});\n",
              "}}\n",
              "\n",
              "                        })\n",
              "                };\n",
              "                \n",
              "            </script>\n",
              "        </div>\n",
              "</body>\n",
              "</html>"
            ]
          },
          "metadata": {
            "tags": []
          }
        }
      ]
    },
    {
      "cell_type": "markdown",
      "metadata": {
        "id": "7euOS_wG_fyw",
        "colab_type": "text"
      },
      "source": [
        "In the following analysis, second generation Asian and Hispanic language persistance is represented on the choropleth graphs. The top graph is the second generation Asian population and the bottom is the second generation Hispanic population."
      ]
    },
    {
      "cell_type": "code",
      "metadata": {
        "id": "oOGfAHq1RA7S",
        "colab_type": "code",
        "outputId": "a237435f-7cca-4e84-954b-e659ee55bd46",
        "colab": {
          "base_uri": "https://localhost:8080/",
          "height": 309
        }
      },
      "source": [
        "second_gen_asians = area_asian_language[area_asian_language[\"GENERATION\"] == 2]\n",
        "second_gen_hispanics = area_hispanic_language[area_hispanic_language[\"GENERATION\"] == 2]\n",
        "\n",
        "def find_loc(location):\n",
        "  if(location.find('-') > -1):\n",
        "    cityname = location.split('-')[0]\n",
        "    statename = \"\"\n",
        "    if(cityname[-2:].isupper()):\n",
        "      statename = cityname[-2:]\n",
        "    elif(location[-5:-3].isupper()):\n",
        "      statename = location[-5:-3]\n",
        "    elif(location[-2:].isupper()):\n",
        "      statename = location[-2:]\n",
        "    if(len(statename) > 0):\n",
        "      return search.by_city_and_state(cityname, statename)[0]\n",
        "    else:\n",
        "      return search.by_city(cityname)[0]\n",
        "  else:\n",
        "    cityname = location[:-2]\n",
        "    statename = \"\"\n",
        "    if(location[-2:].isupper()):\n",
        "      statename = location[-2:]\n",
        "    if(len(statename) > 0):\n",
        "      return search.by_city_and_state(cityname, statename)[0]\n",
        "    else:\n",
        "      return search.by_city(cityname)[0]\n",
        "\n",
        "second_gen_asians['state'] = second_gen_asians['LOCATION'].map(lambda loc: find_loc(loc).state)\n",
        "second_gen_hispanics['state'] = second_gen_hispanics['LOCATION'].map(lambda loc: find_loc(loc).state)"
      ],
      "execution_count": 0,
      "outputs": [
        {
          "output_type": "stream",
          "text": [
            "/usr/local/lib/python3.6/dist-packages/ipykernel_launcher.py:28: SettingWithCopyWarning:\n",
            "\n",
            "\n",
            "A value is trying to be set on a copy of a slice from a DataFrame.\n",
            "Try using .loc[row_indexer,col_indexer] = value instead\n",
            "\n",
            "See the caveats in the documentation: https://pandas.pydata.org/pandas-docs/stable/user_guide/indexing.html#returning-a-view-versus-a-copy\n",
            "\n",
            "/usr/local/lib/python3.6/dist-packages/ipykernel_launcher.py:29: SettingWithCopyWarning:\n",
            "\n",
            "\n",
            "A value is trying to be set on a copy of a slice from a DataFrame.\n",
            "Try using .loc[row_indexer,col_indexer] = value instead\n",
            "\n",
            "See the caveats in the documentation: https://pandas.pydata.org/pandas-docs/stable/user_guide/indexing.html#returning-a-view-versus-a-copy\n",
            "\n"
          ],
          "name": "stderr"
        }
      ]
    },
    {
      "cell_type": "code",
      "metadata": {
        "id": "6V8kEF-uppRQ",
        "colab_type": "code",
        "outputId": "6b051de1-47c3-41e1-9c93-58915189b4ea",
        "colab": {
          "base_uri": "https://localhost:8080/",
          "height": 1000
        }
      },
      "source": [
        "second_gen_asians['percents'] = second_gen_asians['PERCENTAGE'].map(lambda percent: float(percent))\n",
        "second_gen_hispanics['percents'] = second_gen_hispanics['PERCENTAGE'].map(lambda percent: float(percent))\n",
        "\n",
        "state_columns = ['state', '2nd gen language persistence in asians', '2nd gen language persistence in hispanics']\n",
        "\n",
        "astates = second_gen_asians['state'].unique()\n",
        "hstates = second_gen_hispanics['state'].unique()\n",
        "astatewise_df = pd.DataFrame(columns=state_columns)\n",
        "hstatewise_df = pd.DataFrame(columns=state_columns)\n",
        "\n",
        "for abbr in astates:\n",
        "  arows = second_gen_asians[second_gen_asians['state'] == abbr]\n",
        "  apersistence = 0.0\n",
        "  anum_entries = len(arows.index)\n",
        "  for i in range (0, len(arows.index)):\n",
        "    row = arows.iloc[i]\n",
        "    proficiency = row['PROFICIENCY']\n",
        "    if(proficiency == 'English Well'):\n",
        "      apersistence += row['percents']\n",
        "    elif(proficiency == 'English Not Well'):\n",
        "      apersistence += row['percents']\n",
        "  ascaled_persistence = apersistence / (anum_entries / 3)\n",
        "  astatewise_df = astatewise_df.append({'state': abbr, '2nd gen language persistence in asians': ascaled_persistence}, ignore_index=True)\n",
        "\n",
        "for abbr in hstates:\n",
        "  hrows = second_gen_hispanics[second_gen_hispanics['state'] == abbr]\n",
        "  hpersistence = 0.0\n",
        "  hnum_entries = len(hrows.index)\n",
        "  for i in range (0, len(hrows.index)):\n",
        "    row = hrows.iloc[i]\n",
        "    proficiency = row['PROFICIENCY']\n",
        "    if(proficiency == 'English Well'):\n",
        "      hpersistence += row['percents']\n",
        "    elif(proficiency == 'English Not Well'):\n",
        "      hpersistence += row['percents']\n",
        "  hscaled_persistence = hpersistence / max((hnum_entries / 3), 1)\n",
        "  hstatewise_df = hstatewise_df.append({'state': abbr, '2nd gen language persistence in hispanics': hscaled_persistence}, ignore_index=True)\n",
        "\n",
        "fig2 = px.choropleth(astatewise_df, locations='state', color='2nd gen language persistence in asians', color_continuous_scale=\"Viridis\", range_color=[30, 90], scope='usa', locationmode='USA-states')\n",
        "fig2.show()\n",
        "fig3 = px.choropleth(hstatewise_df, locations='state', color='2nd gen language persistence in hispanics', color_continuous_scale=\"Viridis\", range_color=[30, 90], scope='usa', locationmode='USA-states')\n",
        "fig3.show()"
      ],
      "execution_count": 0,
      "outputs": [
        {
          "output_type": "stream",
          "text": [
            "/usr/local/lib/python3.6/dist-packages/ipykernel_launcher.py:1: SettingWithCopyWarning:\n",
            "\n",
            "\n",
            "A value is trying to be set on a copy of a slice from a DataFrame.\n",
            "Try using .loc[row_indexer,col_indexer] = value instead\n",
            "\n",
            "See the caveats in the documentation: https://pandas.pydata.org/pandas-docs/stable/user_guide/indexing.html#returning-a-view-versus-a-copy\n",
            "\n",
            "/usr/local/lib/python3.6/dist-packages/ipykernel_launcher.py:2: SettingWithCopyWarning:\n",
            "\n",
            "\n",
            "A value is trying to be set on a copy of a slice from a DataFrame.\n",
            "Try using .loc[row_indexer,col_indexer] = value instead\n",
            "\n",
            "See the caveats in the documentation: https://pandas.pydata.org/pandas-docs/stable/user_guide/indexing.html#returning-a-view-versus-a-copy\n",
            "\n"
          ],
          "name": "stderr"
        },
        {
          "output_type": "display_data",
          "data": {
            "text/html": [
              "<html>\n",
              "<head><meta charset=\"utf-8\" /></head>\n",
              "<body>\n",
              "    <div>\n",
              "            <script src=\"https://cdnjs.cloudflare.com/ajax/libs/mathjax/2.7.5/MathJax.js?config=TeX-AMS-MML_SVG\"></script><script type=\"text/javascript\">if (window.MathJax) {MathJax.Hub.Config({SVG: {font: \"STIX-Web\"}});}</script>\n",
              "                <script type=\"text/javascript\">window.PlotlyConfig = {MathJaxConfig: 'local'};</script>\n",
              "        <script src=\"https://cdn.plot.ly/plotly-latest.min.js\"></script>    \n",
              "            <div id=\"4cd08f60-8834-42c6-bd5f-46b48349ba33\" class=\"plotly-graph-div\" style=\"height:525px; width:100%;\"></div>\n",
              "            <script type=\"text/javascript\">\n",
              "                \n",
              "                    window.PLOTLYENV=window.PLOTLYENV || {};\n",
              "                    \n",
              "                if (document.getElementById(\"4cd08f60-8834-42c6-bd5f-46b48349ba33\")) {\n",
              "                    Plotly.newPlot(\n",
              "                        '4cd08f60-8834-42c6-bd5f-46b48349ba33',\n",
              "                        [{\"coloraxis\": \"coloraxis\", \"geo\": \"geo\", \"hovertemplate\": \"state=%{location}<br>2nd gen language persistence in asians=%{z}<extra></extra>\", \"locationmode\": \"USA-states\", \"locations\": [\"CA\", \"NY\", \"HI\", \"IL\", \"DC\", \"WA\", \"TX\", \"PA\", \"MA\", \"GA\", \"MN\", \"NJ\", \"MI\", \"OR\", \"NV\", \"AZ\", \"MD\", \"CO\", \"FL\", \"VA\", \"MO\", \"OH\", \"NC\", \"UT\", \"WI\"], \"name\": \"\", \"type\": \"choropleth\", \"z\": [59.89166666666666, 64.55, 29.3, 62.2, 64.4, 54.25, 66.55, 67.6, 72.5, 69.7, 76.2, 62.3, 61.5, 57.6, 46.300000000000004, 47.6, 57.7, 66.1, 52.425, 35.6, 58.75000000000001, 54.050000000000004, 70.1, 56.800000000000004, 81.8]}],\n",
              "                        {\"coloraxis\": {\"cmax\": 90, \"cmin\": 30, \"colorbar\": {\"title\": {\"text\": \"2nd gen language persistence in asians\"}}, \"colorscale\": [[0.0, \"#440154\"], [0.1111111111111111, \"#482878\"], [0.2222222222222222, \"#3e4989\"], [0.3333333333333333, \"#31688e\"], [0.4444444444444444, \"#26828e\"], [0.5555555555555556, \"#1f9e89\"], [0.6666666666666666, \"#35b779\"], [0.7777777777777778, \"#6ece58\"], [0.8888888888888888, \"#b5de2b\"], [1.0, \"#fde725\"]]}, \"geo\": {\"center\": {}, \"domain\": {\"x\": [0.0, 1.0], \"y\": [0.0, 1.0]}, \"scope\": \"usa\"}, \"legend\": {\"tracegroupgap\": 0}, \"margin\": {\"t\": 60}, \"template\": {\"data\": {\"bar\": [{\"error_x\": {\"color\": \"#2a3f5f\"}, \"error_y\": {\"color\": \"#2a3f5f\"}, \"marker\": {\"line\": {\"color\": \"#E5ECF6\", \"width\": 0.5}}, \"type\": \"bar\"}], \"barpolar\": [{\"marker\": {\"line\": {\"color\": \"#E5ECF6\", \"width\": 0.5}}, \"type\": \"barpolar\"}], \"carpet\": [{\"aaxis\": {\"endlinecolor\": \"#2a3f5f\", \"gridcolor\": \"white\", \"linecolor\": \"white\", \"minorgridcolor\": \"white\", \"startlinecolor\": \"#2a3f5f\"}, \"baxis\": {\"endlinecolor\": \"#2a3f5f\", \"gridcolor\": \"white\", \"linecolor\": \"white\", \"minorgridcolor\": \"white\", \"startlinecolor\": \"#2a3f5f\"}, \"type\": \"carpet\"}], \"choropleth\": [{\"colorbar\": {\"outlinewidth\": 0, \"ticks\": \"\"}, \"type\": \"choropleth\"}], \"contour\": [{\"colorbar\": {\"outlinewidth\": 0, \"ticks\": \"\"}, \"colorscale\": [[0.0, \"#0d0887\"], [0.1111111111111111, \"#46039f\"], [0.2222222222222222, \"#7201a8\"], [0.3333333333333333, \"#9c179e\"], [0.4444444444444444, \"#bd3786\"], [0.5555555555555556, \"#d8576b\"], [0.6666666666666666, \"#ed7953\"], [0.7777777777777778, \"#fb9f3a\"], [0.8888888888888888, \"#fdca26\"], [1.0, \"#f0f921\"]], \"type\": \"contour\"}], \"contourcarpet\": [{\"colorbar\": {\"outlinewidth\": 0, \"ticks\": \"\"}, \"type\": \"contourcarpet\"}], \"heatmap\": [{\"colorbar\": {\"outlinewidth\": 0, \"ticks\": \"\"}, \"colorscale\": [[0.0, \"#0d0887\"], [0.1111111111111111, \"#46039f\"], [0.2222222222222222, \"#7201a8\"], [0.3333333333333333, \"#9c179e\"], [0.4444444444444444, \"#bd3786\"], [0.5555555555555556, \"#d8576b\"], [0.6666666666666666, \"#ed7953\"], [0.7777777777777778, \"#fb9f3a\"], [0.8888888888888888, \"#fdca26\"], [1.0, \"#f0f921\"]], \"type\": \"heatmap\"}], \"heatmapgl\": [{\"colorbar\": {\"outlinewidth\": 0, \"ticks\": \"\"}, \"colorscale\": [[0.0, \"#0d0887\"], [0.1111111111111111, \"#46039f\"], [0.2222222222222222, \"#7201a8\"], [0.3333333333333333, \"#9c179e\"], [0.4444444444444444, \"#bd3786\"], [0.5555555555555556, \"#d8576b\"], [0.6666666666666666, \"#ed7953\"], [0.7777777777777778, \"#fb9f3a\"], [0.8888888888888888, \"#fdca26\"], [1.0, \"#f0f921\"]], \"type\": \"heatmapgl\"}], \"histogram\": [{\"marker\": {\"colorbar\": {\"outlinewidth\": 0, \"ticks\": \"\"}}, \"type\": \"histogram\"}], \"histogram2d\": [{\"colorbar\": {\"outlinewidth\": 0, \"ticks\": \"\"}, \"colorscale\": [[0.0, \"#0d0887\"], [0.1111111111111111, \"#46039f\"], [0.2222222222222222, \"#7201a8\"], [0.3333333333333333, \"#9c179e\"], [0.4444444444444444, \"#bd3786\"], [0.5555555555555556, \"#d8576b\"], [0.6666666666666666, \"#ed7953\"], [0.7777777777777778, \"#fb9f3a\"], [0.8888888888888888, \"#fdca26\"], [1.0, \"#f0f921\"]], \"type\": \"histogram2d\"}], \"histogram2dcontour\": [{\"colorbar\": {\"outlinewidth\": 0, \"ticks\": \"\"}, \"colorscale\": [[0.0, \"#0d0887\"], [0.1111111111111111, \"#46039f\"], [0.2222222222222222, \"#7201a8\"], [0.3333333333333333, \"#9c179e\"], [0.4444444444444444, \"#bd3786\"], [0.5555555555555556, \"#d8576b\"], [0.6666666666666666, \"#ed7953\"], [0.7777777777777778, \"#fb9f3a\"], [0.8888888888888888, \"#fdca26\"], [1.0, \"#f0f921\"]], \"type\": \"histogram2dcontour\"}], \"mesh3d\": [{\"colorbar\": {\"outlinewidth\": 0, \"ticks\": \"\"}, \"type\": \"mesh3d\"}], \"parcoords\": [{\"line\": {\"colorbar\": {\"outlinewidth\": 0, \"ticks\": \"\"}}, \"type\": \"parcoords\"}], \"pie\": [{\"automargin\": true, \"type\": \"pie\"}], \"scatter\": [{\"marker\": {\"colorbar\": {\"outlinewidth\": 0, \"ticks\": \"\"}}, \"type\": \"scatter\"}], \"scatter3d\": [{\"line\": {\"colorbar\": {\"outlinewidth\": 0, \"ticks\": \"\"}}, \"marker\": {\"colorbar\": {\"outlinewidth\": 0, \"ticks\": \"\"}}, \"type\": \"scatter3d\"}], \"scattercarpet\": [{\"marker\": {\"colorbar\": {\"outlinewidth\": 0, \"ticks\": \"\"}}, \"type\": \"scattercarpet\"}], \"scattergeo\": [{\"marker\": {\"colorbar\": {\"outlinewidth\": 0, \"ticks\": \"\"}}, \"type\": \"scattergeo\"}], \"scattergl\": [{\"marker\": {\"colorbar\": {\"outlinewidth\": 0, \"ticks\": \"\"}}, \"type\": \"scattergl\"}], \"scattermapbox\": [{\"marker\": {\"colorbar\": {\"outlinewidth\": 0, \"ticks\": \"\"}}, \"type\": \"scattermapbox\"}], \"scatterpolar\": [{\"marker\": {\"colorbar\": {\"outlinewidth\": 0, \"ticks\": \"\"}}, \"type\": \"scatterpolar\"}], \"scatterpolargl\": [{\"marker\": {\"colorbar\": {\"outlinewidth\": 0, \"ticks\": \"\"}}, \"type\": \"scatterpolargl\"}], \"scatterternary\": [{\"marker\": {\"colorbar\": {\"outlinewidth\": 0, \"ticks\": \"\"}}, \"type\": \"scatterternary\"}], \"surface\": [{\"colorbar\": {\"outlinewidth\": 0, \"ticks\": \"\"}, \"colorscale\": [[0.0, \"#0d0887\"], [0.1111111111111111, \"#46039f\"], [0.2222222222222222, \"#7201a8\"], [0.3333333333333333, \"#9c179e\"], [0.4444444444444444, \"#bd3786\"], [0.5555555555555556, \"#d8576b\"], [0.6666666666666666, \"#ed7953\"], [0.7777777777777778, \"#fb9f3a\"], [0.8888888888888888, \"#fdca26\"], [1.0, \"#f0f921\"]], \"type\": \"surface\"}], \"table\": [{\"cells\": {\"fill\": {\"color\": \"#EBF0F8\"}, \"line\": {\"color\": \"white\"}}, \"header\": {\"fill\": {\"color\": \"#C8D4E3\"}, \"line\": {\"color\": \"white\"}}, \"type\": \"table\"}]}, \"layout\": {\"annotationdefaults\": {\"arrowcolor\": \"#2a3f5f\", \"arrowhead\": 0, \"arrowwidth\": 1}, \"coloraxis\": {\"colorbar\": {\"outlinewidth\": 0, \"ticks\": \"\"}}, \"colorscale\": {\"diverging\": [[0, \"#8e0152\"], [0.1, \"#c51b7d\"], [0.2, \"#de77ae\"], [0.3, \"#f1b6da\"], [0.4, \"#fde0ef\"], [0.5, \"#f7f7f7\"], [0.6, \"#e6f5d0\"], [0.7, \"#b8e186\"], [0.8, \"#7fbc41\"], [0.9, \"#4d9221\"], [1, \"#276419\"]], \"sequential\": [[0.0, \"#0d0887\"], [0.1111111111111111, \"#46039f\"], [0.2222222222222222, \"#7201a8\"], [0.3333333333333333, \"#9c179e\"], [0.4444444444444444, \"#bd3786\"], [0.5555555555555556, \"#d8576b\"], [0.6666666666666666, \"#ed7953\"], [0.7777777777777778, \"#fb9f3a\"], [0.8888888888888888, \"#fdca26\"], [1.0, \"#f0f921\"]], \"sequentialminus\": [[0.0, \"#0d0887\"], [0.1111111111111111, \"#46039f\"], [0.2222222222222222, \"#7201a8\"], [0.3333333333333333, \"#9c179e\"], [0.4444444444444444, \"#bd3786\"], [0.5555555555555556, \"#d8576b\"], [0.6666666666666666, \"#ed7953\"], [0.7777777777777778, \"#fb9f3a\"], [0.8888888888888888, \"#fdca26\"], [1.0, \"#f0f921\"]]}, \"colorway\": [\"#636efa\", \"#EF553B\", \"#00cc96\", \"#ab63fa\", \"#FFA15A\", \"#19d3f3\", \"#FF6692\", \"#B6E880\", \"#FF97FF\", \"#FECB52\"], \"font\": {\"color\": \"#2a3f5f\"}, \"geo\": {\"bgcolor\": \"white\", \"lakecolor\": \"white\", \"landcolor\": \"#E5ECF6\", \"showlakes\": true, \"showland\": true, \"subunitcolor\": \"white\"}, \"hoverlabel\": {\"align\": \"left\"}, \"hovermode\": \"closest\", \"mapbox\": {\"style\": \"light\"}, \"paper_bgcolor\": \"white\", \"plot_bgcolor\": \"#E5ECF6\", \"polar\": {\"angularaxis\": {\"gridcolor\": \"white\", \"linecolor\": \"white\", \"ticks\": \"\"}, \"bgcolor\": \"#E5ECF6\", \"radialaxis\": {\"gridcolor\": \"white\", \"linecolor\": \"white\", \"ticks\": \"\"}}, \"scene\": {\"xaxis\": {\"backgroundcolor\": \"#E5ECF6\", \"gridcolor\": \"white\", \"gridwidth\": 2, \"linecolor\": \"white\", \"showbackground\": true, \"ticks\": \"\", \"zerolinecolor\": \"white\"}, \"yaxis\": {\"backgroundcolor\": \"#E5ECF6\", \"gridcolor\": \"white\", \"gridwidth\": 2, \"linecolor\": \"white\", \"showbackground\": true, \"ticks\": \"\", \"zerolinecolor\": \"white\"}, \"zaxis\": {\"backgroundcolor\": \"#E5ECF6\", \"gridcolor\": \"white\", \"gridwidth\": 2, \"linecolor\": \"white\", \"showbackground\": true, \"ticks\": \"\", \"zerolinecolor\": \"white\"}}, \"shapedefaults\": {\"line\": {\"color\": \"#2a3f5f\"}}, \"ternary\": {\"aaxis\": {\"gridcolor\": \"white\", \"linecolor\": \"white\", \"ticks\": \"\"}, \"baxis\": {\"gridcolor\": \"white\", \"linecolor\": \"white\", \"ticks\": \"\"}, \"bgcolor\": \"#E5ECF6\", \"caxis\": {\"gridcolor\": \"white\", \"linecolor\": \"white\", \"ticks\": \"\"}}, \"title\": {\"x\": 0.05}, \"xaxis\": {\"automargin\": true, \"gridcolor\": \"white\", \"linecolor\": \"white\", \"ticks\": \"\", \"title\": {\"standoff\": 15}, \"zerolinecolor\": \"white\", \"zerolinewidth\": 2}, \"yaxis\": {\"automargin\": true, \"gridcolor\": \"white\", \"linecolor\": \"white\", \"ticks\": \"\", \"title\": {\"standoff\": 15}, \"zerolinecolor\": \"white\", \"zerolinewidth\": 2}}}},\n",
              "                        {\"responsive\": true}\n",
              "                    ).then(function(){\n",
              "                            \n",
              "var gd = document.getElementById('4cd08f60-8834-42c6-bd5f-46b48349ba33');\n",
              "var x = new MutationObserver(function (mutations, observer) {{\n",
              "        var display = window.getComputedStyle(gd).display;\n",
              "        if (!display || display === 'none') {{\n",
              "            console.log([gd, 'removed!']);\n",
              "            Plotly.purge(gd);\n",
              "            observer.disconnect();\n",
              "        }}\n",
              "}});\n",
              "\n",
              "// Listen for the removal of the full notebook cells\n",
              "var notebookContainer = gd.closest('#notebook-container');\n",
              "if (notebookContainer) {{\n",
              "    x.observe(notebookContainer, {childList: true});\n",
              "}}\n",
              "\n",
              "// Listen for the clearing of the current output cell\n",
              "var outputEl = gd.closest('.output');\n",
              "if (outputEl) {{\n",
              "    x.observe(outputEl, {childList: true});\n",
              "}}\n",
              "\n",
              "                        })\n",
              "                };\n",
              "                \n",
              "            </script>\n",
              "        </div>\n",
              "</body>\n",
              "</html>"
            ]
          },
          "metadata": {
            "tags": []
          }
        },
        {
          "output_type": "display_data",
          "data": {
            "text/html": [
              "<html>\n",
              "<head><meta charset=\"utf-8\" /></head>\n",
              "<body>\n",
              "    <div>\n",
              "            <script src=\"https://cdnjs.cloudflare.com/ajax/libs/mathjax/2.7.5/MathJax.js?config=TeX-AMS-MML_SVG\"></script><script type=\"text/javascript\">if (window.MathJax) {MathJax.Hub.Config({SVG: {font: \"STIX-Web\"}});}</script>\n",
              "                <script type=\"text/javascript\">window.PlotlyConfig = {MathJaxConfig: 'local'};</script>\n",
              "        <script src=\"https://cdn.plot.ly/plotly-latest.min.js\"></script>    \n",
              "            <div id=\"b9a267b8-e821-4f56-9fcd-02f52f01b18d\" class=\"plotly-graph-div\" style=\"height:525px; width:100%;\"></div>\n",
              "            <script type=\"text/javascript\">\n",
              "                \n",
              "                    window.PLOTLYENV=window.PLOTLYENV || {};\n",
              "                    \n",
              "                if (document.getElementById(\"b9a267b8-e821-4f56-9fcd-02f52f01b18d\")) {\n",
              "                    Plotly.newPlot(\n",
              "                        'b9a267b8-e821-4f56-9fcd-02f52f01b18d',\n",
              "                        [{\"coloraxis\": \"coloraxis\", \"geo\": \"geo\", \"hovertemplate\": \"state=%{location}<br>2nd gen language persistence in hispanics=%{z}<extra></extra>\", \"locationmode\": \"USA-states\", \"locations\": [\"CA\", \"NY\", \"IL\", \"FL\", \"TX\", \"AZ\", \"DC\", \"CO\", \"NV\", \"NM\", \"NJ\", \"GA\", \"PA\", \"MA\", \"UT\", \"OR\", \"MI\"], \"name\": \"\", \"type\": \"choropleth\", \"z\": [87.025, 79.8, 88.8, 78.24, 86.78999999999999, 83.5, 84.60000000000001, 83.2, 89.2, 74.2, 81.95000000000002, 77.1, 74.5, 83.8, 76.4, 79.0, 73.0]}],\n",
              "                        {\"coloraxis\": {\"cmax\": 90, \"cmin\": 30, \"colorbar\": {\"title\": {\"text\": \"2nd gen language persistence in hispanics\"}}, \"colorscale\": [[0.0, \"#440154\"], [0.1111111111111111, \"#482878\"], [0.2222222222222222, \"#3e4989\"], [0.3333333333333333, \"#31688e\"], [0.4444444444444444, \"#26828e\"], [0.5555555555555556, \"#1f9e89\"], [0.6666666666666666, \"#35b779\"], [0.7777777777777778, \"#6ece58\"], [0.8888888888888888, \"#b5de2b\"], [1.0, \"#fde725\"]]}, \"geo\": {\"center\": {}, \"domain\": {\"x\": [0.0, 1.0], \"y\": [0.0, 1.0]}, \"scope\": \"usa\"}, \"legend\": {\"tracegroupgap\": 0}, \"margin\": {\"t\": 60}, \"template\": {\"data\": {\"bar\": [{\"error_x\": {\"color\": \"#2a3f5f\"}, \"error_y\": {\"color\": \"#2a3f5f\"}, \"marker\": {\"line\": {\"color\": \"#E5ECF6\", \"width\": 0.5}}, \"type\": \"bar\"}], \"barpolar\": [{\"marker\": {\"line\": {\"color\": \"#E5ECF6\", \"width\": 0.5}}, \"type\": \"barpolar\"}], \"carpet\": [{\"aaxis\": {\"endlinecolor\": \"#2a3f5f\", \"gridcolor\": \"white\", \"linecolor\": \"white\", \"minorgridcolor\": \"white\", \"startlinecolor\": \"#2a3f5f\"}, \"baxis\": {\"endlinecolor\": \"#2a3f5f\", \"gridcolor\": \"white\", \"linecolor\": \"white\", \"minorgridcolor\": \"white\", \"startlinecolor\": \"#2a3f5f\"}, \"type\": \"carpet\"}], \"choropleth\": [{\"colorbar\": {\"outlinewidth\": 0, \"ticks\": \"\"}, \"type\": \"choropleth\"}], \"contour\": [{\"colorbar\": {\"outlinewidth\": 0, \"ticks\": \"\"}, \"colorscale\": [[0.0, \"#0d0887\"], [0.1111111111111111, \"#46039f\"], [0.2222222222222222, \"#7201a8\"], [0.3333333333333333, \"#9c179e\"], [0.4444444444444444, \"#bd3786\"], [0.5555555555555556, \"#d8576b\"], [0.6666666666666666, \"#ed7953\"], [0.7777777777777778, \"#fb9f3a\"], [0.8888888888888888, \"#fdca26\"], [1.0, \"#f0f921\"]], \"type\": \"contour\"}], \"contourcarpet\": [{\"colorbar\": {\"outlinewidth\": 0, \"ticks\": \"\"}, \"type\": \"contourcarpet\"}], \"heatmap\": [{\"colorbar\": {\"outlinewidth\": 0, \"ticks\": \"\"}, \"colorscale\": [[0.0, \"#0d0887\"], [0.1111111111111111, \"#46039f\"], [0.2222222222222222, \"#7201a8\"], [0.3333333333333333, \"#9c179e\"], [0.4444444444444444, \"#bd3786\"], [0.5555555555555556, \"#d8576b\"], [0.6666666666666666, \"#ed7953\"], [0.7777777777777778, \"#fb9f3a\"], [0.8888888888888888, \"#fdca26\"], [1.0, \"#f0f921\"]], \"type\": \"heatmap\"}], \"heatmapgl\": [{\"colorbar\": {\"outlinewidth\": 0, \"ticks\": \"\"}, \"colorscale\": [[0.0, \"#0d0887\"], [0.1111111111111111, \"#46039f\"], [0.2222222222222222, \"#7201a8\"], [0.3333333333333333, \"#9c179e\"], [0.4444444444444444, \"#bd3786\"], [0.5555555555555556, \"#d8576b\"], [0.6666666666666666, \"#ed7953\"], [0.7777777777777778, \"#fb9f3a\"], [0.8888888888888888, \"#fdca26\"], [1.0, \"#f0f921\"]], \"type\": \"heatmapgl\"}], \"histogram\": [{\"marker\": {\"colorbar\": {\"outlinewidth\": 0, \"ticks\": \"\"}}, \"type\": \"histogram\"}], \"histogram2d\": [{\"colorbar\": {\"outlinewidth\": 0, \"ticks\": \"\"}, \"colorscale\": [[0.0, \"#0d0887\"], [0.1111111111111111, \"#46039f\"], [0.2222222222222222, \"#7201a8\"], [0.3333333333333333, \"#9c179e\"], [0.4444444444444444, \"#bd3786\"], [0.5555555555555556, \"#d8576b\"], [0.6666666666666666, \"#ed7953\"], [0.7777777777777778, \"#fb9f3a\"], [0.8888888888888888, \"#fdca26\"], [1.0, \"#f0f921\"]], \"type\": \"histogram2d\"}], \"histogram2dcontour\": [{\"colorbar\": {\"outlinewidth\": 0, \"ticks\": \"\"}, \"colorscale\": [[0.0, \"#0d0887\"], [0.1111111111111111, \"#46039f\"], [0.2222222222222222, \"#7201a8\"], [0.3333333333333333, \"#9c179e\"], [0.4444444444444444, \"#bd3786\"], [0.5555555555555556, \"#d8576b\"], [0.6666666666666666, \"#ed7953\"], [0.7777777777777778, \"#fb9f3a\"], [0.8888888888888888, \"#fdca26\"], [1.0, \"#f0f921\"]], \"type\": \"histogram2dcontour\"}], \"mesh3d\": [{\"colorbar\": {\"outlinewidth\": 0, \"ticks\": \"\"}, \"type\": \"mesh3d\"}], \"parcoords\": [{\"line\": {\"colorbar\": {\"outlinewidth\": 0, \"ticks\": \"\"}}, \"type\": \"parcoords\"}], \"pie\": [{\"automargin\": true, \"type\": \"pie\"}], \"scatter\": [{\"marker\": {\"colorbar\": {\"outlinewidth\": 0, \"ticks\": \"\"}}, \"type\": \"scatter\"}], \"scatter3d\": [{\"line\": {\"colorbar\": {\"outlinewidth\": 0, \"ticks\": \"\"}}, \"marker\": {\"colorbar\": {\"outlinewidth\": 0, \"ticks\": \"\"}}, \"type\": \"scatter3d\"}], \"scattercarpet\": [{\"marker\": {\"colorbar\": {\"outlinewidth\": 0, \"ticks\": \"\"}}, \"type\": \"scattercarpet\"}], \"scattergeo\": [{\"marker\": {\"colorbar\": {\"outlinewidth\": 0, \"ticks\": \"\"}}, \"type\": \"scattergeo\"}], \"scattergl\": [{\"marker\": {\"colorbar\": {\"outlinewidth\": 0, \"ticks\": \"\"}}, \"type\": \"scattergl\"}], \"scattermapbox\": [{\"marker\": {\"colorbar\": {\"outlinewidth\": 0, \"ticks\": \"\"}}, \"type\": \"scattermapbox\"}], \"scatterpolar\": [{\"marker\": {\"colorbar\": {\"outlinewidth\": 0, \"ticks\": \"\"}}, \"type\": \"scatterpolar\"}], \"scatterpolargl\": [{\"marker\": {\"colorbar\": {\"outlinewidth\": 0, \"ticks\": \"\"}}, \"type\": \"scatterpolargl\"}], \"scatterternary\": [{\"marker\": {\"colorbar\": {\"outlinewidth\": 0, \"ticks\": \"\"}}, \"type\": \"scatterternary\"}], \"surface\": [{\"colorbar\": {\"outlinewidth\": 0, \"ticks\": \"\"}, \"colorscale\": [[0.0, \"#0d0887\"], [0.1111111111111111, \"#46039f\"], [0.2222222222222222, \"#7201a8\"], [0.3333333333333333, \"#9c179e\"], [0.4444444444444444, \"#bd3786\"], [0.5555555555555556, \"#d8576b\"], [0.6666666666666666, \"#ed7953\"], [0.7777777777777778, \"#fb9f3a\"], [0.8888888888888888, \"#fdca26\"], [1.0, \"#f0f921\"]], \"type\": \"surface\"}], \"table\": [{\"cells\": {\"fill\": {\"color\": \"#EBF0F8\"}, \"line\": {\"color\": \"white\"}}, \"header\": {\"fill\": {\"color\": \"#C8D4E3\"}, \"line\": {\"color\": \"white\"}}, \"type\": \"table\"}]}, \"layout\": {\"annotationdefaults\": {\"arrowcolor\": \"#2a3f5f\", \"arrowhead\": 0, \"arrowwidth\": 1}, \"coloraxis\": {\"colorbar\": {\"outlinewidth\": 0, \"ticks\": \"\"}}, \"colorscale\": {\"diverging\": [[0, \"#8e0152\"], [0.1, \"#c51b7d\"], [0.2, \"#de77ae\"], [0.3, \"#f1b6da\"], [0.4, \"#fde0ef\"], [0.5, \"#f7f7f7\"], [0.6, \"#e6f5d0\"], [0.7, \"#b8e186\"], [0.8, \"#7fbc41\"], [0.9, \"#4d9221\"], [1, \"#276419\"]], \"sequential\": [[0.0, \"#0d0887\"], [0.1111111111111111, \"#46039f\"], [0.2222222222222222, \"#7201a8\"], [0.3333333333333333, \"#9c179e\"], [0.4444444444444444, \"#bd3786\"], [0.5555555555555556, \"#d8576b\"], [0.6666666666666666, \"#ed7953\"], [0.7777777777777778, \"#fb9f3a\"], [0.8888888888888888, \"#fdca26\"], [1.0, \"#f0f921\"]], \"sequentialminus\": [[0.0, \"#0d0887\"], [0.1111111111111111, \"#46039f\"], [0.2222222222222222, \"#7201a8\"], [0.3333333333333333, \"#9c179e\"], [0.4444444444444444, \"#bd3786\"], [0.5555555555555556, \"#d8576b\"], [0.6666666666666666, \"#ed7953\"], [0.7777777777777778, \"#fb9f3a\"], [0.8888888888888888, \"#fdca26\"], [1.0, \"#f0f921\"]]}, \"colorway\": [\"#636efa\", \"#EF553B\", \"#00cc96\", \"#ab63fa\", \"#FFA15A\", \"#19d3f3\", \"#FF6692\", \"#B6E880\", \"#FF97FF\", \"#FECB52\"], \"font\": {\"color\": \"#2a3f5f\"}, \"geo\": {\"bgcolor\": \"white\", \"lakecolor\": \"white\", \"landcolor\": \"#E5ECF6\", \"showlakes\": true, \"showland\": true, \"subunitcolor\": \"white\"}, \"hoverlabel\": {\"align\": \"left\"}, \"hovermode\": \"closest\", \"mapbox\": {\"style\": \"light\"}, \"paper_bgcolor\": \"white\", \"plot_bgcolor\": \"#E5ECF6\", \"polar\": {\"angularaxis\": {\"gridcolor\": \"white\", \"linecolor\": \"white\", \"ticks\": \"\"}, \"bgcolor\": \"#E5ECF6\", \"radialaxis\": {\"gridcolor\": \"white\", \"linecolor\": \"white\", \"ticks\": \"\"}}, \"scene\": {\"xaxis\": {\"backgroundcolor\": \"#E5ECF6\", \"gridcolor\": \"white\", \"gridwidth\": 2, \"linecolor\": \"white\", \"showbackground\": true, \"ticks\": \"\", \"zerolinecolor\": \"white\"}, \"yaxis\": {\"backgroundcolor\": \"#E5ECF6\", \"gridcolor\": \"white\", \"gridwidth\": 2, \"linecolor\": \"white\", \"showbackground\": true, \"ticks\": \"\", \"zerolinecolor\": \"white\"}, \"zaxis\": {\"backgroundcolor\": \"#E5ECF6\", \"gridcolor\": \"white\", \"gridwidth\": 2, \"linecolor\": \"white\", \"showbackground\": true, \"ticks\": \"\", \"zerolinecolor\": \"white\"}}, \"shapedefaults\": {\"line\": {\"color\": \"#2a3f5f\"}}, \"ternary\": {\"aaxis\": {\"gridcolor\": \"white\", \"linecolor\": \"white\", \"ticks\": \"\"}, \"baxis\": {\"gridcolor\": \"white\", \"linecolor\": \"white\", \"ticks\": \"\"}, \"bgcolor\": \"#E5ECF6\", \"caxis\": {\"gridcolor\": \"white\", \"linecolor\": \"white\", \"ticks\": \"\"}}, \"title\": {\"x\": 0.05}, \"xaxis\": {\"automargin\": true, \"gridcolor\": \"white\", \"linecolor\": \"white\", \"ticks\": \"\", \"title\": {\"standoff\": 15}, \"zerolinecolor\": \"white\", \"zerolinewidth\": 2}, \"yaxis\": {\"automargin\": true, \"gridcolor\": \"white\", \"linecolor\": \"white\", \"ticks\": \"\", \"title\": {\"standoff\": 15}, \"zerolinecolor\": \"white\", \"zerolinewidth\": 2}}}},\n",
              "                        {\"responsive\": true}\n",
              "                    ).then(function(){\n",
              "                            \n",
              "var gd = document.getElementById('b9a267b8-e821-4f56-9fcd-02f52f01b18d');\n",
              "var x = new MutationObserver(function (mutations, observer) {{\n",
              "        var display = window.getComputedStyle(gd).display;\n",
              "        if (!display || display === 'none') {{\n",
              "            console.log([gd, 'removed!']);\n",
              "            Plotly.purge(gd);\n",
              "            observer.disconnect();\n",
              "        }}\n",
              "}});\n",
              "\n",
              "// Listen for the removal of the full notebook cells\n",
              "var notebookContainer = gd.closest('#notebook-container');\n",
              "if (notebookContainer) {{\n",
              "    x.observe(notebookContainer, {childList: true});\n",
              "}}\n",
              "\n",
              "// Listen for the clearing of the current output cell\n",
              "var outputEl = gd.closest('.output');\n",
              "if (outputEl) {{\n",
              "    x.observe(outputEl, {childList: true});\n",
              "}}\n",
              "\n",
              "                        })\n",
              "                };\n",
              "                \n",
              "            </script>\n",
              "        </div>\n",
              "</body>\n",
              "</html>"
            ]
          },
          "metadata": {
            "tags": []
          }
        }
      ]
    },
    {
      "cell_type": "markdown",
      "metadata": {
        "id": "DmyZOfyC_7KN",
        "colab_type": "text"
      },
      "source": [
        "In the following analysis, the three bar graphs show individual Asian and Hispanic ethnicitices (x axis) and percent (y axis) for different levels of English proficiency. The top graph shows English exclusive. The middle shows English proficient. The last shows English not proficient."
      ]
    },
    {
      "cell_type": "code",
      "metadata": {
        "id": "S_l0KCDuZnTp",
        "colab_type": "code",
        "outputId": "5b10c9b5-1abc-4007-baa8-484dfe28b734",
        "colab": {
          "base_uri": "https://localhost:8080/",
          "height": 1000
        }
      },
      "source": [
        "overall_language['numpercent'] = overall_language['Percent'].map(lambda per: float(per))\n",
        "\n",
        "pruned_overall_language = overall_language[overall_language['numpercent'] != 0]\n",
        "\n",
        "english_only_ethnicities = pruned_overall_language[pruned_overall_language['Proficiency'] == 'English Only']\n",
        "english_well_ethnicities = pruned_overall_language[pruned_overall_language['Proficiency'] == 'English Well']\n",
        "english_not_well_ethnicities = pruned_overall_language[pruned_overall_language['Proficiency'] == 'English Not Well']\n",
        "\n",
        "fig_eoe = px.bar(english_only_ethnicities, x='Generation', y='numpercent', title=\"English-exclusive speakers per generation\", color='Ethnicity', barmode='group')\n",
        "fig_eoe.show();\n",
        "fig_ewe = px.bar(english_well_ethnicities, x='Generation', y='numpercent', title=\"English-proficient speakers per generation\", color='Ethnicity', barmode='group')\n",
        "fig_ewe.show();\n",
        "fig_enwe = px.bar(english_not_well_ethnicities, x='Generation', y='numpercent', title=\"English-not proficient speakers per generation\", color='Ethnicity', barmode='group')\n",
        "fig_enwe.show();"
      ],
      "execution_count": 0,
      "outputs": [
        {
          "output_type": "display_data",
          "data": {
            "text/html": [
              "<html>\n",
              "<head><meta charset=\"utf-8\" /></head>\n",
              "<body>\n",
              "    <div>\n",
              "            <script src=\"https://cdnjs.cloudflare.com/ajax/libs/mathjax/2.7.5/MathJax.js?config=TeX-AMS-MML_SVG\"></script><script type=\"text/javascript\">if (window.MathJax) {MathJax.Hub.Config({SVG: {font: \"STIX-Web\"}});}</script>\n",
              "                <script type=\"text/javascript\">window.PlotlyConfig = {MathJaxConfig: 'local'};</script>\n",
              "        <script src=\"https://cdn.plot.ly/plotly-latest.min.js\"></script>    \n",
              "            <div id=\"470f8842-7eea-414d-812e-e2c91c1b7185\" class=\"plotly-graph-div\" style=\"height:525px; width:100%;\"></div>\n",
              "            <script type=\"text/javascript\">\n",
              "                \n",
              "                    window.PLOTLYENV=window.PLOTLYENV || {};\n",
              "                    \n",
              "                if (document.getElementById(\"470f8842-7eea-414d-812e-e2c91c1b7185\")) {\n",
              "                    Plotly.newPlot(\n",
              "                        '470f8842-7eea-414d-812e-e2c91c1b7185',\n",
              "                        [{\"alignmentgroup\": \"True\", \"hovertemplate\": \"Ethnicity=Hispanics<br>Generation=%{x}<br>numpercent=%{y}<extra></extra>\", \"legendgroup\": \"Hispanics\", \"marker\": {\"color\": \"#636efa\"}, \"name\": \"Hispanics\", \"offsetgroup\": \"Hispanics\", \"orientation\": \"v\", \"showlegend\": true, \"textposition\": \"auto\", \"type\": \"bar\", \"x\": [1, 2, 3], \"xaxis\": \"x\", \"y\": [6.1, 14.6, 71.7], \"yaxis\": \"y\"}, {\"alignmentgroup\": \"True\", \"hovertemplate\": \"Ethnicity=Mexicans<br>Generation=%{x}<br>numpercent=%{y}<extra></extra>\", \"legendgroup\": \"Mexicans\", \"marker\": {\"color\": \"#EF553B\"}, \"name\": \"Mexicans\", \"offsetgroup\": \"Mexicans\", \"orientation\": \"v\", \"showlegend\": true, \"textposition\": \"auto\", \"type\": \"bar\", \"x\": [1, 2, 3], \"xaxis\": \"x\", \"y\": [5.1, 11.1, 71.2], \"yaxis\": \"y\"}, {\"alignmentgroup\": \"True\", \"hovertemplate\": \"Ethnicity=Ricans<br>Generation=%{x}<br>numpercent=%{y}<extra></extra>\", \"legendgroup\": \"Ricans\", \"marker\": {\"color\": \"#00cc96\"}, \"name\": \"Ricans\", \"offsetgroup\": \"Ricans\", \"orientation\": \"v\", \"showlegend\": true, \"textposition\": \"auto\", \"type\": \"bar\", \"x\": [1, 2, 3], \"xaxis\": \"x\", \"y\": [11.6, 28.9, 61.9], \"yaxis\": \"y\"}, {\"alignmentgroup\": \"True\", \"hovertemplate\": \"Ethnicity=Cubans<br>Generation=%{x}<br>numpercent=%{y}<extra></extra>\", \"legendgroup\": \"Cubans\", \"marker\": {\"color\": \"#ab63fa\"}, \"name\": \"Cubans\", \"offsetgroup\": \"Cubans\", \"orientation\": \"v\", \"showlegend\": true, \"textposition\": \"auto\", \"type\": \"bar\", \"x\": [1, 2, 3], \"xaxis\": \"x\", \"y\": [5.5, 26.5, 67.9], \"yaxis\": \"y\"}, {\"alignmentgroup\": \"True\", \"hovertemplate\": \"Ethnicity=Dominicans<br>Generation=%{x}<br>numpercent=%{y}<extra></extra>\", \"legendgroup\": \"Dominicans\", \"marker\": {\"color\": \"#FFA15A\"}, \"name\": \"Dominicans\", \"offsetgroup\": \"Dominicans\", \"orientation\": \"v\", \"showlegend\": true, \"textposition\": \"auto\", \"type\": \"bar\", \"x\": [1, 2, 3], \"xaxis\": \"x\", \"y\": [5.6, 9.7, 43.7], \"yaxis\": \"y\"}, {\"alignmentgroup\": \"True\", \"hovertemplate\": \"Ethnicity=Salvadorans<br>Generation=%{x}<br>numpercent=%{y}<extra></extra>\", \"legendgroup\": \"Salvadorans\", \"marker\": {\"color\": \"#19d3f3\"}, \"name\": \"Salvadorans\", \"offsetgroup\": \"Salvadorans\", \"orientation\": \"v\", \"showlegend\": true, \"textposition\": \"auto\", \"type\": \"bar\", \"x\": [1, 2, 3], \"xaxis\": \"x\", \"y\": [3.1, 7.3, 66.4], \"yaxis\": \"y\"}, {\"alignmentgroup\": \"True\", \"hovertemplate\": \"Ethnicity=Colombians<br>Generation=%{x}<br>numpercent=%{y}<extra></extra>\", \"legendgroup\": \"Colombians\", \"marker\": {\"color\": \"#FF6692\"}, \"name\": \"Colombians\", \"offsetgroup\": \"Colombians\", \"orientation\": \"v\", \"showlegend\": true, \"textposition\": \"auto\", \"type\": \"bar\", \"x\": [1, 2, 3], \"xaxis\": \"x\", \"y\": [4.0, 17.2, 61.1], \"yaxis\": \"y\"}, {\"alignmentgroup\": \"True\", \"hovertemplate\": \"Ethnicity=Guatemalans<br>Generation=%{x}<br>numpercent=%{y}<extra></extra>\", \"legendgroup\": \"Guatemalans\", \"marker\": {\"color\": \"#B6E880\"}, \"name\": \"Guatemalans\", \"offsetgroup\": \"Guatemalans\", \"orientation\": \"v\", \"showlegend\": true, \"textposition\": \"auto\", \"type\": \"bar\", \"x\": [1, 2, 3], \"xaxis\": \"x\", \"y\": [1.8, 10.9, 70.8], \"yaxis\": \"y\"}, {\"alignmentgroup\": \"True\", \"hovertemplate\": \"Ethnicity=Ecuadorians<br>Generation=%{x}<br>numpercent=%{y}<extra></extra>\", \"legendgroup\": \"Ecuadorians\", \"marker\": {\"color\": \"#FF97FF\"}, \"name\": \"Ecuadorians\", \"offsetgroup\": \"Ecuadorians\", \"orientation\": \"v\", \"showlegend\": true, \"textposition\": \"auto\", \"type\": \"bar\", \"x\": [1, 2, 3], \"xaxis\": \"x\", \"y\": [4.3, 16.0, 60.4], \"yaxis\": \"y\"}, {\"alignmentgroup\": \"True\", \"hovertemplate\": \"Ethnicity=Peruvians<br>Generation=%{x}<br>numpercent=%{y}<extra></extra>\", \"legendgroup\": \"Peruvians\", \"marker\": {\"color\": \"#FECB52\"}, \"name\": \"Peruvians\", \"offsetgroup\": \"Peruvians\", \"orientation\": \"v\", \"showlegend\": true, \"textposition\": \"auto\", \"type\": \"bar\", \"x\": [1, 2, 3], \"xaxis\": \"x\", \"y\": [4.3, 20.8, 78.1], \"yaxis\": \"y\"}, {\"alignmentgroup\": \"True\", \"hovertemplate\": \"Ethnicity=Hondurans<br>Generation=%{x}<br>numpercent=%{y}<extra></extra>\", \"legendgroup\": \"Hondurans\", \"marker\": {\"color\": \"#636efa\"}, \"name\": \"Hondurans\", \"offsetgroup\": \"Hondurans\", \"orientation\": \"v\", \"showlegend\": true, \"textposition\": \"auto\", \"type\": \"bar\", \"x\": [1, 2, 3], \"xaxis\": \"x\", \"y\": [5.9, 14.7, 75.5], \"yaxis\": \"y\"}, {\"alignmentgroup\": \"True\", \"hovertemplate\": \"Ethnicity=Asians<br>Generation=%{x}<br>numpercent=%{y}<extra></extra>\", \"legendgroup\": \"Asians\", \"marker\": {\"color\": \"#EF553B\"}, \"name\": \"Asians\", \"offsetgroup\": \"Asians\", \"orientation\": \"v\", \"showlegend\": true, \"textposition\": \"auto\", \"type\": \"bar\", \"x\": [1, 2, 3], \"xaxis\": \"x\", \"y\": [17.9, 39.3, 92.2], \"yaxis\": \"y\"}, {\"alignmentgroup\": \"True\", \"hovertemplate\": \"Ethnicity=Chinese<br>Generation=%{x}<br>numpercent=%{y}<extra></extra>\", \"legendgroup\": \"Chinese\", \"marker\": {\"color\": \"#00cc96\"}, \"name\": \"Chinese\", \"offsetgroup\": \"Chinese\", \"orientation\": \"v\", \"showlegend\": true, \"textposition\": \"auto\", \"type\": \"bar\", \"x\": [1, 2, 3], \"xaxis\": \"x\", \"y\": [7.8, 26.0, 91.0], \"yaxis\": \"y\"}, {\"alignmentgroup\": \"True\", \"hovertemplate\": \"Ethnicity=Filipinos<br>Generation=%{x}<br>numpercent=%{y}<extra></extra>\", \"legendgroup\": \"Filipinos\", \"marker\": {\"color\": \"#ab63fa\"}, \"name\": \"Filipinos\", \"offsetgroup\": \"Filipinos\", \"orientation\": \"v\", \"showlegend\": true, \"textposition\": \"auto\", \"type\": \"bar\", \"x\": [1, 2, 3], \"xaxis\": \"x\", \"y\": [39.9, 76.3, 93.6], \"yaxis\": \"y\"}, {\"alignmentgroup\": \"True\", \"hovertemplate\": \"Ethnicity=Indians<br>Generation=%{x}<br>numpercent=%{y}<extra></extra>\", \"legendgroup\": \"Indians\", \"marker\": {\"color\": \"#FFA15A\"}, \"name\": \"Indians\", \"offsetgroup\": \"Indians\", \"orientation\": \"v\", \"showlegend\": true, \"textposition\": \"auto\", \"type\": \"bar\", \"x\": [1, 2, 3], \"xaxis\": \"x\", \"y\": [23.7, 40.0, 90.6], \"yaxis\": \"y\"}, {\"alignmentgroup\": \"True\", \"hovertemplate\": \"Ethnicity=Koreans<br>Generation=%{x}<br>numpercent=%{y}<extra></extra>\", \"legendgroup\": \"Koreans\", \"marker\": {\"color\": \"#19d3f3\"}, \"name\": \"Koreans\", \"offsetgroup\": \"Koreans\", \"orientation\": \"v\", \"showlegend\": true, \"textposition\": \"auto\", \"type\": \"bar\", \"x\": [1, 2, 3], \"xaxis\": \"x\", \"y\": [16.9, 31.9, 93.3], \"yaxis\": \"y\"}, {\"alignmentgroup\": \"True\", \"hovertemplate\": \"Ethnicity=Vietnamese<br>Generation=%{x}<br>numpercent=%{y}<extra></extra>\", \"legendgroup\": \"Vietnamese\", \"marker\": {\"color\": \"#FF6692\"}, \"name\": \"Vietnamese\", \"offsetgroup\": \"Vietnamese\", \"orientation\": \"v\", \"showlegend\": true, \"textposition\": \"auto\", \"type\": \"bar\", \"x\": [1, 2, 3], \"xaxis\": \"x\", \"y\": [4.1, 18.2, 80.6], \"yaxis\": \"y\"}, {\"alignmentgroup\": \"True\", \"hovertemplate\": \"Ethnicity=Japanese<br>Generation=%{x}<br>numpercent=%{y}<extra></extra>\", \"legendgroup\": \"Japanese\", \"marker\": {\"color\": \"#B6E880\"}, \"name\": \"Japanese\", \"offsetgroup\": \"Japanese\", \"orientation\": \"v\", \"showlegend\": true, \"textposition\": \"auto\", \"type\": \"bar\", \"x\": [1, 2, 3], \"xaxis\": \"x\", \"y\": [14.8, 64.5, 95.2], \"yaxis\": \"y\"}, {\"alignmentgroup\": \"True\", \"hovertemplate\": \"Ethnicity=Cambodians<br>Generation=%{x}<br>numpercent=%{y}<extra></extra>\", \"legendgroup\": \"Cambodians\", \"marker\": {\"color\": \"#FF97FF\"}, \"name\": \"Cambodians\", \"offsetgroup\": \"Cambodians\", \"orientation\": \"v\", \"showlegend\": true, \"textposition\": \"auto\", \"type\": \"bar\", \"x\": [1, 2], \"xaxis\": \"x\", \"y\": [9.5, 17.0], \"yaxis\": \"y\"}, {\"alignmentgroup\": \"True\", \"hovertemplate\": \"Ethnicity=Pakistanis<br>Generation=%{x}<br>numpercent=%{y}<extra></extra>\", \"legendgroup\": \"Pakistanis\", \"marker\": {\"color\": \"#FECB52\"}, \"name\": \"Pakistanis\", \"offsetgroup\": \"Pakistanis\", \"orientation\": \"v\", \"showlegend\": true, \"textposition\": \"auto\", \"type\": \"bar\", \"x\": [1, 2, 3], \"xaxis\": \"x\", \"y\": [6.9, 24.9, 82.7], \"yaxis\": \"y\"}, {\"alignmentgroup\": \"True\", \"hovertemplate\": \"Ethnicity=Laotians<br>Generation=%{x}<br>numpercent=%{y}<extra></extra>\", \"legendgroup\": \"Laotians\", \"marker\": {\"color\": \"#636efa\"}, \"name\": \"Laotians\", \"offsetgroup\": \"Laotians\", \"orientation\": \"v\", \"showlegend\": true, \"textposition\": \"auto\", \"type\": \"bar\", \"x\": [1, 2, 3], \"xaxis\": \"x\", \"y\": [6.9, 15.3, 77.0], \"yaxis\": \"y\"}, {\"alignmentgroup\": \"True\", \"hovertemplate\": \"Ethnicity=Hmongs<br>Generation=%{x}<br>numpercent=%{y}<extra></extra>\", \"legendgroup\": \"Hmongs\", \"marker\": {\"color\": \"#EF553B\"}, \"name\": \"Hmongs\", \"offsetgroup\": \"Hmongs\", \"orientation\": \"v\", \"showlegend\": true, \"textposition\": \"auto\", \"type\": \"bar\", \"x\": [1, 2], \"xaxis\": \"x\", \"y\": [2.8, 5.9], \"yaxis\": \"y\"}],\n",
              "                        {\"barmode\": \"group\", \"legend\": {\"title\": {\"text\": \"Ethnicity\"}, \"tracegroupgap\": 0}, \"template\": {\"data\": {\"bar\": [{\"error_x\": {\"color\": \"#2a3f5f\"}, \"error_y\": {\"color\": \"#2a3f5f\"}, \"marker\": {\"line\": {\"color\": \"#E5ECF6\", \"width\": 0.5}}, \"type\": \"bar\"}], \"barpolar\": [{\"marker\": {\"line\": {\"color\": \"#E5ECF6\", \"width\": 0.5}}, \"type\": \"barpolar\"}], \"carpet\": [{\"aaxis\": {\"endlinecolor\": \"#2a3f5f\", \"gridcolor\": \"white\", \"linecolor\": \"white\", \"minorgridcolor\": \"white\", \"startlinecolor\": \"#2a3f5f\"}, \"baxis\": {\"endlinecolor\": \"#2a3f5f\", \"gridcolor\": \"white\", \"linecolor\": \"white\", \"minorgridcolor\": \"white\", \"startlinecolor\": \"#2a3f5f\"}, \"type\": \"carpet\"}], \"choropleth\": [{\"colorbar\": {\"outlinewidth\": 0, \"ticks\": \"\"}, \"type\": \"choropleth\"}], \"contour\": [{\"colorbar\": {\"outlinewidth\": 0, \"ticks\": \"\"}, \"colorscale\": [[0.0, \"#0d0887\"], [0.1111111111111111, \"#46039f\"], [0.2222222222222222, \"#7201a8\"], [0.3333333333333333, \"#9c179e\"], [0.4444444444444444, \"#bd3786\"], [0.5555555555555556, \"#d8576b\"], [0.6666666666666666, \"#ed7953\"], [0.7777777777777778, \"#fb9f3a\"], [0.8888888888888888, \"#fdca26\"], [1.0, \"#f0f921\"]], \"type\": \"contour\"}], \"contourcarpet\": [{\"colorbar\": {\"outlinewidth\": 0, \"ticks\": \"\"}, \"type\": \"contourcarpet\"}], \"heatmap\": [{\"colorbar\": {\"outlinewidth\": 0, \"ticks\": \"\"}, \"colorscale\": [[0.0, \"#0d0887\"], [0.1111111111111111, \"#46039f\"], [0.2222222222222222, \"#7201a8\"], [0.3333333333333333, \"#9c179e\"], [0.4444444444444444, \"#bd3786\"], [0.5555555555555556, \"#d8576b\"], [0.6666666666666666, \"#ed7953\"], [0.7777777777777778, \"#fb9f3a\"], [0.8888888888888888, \"#fdca26\"], [1.0, \"#f0f921\"]], \"type\": \"heatmap\"}], \"heatmapgl\": [{\"colorbar\": {\"outlinewidth\": 0, \"ticks\": \"\"}, \"colorscale\": [[0.0, \"#0d0887\"], [0.1111111111111111, \"#46039f\"], [0.2222222222222222, \"#7201a8\"], [0.3333333333333333, \"#9c179e\"], [0.4444444444444444, \"#bd3786\"], [0.5555555555555556, \"#d8576b\"], [0.6666666666666666, \"#ed7953\"], [0.7777777777777778, \"#fb9f3a\"], [0.8888888888888888, \"#fdca26\"], [1.0, \"#f0f921\"]], \"type\": \"heatmapgl\"}], \"histogram\": [{\"marker\": {\"colorbar\": {\"outlinewidth\": 0, \"ticks\": \"\"}}, \"type\": \"histogram\"}], \"histogram2d\": [{\"colorbar\": {\"outlinewidth\": 0, \"ticks\": \"\"}, \"colorscale\": [[0.0, \"#0d0887\"], [0.1111111111111111, \"#46039f\"], [0.2222222222222222, \"#7201a8\"], [0.3333333333333333, \"#9c179e\"], [0.4444444444444444, \"#bd3786\"], [0.5555555555555556, \"#d8576b\"], [0.6666666666666666, \"#ed7953\"], [0.7777777777777778, \"#fb9f3a\"], [0.8888888888888888, \"#fdca26\"], [1.0, \"#f0f921\"]], \"type\": \"histogram2d\"}], \"histogram2dcontour\": [{\"colorbar\": {\"outlinewidth\": 0, \"ticks\": \"\"}, \"colorscale\": [[0.0, \"#0d0887\"], [0.1111111111111111, \"#46039f\"], [0.2222222222222222, \"#7201a8\"], [0.3333333333333333, \"#9c179e\"], [0.4444444444444444, \"#bd3786\"], [0.5555555555555556, \"#d8576b\"], [0.6666666666666666, \"#ed7953\"], [0.7777777777777778, \"#fb9f3a\"], [0.8888888888888888, \"#fdca26\"], [1.0, \"#f0f921\"]], \"type\": \"histogram2dcontour\"}], \"mesh3d\": [{\"colorbar\": {\"outlinewidth\": 0, \"ticks\": \"\"}, \"type\": \"mesh3d\"}], \"parcoords\": [{\"line\": {\"colorbar\": {\"outlinewidth\": 0, \"ticks\": \"\"}}, \"type\": \"parcoords\"}], \"pie\": [{\"automargin\": true, \"type\": \"pie\"}], \"scatter\": [{\"marker\": {\"colorbar\": {\"outlinewidth\": 0, \"ticks\": \"\"}}, \"type\": \"scatter\"}], \"scatter3d\": [{\"line\": {\"colorbar\": {\"outlinewidth\": 0, \"ticks\": \"\"}}, \"marker\": {\"colorbar\": {\"outlinewidth\": 0, \"ticks\": \"\"}}, \"type\": \"scatter3d\"}], \"scattercarpet\": [{\"marker\": {\"colorbar\": {\"outlinewidth\": 0, \"ticks\": \"\"}}, \"type\": \"scattercarpet\"}], \"scattergeo\": [{\"marker\": {\"colorbar\": {\"outlinewidth\": 0, \"ticks\": \"\"}}, \"type\": \"scattergeo\"}], \"scattergl\": [{\"marker\": {\"colorbar\": {\"outlinewidth\": 0, \"ticks\": \"\"}}, \"type\": \"scattergl\"}], \"scattermapbox\": [{\"marker\": {\"colorbar\": {\"outlinewidth\": 0, \"ticks\": \"\"}}, \"type\": \"scattermapbox\"}], \"scatterpolar\": [{\"marker\": {\"colorbar\": {\"outlinewidth\": 0, \"ticks\": \"\"}}, \"type\": \"scatterpolar\"}], \"scatterpolargl\": [{\"marker\": {\"colorbar\": {\"outlinewidth\": 0, \"ticks\": \"\"}}, \"type\": \"scatterpolargl\"}], \"scatterternary\": [{\"marker\": {\"colorbar\": {\"outlinewidth\": 0, \"ticks\": \"\"}}, \"type\": \"scatterternary\"}], \"surface\": [{\"colorbar\": {\"outlinewidth\": 0, \"ticks\": \"\"}, \"colorscale\": [[0.0, \"#0d0887\"], [0.1111111111111111, \"#46039f\"], [0.2222222222222222, \"#7201a8\"], [0.3333333333333333, \"#9c179e\"], [0.4444444444444444, \"#bd3786\"], [0.5555555555555556, \"#d8576b\"], [0.6666666666666666, \"#ed7953\"], [0.7777777777777778, \"#fb9f3a\"], [0.8888888888888888, \"#fdca26\"], [1.0, \"#f0f921\"]], \"type\": \"surface\"}], \"table\": [{\"cells\": {\"fill\": {\"color\": \"#EBF0F8\"}, \"line\": {\"color\": \"white\"}}, \"header\": {\"fill\": {\"color\": \"#C8D4E3\"}, \"line\": {\"color\": \"white\"}}, \"type\": \"table\"}]}, \"layout\": {\"annotationdefaults\": {\"arrowcolor\": \"#2a3f5f\", \"arrowhead\": 0, \"arrowwidth\": 1}, \"coloraxis\": {\"colorbar\": {\"outlinewidth\": 0, \"ticks\": \"\"}}, \"colorscale\": {\"diverging\": [[0, \"#8e0152\"], [0.1, \"#c51b7d\"], [0.2, \"#de77ae\"], [0.3, \"#f1b6da\"], [0.4, \"#fde0ef\"], [0.5, \"#f7f7f7\"], [0.6, \"#e6f5d0\"], [0.7, \"#b8e186\"], [0.8, \"#7fbc41\"], [0.9, \"#4d9221\"], [1, \"#276419\"]], \"sequential\": [[0.0, \"#0d0887\"], [0.1111111111111111, \"#46039f\"], [0.2222222222222222, \"#7201a8\"], [0.3333333333333333, \"#9c179e\"], [0.4444444444444444, \"#bd3786\"], [0.5555555555555556, \"#d8576b\"], [0.6666666666666666, \"#ed7953\"], [0.7777777777777778, \"#fb9f3a\"], [0.8888888888888888, \"#fdca26\"], [1.0, \"#f0f921\"]], \"sequentialminus\": [[0.0, \"#0d0887\"], [0.1111111111111111, \"#46039f\"], [0.2222222222222222, \"#7201a8\"], [0.3333333333333333, \"#9c179e\"], [0.4444444444444444, \"#bd3786\"], [0.5555555555555556, \"#d8576b\"], [0.6666666666666666, \"#ed7953\"], [0.7777777777777778, \"#fb9f3a\"], [0.8888888888888888, \"#fdca26\"], [1.0, \"#f0f921\"]]}, \"colorway\": [\"#636efa\", \"#EF553B\", \"#00cc96\", \"#ab63fa\", \"#FFA15A\", \"#19d3f3\", \"#FF6692\", \"#B6E880\", \"#FF97FF\", \"#FECB52\"], \"font\": {\"color\": \"#2a3f5f\"}, \"geo\": {\"bgcolor\": \"white\", \"lakecolor\": \"white\", \"landcolor\": \"#E5ECF6\", \"showlakes\": true, \"showland\": true, \"subunitcolor\": \"white\"}, \"hoverlabel\": {\"align\": \"left\"}, \"hovermode\": \"closest\", \"mapbox\": {\"style\": \"light\"}, \"paper_bgcolor\": \"white\", \"plot_bgcolor\": \"#E5ECF6\", \"polar\": {\"angularaxis\": {\"gridcolor\": \"white\", \"linecolor\": \"white\", \"ticks\": \"\"}, \"bgcolor\": \"#E5ECF6\", \"radialaxis\": {\"gridcolor\": \"white\", \"linecolor\": \"white\", \"ticks\": \"\"}}, \"scene\": {\"xaxis\": {\"backgroundcolor\": \"#E5ECF6\", \"gridcolor\": \"white\", \"gridwidth\": 2, \"linecolor\": \"white\", \"showbackground\": true, \"ticks\": \"\", \"zerolinecolor\": \"white\"}, \"yaxis\": {\"backgroundcolor\": \"#E5ECF6\", \"gridcolor\": \"white\", \"gridwidth\": 2, \"linecolor\": \"white\", \"showbackground\": true, \"ticks\": \"\", \"zerolinecolor\": \"white\"}, \"zaxis\": {\"backgroundcolor\": \"#E5ECF6\", \"gridcolor\": \"white\", \"gridwidth\": 2, \"linecolor\": \"white\", \"showbackground\": true, \"ticks\": \"\", \"zerolinecolor\": \"white\"}}, \"shapedefaults\": {\"line\": {\"color\": \"#2a3f5f\"}}, \"ternary\": {\"aaxis\": {\"gridcolor\": \"white\", \"linecolor\": \"white\", \"ticks\": \"\"}, \"baxis\": {\"gridcolor\": \"white\", \"linecolor\": \"white\", \"ticks\": \"\"}, \"bgcolor\": \"#E5ECF6\", \"caxis\": {\"gridcolor\": \"white\", \"linecolor\": \"white\", \"ticks\": \"\"}}, \"title\": {\"x\": 0.05}, \"xaxis\": {\"automargin\": true, \"gridcolor\": \"white\", \"linecolor\": \"white\", \"ticks\": \"\", \"title\": {\"standoff\": 15}, \"zerolinecolor\": \"white\", \"zerolinewidth\": 2}, \"yaxis\": {\"automargin\": true, \"gridcolor\": \"white\", \"linecolor\": \"white\", \"ticks\": \"\", \"title\": {\"standoff\": 15}, \"zerolinecolor\": \"white\", \"zerolinewidth\": 2}}}, \"title\": {\"text\": \"English-exclusive speakers per generation\"}, \"xaxis\": {\"anchor\": \"y\", \"domain\": [0.0, 1.0], \"title\": {\"text\": \"Generation\"}}, \"yaxis\": {\"anchor\": \"x\", \"domain\": [0.0, 1.0], \"title\": {\"text\": \"numpercent\"}}},\n",
              "                        {\"responsive\": true}\n",
              "                    ).then(function(){\n",
              "                            \n",
              "var gd = document.getElementById('470f8842-7eea-414d-812e-e2c91c1b7185');\n",
              "var x = new MutationObserver(function (mutations, observer) {{\n",
              "        var display = window.getComputedStyle(gd).display;\n",
              "        if (!display || display === 'none') {{\n",
              "            console.log([gd, 'removed!']);\n",
              "            Plotly.purge(gd);\n",
              "            observer.disconnect();\n",
              "        }}\n",
              "}});\n",
              "\n",
              "// Listen for the removal of the full notebook cells\n",
              "var notebookContainer = gd.closest('#notebook-container');\n",
              "if (notebookContainer) {{\n",
              "    x.observe(notebookContainer, {childList: true});\n",
              "}}\n",
              "\n",
              "// Listen for the clearing of the current output cell\n",
              "var outputEl = gd.closest('.output');\n",
              "if (outputEl) {{\n",
              "    x.observe(outputEl, {childList: true});\n",
              "}}\n",
              "\n",
              "                        })\n",
              "                };\n",
              "                \n",
              "            </script>\n",
              "        </div>\n",
              "</body>\n",
              "</html>"
            ]
          },
          "metadata": {
            "tags": []
          }
        },
        {
          "output_type": "display_data",
          "data": {
            "text/html": [
              "<html>\n",
              "<head><meta charset=\"utf-8\" /></head>\n",
              "<body>\n",
              "    <div>\n",
              "            <script src=\"https://cdnjs.cloudflare.com/ajax/libs/mathjax/2.7.5/MathJax.js?config=TeX-AMS-MML_SVG\"></script><script type=\"text/javascript\">if (window.MathJax) {MathJax.Hub.Config({SVG: {font: \"STIX-Web\"}});}</script>\n",
              "                <script type=\"text/javascript\">window.PlotlyConfig = {MathJaxConfig: 'local'};</script>\n",
              "        <script src=\"https://cdn.plot.ly/plotly-latest.min.js\"></script>    \n",
              "            <div id=\"5f68ee2a-6a56-4843-a0c6-a9597bc194f0\" class=\"plotly-graph-div\" style=\"height:525px; width:100%;\"></div>\n",
              "            <script type=\"text/javascript\">\n",
              "                \n",
              "                    window.PLOTLYENV=window.PLOTLYENV || {};\n",
              "                    \n",
              "                if (document.getElementById(\"5f68ee2a-6a56-4843-a0c6-a9597bc194f0\")) {\n",
              "                    Plotly.newPlot(\n",
              "                        '5f68ee2a-6a56-4843-a0c6-a9597bc194f0',\n",
              "                        [{\"alignmentgroup\": \"True\", \"hovertemplate\": \"Ethnicity=Hispanics<br>Generation=%{x}<br>numpercent=%{y}<extra></extra>\", \"legendgroup\": \"Hispanics\", \"marker\": {\"color\": \"#636efa\"}, \"name\": \"Hispanics\", \"offsetgroup\": \"Hispanics\", \"orientation\": \"v\", \"showlegend\": true, \"textposition\": \"auto\", \"type\": \"bar\", \"x\": [1, 2, 3], \"xaxis\": \"x\", \"y\": [74.5, 77.7, 25.4], \"yaxis\": \"y\"}, {\"alignmentgroup\": \"True\", \"hovertemplate\": \"Ethnicity=Mexicans<br>Generation=%{x}<br>numpercent=%{y}<extra></extra>\", \"legendgroup\": \"Mexicans\", \"marker\": {\"color\": \"#EF553B\"}, \"name\": \"Mexicans\", \"offsetgroup\": \"Mexicans\", \"orientation\": \"v\", \"showlegend\": true, \"textposition\": \"auto\", \"type\": \"bar\", \"x\": [1, 2, 3], \"xaxis\": \"x\", \"y\": [73.8, 80.0, 25.8], \"yaxis\": \"y\"}, {\"alignmentgroup\": \"True\", \"hovertemplate\": \"Ethnicity=Ricans<br>Generation=%{x}<br>numpercent=%{y}<extra></extra>\", \"legendgroup\": \"Ricans\", \"marker\": {\"color\": \"#00cc96\"}, \"name\": \"Ricans\", \"offsetgroup\": \"Ricans\", \"orientation\": \"v\", \"showlegend\": true, \"textposition\": \"auto\", \"type\": \"bar\", \"x\": [1, 2, 3], \"xaxis\": \"x\", \"y\": [76.5, 65.1, 34.2], \"yaxis\": \"y\"}, {\"alignmentgroup\": \"True\", \"hovertemplate\": \"Ethnicity=Cubans<br>Generation=%{x}<br>numpercent=%{y}<extra></extra>\", \"legendgroup\": \"Cubans\", \"marker\": {\"color\": \"#ab63fa\"}, \"name\": \"Cubans\", \"offsetgroup\": \"Cubans\", \"orientation\": \"v\", \"showlegend\": true, \"textposition\": \"auto\", \"type\": \"bar\", \"x\": [1, 2, 3], \"xaxis\": \"x\", \"y\": [75.9, 70.0, 29.6], \"yaxis\": \"y\"}, {\"alignmentgroup\": \"True\", \"hovertemplate\": \"Ethnicity=Dominicans<br>Generation=%{x}<br>numpercent=%{y}<extra></extra>\", \"legendgroup\": \"Dominicans\", \"marker\": {\"color\": \"#FFA15A\"}, \"name\": \"Dominicans\", \"offsetgroup\": \"Dominicans\", \"orientation\": \"v\", \"showlegend\": true, \"textposition\": \"auto\", \"type\": \"bar\", \"x\": [1, 2, 3], \"xaxis\": \"x\", \"y\": [79.8, 85.2, 52.1], \"yaxis\": \"y\"}, {\"alignmentgroup\": \"True\", \"hovertemplate\": \"Ethnicity=Salvadorans<br>Generation=%{x}<br>numpercent=%{y}<extra></extra>\", \"legendgroup\": \"Salvadorans\", \"marker\": {\"color\": \"#19d3f3\"}, \"name\": \"Salvadorans\", \"offsetgroup\": \"Salvadorans\", \"orientation\": \"v\", \"showlegend\": true, \"textposition\": \"auto\", \"type\": \"bar\", \"x\": [1, 2, 3], \"xaxis\": \"x\", \"y\": [72.0, 86.5, 32.0], \"yaxis\": \"y\"}, {\"alignmentgroup\": \"True\", \"hovertemplate\": \"Ethnicity=Colombians<br>Generation=%{x}<br>numpercent=%{y}<extra></extra>\", \"legendgroup\": \"Colombians\", \"marker\": {\"color\": \"#FF6692\"}, \"name\": \"Colombians\", \"offsetgroup\": \"Colombians\", \"orientation\": \"v\", \"showlegend\": true, \"textposition\": \"auto\", \"type\": \"bar\", \"x\": [1, 2, 3], \"xaxis\": \"x\", \"y\": [78.9, 79.7, 37.3], \"yaxis\": \"y\"}, {\"alignmentgroup\": \"True\", \"hovertemplate\": \"Ethnicity=Guatemalans<br>Generation=%{x}<br>numpercent=%{y}<extra></extra>\", \"legendgroup\": \"Guatemalans\", \"marker\": {\"color\": \"#B6E880\"}, \"name\": \"Guatemalans\", \"offsetgroup\": \"Guatemalans\", \"orientation\": \"v\", \"showlegend\": true, \"textposition\": \"auto\", \"type\": \"bar\", \"x\": [1, 2, 3], \"xaxis\": \"x\", \"y\": [75.7, 82.9, 28.6], \"yaxis\": \"y\"}, {\"alignmentgroup\": \"True\", \"hovertemplate\": \"Ethnicity=Ecuadorians<br>Generation=%{x}<br>numpercent=%{y}<extra></extra>\", \"legendgroup\": \"Ecuadorians\", \"marker\": {\"color\": \"#FF97FF\"}, \"name\": \"Ecuadorians\", \"offsetgroup\": \"Ecuadorians\", \"orientation\": \"v\", \"showlegend\": true, \"textposition\": \"auto\", \"type\": \"bar\", \"x\": [1, 2, 3], \"xaxis\": \"x\", \"y\": [74.1, 81.2, 35.6], \"yaxis\": \"y\"}, {\"alignmentgroup\": \"True\", \"hovertemplate\": \"Ethnicity=Peruvians<br>Generation=%{x}<br>numpercent=%{y}<extra></extra>\", \"legendgroup\": \"Peruvians\", \"marker\": {\"color\": \"#FECB52\"}, \"name\": \"Peruvians\", \"offsetgroup\": \"Peruvians\", \"orientation\": \"v\", \"showlegend\": true, \"textposition\": \"auto\", \"type\": \"bar\", \"x\": [1, 2, 3], \"xaxis\": \"x\", \"y\": [84.0, 76.1, 20.9], \"yaxis\": \"y\"}, {\"alignmentgroup\": \"True\", \"hovertemplate\": \"Ethnicity=Hondurans<br>Generation=%{x}<br>numpercent=%{y}<extra></extra>\", \"legendgroup\": \"Hondurans\", \"marker\": {\"color\": \"#636efa\"}, \"name\": \"Hondurans\", \"offsetgroup\": \"Hondurans\", \"orientation\": \"v\", \"showlegend\": true, \"textposition\": \"auto\", \"type\": \"bar\", \"x\": [1, 2, 3], \"xaxis\": \"x\", \"y\": [72.8, 79.6, 23.6], \"yaxis\": \"y\"}, {\"alignmentgroup\": \"True\", \"hovertemplate\": \"Ethnicity=Asians<br>Generation=%{x}<br>numpercent=%{y}<extra></extra>\", \"legendgroup\": \"Asians\", \"marker\": {\"color\": \"#EF553B\"}, \"name\": \"Asians\", \"offsetgroup\": \"Asians\", \"orientation\": \"v\", \"showlegend\": true, \"textposition\": \"auto\", \"type\": \"bar\", \"x\": [1, 2, 3], \"xaxis\": \"x\", \"y\": [71.8, 56.5, 6.9], \"yaxis\": \"y\"}, {\"alignmentgroup\": \"True\", \"hovertemplate\": \"Ethnicity=Chinese<br>Generation=%{x}<br>numpercent=%{y}<extra></extra>\", \"legendgroup\": \"Chinese\", \"marker\": {\"color\": \"#00cc96\"}, \"name\": \"Chinese\", \"offsetgroup\": \"Chinese\", \"orientation\": \"v\", \"showlegend\": true, \"textposition\": \"auto\", \"type\": \"bar\", \"x\": [1, 2, 3], \"xaxis\": \"x\", \"y\": [80.1, 69.8, 8.0], \"yaxis\": \"y\"}, {\"alignmentgroup\": \"True\", \"hovertemplate\": \"Ethnicity=Filipinos<br>Generation=%{x}<br>numpercent=%{y}<extra></extra>\", \"legendgroup\": \"Filipinos\", \"marker\": {\"color\": \"#ab63fa\"}, \"name\": \"Filipinos\", \"offsetgroup\": \"Filipinos\", \"orientation\": \"v\", \"showlegend\": true, \"textposition\": \"auto\", \"type\": \"bar\", \"x\": [1, 2, 3], \"xaxis\": \"x\", \"y\": [56.0, 21.9, 5.6], \"yaxis\": \"y\"}, {\"alignmentgroup\": \"True\", \"hovertemplate\": \"Ethnicity=Indians<br>Generation=%{x}<br>numpercent=%{y}<extra></extra>\", \"legendgroup\": \"Indians\", \"marker\": {\"color\": \"#FFA15A\"}, \"name\": \"Indians\", \"offsetgroup\": \"Indians\", \"orientation\": \"v\", \"showlegend\": true, \"textposition\": \"auto\", \"type\": \"bar\", \"x\": [1, 2, 3], \"xaxis\": \"x\", \"y\": [71.8, 57.0, 8.9], \"yaxis\": \"y\"}, {\"alignmentgroup\": \"True\", \"hovertemplate\": \"Ethnicity=Koreans<br>Generation=%{x}<br>numpercent=%{y}<extra></extra>\", \"legendgroup\": \"Koreans\", \"marker\": {\"color\": \"#19d3f3\"}, \"name\": \"Koreans\", \"offsetgroup\": \"Koreans\", \"orientation\": \"v\", \"showlegend\": true, \"textposition\": \"auto\", \"type\": \"bar\", \"x\": [1, 2, 3], \"xaxis\": \"x\", \"y\": [67.2, 63.1, 5.5], \"yaxis\": \"y\"}, {\"alignmentgroup\": \"True\", \"hovertemplate\": \"Ethnicity=Vietnamese<br>Generation=%{x}<br>numpercent=%{y}<extra></extra>\", \"legendgroup\": \"Vietnamese\", \"marker\": {\"color\": \"#FF6692\"}, \"name\": \"Vietnamese\", \"offsetgroup\": \"Vietnamese\", \"orientation\": \"v\", \"showlegend\": true, \"textposition\": \"auto\", \"type\": \"bar\", \"x\": [1, 2, 3], \"xaxis\": \"x\", \"y\": [80.4, 75.4, 16.5], \"yaxis\": \"y\"}, {\"alignmentgroup\": \"True\", \"hovertemplate\": \"Ethnicity=Japanese<br>Generation=%{x}<br>numpercent=%{y}<extra></extra>\", \"legendgroup\": \"Japanese\", \"marker\": {\"color\": \"#B6E880\"}, \"name\": \"Japanese\", \"offsetgroup\": \"Japanese\", \"orientation\": \"v\", \"showlegend\": true, \"textposition\": \"auto\", \"type\": \"bar\", \"x\": [1, 2, 3], \"xaxis\": \"x\", \"y\": [61.0, 32.4, 4.2], \"yaxis\": \"y\"}, {\"alignmentgroup\": \"True\", \"hovertemplate\": \"Ethnicity=Cambodians<br>Generation=%{x}<br>numpercent=%{y}<extra></extra>\", \"legendgroup\": \"Cambodians\", \"marker\": {\"color\": \"#FF97FF\"}, \"name\": \"Cambodians\", \"offsetgroup\": \"Cambodians\", \"orientation\": \"v\", \"showlegend\": true, \"textposition\": \"auto\", \"type\": \"bar\", \"x\": [1, 2], \"xaxis\": \"x\", \"y\": [79.6, 74.4], \"yaxis\": \"y\"}, {\"alignmentgroup\": \"True\", \"hovertemplate\": \"Ethnicity=Pakistanis<br>Generation=%{x}<br>numpercent=%{y}<extra></extra>\", \"legendgroup\": \"Pakistanis\", \"marker\": {\"color\": \"#FECB52\"}, \"name\": \"Pakistanis\", \"offsetgroup\": \"Pakistanis\", \"orientation\": \"v\", \"showlegend\": true, \"textposition\": \"auto\", \"type\": \"bar\", \"x\": [1, 2, 3], \"xaxis\": \"x\", \"y\": [85.8, 72.7, 15.8], \"yaxis\": \"y\"}, {\"alignmentgroup\": \"True\", \"hovertemplate\": \"Ethnicity=Laotians<br>Generation=%{x}<br>numpercent=%{y}<extra></extra>\", \"legendgroup\": \"Laotians\", \"marker\": {\"color\": \"#636efa\"}, \"name\": \"Laotians\", \"offsetgroup\": \"Laotians\", \"orientation\": \"v\", \"showlegend\": true, \"textposition\": \"auto\", \"type\": \"bar\", \"x\": [1, 2, 3], \"xaxis\": \"x\", \"y\": [87.2, 77.5, 23.0], \"yaxis\": \"y\"}, {\"alignmentgroup\": \"True\", \"hovertemplate\": \"Ethnicity=Hmongs<br>Generation=%{x}<br>numpercent=%{y}<extra></extra>\", \"legendgroup\": \"Hmongs\", \"marker\": {\"color\": \"#EF553B\"}, \"name\": \"Hmongs\", \"offsetgroup\": \"Hmongs\", \"orientation\": \"v\", \"showlegend\": true, \"textposition\": \"auto\", \"type\": \"bar\", \"x\": [1, 2], \"xaxis\": \"x\", \"y\": [81.0, 81.2], \"yaxis\": \"y\"}],\n",
              "                        {\"barmode\": \"group\", \"legend\": {\"title\": {\"text\": \"Ethnicity\"}, \"tracegroupgap\": 0}, \"template\": {\"data\": {\"bar\": [{\"error_x\": {\"color\": \"#2a3f5f\"}, \"error_y\": {\"color\": \"#2a3f5f\"}, \"marker\": {\"line\": {\"color\": \"#E5ECF6\", \"width\": 0.5}}, \"type\": \"bar\"}], \"barpolar\": [{\"marker\": {\"line\": {\"color\": \"#E5ECF6\", \"width\": 0.5}}, \"type\": \"barpolar\"}], \"carpet\": [{\"aaxis\": {\"endlinecolor\": \"#2a3f5f\", \"gridcolor\": \"white\", \"linecolor\": \"white\", \"minorgridcolor\": \"white\", \"startlinecolor\": \"#2a3f5f\"}, \"baxis\": {\"endlinecolor\": \"#2a3f5f\", \"gridcolor\": \"white\", \"linecolor\": \"white\", \"minorgridcolor\": \"white\", \"startlinecolor\": \"#2a3f5f\"}, \"type\": \"carpet\"}], \"choropleth\": [{\"colorbar\": {\"outlinewidth\": 0, \"ticks\": \"\"}, \"type\": \"choropleth\"}], \"contour\": [{\"colorbar\": {\"outlinewidth\": 0, \"ticks\": \"\"}, \"colorscale\": [[0.0, \"#0d0887\"], [0.1111111111111111, \"#46039f\"], [0.2222222222222222, \"#7201a8\"], [0.3333333333333333, \"#9c179e\"], [0.4444444444444444, \"#bd3786\"], [0.5555555555555556, \"#d8576b\"], [0.6666666666666666, \"#ed7953\"], [0.7777777777777778, \"#fb9f3a\"], [0.8888888888888888, \"#fdca26\"], [1.0, \"#f0f921\"]], \"type\": \"contour\"}], \"contourcarpet\": [{\"colorbar\": {\"outlinewidth\": 0, \"ticks\": \"\"}, \"type\": \"contourcarpet\"}], \"heatmap\": [{\"colorbar\": {\"outlinewidth\": 0, \"ticks\": \"\"}, \"colorscale\": [[0.0, \"#0d0887\"], [0.1111111111111111, \"#46039f\"], [0.2222222222222222, \"#7201a8\"], [0.3333333333333333, \"#9c179e\"], [0.4444444444444444, \"#bd3786\"], [0.5555555555555556, \"#d8576b\"], [0.6666666666666666, \"#ed7953\"], [0.7777777777777778, \"#fb9f3a\"], [0.8888888888888888, \"#fdca26\"], [1.0, \"#f0f921\"]], \"type\": \"heatmap\"}], \"heatmapgl\": [{\"colorbar\": {\"outlinewidth\": 0, \"ticks\": \"\"}, \"colorscale\": [[0.0, \"#0d0887\"], [0.1111111111111111, \"#46039f\"], [0.2222222222222222, \"#7201a8\"], [0.3333333333333333, \"#9c179e\"], [0.4444444444444444, \"#bd3786\"], [0.5555555555555556, \"#d8576b\"], [0.6666666666666666, \"#ed7953\"], [0.7777777777777778, \"#fb9f3a\"], [0.8888888888888888, \"#fdca26\"], [1.0, \"#f0f921\"]], \"type\": \"heatmapgl\"}], \"histogram\": [{\"marker\": {\"colorbar\": {\"outlinewidth\": 0, \"ticks\": \"\"}}, \"type\": \"histogram\"}], \"histogram2d\": [{\"colorbar\": {\"outlinewidth\": 0, \"ticks\": \"\"}, \"colorscale\": [[0.0, \"#0d0887\"], [0.1111111111111111, \"#46039f\"], [0.2222222222222222, \"#7201a8\"], [0.3333333333333333, \"#9c179e\"], [0.4444444444444444, \"#bd3786\"], [0.5555555555555556, \"#d8576b\"], [0.6666666666666666, \"#ed7953\"], [0.7777777777777778, \"#fb9f3a\"], [0.8888888888888888, \"#fdca26\"], [1.0, \"#f0f921\"]], \"type\": \"histogram2d\"}], \"histogram2dcontour\": [{\"colorbar\": {\"outlinewidth\": 0, \"ticks\": \"\"}, \"colorscale\": [[0.0, \"#0d0887\"], [0.1111111111111111, \"#46039f\"], [0.2222222222222222, \"#7201a8\"], [0.3333333333333333, \"#9c179e\"], [0.4444444444444444, \"#bd3786\"], [0.5555555555555556, \"#d8576b\"], [0.6666666666666666, \"#ed7953\"], [0.7777777777777778, \"#fb9f3a\"], [0.8888888888888888, \"#fdca26\"], [1.0, \"#f0f921\"]], \"type\": \"histogram2dcontour\"}], \"mesh3d\": [{\"colorbar\": {\"outlinewidth\": 0, \"ticks\": \"\"}, \"type\": \"mesh3d\"}], \"parcoords\": [{\"line\": {\"colorbar\": {\"outlinewidth\": 0, \"ticks\": \"\"}}, \"type\": \"parcoords\"}], \"pie\": [{\"automargin\": true, \"type\": \"pie\"}], \"scatter\": [{\"marker\": {\"colorbar\": {\"outlinewidth\": 0, \"ticks\": \"\"}}, \"type\": \"scatter\"}], \"scatter3d\": [{\"line\": {\"colorbar\": {\"outlinewidth\": 0, \"ticks\": \"\"}}, \"marker\": {\"colorbar\": {\"outlinewidth\": 0, \"ticks\": \"\"}}, \"type\": \"scatter3d\"}], \"scattercarpet\": [{\"marker\": {\"colorbar\": {\"outlinewidth\": 0, \"ticks\": \"\"}}, \"type\": \"scattercarpet\"}], \"scattergeo\": [{\"marker\": {\"colorbar\": {\"outlinewidth\": 0, \"ticks\": \"\"}}, \"type\": \"scattergeo\"}], \"scattergl\": [{\"marker\": {\"colorbar\": {\"outlinewidth\": 0, \"ticks\": \"\"}}, \"type\": \"scattergl\"}], \"scattermapbox\": [{\"marker\": {\"colorbar\": {\"outlinewidth\": 0, \"ticks\": \"\"}}, \"type\": \"scattermapbox\"}], \"scatterpolar\": [{\"marker\": {\"colorbar\": {\"outlinewidth\": 0, \"ticks\": \"\"}}, \"type\": \"scatterpolar\"}], \"scatterpolargl\": [{\"marker\": {\"colorbar\": {\"outlinewidth\": 0, \"ticks\": \"\"}}, \"type\": \"scatterpolargl\"}], \"scatterternary\": [{\"marker\": {\"colorbar\": {\"outlinewidth\": 0, \"ticks\": \"\"}}, \"type\": \"scatterternary\"}], \"surface\": [{\"colorbar\": {\"outlinewidth\": 0, \"ticks\": \"\"}, \"colorscale\": [[0.0, \"#0d0887\"], [0.1111111111111111, \"#46039f\"], [0.2222222222222222, \"#7201a8\"], [0.3333333333333333, \"#9c179e\"], [0.4444444444444444, \"#bd3786\"], [0.5555555555555556, \"#d8576b\"], [0.6666666666666666, \"#ed7953\"], [0.7777777777777778, \"#fb9f3a\"], [0.8888888888888888, \"#fdca26\"], [1.0, \"#f0f921\"]], \"type\": \"surface\"}], \"table\": [{\"cells\": {\"fill\": {\"color\": \"#EBF0F8\"}, \"line\": {\"color\": \"white\"}}, \"header\": {\"fill\": {\"color\": \"#C8D4E3\"}, \"line\": {\"color\": \"white\"}}, \"type\": \"table\"}]}, \"layout\": {\"annotationdefaults\": {\"arrowcolor\": \"#2a3f5f\", \"arrowhead\": 0, \"arrowwidth\": 1}, \"coloraxis\": {\"colorbar\": {\"outlinewidth\": 0, \"ticks\": \"\"}}, \"colorscale\": {\"diverging\": [[0, \"#8e0152\"], [0.1, \"#c51b7d\"], [0.2, \"#de77ae\"], [0.3, \"#f1b6da\"], [0.4, \"#fde0ef\"], [0.5, \"#f7f7f7\"], [0.6, \"#e6f5d0\"], [0.7, \"#b8e186\"], [0.8, \"#7fbc41\"], [0.9, \"#4d9221\"], [1, \"#276419\"]], \"sequential\": [[0.0, \"#0d0887\"], [0.1111111111111111, \"#46039f\"], [0.2222222222222222, \"#7201a8\"], [0.3333333333333333, \"#9c179e\"], [0.4444444444444444, \"#bd3786\"], [0.5555555555555556, \"#d8576b\"], [0.6666666666666666, \"#ed7953\"], [0.7777777777777778, \"#fb9f3a\"], [0.8888888888888888, \"#fdca26\"], [1.0, \"#f0f921\"]], \"sequentialminus\": [[0.0, \"#0d0887\"], [0.1111111111111111, \"#46039f\"], [0.2222222222222222, \"#7201a8\"], [0.3333333333333333, \"#9c179e\"], [0.4444444444444444, \"#bd3786\"], [0.5555555555555556, \"#d8576b\"], [0.6666666666666666, \"#ed7953\"], [0.7777777777777778, \"#fb9f3a\"], [0.8888888888888888, \"#fdca26\"], [1.0, \"#f0f921\"]]}, \"colorway\": [\"#636efa\", \"#EF553B\", \"#00cc96\", \"#ab63fa\", \"#FFA15A\", \"#19d3f3\", \"#FF6692\", \"#B6E880\", \"#FF97FF\", \"#FECB52\"], \"font\": {\"color\": \"#2a3f5f\"}, \"geo\": {\"bgcolor\": \"white\", \"lakecolor\": \"white\", \"landcolor\": \"#E5ECF6\", \"showlakes\": true, \"showland\": true, \"subunitcolor\": \"white\"}, \"hoverlabel\": {\"align\": \"left\"}, \"hovermode\": \"closest\", \"mapbox\": {\"style\": \"light\"}, \"paper_bgcolor\": \"white\", \"plot_bgcolor\": \"#E5ECF6\", \"polar\": {\"angularaxis\": {\"gridcolor\": \"white\", \"linecolor\": \"white\", \"ticks\": \"\"}, \"bgcolor\": \"#E5ECF6\", \"radialaxis\": {\"gridcolor\": \"white\", \"linecolor\": \"white\", \"ticks\": \"\"}}, \"scene\": {\"xaxis\": {\"backgroundcolor\": \"#E5ECF6\", \"gridcolor\": \"white\", \"gridwidth\": 2, \"linecolor\": \"white\", \"showbackground\": true, \"ticks\": \"\", \"zerolinecolor\": \"white\"}, \"yaxis\": {\"backgroundcolor\": \"#E5ECF6\", \"gridcolor\": \"white\", \"gridwidth\": 2, \"linecolor\": \"white\", \"showbackground\": true, \"ticks\": \"\", \"zerolinecolor\": \"white\"}, \"zaxis\": {\"backgroundcolor\": \"#E5ECF6\", \"gridcolor\": \"white\", \"gridwidth\": 2, \"linecolor\": \"white\", \"showbackground\": true, \"ticks\": \"\", \"zerolinecolor\": \"white\"}}, \"shapedefaults\": {\"line\": {\"color\": \"#2a3f5f\"}}, \"ternary\": {\"aaxis\": {\"gridcolor\": \"white\", \"linecolor\": \"white\", \"ticks\": \"\"}, \"baxis\": {\"gridcolor\": \"white\", \"linecolor\": \"white\", \"ticks\": \"\"}, \"bgcolor\": \"#E5ECF6\", \"caxis\": {\"gridcolor\": \"white\", \"linecolor\": \"white\", \"ticks\": \"\"}}, \"title\": {\"x\": 0.05}, \"xaxis\": {\"automargin\": true, \"gridcolor\": \"white\", \"linecolor\": \"white\", \"ticks\": \"\", \"title\": {\"standoff\": 15}, \"zerolinecolor\": \"white\", \"zerolinewidth\": 2}, \"yaxis\": {\"automargin\": true, \"gridcolor\": \"white\", \"linecolor\": \"white\", \"ticks\": \"\", \"title\": {\"standoff\": 15}, \"zerolinecolor\": \"white\", \"zerolinewidth\": 2}}}, \"title\": {\"text\": \"English-proficient speakers per generation\"}, \"xaxis\": {\"anchor\": \"y\", \"domain\": [0.0, 1.0], \"title\": {\"text\": \"Generation\"}}, \"yaxis\": {\"anchor\": \"x\", \"domain\": [0.0, 1.0], \"title\": {\"text\": \"numpercent\"}}},\n",
              "                        {\"responsive\": true}\n",
              "                    ).then(function(){\n",
              "                            \n",
              "var gd = document.getElementById('5f68ee2a-6a56-4843-a0c6-a9597bc194f0');\n",
              "var x = new MutationObserver(function (mutations, observer) {{\n",
              "        var display = window.getComputedStyle(gd).display;\n",
              "        if (!display || display === 'none') {{\n",
              "            console.log([gd, 'removed!']);\n",
              "            Plotly.purge(gd);\n",
              "            observer.disconnect();\n",
              "        }}\n",
              "}});\n",
              "\n",
              "// Listen for the removal of the full notebook cells\n",
              "var notebookContainer = gd.closest('#notebook-container');\n",
              "if (notebookContainer) {{\n",
              "    x.observe(notebookContainer, {childList: true});\n",
              "}}\n",
              "\n",
              "// Listen for the clearing of the current output cell\n",
              "var outputEl = gd.closest('.output');\n",
              "if (outputEl) {{\n",
              "    x.observe(outputEl, {childList: true});\n",
              "}}\n",
              "\n",
              "                        })\n",
              "                };\n",
              "                \n",
              "            </script>\n",
              "        </div>\n",
              "</body>\n",
              "</html>"
            ]
          },
          "metadata": {
            "tags": []
          }
        },
        {
          "output_type": "display_data",
          "data": {
            "text/html": [
              "<html>\n",
              "<head><meta charset=\"utf-8\" /></head>\n",
              "<body>\n",
              "    <div>\n",
              "            <script src=\"https://cdnjs.cloudflare.com/ajax/libs/mathjax/2.7.5/MathJax.js?config=TeX-AMS-MML_SVG\"></script><script type=\"text/javascript\">if (window.MathJax) {MathJax.Hub.Config({SVG: {font: \"STIX-Web\"}});}</script>\n",
              "                <script type=\"text/javascript\">window.PlotlyConfig = {MathJaxConfig: 'local'};</script>\n",
              "        <script src=\"https://cdn.plot.ly/plotly-latest.min.js\"></script>    \n",
              "            <div id=\"9ad7fa72-49d9-4ece-824e-ca9e2769f71d\" class=\"plotly-graph-div\" style=\"height:525px; width:100%;\"></div>\n",
              "            <script type=\"text/javascript\">\n",
              "                \n",
              "                    window.PLOTLYENV=window.PLOTLYENV || {};\n",
              "                    \n",
              "                if (document.getElementById(\"9ad7fa72-49d9-4ece-824e-ca9e2769f71d\")) {\n",
              "                    Plotly.newPlot(\n",
              "                        '9ad7fa72-49d9-4ece-824e-ca9e2769f71d',\n",
              "                        [{\"alignmentgroup\": \"True\", \"hovertemplate\": \"Ethnicity=Hispanics<br>Generation=%{x}<br>numpercent=%{y}<extra></extra>\", \"legendgroup\": \"Hispanics\", \"marker\": {\"color\": \"#636efa\"}, \"name\": \"Hispanics\", \"offsetgroup\": \"Hispanics\", \"orientation\": \"v\", \"showlegend\": true, \"textposition\": \"auto\", \"type\": \"bar\", \"x\": [1, 2, 3], \"xaxis\": \"x\", \"y\": [19.4, 7.7, 2.9], \"yaxis\": \"y\"}, {\"alignmentgroup\": \"True\", \"hovertemplate\": \"Ethnicity=Mexicans<br>Generation=%{x}<br>numpercent=%{y}<extra></extra>\", \"legendgroup\": \"Mexicans\", \"marker\": {\"color\": \"#EF553B\"}, \"name\": \"Mexicans\", \"offsetgroup\": \"Mexicans\", \"orientation\": \"v\", \"showlegend\": true, \"textposition\": \"auto\", \"type\": \"bar\", \"x\": [1, 2, 3], \"xaxis\": \"x\", \"y\": [21.1, 8.9, 3.0], \"yaxis\": \"y\"}, {\"alignmentgroup\": \"True\", \"hovertemplate\": \"Ethnicity=Ricans<br>Generation=%{x}<br>numpercent=%{y}<extra></extra>\", \"legendgroup\": \"Ricans\", \"marker\": {\"color\": \"#00cc96\"}, \"name\": \"Ricans\", \"offsetgroup\": \"Ricans\", \"orientation\": \"v\", \"showlegend\": true, \"textposition\": \"auto\", \"type\": \"bar\", \"x\": [1, 2, 3], \"xaxis\": \"x\", \"y\": [11.9, 6.1, 3.9], \"yaxis\": \"y\"}, {\"alignmentgroup\": \"True\", \"hovertemplate\": \"Ethnicity=Cubans<br>Generation=%{x}<br>numpercent=%{y}<extra></extra>\", \"legendgroup\": \"Cubans\", \"marker\": {\"color\": \"#ab63fa\"}, \"name\": \"Cubans\", \"offsetgroup\": \"Cubans\", \"orientation\": \"v\", \"showlegend\": true, \"textposition\": \"auto\", \"type\": \"bar\", \"x\": [1, 2, 3], \"xaxis\": \"x\", \"y\": [18.6, 3.4, 2.5], \"yaxis\": \"y\"}, {\"alignmentgroup\": \"True\", \"hovertemplate\": \"Ethnicity=Dominicans<br>Generation=%{x}<br>numpercent=%{y}<extra></extra>\", \"legendgroup\": \"Dominicans\", \"marker\": {\"color\": \"#FFA15A\"}, \"name\": \"Dominicans\", \"offsetgroup\": \"Dominicans\", \"orientation\": \"v\", \"showlegend\": true, \"textposition\": \"auto\", \"type\": \"bar\", \"x\": [1, 2, 3], \"xaxis\": \"x\", \"y\": [14.6, 5.1, 4.2], \"yaxis\": \"y\"}, {\"alignmentgroup\": \"True\", \"hovertemplate\": \"Ethnicity=Salvadorans<br>Generation=%{x}<br>numpercent=%{y}<extra></extra>\", \"legendgroup\": \"Salvadorans\", \"marker\": {\"color\": \"#19d3f3\"}, \"name\": \"Salvadorans\", \"offsetgroup\": \"Salvadorans\", \"orientation\": \"v\", \"showlegend\": true, \"textposition\": \"auto\", \"type\": \"bar\", \"x\": [1, 2, 3], \"xaxis\": \"x\", \"y\": [24.8, 6.3, 1.7], \"yaxis\": \"y\"}, {\"alignmentgroup\": \"True\", \"hovertemplate\": \"Ethnicity=Colombians<br>Generation=%{x}<br>numpercent=%{y}<extra></extra>\", \"legendgroup\": \"Colombians\", \"marker\": {\"color\": \"#FF6692\"}, \"name\": \"Colombians\", \"offsetgroup\": \"Colombians\", \"orientation\": \"v\", \"showlegend\": true, \"textposition\": \"auto\", \"type\": \"bar\", \"x\": [1, 2, 3], \"xaxis\": \"x\", \"y\": [17.1, 3.1, 1.6], \"yaxis\": \"y\"}, {\"alignmentgroup\": \"True\", \"hovertemplate\": \"Ethnicity=Guatemalans<br>Generation=%{x}<br>numpercent=%{y}<extra></extra>\", \"legendgroup\": \"Guatemalans\", \"marker\": {\"color\": \"#B6E880\"}, \"name\": \"Guatemalans\", \"offsetgroup\": \"Guatemalans\", \"orientation\": \"v\", \"showlegend\": true, \"textposition\": \"auto\", \"type\": \"bar\", \"x\": [1, 2, 3], \"xaxis\": \"x\", \"y\": [22.4, 6.2, 0.6], \"yaxis\": \"y\"}, {\"alignmentgroup\": \"True\", \"hovertemplate\": \"Ethnicity=Ecuadorians<br>Generation=%{x}<br>numpercent=%{y}<extra></extra>\", \"legendgroup\": \"Ecuadorians\", \"marker\": {\"color\": \"#FF97FF\"}, \"name\": \"Ecuadorians\", \"offsetgroup\": \"Ecuadorians\", \"orientation\": \"v\", \"showlegend\": true, \"textposition\": \"auto\", \"type\": \"bar\", \"x\": [1, 2, 3], \"xaxis\": \"x\", \"y\": [21.6, 2.8, 4.0], \"yaxis\": \"y\"}, {\"alignmentgroup\": \"True\", \"hovertemplate\": \"Ethnicity=Peruvians<br>Generation=%{x}<br>numpercent=%{y}<extra></extra>\", \"legendgroup\": \"Peruvians\", \"marker\": {\"color\": \"#FECB52\"}, \"name\": \"Peruvians\", \"offsetgroup\": \"Peruvians\", \"orientation\": \"v\", \"showlegend\": true, \"textposition\": \"auto\", \"type\": \"bar\", \"x\": [1, 2, 3], \"xaxis\": \"x\", \"y\": [11.7, 3.1, 1.0], \"yaxis\": \"y\"}, {\"alignmentgroup\": \"True\", \"hovertemplate\": \"Ethnicity=Hondurans<br>Generation=%{x}<br>numpercent=%{y}<extra></extra>\", \"legendgroup\": \"Hondurans\", \"marker\": {\"color\": \"#636efa\"}, \"name\": \"Hondurans\", \"offsetgroup\": \"Hondurans\", \"orientation\": \"v\", \"showlegend\": true, \"textposition\": \"auto\", \"type\": \"bar\", \"x\": [1, 2, 3], \"xaxis\": \"x\", \"y\": [21.3, 5.7, 0.8], \"yaxis\": \"y\"}, {\"alignmentgroup\": \"True\", \"hovertemplate\": \"Ethnicity=Asians<br>Generation=%{x}<br>numpercent=%{y}<extra></extra>\", \"legendgroup\": \"Asians\", \"marker\": {\"color\": \"#EF553B\"}, \"name\": \"Asians\", \"offsetgroup\": \"Asians\", \"orientation\": \"v\", \"showlegend\": true, \"textposition\": \"auto\", \"type\": \"bar\", \"x\": [1, 2, 3], \"xaxis\": \"x\", \"y\": [10.3, 4.3, 0.9], \"yaxis\": \"y\"}, {\"alignmentgroup\": \"True\", \"hovertemplate\": \"Ethnicity=Chinese<br>Generation=%{x}<br>numpercent=%{y}<extra></extra>\", \"legendgroup\": \"Chinese\", \"marker\": {\"color\": \"#00cc96\"}, \"name\": \"Chinese\", \"offsetgroup\": \"Chinese\", \"orientation\": \"v\", \"showlegend\": true, \"textposition\": \"auto\", \"type\": \"bar\", \"x\": [1, 2, 3], \"xaxis\": \"x\", \"y\": [12.1, 4.2, 1.0], \"yaxis\": \"y\"}, {\"alignmentgroup\": \"True\", \"hovertemplate\": \"Ethnicity=Filipinos<br>Generation=%{x}<br>numpercent=%{y}<extra></extra>\", \"legendgroup\": \"Filipinos\", \"marker\": {\"color\": \"#ab63fa\"}, \"name\": \"Filipinos\", \"offsetgroup\": \"Filipinos\", \"orientation\": \"v\", \"showlegend\": true, \"textposition\": \"auto\", \"type\": \"bar\", \"x\": [1, 2, 3], \"xaxis\": \"x\", \"y\": [4.1, 1.9, 0.8], \"yaxis\": \"y\"}, {\"alignmentgroup\": \"True\", \"hovertemplate\": \"Ethnicity=Indians<br>Generation=%{x}<br>numpercent=%{y}<extra></extra>\", \"legendgroup\": \"Indians\", \"marker\": {\"color\": \"#FFA15A\"}, \"name\": \"Indians\", \"offsetgroup\": \"Indians\", \"orientation\": \"v\", \"showlegend\": true, \"textposition\": \"auto\", \"type\": \"bar\", \"x\": [1, 2, 3], \"xaxis\": \"x\", \"y\": [4.5, 3.0, 0.5], \"yaxis\": \"y\"}, {\"alignmentgroup\": \"True\", \"hovertemplate\": \"Ethnicity=Koreans<br>Generation=%{x}<br>numpercent=%{y}<extra></extra>\", \"legendgroup\": \"Koreans\", \"marker\": {\"color\": \"#19d3f3\"}, \"name\": \"Koreans\", \"offsetgroup\": \"Koreans\", \"orientation\": \"v\", \"showlegend\": true, \"textposition\": \"auto\", \"type\": \"bar\", \"x\": [1, 2, 3], \"xaxis\": \"x\", \"y\": [15.9, 5.0, 1.2], \"yaxis\": \"y\"}, {\"alignmentgroup\": \"True\", \"hovertemplate\": \"Ethnicity=Vietnamese<br>Generation=%{x}<br>numpercent=%{y}<extra></extra>\", \"legendgroup\": \"Vietnamese\", \"marker\": {\"color\": \"#FF6692\"}, \"name\": \"Vietnamese\", \"offsetgroup\": \"Vietnamese\", \"orientation\": \"v\", \"showlegend\": true, \"textposition\": \"auto\", \"type\": \"bar\", \"x\": [1, 2, 3], \"xaxis\": \"x\", \"y\": [15.5, 6.4, 2.8], \"yaxis\": \"y\"}, {\"alignmentgroup\": \"True\", \"hovertemplate\": \"Ethnicity=Japanese<br>Generation=%{x}<br>numpercent=%{y}<extra></extra>\", \"legendgroup\": \"Japanese\", \"marker\": {\"color\": \"#B6E880\"}, \"name\": \"Japanese\", \"offsetgroup\": \"Japanese\", \"orientation\": \"v\", \"showlegend\": true, \"textposition\": \"auto\", \"type\": \"bar\", \"x\": [1, 2, 3], \"xaxis\": \"x\", \"y\": [24.3, 3.1, 0.6], \"yaxis\": \"y\"}, {\"alignmentgroup\": \"True\", \"hovertemplate\": \"Ethnicity=Cambodians<br>Generation=%{x}<br>numpercent=%{y}<extra></extra>\", \"legendgroup\": \"Cambodians\", \"marker\": {\"color\": \"#FF97FF\"}, \"name\": \"Cambodians\", \"offsetgroup\": \"Cambodians\", \"orientation\": \"v\", \"showlegend\": true, \"textposition\": \"auto\", \"type\": \"bar\", \"x\": [1, 2], \"xaxis\": \"x\", \"y\": [10.9, 8.6], \"yaxis\": \"y\"}, {\"alignmentgroup\": \"True\", \"hovertemplate\": \"Ethnicity=Pakistanis<br>Generation=%{x}<br>numpercent=%{y}<extra></extra>\", \"legendgroup\": \"Pakistanis\", \"marker\": {\"color\": \"#FECB52\"}, \"name\": \"Pakistanis\", \"offsetgroup\": \"Pakistanis\", \"orientation\": \"v\", \"showlegend\": true, \"textposition\": \"auto\", \"type\": \"bar\", \"x\": [1, 2, 3], \"xaxis\": \"x\", \"y\": [7.3, 2.4, 1.6], \"yaxis\": \"y\"}, {\"alignmentgroup\": \"True\", \"hovertemplate\": \"Ethnicity=Laotians<br>Generation=%{x}<br>numpercent=%{y}<extra></extra>\", \"legendgroup\": \"Laotians\", \"marker\": {\"color\": \"#636efa\"}, \"name\": \"Laotians\", \"offsetgroup\": \"Laotians\", \"orientation\": \"v\", \"showlegend\": true, \"textposition\": \"auto\", \"type\": \"bar\", \"x\": [1, 2], \"xaxis\": \"x\", \"y\": [5.8, 7.2], \"yaxis\": \"y\"}, {\"alignmentgroup\": \"True\", \"hovertemplate\": \"Ethnicity=Hmongs<br>Generation=%{x}<br>numpercent=%{y}<extra></extra>\", \"legendgroup\": \"Hmongs\", \"marker\": {\"color\": \"#EF553B\"}, \"name\": \"Hmongs\", \"offsetgroup\": \"Hmongs\", \"orientation\": \"v\", \"showlegend\": true, \"textposition\": \"auto\", \"type\": \"bar\", \"x\": [1, 2], \"xaxis\": \"x\", \"y\": [16.2, 13.0], \"yaxis\": \"y\"}],\n",
              "                        {\"barmode\": \"group\", \"legend\": {\"title\": {\"text\": \"Ethnicity\"}, \"tracegroupgap\": 0}, \"template\": {\"data\": {\"bar\": [{\"error_x\": {\"color\": \"#2a3f5f\"}, \"error_y\": {\"color\": \"#2a3f5f\"}, \"marker\": {\"line\": {\"color\": \"#E5ECF6\", \"width\": 0.5}}, \"type\": \"bar\"}], \"barpolar\": [{\"marker\": {\"line\": {\"color\": \"#E5ECF6\", \"width\": 0.5}}, \"type\": \"barpolar\"}], \"carpet\": [{\"aaxis\": {\"endlinecolor\": \"#2a3f5f\", \"gridcolor\": \"white\", \"linecolor\": \"white\", \"minorgridcolor\": \"white\", \"startlinecolor\": \"#2a3f5f\"}, \"baxis\": {\"endlinecolor\": \"#2a3f5f\", \"gridcolor\": \"white\", \"linecolor\": \"white\", \"minorgridcolor\": \"white\", \"startlinecolor\": \"#2a3f5f\"}, \"type\": \"carpet\"}], \"choropleth\": [{\"colorbar\": {\"outlinewidth\": 0, \"ticks\": \"\"}, \"type\": \"choropleth\"}], \"contour\": [{\"colorbar\": {\"outlinewidth\": 0, \"ticks\": \"\"}, \"colorscale\": [[0.0, \"#0d0887\"], [0.1111111111111111, \"#46039f\"], [0.2222222222222222, \"#7201a8\"], [0.3333333333333333, \"#9c179e\"], [0.4444444444444444, \"#bd3786\"], [0.5555555555555556, \"#d8576b\"], [0.6666666666666666, \"#ed7953\"], [0.7777777777777778, \"#fb9f3a\"], [0.8888888888888888, \"#fdca26\"], [1.0, \"#f0f921\"]], \"type\": \"contour\"}], \"contourcarpet\": [{\"colorbar\": {\"outlinewidth\": 0, \"ticks\": \"\"}, \"type\": \"contourcarpet\"}], \"heatmap\": [{\"colorbar\": {\"outlinewidth\": 0, \"ticks\": \"\"}, \"colorscale\": [[0.0, \"#0d0887\"], [0.1111111111111111, \"#46039f\"], [0.2222222222222222, \"#7201a8\"], [0.3333333333333333, \"#9c179e\"], [0.4444444444444444, \"#bd3786\"], [0.5555555555555556, \"#d8576b\"], [0.6666666666666666, \"#ed7953\"], [0.7777777777777778, \"#fb9f3a\"], [0.8888888888888888, \"#fdca26\"], [1.0, \"#f0f921\"]], \"type\": \"heatmap\"}], \"heatmapgl\": [{\"colorbar\": {\"outlinewidth\": 0, \"ticks\": \"\"}, \"colorscale\": [[0.0, \"#0d0887\"], [0.1111111111111111, \"#46039f\"], [0.2222222222222222, \"#7201a8\"], [0.3333333333333333, \"#9c179e\"], [0.4444444444444444, \"#bd3786\"], [0.5555555555555556, \"#d8576b\"], [0.6666666666666666, \"#ed7953\"], [0.7777777777777778, \"#fb9f3a\"], [0.8888888888888888, \"#fdca26\"], [1.0, \"#f0f921\"]], \"type\": \"heatmapgl\"}], \"histogram\": [{\"marker\": {\"colorbar\": {\"outlinewidth\": 0, \"ticks\": \"\"}}, \"type\": \"histogram\"}], \"histogram2d\": [{\"colorbar\": {\"outlinewidth\": 0, \"ticks\": \"\"}, \"colorscale\": [[0.0, \"#0d0887\"], [0.1111111111111111, \"#46039f\"], [0.2222222222222222, \"#7201a8\"], [0.3333333333333333, \"#9c179e\"], [0.4444444444444444, \"#bd3786\"], [0.5555555555555556, \"#d8576b\"], [0.6666666666666666, \"#ed7953\"], [0.7777777777777778, \"#fb9f3a\"], [0.8888888888888888, \"#fdca26\"], [1.0, \"#f0f921\"]], \"type\": \"histogram2d\"}], \"histogram2dcontour\": [{\"colorbar\": {\"outlinewidth\": 0, \"ticks\": \"\"}, \"colorscale\": [[0.0, \"#0d0887\"], [0.1111111111111111, \"#46039f\"], [0.2222222222222222, \"#7201a8\"], [0.3333333333333333, \"#9c179e\"], [0.4444444444444444, \"#bd3786\"], [0.5555555555555556, \"#d8576b\"], [0.6666666666666666, \"#ed7953\"], [0.7777777777777778, \"#fb9f3a\"], [0.8888888888888888, \"#fdca26\"], [1.0, \"#f0f921\"]], \"type\": \"histogram2dcontour\"}], \"mesh3d\": [{\"colorbar\": {\"outlinewidth\": 0, \"ticks\": \"\"}, \"type\": \"mesh3d\"}], \"parcoords\": [{\"line\": {\"colorbar\": {\"outlinewidth\": 0, \"ticks\": \"\"}}, \"type\": \"parcoords\"}], \"pie\": [{\"automargin\": true, \"type\": \"pie\"}], \"scatter\": [{\"marker\": {\"colorbar\": {\"outlinewidth\": 0, \"ticks\": \"\"}}, \"type\": \"scatter\"}], \"scatter3d\": [{\"line\": {\"colorbar\": {\"outlinewidth\": 0, \"ticks\": \"\"}}, \"marker\": {\"colorbar\": {\"outlinewidth\": 0, \"ticks\": \"\"}}, \"type\": \"scatter3d\"}], \"scattercarpet\": [{\"marker\": {\"colorbar\": {\"outlinewidth\": 0, \"ticks\": \"\"}}, \"type\": \"scattercarpet\"}], \"scattergeo\": [{\"marker\": {\"colorbar\": {\"outlinewidth\": 0, \"ticks\": \"\"}}, \"type\": \"scattergeo\"}], \"scattergl\": [{\"marker\": {\"colorbar\": {\"outlinewidth\": 0, \"ticks\": \"\"}}, \"type\": \"scattergl\"}], \"scattermapbox\": [{\"marker\": {\"colorbar\": {\"outlinewidth\": 0, \"ticks\": \"\"}}, \"type\": \"scattermapbox\"}], \"scatterpolar\": [{\"marker\": {\"colorbar\": {\"outlinewidth\": 0, \"ticks\": \"\"}}, \"type\": \"scatterpolar\"}], \"scatterpolargl\": [{\"marker\": {\"colorbar\": {\"outlinewidth\": 0, \"ticks\": \"\"}}, \"type\": \"scatterpolargl\"}], \"scatterternary\": [{\"marker\": {\"colorbar\": {\"outlinewidth\": 0, \"ticks\": \"\"}}, \"type\": \"scatterternary\"}], \"surface\": [{\"colorbar\": {\"outlinewidth\": 0, \"ticks\": \"\"}, \"colorscale\": [[0.0, \"#0d0887\"], [0.1111111111111111, \"#46039f\"], [0.2222222222222222, \"#7201a8\"], [0.3333333333333333, \"#9c179e\"], [0.4444444444444444, \"#bd3786\"], [0.5555555555555556, \"#d8576b\"], [0.6666666666666666, \"#ed7953\"], [0.7777777777777778, \"#fb9f3a\"], [0.8888888888888888, \"#fdca26\"], [1.0, \"#f0f921\"]], \"type\": \"surface\"}], \"table\": [{\"cells\": {\"fill\": {\"color\": \"#EBF0F8\"}, \"line\": {\"color\": \"white\"}}, \"header\": {\"fill\": {\"color\": \"#C8D4E3\"}, \"line\": {\"color\": \"white\"}}, \"type\": \"table\"}]}, \"layout\": {\"annotationdefaults\": {\"arrowcolor\": \"#2a3f5f\", \"arrowhead\": 0, \"arrowwidth\": 1}, \"coloraxis\": {\"colorbar\": {\"outlinewidth\": 0, \"ticks\": \"\"}}, \"colorscale\": {\"diverging\": [[0, \"#8e0152\"], [0.1, \"#c51b7d\"], [0.2, \"#de77ae\"], [0.3, \"#f1b6da\"], [0.4, \"#fde0ef\"], [0.5, \"#f7f7f7\"], [0.6, \"#e6f5d0\"], [0.7, \"#b8e186\"], [0.8, \"#7fbc41\"], [0.9, \"#4d9221\"], [1, \"#276419\"]], \"sequential\": [[0.0, \"#0d0887\"], [0.1111111111111111, \"#46039f\"], [0.2222222222222222, \"#7201a8\"], [0.3333333333333333, \"#9c179e\"], [0.4444444444444444, \"#bd3786\"], [0.5555555555555556, \"#d8576b\"], [0.6666666666666666, \"#ed7953\"], [0.7777777777777778, \"#fb9f3a\"], [0.8888888888888888, \"#fdca26\"], [1.0, \"#f0f921\"]], \"sequentialminus\": [[0.0, \"#0d0887\"], [0.1111111111111111, \"#46039f\"], [0.2222222222222222, \"#7201a8\"], [0.3333333333333333, \"#9c179e\"], [0.4444444444444444, \"#bd3786\"], [0.5555555555555556, \"#d8576b\"], [0.6666666666666666, \"#ed7953\"], [0.7777777777777778, \"#fb9f3a\"], [0.8888888888888888, \"#fdca26\"], [1.0, \"#f0f921\"]]}, \"colorway\": [\"#636efa\", \"#EF553B\", \"#00cc96\", \"#ab63fa\", \"#FFA15A\", \"#19d3f3\", \"#FF6692\", \"#B6E880\", \"#FF97FF\", \"#FECB52\"], \"font\": {\"color\": \"#2a3f5f\"}, \"geo\": {\"bgcolor\": \"white\", \"lakecolor\": \"white\", \"landcolor\": \"#E5ECF6\", \"showlakes\": true, \"showland\": true, \"subunitcolor\": \"white\"}, \"hoverlabel\": {\"align\": \"left\"}, \"hovermode\": \"closest\", \"mapbox\": {\"style\": \"light\"}, \"paper_bgcolor\": \"white\", \"plot_bgcolor\": \"#E5ECF6\", \"polar\": {\"angularaxis\": {\"gridcolor\": \"white\", \"linecolor\": \"white\", \"ticks\": \"\"}, \"bgcolor\": \"#E5ECF6\", \"radialaxis\": {\"gridcolor\": \"white\", \"linecolor\": \"white\", \"ticks\": \"\"}}, \"scene\": {\"xaxis\": {\"backgroundcolor\": \"#E5ECF6\", \"gridcolor\": \"white\", \"gridwidth\": 2, \"linecolor\": \"white\", \"showbackground\": true, \"ticks\": \"\", \"zerolinecolor\": \"white\"}, \"yaxis\": {\"backgroundcolor\": \"#E5ECF6\", \"gridcolor\": \"white\", \"gridwidth\": 2, \"linecolor\": \"white\", \"showbackground\": true, \"ticks\": \"\", \"zerolinecolor\": \"white\"}, \"zaxis\": {\"backgroundcolor\": \"#E5ECF6\", \"gridcolor\": \"white\", \"gridwidth\": 2, \"linecolor\": \"white\", \"showbackground\": true, \"ticks\": \"\", \"zerolinecolor\": \"white\"}}, \"shapedefaults\": {\"line\": {\"color\": \"#2a3f5f\"}}, \"ternary\": {\"aaxis\": {\"gridcolor\": \"white\", \"linecolor\": \"white\", \"ticks\": \"\"}, \"baxis\": {\"gridcolor\": \"white\", \"linecolor\": \"white\", \"ticks\": \"\"}, \"bgcolor\": \"#E5ECF6\", \"caxis\": {\"gridcolor\": \"white\", \"linecolor\": \"white\", \"ticks\": \"\"}}, \"title\": {\"x\": 0.05}, \"xaxis\": {\"automargin\": true, \"gridcolor\": \"white\", \"linecolor\": \"white\", \"ticks\": \"\", \"title\": {\"standoff\": 15}, \"zerolinecolor\": \"white\", \"zerolinewidth\": 2}, \"yaxis\": {\"automargin\": true, \"gridcolor\": \"white\", \"linecolor\": \"white\", \"ticks\": \"\", \"title\": {\"standoff\": 15}, \"zerolinecolor\": \"white\", \"zerolinewidth\": 2}}}, \"title\": {\"text\": \"English-not proficient speakers per generation\"}, \"xaxis\": {\"anchor\": \"y\", \"domain\": [0.0, 1.0], \"title\": {\"text\": \"Generation\"}}, \"yaxis\": {\"anchor\": \"x\", \"domain\": [0.0, 1.0], \"title\": {\"text\": \"numpercent\"}}},\n",
              "                        {\"responsive\": true}\n",
              "                    ).then(function(){\n",
              "                            \n",
              "var gd = document.getElementById('9ad7fa72-49d9-4ece-824e-ca9e2769f71d');\n",
              "var x = new MutationObserver(function (mutations, observer) {{\n",
              "        var display = window.getComputedStyle(gd).display;\n",
              "        if (!display || display === 'none') {{\n",
              "            console.log([gd, 'removed!']);\n",
              "            Plotly.purge(gd);\n",
              "            observer.disconnect();\n",
              "        }}\n",
              "}});\n",
              "\n",
              "// Listen for the removal of the full notebook cells\n",
              "var notebookContainer = gd.closest('#notebook-container');\n",
              "if (notebookContainer) {{\n",
              "    x.observe(notebookContainer, {childList: true});\n",
              "}}\n",
              "\n",
              "// Listen for the clearing of the current output cell\n",
              "var outputEl = gd.closest('.output');\n",
              "if (outputEl) {{\n",
              "    x.observe(outputEl, {childList: true});\n",
              "}}\n",
              "\n",
              "                        })\n",
              "                };\n",
              "                \n",
              "            </script>\n",
              "        </div>\n",
              "</body>\n",
              "</html>"
            ]
          },
          "metadata": {
            "tags": []
          }
        }
      ]
    },
    {
      "cell_type": "markdown",
      "metadata": {
        "id": "iQc8ZElwAsyc",
        "colab_type": "text"
      },
      "source": [
        "# Interpretations and Conclusions"
      ]
    },
    {
      "cell_type": "markdown",
      "metadata": {
        "id": "TBKhuMB3HJSA",
        "colab_type": "text"
      },
      "source": [
        "We wanted to understand why third generation Asian immigrants had higher English proficiency than third generation Hispanic immigrants. We found that Asian immigrants had higher English Only scores than Hispanic immigrants in every generation. \n",
        "\n",
        "We examined if this had any geographical effect. When graphing location with second generation Asian immigrant mother tongue language persistance, we found that Wisconsin had a large retention compared to other states. On further investigation, we found that Wisconsin has a high Hmong population compared to other states.\n",
        "\n",
        "In contrast, Hispanic second generation language persistance was relatively homogenous between states compared to Asian language persistance. \n",
        "\n",
        "Finally, we examined individual Asian and Hispanic ethnicities and found that they vary greatly from the overall trends.\n",
        "\n",
        "For example, Japanese immigrants have a spike in English exclusive speakers in their second and third generation, while Vietnamese and Laotians spiked only in the third generation. \n",
        "\n",
        "Indian immigrants maintained relatively high levels of English exclusive speakers compared to Hispanic and Asian groups. In contrast, Dominican immigrants maintained relatively low levels of English exclusive speakers compared to Hispanic and Asian groups even at the third generation.\n",
        "\n",
        "In conclusion, Asian and Hispanic are broad categories that fit very different and diverse cultures within them. To understand the third generation shift, one must look at individual ethnicities rather than these broad labels."
      ]
    },
    {
      "cell_type": "markdown",
      "metadata": {
        "id": "9sODThklAyBZ",
        "colab_type": "text"
      },
      "source": [
        "# Future Directions"
      ]
    },
    {
      "cell_type": "markdown",
      "metadata": {
        "id": "qgWTYIFKLoLk",
        "colab_type": "text"
      },
      "source": [
        "We found many interesting trends within individual ethnicities in terms of where there are spikes or a lack of spikes in each group. Some paths to explore could include:\n",
        "- Does foreign conflict affect immigrant groups shift toward English exclusive language? \n",
        "  - The spike in English proficiency occurs in second generation Japanese immigrants which correlates with World War Two. \n",
        "  - The spike in English proficiency occurs in third generation Vietnamese immigrants which correlates with the Vietnam War.\n",
        "- Why Domincan immigrant groups do not have as strong of a third generation shift compared to other immigrant groups?\n",
        "- Does population density of individual ethnic groups affect mother tongue language retention?"
      ]
    }
  ]
}