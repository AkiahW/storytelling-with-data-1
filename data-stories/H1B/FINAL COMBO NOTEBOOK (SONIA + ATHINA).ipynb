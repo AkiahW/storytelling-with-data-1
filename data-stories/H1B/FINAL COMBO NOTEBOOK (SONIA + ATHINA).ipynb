{
 "cells": [
  {
   "cell_type": "markdown",
   "metadata": {},
   "source": [
    "# Exploration of H-1B Visa Petition Data \n",
    "### PSYC 81.09 Final Project\n",
    "#### May 29, 2019\n",
    "#### Athina Schmidt and Sonia Rowley\n"
   ]
  },
  {
   "cell_type": "markdown",
   "metadata": {},
   "source": [
    "## Introduction\n",
    "Only weeks ago, Trump announced a \"comprehensive \n",
    "merit-based” immigration plan, which will allocate more visas to skilled immigrants and fewer visas to applicants with family ties in the U.S. With the 2020 election looming, President Trump has been shifting his focus toward an overhaul of the legal immigration system for months. On January 11, 2019, he tweeted:\n",
    "\n",
    "\"H1-B holders in the United States can rest assured that changes are soon coming which will bring both simplicity and certainty to your stay, including a potential path to citizenship. We want to encourage talented and highly skilled people to pursue career options in the U.S.\"\n",
    "\n",
    "Just under three months later, in April 2019, a policy brief from the National Foundation for American Policy (NAFP) cited increasing denial rates for H-1B petitions since Trump came into office. H-1B visas are commonly-used work visas that allow American companies to sponsor and employ highly-skilled foreign nationals in the U.S. The NAFP, a non-profit non-partisan organization, concluded:\n",
    "\n",
    "“If the goal of the Trump administration is to make it much more difficult for well-educated foreign nationals to work in America in technical fields, then USCIS is accomplishing that goal. Whether the actions of USCIS are serving the best interests of the United States is a question that will remain open for debate.” (NFAP Policy Brief, April 2019)\n",
    "\n",
    "While we won’t know the impact of Trump’s proposed changes to the H-1B approval process until 2020, the NAFP policy brief would suggest that the process is already changing, and not in the direction that Trump’s tweet promises.\n",
    "\n",
    "Immigration is a convoluted and politically fraught topic. In this project, we shed light on a small slice of the legal immigration puzzle: H-1B petitions. We investigate data from the US Department of Labor and US Citizen and Immigration Services (USCIS) to describe the pool of H-1B applicants and visualize trends in H-1B petition approvals over time. "
   ]
  },
  {
   "cell_type": "markdown",
   "metadata": {},
   "source": [
    "### Before we begin… what is an H-1B visa and how do you get one?\n",
    "\n",
    "An H-1B visa is a nonimmigrant visa available only to foreign workers in “specialty occupations.” Applicants for these visas must hold a BA or higher and they must be sponsored by a US company that has offered them a job. Many international students at US colleges, like Dartmouth, seek these work visas after graduation as their only option to remain in the US legally.  \n",
    "\n",
    "The application is an expensive, complex, multi-step process. For the sake of understanding our project, you only need to understand a few key points. \n",
    "\n",
    "After the employer has offered the applicant a job, the employer FIRST submits a Labor Conditions Approval application to the Department of Labor, to make sure the terms of the employment meet legal labor conditions. Most applications are approved during this initial phase. In the first half of this project, we examine an LCA application dataset from the Department of Labor for 2018. \n",
    "\n",
    "After the LCA has been approved, the employer submits a (36-page!) form to US Citizenship and Immigration Services (USCIS), which has jurisdiction over final adjudication of the application. USCIS selects which applications to adjudicate based on a random lottery system since there are more applications recieved than visas available. Our second dataset uses USCIS data on H-1B petitions from 2012-2019.\n",
    "\n",
    "We will analyze two types of approvals and denials: “initial” and “continuing.” This terminology is defined by the USCIS as follows:\n",
    "\n",
    "* **Initial** = H-1B petitions with “New employment” or “New concurrent employment” selected on Form 1-129. This initial visa lasts for 3 years, and after that time is up, employees may apply to extend their visa.\n",
    "* **Continuing** = H-1B petitions with anything other than “New employment” or “New concurrent employment” selected on Form I-129. This includes, for example, continuing employment, change of employer, and amended petitions. \n"
   ]
  },
  {
   "cell_type": "markdown",
   "metadata": {},
   "source": [
    "## Overview / Datasets\n",
    "\n",
    "In our first set of data explorations, we explore the 2018 LCA application dataset from the US Department of Labor. This dataset includes the most extensive information about each petition, including employer name, job title, and prevailing wages (i.e. typical wage for the position in question within a particular geographic area). We calculate the 2018 LCA approval rate. We then describe the population of applicants for H-1Bs, visualizing the top employer sponsors and most common job titles. We also compare the prevailing wages of common job titles. \n",
    "\n",
    "* **Dataset name in GitHub:** `2018.CSV`\n",
    "* **Source:** U.S Department of Labor Office of Foreign Labor Certification, Labor Condition Application Data Set for 2018: https://www.foreignlaborcert.doleta.gov/performancedata.cfm (Go to “Disclosure Data” tab and scroll down to “LCA Programs”).\n",
    "\n",
    "In our second set of data explorations, we explore the 2012-2019 datasets from the USCIS H-1B Employer Data Hub. The 2019 dataset includes only data from the first quarter of fiscal year 2019. This data hub was only recently launched, on April 1, 2019, and it includes information about the approval statuses of all the petitions that passed the LCA phase and were submitted to the USCIS. With this data, we visualize trends in approval and denial rates over time. We also visualize trends in absolute number of petitions submitted over time.\n",
    "\n",
    "* **Datasets in GitHub**\n",
    "    * `h1b_datahubexport-2012.csv`\n",
    "    * `h1b_datahubexport-2013.csv`\n",
    "    * `h1b_datahubexport-2014.csv`\n",
    "    * `h1b_datahubexport-2015.csv`\n",
    "    * `h1b_datahubexport-2016.csv`\n",
    "    * `h1b_datahubexport-2017.csv`\n",
    "    * `h1b_datahubexport-2018.csv`\n",
    "    * `h1b_datahubexport-2019.csv`\n",
    "\n",
    "* **Source:** USCIS H-1B Employer Data Hub, All Employers, All States, Years 2012-2019: https://www.uscis.gov/h-1b-data-hub "
   ]
  },
  {
   "cell_type": "markdown",
   "metadata": {},
   "source": [
    "## 2018 Department of Labor Data Explorations\n",
    "\n",
    "1. Calculation and visualization of the 2018 LCA approval rate.\n",
    "2. What are the top 10 occupations for CERTIFIED LCAs in 2018?\n",
    "3. Which Companies sponsored the most DATA SCIENTISTS?\n",
    "3. Description of the population of applicants for H-1Bs\n",
    "4. What is the 2018 average prevailing wage determination issued by the DOL?\n",
    "5. What month has the highest instances of LCA denials?"
   ]
  },
  {
   "cell_type": "code",
   "execution_count": 1,
   "metadata": {},
   "outputs": [],
   "source": [
    "# Required packages for analysis\n",
    "import pandas as pd\n",
    "import numpy as np\n",
    "import matplotlib.pyplot as plt\n",
    "import seaborn as sns\n",
    "from matplotlib import rc\n",
    "%matplotlib inline\n",
    "import warnings\n",
    "warnings.filterwarnings('ignore')"
   ]
  },
  {
   "cell_type": "markdown",
   "metadata": {},
   "source": [
    "### Load and Explore Data"
   ]
  },
  {
   "cell_type": "code",
   "execution_count": 2,
   "metadata": {},
   "outputs": [],
   "source": [
    "# Read in the H1B data set for 2018\n",
    "LCA = pd.read_csv('2018.csv', encoding = 'latin1')"
   ]
  },
  {
   "cell_type": "code",
   "execution_count": 3,
   "metadata": {},
   "outputs": [
    {
     "data": {
      "text/plain": [
       "(609036, 15)"
      ]
     },
     "execution_count": 3,
     "metadata": {},
     "output_type": "execute_result"
    }
   ],
   "source": [
    "# Acertain the total number rows and columns\n",
    "LCA.shape"
   ]
  },
  {
   "cell_type": "code",
   "execution_count": 4,
   "metadata": {},
   "outputs": [
    {
     "data": {
      "text/html": [
       "<div>\n",
       "<style scoped>\n",
       "    .dataframe tbody tr th:only-of-type {\n",
       "        vertical-align: middle;\n",
       "    }\n",
       "\n",
       "    .dataframe tbody tr th {\n",
       "        vertical-align: top;\n",
       "    }\n",
       "\n",
       "    .dataframe thead th {\n",
       "        text-align: right;\n",
       "    }\n",
       "</style>\n",
       "<table border=\"1\" class=\"dataframe\">\n",
       "  <thead>\n",
       "    <tr style=\"text-align: right;\">\n",
       "      <th></th>\n",
       "      <th>CASE_NUMBER</th>\n",
       "      <th>CASE_STATUS</th>\n",
       "      <th>CASE_SUBMITTED</th>\n",
       "      <th>DECISION_DATE</th>\n",
       "      <th>VISA_CLASS</th>\n",
       "      <th>EMPLOYMENT_START_DATE</th>\n",
       "      <th>EMPLOYMENT_END_DATE</th>\n",
       "      <th>EMPLOYER_NAME</th>\n",
       "      <th>EMPLOYER_STATE</th>\n",
       "      <th>EMPLOYER_POSTAL_CODE</th>\n",
       "      <th>JOB_TITLE</th>\n",
       "      <th>SOC_CODE</th>\n",
       "      <th>SOC_NAME</th>\n",
       "      <th>NAICS_CODE</th>\n",
       "      <th>PREVAILING_WAGE</th>\n",
       "    </tr>\n",
       "  </thead>\n",
       "  <tbody>\n",
       "    <tr>\n",
       "      <th>0</th>\n",
       "      <td>I-200-18026-338377</td>\n",
       "      <td>CERTIFIED</td>\n",
       "      <td>1/29/2018</td>\n",
       "      <td>2/2/2018</td>\n",
       "      <td>H-1B</td>\n",
       "      <td>7/28/2018</td>\n",
       "      <td>7/27/2021</td>\n",
       "      <td>MICROSOFT CORPORATION</td>\n",
       "      <td>WA</td>\n",
       "      <td>98052</td>\n",
       "      <td>SOFTWARE ENGINEER</td>\n",
       "      <td>15-1132</td>\n",
       "      <td>SOFTWARE DEVELOPERS, APPLICATIONS</td>\n",
       "      <td>51121.0</td>\n",
       "      <td>112549.0</td>\n",
       "    </tr>\n",
       "    <tr>\n",
       "      <th>1</th>\n",
       "      <td>I-200-17296-353451</td>\n",
       "      <td>CERTIFIED</td>\n",
       "      <td>10/23/2017</td>\n",
       "      <td>10/27/2017</td>\n",
       "      <td>H-1B</td>\n",
       "      <td>11/6/2017</td>\n",
       "      <td>11/6/2020</td>\n",
       "      <td>ERNST &amp; YOUNG U.S. LLP</td>\n",
       "      <td>NJ</td>\n",
       "      <td>7094</td>\n",
       "      <td>TAX SENIOR</td>\n",
       "      <td>13-2011</td>\n",
       "      <td>ACCOUNTANTS AND AUDITORS</td>\n",
       "      <td>541211.0</td>\n",
       "      <td>79976.0</td>\n",
       "    </tr>\n",
       "    <tr>\n",
       "      <th>2</th>\n",
       "      <td>I-200-18242-524477</td>\n",
       "      <td>CERTIFIED</td>\n",
       "      <td>8/30/2018</td>\n",
       "      <td>9/6/2018</td>\n",
       "      <td>H-1B</td>\n",
       "      <td>9/10/2018</td>\n",
       "      <td>9/9/2021</td>\n",
       "      <td>LOGIXHUB LLC</td>\n",
       "      <td>TX</td>\n",
       "      <td>75062</td>\n",
       "      <td>DATABASE ADMINISTRATOR</td>\n",
       "      <td>15-1141</td>\n",
       "      <td>DATABASE ADMINISTRATORS</td>\n",
       "      <td>541511.0</td>\n",
       "      <td>77792.0</td>\n",
       "    </tr>\n",
       "    <tr>\n",
       "      <th>3</th>\n",
       "      <td>I-200-18070-575236</td>\n",
       "      <td>CERTIFIED</td>\n",
       "      <td>NaN</td>\n",
       "      <td>3/30/2018</td>\n",
       "      <td>H-1B</td>\n",
       "      <td>9/10/2018</td>\n",
       "      <td>9/9/2021</td>\n",
       "      <td>HEXAWARE TECHNOLOGIES, INC.</td>\n",
       "      <td>NJ</td>\n",
       "      <td>8830</td>\n",
       "      <td>SOFTWARE ENGINEER</td>\n",
       "      <td>15-1132</td>\n",
       "      <td>SOFTWARE DEVELOPERS, APPLICATIONS</td>\n",
       "      <td>541511.0</td>\n",
       "      <td>84406.0</td>\n",
       "    </tr>\n",
       "    <tr>\n",
       "      <th>4</th>\n",
       "      <td>I-200-18243-850522</td>\n",
       "      <td>CERTIFIED</td>\n",
       "      <td>8/31/2018</td>\n",
       "      <td>9/7/2018</td>\n",
       "      <td>H-1B</td>\n",
       "      <td>9/7/2018</td>\n",
       "      <td>9/6/2021</td>\n",
       "      <td>ECLOUD LABS,INC.</td>\n",
       "      <td>NJ</td>\n",
       "      <td>8830</td>\n",
       "      <td>MICROSOFT DYNAMICS CRM APPLICATION DEVELOPER</td>\n",
       "      <td>15-1132</td>\n",
       "      <td>SOFTWARE DEVELOPERS, APPLICATIONS</td>\n",
       "      <td>541511.0</td>\n",
       "      <td>87714.0</td>\n",
       "    </tr>\n",
       "  </tbody>\n",
       "</table>\n",
       "</div>"
      ],
      "text/plain": [
       "          CASE_NUMBER CASE_STATUS CASE_SUBMITTED DECISION_DATE VISA_CLASS  \\\n",
       "0  I-200-18026-338377   CERTIFIED      1/29/2018      2/2/2018       H-1B   \n",
       "1  I-200-17296-353451   CERTIFIED     10/23/2017    10/27/2017       H-1B   \n",
       "2  I-200-18242-524477   CERTIFIED      8/30/2018      9/6/2018       H-1B   \n",
       "3  I-200-18070-575236   CERTIFIED            NaN     3/30/2018       H-1B   \n",
       "4  I-200-18243-850522   CERTIFIED      8/31/2018      9/7/2018       H-1B   \n",
       "\n",
       "  EMPLOYMENT_START_DATE EMPLOYMENT_END_DATE                EMPLOYER_NAME  \\\n",
       "0             7/28/2018           7/27/2021        MICROSOFT CORPORATION   \n",
       "1             11/6/2017           11/6/2020       ERNST & YOUNG U.S. LLP   \n",
       "2             9/10/2018            9/9/2021                 LOGIXHUB LLC   \n",
       "3             9/10/2018            9/9/2021  HEXAWARE TECHNOLOGIES, INC.   \n",
       "4              9/7/2018            9/6/2021             ECLOUD LABS,INC.   \n",
       "\n",
       "  EMPLOYER_STATE EMPLOYER_POSTAL_CODE  \\\n",
       "0             WA                98052   \n",
       "1             NJ                 7094   \n",
       "2             TX                75062   \n",
       "3             NJ                 8830   \n",
       "4             NJ                 8830   \n",
       "\n",
       "                                      JOB_TITLE SOC_CODE  \\\n",
       "0                             SOFTWARE ENGINEER  15-1132   \n",
       "1                                    TAX SENIOR  13-2011   \n",
       "2                        DATABASE ADMINISTRATOR  15-1141   \n",
       "3                             SOFTWARE ENGINEER  15-1132   \n",
       "4  MICROSOFT DYNAMICS CRM APPLICATION DEVELOPER  15-1132   \n",
       "\n",
       "                            SOC_NAME  NAICS_CODE  PREVAILING_WAGE  \n",
       "0  SOFTWARE DEVELOPERS, APPLICATIONS     51121.0         112549.0  \n",
       "1           ACCOUNTANTS AND AUDITORS    541211.0          79976.0  \n",
       "2            DATABASE ADMINISTRATORS    541511.0          77792.0  \n",
       "3  SOFTWARE DEVELOPERS, APPLICATIONS    541511.0          84406.0  \n",
       "4  SOFTWARE DEVELOPERS, APPLICATIONS    541511.0          87714.0  "
      ]
     },
     "execution_count": 4,
     "metadata": {},
     "output_type": "execute_result"
    }
   ],
   "source": [
    "# Quick check to make sure dataframe was imported correctly\n",
    "LCA.head()"
   ]
  },
  {
   "cell_type": "code",
   "execution_count": 5,
   "metadata": {},
   "outputs": [
    {
     "name": "stdout",
     "output_type": "stream",
     "text": [
      "<class 'pandas.core.frame.DataFrame'>\n",
      "RangeIndex: 609036 entries, 0 to 609035\n",
      "Data columns (total 15 columns):\n",
      "CASE_NUMBER              609036 non-null object\n",
      "CASE_STATUS              609036 non-null object\n",
      "CASE_SUBMITTED           609035 non-null object\n",
      "DECISION_DATE            609036 non-null object\n",
      "VISA_CLASS               609036 non-null object\n",
      "EMPLOYMENT_START_DATE    609029 non-null object\n",
      "EMPLOYMENT_END_DATE      609027 non-null object\n",
      "EMPLOYER_NAME            609017 non-null object\n",
      "EMPLOYER_STATE           608967 non-null object\n",
      "EMPLOYER_POSTAL_CODE     609020 non-null object\n",
      "JOB_TITLE                609031 non-null object\n",
      "SOC_CODE                 609032 non-null object\n",
      "SOC_NAME                 609032 non-null object\n",
      "NAICS_CODE               609030 non-null float64\n",
      "PREVAILING_WAGE          609035 non-null float64\n",
      "dtypes: float64(2), object(13)\n",
      "memory usage: 69.7+ MB\n"
     ]
    }
   ],
   "source": [
    "# Check the structure of the datafram\n",
    "LCA.info()"
   ]
  },
  {
   "cell_type": "markdown",
   "metadata": {},
   "source": [
    "### What is the 2018 LCA approval rate?"
   ]
  },
  {
   "cell_type": "code",
   "execution_count": 6,
   "metadata": {},
   "outputs": [
    {
     "name": "stdout",
     "output_type": "stream",
     "text": [
      "Number of LCAs Filed in 2018: 609036\n"
     ]
    }
   ],
   "source": [
    "#The number of cases in the visas dataset\n",
    "LCA_cases = LCA.CASE_NUMBER.count()\n",
    "print(\"Number of LCAs Filed in 2018:\", LCA_cases)"
   ]
  },
  {
   "cell_type": "code",
   "execution_count": 7,
   "metadata": {},
   "outputs": [
    {
     "name": "stdout",
     "output_type": "stream",
     "text": [
      "Case Status Categories:  ['CERTIFIED' 'DENIED' 'WITHDRAWN' 'CERTIFIED-WITHDRAWN']\n"
     ]
    }
   ],
   "source": [
    "# Check how many case status categories are in the dataset\n",
    "status_cat = LCA.CASE_STATUS.unique()\n",
    "print(\"Case Status Categories: \", status_cat)"
   ]
  },
  {
   "cell_type": "code",
   "execution_count": 8,
   "metadata": {},
   "outputs": [
    {
     "name": "stdout",
     "output_type": "stream",
     "text": [
      "Number of Certfied LCAs is:  582638\n",
      "Number of distinct occupations:  595\n"
     ]
    }
   ],
   "source": [
    "# Combine the certified and certified-withdrawn cases \n",
    "certified_LCA = LCA[(LCA.CASE_STATUS == 'CERTIFIED') | (LCA.CASE_STATUS == 'CERTIFIED-WITHDRAWN')]\n",
    "\n",
    "# The number of cases in the certified LCA dataset\n",
    "cert_LCA = certified_LCA.CASE_NUMBER.count()\n",
    "print(\"Number of Certfied LCAs is: \", cert_LCA)\n",
    "\n",
    "# The number of different occupations in the certified LCA dataset \n",
    "distinct_occ = len(certified_LCA.SOC_CODE.unique())\n",
    "print(\"Number of distinct occupations: \", distinct_occ)"
   ]
  },
  {
   "cell_type": "code",
   "execution_count": 9,
   "metadata": {},
   "outputs": [
    {
     "name": "stdout",
     "output_type": "stream",
     "text": [
      "Number of Denied LCAs is:  26398\n"
     ]
    }
   ],
   "source": [
    "#Combine the withdrawn cases statues (if a lawyer pulled it, it was becuase it was gonna get denied anyways, this is common practice)\n",
    "denied_LCA = LCA[(LCA.CASE_STATUS == 'DENIED') | (LCA.CASE_STATUS == 'WITHDRAWN')]\n",
    "\n",
    "# The number of cases in the denied LCA dataset\n",
    "denied_LCA = denied_LCA.CASE_NUMBER.count()\n",
    "print(\"Number of Denied LCAs is: \", denied_LCA)"
   ]
  },
  {
   "cell_type": "code",
   "execution_count": 10,
   "metadata": {},
   "outputs": [
    {
     "name": "stdout",
     "output_type": "stream",
     "text": [
      "2018 LCA Approval Rate is: 0.9566560925790922\n",
      "2018 LCA Denial Rate is: 0.043343907420907796\n"
     ]
    }
   ],
   "source": [
    "#Calculate Approval and Denial Rate\n",
    "A_RATE = 582638/609036\n",
    "print(\"2018 LCA Approval Rate is:\", A_RATE)\n",
    "\n",
    "D_RATE = 26398/609036\n",
    "print(\"2018 LCA Denial Rate is:\", D_RATE)\n"
   ]
  },
  {
   "cell_type": "code",
   "execution_count": 11,
   "metadata": {},
   "outputs": [
    {
     "data": {
      "image/png": "[encoded data removed]",
      "text/plain": [
       "<Figure size 432x288 with 1 Axes>"
      ]
     },
     "metadata": {},
     "output_type": "display_data"
    }
   ],
   "source": [
    "# Transform data into a Pie Chart\n",
    "labels = 'LCA Approved', 'LCA Denied'\n",
    "sizes = [A_RATE, D_RATE]\n",
    "colors = ['green', 'red']\n",
    "explode = (0.2, .1)  # explode 1st slice\n",
    "\n",
    "# Plot\n",
    "plt.pie(sizes, explode=explode, labels=labels, colors=colors,\n",
    "autopct='%1.1f%%', shadow=True, startangle=140)\n",
    "\n",
    "plt.axis('equal')\n",
    "plt.show()"
   ]
  },
  {
   "cell_type": "markdown",
   "metadata": {},
   "source": [
    "Okay, so the LCA step of the H1B process is easy to get through. The bottleneck must come from DHS and the USCIS adjudication process. \n",
    "\n",
    "So what other info can we take from this LCA dataset? Since it contains info regarding PWDs and Job Titles we can answer some basic exploratory questions such as: what companies apply for these visas? what types of jobs are applicants on these visa doing?  "
   ]
  },
  {
   "cell_type": "markdown",
   "metadata": {},
   "source": [
    "### What are the top 10 occupations for certified LCAs in 2018?"
   ]
  },
  {
   "cell_type": "code",
   "execution_count": 12,
   "metadata": {},
   "outputs": [
    {
     "data": {
      "text/html": [
       "<div>\n",
       "<style scoped>\n",
       "    .dataframe tbody tr th:only-of-type {\n",
       "        vertical-align: middle;\n",
       "    }\n",
       "\n",
       "    .dataframe tbody tr th {\n",
       "        vertical-align: top;\n",
       "    }\n",
       "\n",
       "    .dataframe thead th {\n",
       "        text-align: right;\n",
       "    }\n",
       "</style>\n",
       "<table border=\"1\" class=\"dataframe\">\n",
       "  <thead>\n",
       "    <tr style=\"text-align: right;\">\n",
       "      <th></th>\n",
       "      <th>SOC_NAME</th>\n",
       "      <th>COUNT</th>\n",
       "    </tr>\n",
       "  </thead>\n",
       "  <tbody>\n",
       "    <tr>\n",
       "      <th>724</th>\n",
       "      <td>SOFTWARE DEVELOPERS, APPLICATIONS</td>\n",
       "      <td>177669</td>\n",
       "    </tr>\n",
       "    <tr>\n",
       "      <th>177</th>\n",
       "      <td>COMPUTER OCCUPATIONS, ALL OTHER</td>\n",
       "      <td>56123</td>\n",
       "    </tr>\n",
       "    <tr>\n",
       "      <th>201</th>\n",
       "      <td>COMPUTER SYSTEMS ANALYSTS</td>\n",
       "      <td>55260</td>\n",
       "    </tr>\n",
       "    <tr>\n",
       "      <th>737</th>\n",
       "      <td>SOFTWARE DEVELOPERS, SYSTEMS SOFTWARE</td>\n",
       "      <td>25243</td>\n",
       "    </tr>\n",
       "    <tr>\n",
       "      <th>185</th>\n",
       "      <td>COMPUTER PROGRAMMERS</td>\n",
       "      <td>24698</td>\n",
       "    </tr>\n",
       "    <tr>\n",
       "      <th>199</th>\n",
       "      <td>COMPUTER SYSTEMS ANALYST</td>\n",
       "      <td>13204</td>\n",
       "    </tr>\n",
       "    <tr>\n",
       "      <th>569</th>\n",
       "      <td>OPERATIONS RESEARCH ANALYSTS</td>\n",
       "      <td>12007</td>\n",
       "    </tr>\n",
       "    <tr>\n",
       "      <th>462</th>\n",
       "      <td>MANAGEMENT ANALYSTS</td>\n",
       "      <td>11432</td>\n",
       "    </tr>\n",
       "    <tr>\n",
       "      <th>499</th>\n",
       "      <td>MECHANICAL ENGINEERS</td>\n",
       "      <td>9265</td>\n",
       "    </tr>\n",
       "    <tr>\n",
       "      <th>238</th>\n",
       "      <td>DATABASE ADMINISTRATORS</td>\n",
       "      <td>9206</td>\n",
       "    </tr>\n",
       "  </tbody>\n",
       "</table>\n",
       "</div>"
      ],
      "text/plain": [
       "                                  SOC_NAME   COUNT\n",
       "724      SOFTWARE DEVELOPERS, APPLICATIONS  177669\n",
       "177        COMPUTER OCCUPATIONS, ALL OTHER   56123\n",
       "201              COMPUTER SYSTEMS ANALYSTS   55260\n",
       "737  SOFTWARE DEVELOPERS, SYSTEMS SOFTWARE   25243\n",
       "185                   COMPUTER PROGRAMMERS   24698\n",
       "199               COMPUTER SYSTEMS ANALYST   13204\n",
       "569           OPERATIONS RESEARCH ANALYSTS   12007\n",
       "462                    MANAGEMENT ANALYSTS   11432\n",
       "499                   MECHANICAL ENGINEERS    9265\n",
       "238                DATABASE ADMINISTRATORS    9206"
      ]
     },
     "execution_count": 12,
     "metadata": {},
     "output_type": "execute_result"
    }
   ],
   "source": [
    "# Group, count, and sort to list Top 10 job titles of certified cases \n",
    "top_10_occupation = certified_LCA.groupby('SOC_NAME').size().reset_index(name='COUNT').sort_values(by='COUNT', ascending=False)\n",
    "top_10_occupation[:10]"
   ]
  },
  {
   "cell_type": "markdown",
   "metadata": {},
   "source": [
    "It is not shocking that most of these jobs are computer science related. There is a high cost associated (both time and money) with filing these applications therefore the positions they are filling must be worth the cost. Computer Scientsts are in high demand so that makes intutive sense. "
   ]
  },
  {
   "cell_type": "markdown",
   "metadata": {},
   "source": [
    "### Which companies sponsored the most Data Scientists?"
   ]
  },
  {
   "cell_type": "code",
   "execution_count": 13,
   "metadata": {},
   "outputs": [
    {
     "data": {
      "text/html": [
       "<div>\n",
       "<style scoped>\n",
       "    .dataframe tbody tr th:only-of-type {\n",
       "        vertical-align: middle;\n",
       "    }\n",
       "\n",
       "    .dataframe tbody tr th {\n",
       "        vertical-align: top;\n",
       "    }\n",
       "\n",
       "    .dataframe thead th {\n",
       "        text-align: right;\n",
       "    }\n",
       "</style>\n",
       "<table border=\"1\" class=\"dataframe\">\n",
       "  <thead>\n",
       "    <tr style=\"text-align: right;\">\n",
       "      <th></th>\n",
       "      <th>EMPLOYER_NAME</th>\n",
       "      <th>COUNT</th>\n",
       "    </tr>\n",
       "  </thead>\n",
       "  <tbody>\n",
       "    <tr>\n",
       "      <th>314</th>\n",
       "      <td>FACEBOOK, INC.</td>\n",
       "      <td>132</td>\n",
       "    </tr>\n",
       "    <tr>\n",
       "      <th>529</th>\n",
       "      <td>MICROSOFT CORPORATION</td>\n",
       "      <td>80</td>\n",
       "    </tr>\n",
       "    <tr>\n",
       "      <th>404</th>\n",
       "      <td>IBM CORPORATION</td>\n",
       "      <td>68</td>\n",
       "    </tr>\n",
       "    <tr>\n",
       "      <th>861</th>\n",
       "      <td>UBER TECHNOLOGIES, INC.</td>\n",
       "      <td>58</td>\n",
       "    </tr>\n",
       "    <tr>\n",
       "      <th>237</th>\n",
       "      <td>CYBER INFOTECH LLC</td>\n",
       "      <td>30</td>\n",
       "    </tr>\n",
       "    <tr>\n",
       "      <th>42</th>\n",
       "      <td>AIRBNB, INC.</td>\n",
       "      <td>29</td>\n",
       "    </tr>\n",
       "    <tr>\n",
       "      <th>486</th>\n",
       "      <td>LINKEDIN CORPORATION</td>\n",
       "      <td>24</td>\n",
       "    </tr>\n",
       "    <tr>\n",
       "      <th>905</th>\n",
       "      <td>WAL-MART ASSOCIATES, INC.</td>\n",
       "      <td>21</td>\n",
       "    </tr>\n",
       "    <tr>\n",
       "      <th>496</th>\n",
       "      <td>LYFT, INC.</td>\n",
       "      <td>21</td>\n",
       "    </tr>\n",
       "    <tr>\n",
       "      <th>708</th>\n",
       "      <td>SAP LABS, LLC</td>\n",
       "      <td>20</td>\n",
       "    </tr>\n",
       "  </tbody>\n",
       "</table>\n",
       "</div>"
      ],
      "text/plain": [
       "                 EMPLOYER_NAME  COUNT\n",
       "314             FACEBOOK, INC.    132\n",
       "529      MICROSOFT CORPORATION     80\n",
       "404            IBM CORPORATION     68\n",
       "861    UBER TECHNOLOGIES, INC.     58\n",
       "237         CYBER INFOTECH LLC     30\n",
       "42                AIRBNB, INC.     29\n",
       "486       LINKEDIN CORPORATION     24\n",
       "905  WAL-MART ASSOCIATES, INC.     21\n",
       "496                 LYFT, INC.     21\n",
       "708              SAP LABS, LLC     20"
      ]
     },
     "execution_count": 13,
     "metadata": {},
     "output_type": "execute_result"
    }
   ],
   "source": [
    "# Subset, group, size, and sort\n",
    "ds_gb_company = LCA[LCA.JOB_TITLE == 'DATA SCIENTIST'].groupby('EMPLOYER_NAME').size().reset_index(name='COUNT')\n",
    "ds_gb_company = ds_gb_company.sort_values(by='COUNT', ascending=False)\n",
    "ds_gb_company.head()\n",
    "\n",
    "# Top 10 companies requested data scientists\n",
    "ds_gb_company[:10]"
   ]
  },
  {
   "cell_type": "markdown",
   "metadata": {},
   "source": [
    "So Data Scientists are in demand at many prestigous tech/SaS companies. "
   ]
  },
  {
   "cell_type": "markdown",
   "metadata": {},
   "source": [
    "###  How much more does a Data Scientist get paid than your average 2018 LCA applicant? "
   ]
  },
  {
   "cell_type": "code",
   "execution_count": 14,
   "metadata": {},
   "outputs": [
    {
     "name": "stdout",
     "output_type": "stream",
     "text": [
      "The average Prevailing Wage Determination for 2018 LCA applicants is $88,119\n"
     ]
    }
   ],
   "source": [
    "# Compute the mean salary for all applications\n",
    "all_positions_salary = LCA['PREVAILING_WAGE'].mean()\n",
    "print('The average Prevailing Wage Determination for 2018 LCA applicants is ${:,.0f}'.format(all_positions_salary))"
   ]
  },
  {
   "cell_type": "code",
   "execution_count": 15,
   "metadata": {},
   "outputs": [
    {
     "name": "stdout",
     "output_type": "stream",
     "text": [
      "The average Prevailing Wage Determination for a 2018 data scientist is $92,497\n"
     ]
    }
   ],
   "source": [
    "# Compute the mean salary for data scientist applications\n",
    "ds_salary = LCA['PREVAILING_WAGE'][LCA.JOB_TITLE == 'DATA SCIENTIST'].mean()\n",
    "print('The average Prevailing Wage Determination for a 2018 data scientist is ${:,.0f}'.format(ds_salary))"
   ]
  },
  {
   "cell_type": "code",
   "execution_count": 16,
   "metadata": {},
   "outputs": [
    {
     "name": "stdout",
     "output_type": "stream",
     "text": [
      "Data Scientists earn on average $4,379 (5.0%) more than the average of all H-1B visa applicants\n"
     ]
    }
   ],
   "source": [
    "# Compute the difference and percent difference in salary\n",
    "salary_diff = ds_salary - all_positions_salary\n",
    "salary_percent_diff = (salary_diff / all_positions_salary) *100\n",
    "print('Data Scientists earn on average ${:,.0f} ({:.1f}%) more than the average of all H-1B visa applicants'.format(salary_diff, salary_percent_diff))"
   ]
  },
  {
   "cell_type": "markdown",
   "metadata": {},
   "source": [
    "Since so many of the positions in the data set are computer related the average wage is already skewed high but it is interesting to quantify the worth some data science knowledge."
   ]
  },
  {
   "cell_type": "markdown",
   "metadata": {},
   "source": [
    "### What month has the highest instance of LCA denials?"
   ]
  },
  {
   "cell_type": "code",
   "execution_count": 17,
   "metadata": {},
   "outputs": [],
   "source": [
    "# Filter just the dates of denied visas\n",
    "denied_LCA = LCA[['CASE_NUMBER','CASE_SUBMITTED', 'DECISION_DATE']][LCA.CASE_STATUS == 'DENIED']"
   ]
  },
  {
   "cell_type": "code",
   "execution_count": 18,
   "metadata": {},
   "outputs": [],
   "source": [
    "# Extract the month from both dates\n",
    "denied_LCA['Month_submitted'] =  pd.DatetimeIndex( denied_LCA.CASE_SUBMITTED).month\n",
    "denied_LCA['Month_decision'] =  pd.DatetimeIndex( denied_LCA.DECISION_DATE).month"
   ]
  },
  {
   "cell_type": "code",
   "execution_count": 19,
   "metadata": {},
   "outputs": [
    {
     "data": {
      "text/plain": [
       "<function matplotlib.pyplot.show(*args, **kw)>"
      ]
     },
     "execution_count": 19,
     "metadata": {},
     "output_type": "execute_result"
    },
    {
     "data": {
      "image/png": "[encoded data removed]",
      "text/plain": [
       "<Figure size 432x288 with 1 Axes>"
      ]
     },
     "metadata": {
      "needs_background": "light"
     },
     "output_type": "display_data"
    }
   ],
   "source": [
    "# Group by month of submitted dates\n",
    "denied_LCA_gr_by_month_sub = denied_LCA.groupby('Month_submitted').size().reset_index(name='Denied_Count')\n",
    "denied_LCA_gr_by_month_sub = denied_LCA_gr_by_month_sub.sort_values(by='Month_submitted', ascending=False)  \n",
    "\n",
    "# Plot visas denied grouped by month submitted dates\n",
    "sns.barplot(x='Denied_Count', y='Month_submitted', data=denied_LCA_gr_by_month_sub, \n",
    "            order=denied_LCA_gr_by_month_sub.Month_submitted, orient='h')\n",
    "plt.show"
   ]
  },
  {
   "cell_type": "markdown",
   "metadata": {},
   "source": [
    "Recommended practice is to file the Labor Condition Application three to six months prior to the H1B filing deadline. The trend of increased denials in March, immediately preceding the H-1B filing deadline, could indicate careless and rushed completion of application paperwork. For example, there were applications in the dataset with prevailing wage listed at $0--a careless mistake which would lead to an immediate denial of the LCA. "
   ]
  },
  {
   "cell_type": "markdown",
   "metadata": {},
   "source": [
    "# 2012-2019 USCIS Data Explorations\n",
    "1. Visualization of trends in approval and denial rates over time.\n",
    "2. Visualization of trends in absolute number of petitions submitted over time."
   ]
  },
  {
   "cell_type": "markdown",
   "metadata": {},
   "source": [
    "## Loading in the data\n",
    "Source: https://www.uscis.gov/h-1b-data-hub "
   ]
  },
  {
   "cell_type": "code",
   "execution_count": 20,
   "metadata": {},
   "outputs": [],
   "source": [
    "df_2012 = pd.read_csv('h1b_datahubexport-2012.csv', thousands=',')\n",
    "df_2013 = pd.read_csv('h1b_datahubexport-2013.csv', thousands=',')\n",
    "df_2014 = pd.read_csv('h1b_datahubexport-2014.csv', thousands=',')\n",
    "df_2015 = pd.read_csv('h1b_datahubexport-2015.csv', thousands=',')\n",
    "df_2016 = pd.read_csv('h1b_datahubexport-2016.csv', thousands=',')\n",
    "df_2017 = pd.read_csv('h1b_datahubexport-2017.csv', thousands=',')\n",
    "df_2018 = pd.read_csv('h1b_datahubexport-2018.csv', thousands=',')\n",
    "df_2019 = pd.read_csv('h1b_datahubexport-2019.csv', thousands=',')"
   ]
  },
  {
   "cell_type": "code",
   "execution_count": 21,
   "metadata": {},
   "outputs": [
    {
     "data": {
      "text/html": [
       "<div>\n",
       "<style scoped>\n",
       "    .dataframe tbody tr th:only-of-type {\n",
       "        vertical-align: middle;\n",
       "    }\n",
       "\n",
       "    .dataframe tbody tr th {\n",
       "        vertical-align: top;\n",
       "    }\n",
       "\n",
       "    .dataframe thead th {\n",
       "        text-align: right;\n",
       "    }\n",
       "</style>\n",
       "<table border=\"1\" class=\"dataframe\">\n",
       "  <thead>\n",
       "    <tr style=\"text-align: right;\">\n",
       "      <th></th>\n",
       "      <th>Fiscal Year</th>\n",
       "      <th>Employer</th>\n",
       "      <th>Initial Approvals</th>\n",
       "      <th>Initial Denials</th>\n",
       "      <th>Continuing Approvals</th>\n",
       "      <th>Continuing Denials</th>\n",
       "      <th>NAICS</th>\n",
       "      <th>Tax ID</th>\n",
       "      <th>State</th>\n",
       "      <th>City</th>\n",
       "      <th>ZIP</th>\n",
       "    </tr>\n",
       "  </thead>\n",
       "  <tbody>\n",
       "    <tr>\n",
       "      <th>0</th>\n",
       "      <td>2012</td>\n",
       "      <td>SHRUSHTI INC</td>\n",
       "      <td>0</td>\n",
       "      <td>1</td>\n",
       "      <td>0</td>\n",
       "      <td>0</td>\n",
       "      <td>44</td>\n",
       "      <td>NaN</td>\n",
       "      <td>AL</td>\n",
       "      <td>GEORGIANA</td>\n",
       "      <td>36033.0</td>\n",
       "    </tr>\n",
       "    <tr>\n",
       "      <th>1</th>\n",
       "      <td>2012</td>\n",
       "      <td>GADSDEN ELEMENTARY SCH DIST 32</td>\n",
       "      <td>1</td>\n",
       "      <td>0</td>\n",
       "      <td>0</td>\n",
       "      <td>0</td>\n",
       "      <td>61</td>\n",
       "      <td>NaN</td>\n",
       "      <td>AZ</td>\n",
       "      <td>SAN LUIS</td>\n",
       "      <td>85349.0</td>\n",
       "    </tr>\n",
       "    <tr>\n",
       "      <th>2</th>\n",
       "      <td>2012</td>\n",
       "      <td>TIPD LLC</td>\n",
       "      <td>0</td>\n",
       "      <td>0</td>\n",
       "      <td>1</td>\n",
       "      <td>0</td>\n",
       "      <td>54</td>\n",
       "      <td>NaN</td>\n",
       "      <td>AZ</td>\n",
       "      <td>TUCSON</td>\n",
       "      <td>85750.0</td>\n",
       "    </tr>\n",
       "    <tr>\n",
       "      <th>3</th>\n",
       "      <td>2012</td>\n",
       "      <td>KEY POWER USA INC</td>\n",
       "      <td>1</td>\n",
       "      <td>0</td>\n",
       "      <td>0</td>\n",
       "      <td>0</td>\n",
       "      <td>99</td>\n",
       "      <td>NaN</td>\n",
       "      <td>CA</td>\n",
       "      <td>CITY OF INDUSTRY</td>\n",
       "      <td>91748.0</td>\n",
       "    </tr>\n",
       "    <tr>\n",
       "      <th>4</th>\n",
       "      <td>2012</td>\n",
       "      <td>ROBERTMARRIOTT MEDICAL CORP D/B/A</td>\n",
       "      <td>0</td>\n",
       "      <td>0</td>\n",
       "      <td>1</td>\n",
       "      <td>0</td>\n",
       "      <td>62</td>\n",
       "      <td>NaN</td>\n",
       "      <td>CA</td>\n",
       "      <td>EL SEGUNDO</td>\n",
       "      <td>90245.0</td>\n",
       "    </tr>\n",
       "  </tbody>\n",
       "</table>\n",
       "</div>"
      ],
      "text/plain": [
       "   Fiscal Year                           Employer  Initial Approvals  \\\n",
       "0         2012                       SHRUSHTI INC                  0   \n",
       "1         2012     GADSDEN ELEMENTARY SCH DIST 32                  1   \n",
       "2         2012                           TIPD LLC                  0   \n",
       "3         2012                  KEY POWER USA INC                  1   \n",
       "4         2012  ROBERTMARRIOTT MEDICAL CORP D/B/A                  0   \n",
       "\n",
       "   Initial Denials  Continuing Approvals  Continuing Denials  NAICS  Tax ID  \\\n",
       "0                1                     0                   0     44     NaN   \n",
       "1                0                     0                   0     61     NaN   \n",
       "2                0                     1                   0     54     NaN   \n",
       "3                0                     0                   0     99     NaN   \n",
       "4                0                     1                   0     62     NaN   \n",
       "\n",
       "  State              City      ZIP  \n",
       "0    AL         GEORGIANA  36033.0  \n",
       "1    AZ          SAN LUIS  85349.0  \n",
       "2    AZ            TUCSON  85750.0  \n",
       "3    CA  CITY OF INDUSTRY  91748.0  \n",
       "4    CA        EL SEGUNDO  90245.0  "
      ]
     },
     "execution_count": 21,
     "metadata": {},
     "output_type": "execute_result"
    }
   ],
   "source": [
    "df_2012.head()"
   ]
  },
  {
   "cell_type": "markdown",
   "metadata": {},
   "source": [
    "## Create Summary Dataframe with Annual Approval/Denial Data"
   ]
  },
  {
   "cell_type": "code",
   "execution_count": 22,
   "metadata": {},
   "outputs": [],
   "source": [
    "#total number of initial approvals/denials and continuing approvals/denials in 2012\n",
    "IA12 = df_2012['Initial Approvals'].sum()\n",
    "ID12 = df_2012['Initial Denials'].sum()\n",
    "CA12 = df_2012['Continuing Approvals'].sum()\n",
    "CD12 = df_2012['Continuing Denials'].sum()\n",
    "\n",
    "#sums of initial, continuing, and total petitions in 2012\n",
    "I_12 = IA12 + ID12\n",
    "C_12 = CA12 + CD12\n",
    "total_12 = IA12 + ID12 + CA12 + CD12"
   ]
  },
  {
   "cell_type": "code",
   "execution_count": 23,
   "metadata": {},
   "outputs": [],
   "source": [
    "#total number of initial approvals/denials and continuing approvals/denials in 2013\n",
    "IA13 = df_2013['Initial Approvals'].sum()\n",
    "ID13 = df_2013['Initial Denials'].sum()\n",
    "CA13 = df_2013['Continuing Approvals'].sum()\n",
    "CD13 = df_2013['Continuing Denials'].sum()\n",
    "\n",
    "#sums of initial, continuing, and total petitions in 2013\n",
    "I_13 = IA13 + ID13\n",
    "C_13 = CA13 + CD13\n",
    "total_13 = IA13 + ID13 + CA13 + CD13"
   ]
  },
  {
   "cell_type": "code",
   "execution_count": 24,
   "metadata": {},
   "outputs": [],
   "source": [
    "#total number of initial approvals/denials and continuing approvals/denials in 2014\n",
    "IA14 = df_2014['Initial Approvals'].sum()\n",
    "ID14 = df_2014['Initial Denials'].sum()\n",
    "CA14 = df_2014['Continuing Approvals'].sum()\n",
    "CD14 = df_2014['Continuing Denials'].sum()\n",
    "\n",
    "#sums of initial, continuing, and total petitions in 2014\n",
    "I_14 = IA14 + ID14\n",
    "C_14 = CA14 + CD14\n",
    "total_14 = IA14 + ID14 + CA14 + CD14"
   ]
  },
  {
   "cell_type": "code",
   "execution_count": 25,
   "metadata": {},
   "outputs": [],
   "source": [
    "#total number of initial approvals/denials and continuing approvals/denials in 2015\n",
    "IA15 = df_2015['Initial Approvals'].sum()\n",
    "ID15 = df_2015['Initial Denials'].sum()\n",
    "CA15 = df_2015['Continuing Approvals'].sum()\n",
    "CD15 = df_2015['Continuing Denials'].sum()\n",
    "\n",
    "#sums of initial, continuing, and total petitions in 2015\n",
    "I_15 = IA15 + ID15\n",
    "C_15 = CA15 + CD15\n",
    "total_15 = IA15 + ID15 + CA15 + CD15"
   ]
  },
  {
   "cell_type": "code",
   "execution_count": 26,
   "metadata": {},
   "outputs": [],
   "source": [
    "#total number of initial approvals/denials and continuing approvals/denials in 2016\n",
    "IA16 = df_2016['Initial Approvals'].sum()\n",
    "ID16 = df_2016['Initial Denials'].sum()\n",
    "CA16 = df_2016['Continuing Approvals'].sum()\n",
    "CD16 = df_2016['Continuing Denials'].sum()\n",
    "\n",
    "#sums of initial, continuing, and total petitions in 2016\n",
    "I_16 = IA16 + ID16\n",
    "C_16 = CA16 + CD16\n",
    "total_16 = IA16 + ID16 + CA16 + CD16"
   ]
  },
  {
   "cell_type": "code",
   "execution_count": 27,
   "metadata": {},
   "outputs": [],
   "source": [
    "#total number of initial approvals/denials and continuing approvals/denials in 2017\n",
    "IA17 = df_2017['Initial Approvals'].sum()\n",
    "ID17 = df_2017['Initial Denials'].sum()\n",
    "CA17 = df_2017['Continuing Approvals'].sum()\n",
    "CD17 = df_2017['Continuing Denials'].sum()\n",
    "\n",
    "#sums of initial, continuing, and total petitions in 2017\n",
    "I_17 = IA17 + ID17\n",
    "C_17 = CA17 + CD17\n",
    "total_17 = IA17 + ID17 + CA17 + CD17"
   ]
  },
  {
   "cell_type": "code",
   "execution_count": 28,
   "metadata": {},
   "outputs": [],
   "source": [
    "#total number of initial approvals/denials and continuing approvals/denials in 2018\n",
    "IA18 = df_2018['Initial Approvals'].sum()\n",
    "ID18 = df_2018['Initial Denials'].sum()\n",
    "CA18 = df_2018['Continuing Approvals'].sum()\n",
    "CD18 = df_2018['Continuing Denials'].sum()\n",
    "\n",
    "#sums of initial, continuing, and total petitions in 2018\n",
    "I_18 = IA18 + ID18\n",
    "C_18 = CA18 + CD18\n",
    "total_18 = IA18 + ID18 + CA18 + CD18"
   ]
  },
  {
   "cell_type": "code",
   "execution_count": 29,
   "metadata": {},
   "outputs": [],
   "source": [
    "#total number of initial approvals/denials and continuing approvals/denials in 2019\n",
    "IA19 = df_2019['Initial Approvals'].sum()\n",
    "ID19 = df_2019['Initial Denials'].sum()\n",
    "CA19 = df_2019['Continuing Approvals'].sum()\n",
    "CD19 = df_2019['Continuing Denials'].sum()\n",
    "\n",
    "#sums of initial, continuing, and total petitions in 2019\n",
    "I_19 = IA19 + ID19\n",
    "C_19 = CA19 + CD19\n",
    "total_19 = IA19 + ID19 + CA19 + CD19"
   ]
  },
  {
   "cell_type": "code",
   "execution_count": 30,
   "metadata": {
    "scrolled": true
   },
   "outputs": [
    {
     "data": {
      "text/html": [
       "<div>\n",
       "<style scoped>\n",
       "    .dataframe tbody tr th:only-of-type {\n",
       "        vertical-align: middle;\n",
       "    }\n",
       "\n",
       "    .dataframe tbody tr th {\n",
       "        vertical-align: top;\n",
       "    }\n",
       "\n",
       "    .dataframe thead th {\n",
       "        text-align: right;\n",
       "    }\n",
       "</style>\n",
       "<table border=\"1\" class=\"dataframe\">\n",
       "  <thead>\n",
       "    <tr style=\"text-align: right;\">\n",
       "      <th></th>\n",
       "      <th>Total</th>\n",
       "      <th>All_Initial</th>\n",
       "      <th>All_Continuing</th>\n",
       "      <th>Initial_Approvals</th>\n",
       "      <th>Initial_Denials</th>\n",
       "      <th>Continuing_Approvals</th>\n",
       "      <th>Continuing_Denials</th>\n",
       "    </tr>\n",
       "    <tr>\n",
       "      <th>Year</th>\n",
       "      <th></th>\n",
       "      <th></th>\n",
       "      <th></th>\n",
       "      <th></th>\n",
       "      <th></th>\n",
       "      <th></th>\n",
       "      <th></th>\n",
       "    </tr>\n",
       "  </thead>\n",
       "  <tbody>\n",
       "    <tr>\n",
       "      <th>2012</th>\n",
       "      <td>281261</td>\n",
       "      <td>148210</td>\n",
       "      <td>133051</td>\n",
       "      <td>140809</td>\n",
       "      <td>7401</td>\n",
       "      <td>129023</td>\n",
       "      <td>4028</td>\n",
       "    </tr>\n",
       "    <tr>\n",
       "      <th>2013</th>\n",
       "      <td>309422</td>\n",
       "      <td>140332</td>\n",
       "      <td>169090</td>\n",
       "      <td>130736</td>\n",
       "      <td>9596</td>\n",
       "      <td>164538</td>\n",
       "      <td>4552</td>\n",
       "    </tr>\n",
       "    <tr>\n",
       "      <th>2014</th>\n",
       "      <td>349571</td>\n",
       "      <td>141261</td>\n",
       "      <td>208310</td>\n",
       "      <td>130616</td>\n",
       "      <td>10645</td>\n",
       "      <td>202190</td>\n",
       "      <td>6120</td>\n",
       "    </tr>\n",
       "    <tr>\n",
       "      <th>2015</th>\n",
       "      <td>301575</td>\n",
       "      <td>119490</td>\n",
       "      <td>182085</td>\n",
       "      <td>111846</td>\n",
       "      <td>7644</td>\n",
       "      <td>176656</td>\n",
       "      <td>5429</td>\n",
       "    </tr>\n",
       "    <tr>\n",
       "      <th>2016</th>\n",
       "      <td>380244</td>\n",
       "      <td>116387</td>\n",
       "      <td>263857</td>\n",
       "      <td>105092</td>\n",
       "      <td>11295</td>\n",
       "      <td>252120</td>\n",
       "      <td>11737</td>\n",
       "    </tr>\n",
       "    <tr>\n",
       "      <th>2017</th>\n",
       "      <td>403251</td>\n",
       "      <td>110684</td>\n",
       "      <td>292567</td>\n",
       "      <td>96166</td>\n",
       "      <td>14518</td>\n",
       "      <td>277229</td>\n",
       "      <td>15338</td>\n",
       "    </tr>\n",
       "    <tr>\n",
       "      <th>2018</th>\n",
       "      <td>396307</td>\n",
       "      <td>116070</td>\n",
       "      <td>280237</td>\n",
       "      <td>87889</td>\n",
       "      <td>28181</td>\n",
       "      <td>247072</td>\n",
       "      <td>33165</td>\n",
       "    </tr>\n",
       "    <tr>\n",
       "      <th>2019</th>\n",
       "      <td>101685</td>\n",
       "      <td>48711</td>\n",
       "      <td>52974</td>\n",
       "      <td>33366</td>\n",
       "      <td>15345</td>\n",
       "      <td>43268</td>\n",
       "      <td>9706</td>\n",
       "    </tr>\n",
       "  </tbody>\n",
       "</table>\n",
       "</div>"
      ],
      "text/plain": [
       "       Total  All_Initial  All_Continuing  Initial_Approvals  Initial_Denials  \\\n",
       "Year                                                                            \n",
       "2012  281261       148210          133051             140809             7401   \n",
       "2013  309422       140332          169090             130736             9596   \n",
       "2014  349571       141261          208310             130616            10645   \n",
       "2015  301575       119490          182085             111846             7644   \n",
       "2016  380244       116387          263857             105092            11295   \n",
       "2017  403251       110684          292567              96166            14518   \n",
       "2018  396307       116070          280237              87889            28181   \n",
       "2019  101685        48711           52974              33366            15345   \n",
       "\n",
       "      Continuing_Approvals  Continuing_Denials  \n",
       "Year                                            \n",
       "2012                129023                4028  \n",
       "2013                164538                4552  \n",
       "2014                202190                6120  \n",
       "2015                176656                5429  \n",
       "2016                252120               11737  \n",
       "2017                277229               15338  \n",
       "2018                247072               33165  \n",
       "2019                 43268                9706  "
      ]
     },
     "execution_count": 30,
     "metadata": {},
     "output_type": "execute_result"
    }
   ],
   "source": [
    "decisions_data = {\n",
    "            'Year': [2012, 2013, 2014, 2015, 2016, 2017, 2018, 2019],        \n",
    "            'Total':[total_12, total_13, total_14, total_15, total_16, total_17, total_18, total_19],          \n",
    "            'All_Initial': [I_12, I_13, I_14, I_15, I_16, I_17, I_18, I_19],\n",
    "            'All_Continuing': [C_12, C_13, C_14, C_15, C_16, C_17, C_18, C_19],  \n",
    "            'Initial_Approvals': [IA12, IA13, IA14, IA15, IA16, IA17, IA18, IA19], \n",
    "            'Initial_Denials': [ID12, ID13, ID14, ID15, ID16, ID17, ID18, ID19],\n",
    "            'Continuing_Approvals': [CA12, CA13, CA14, CA15, CA16, CA17, CA18, CA19],\n",
    "            'Continuing_Denials': [CD12, CD13, CD14, CD15, CD16, CD17, CD18, CD19]  \n",
    "           }\n",
    "df = pd.DataFrame(decisions_data)\n",
    "df.set_index('Year', inplace=True)\n",
    "df"
   ]
  },
  {
   "cell_type": "markdown",
   "metadata": {},
   "source": [
    "#### Something seems fishy... \n",
    "\n",
    "In the above dataframe, the number of total H-1B petitions received each year is inconsistent with the numbers reported in a 2017 USCIS report. \n",
    "\n",
    "The total petitions recorded in that report are displayed in the dataframe below:\n",
    "\n",
    "Source: https://www.uscis.gov/sites/default/files/USCIS/Resources/Reports%20and%20Studies/Immigration%20Forms%20Data/BAHA/h-1b-2007-2017-trend-tables.pdf\n",
    "\n",
    "Please note that in the following explorations, we operate under the assumption that the dataset provided on the Employer Data Hub is correct."
   ]
  },
  {
   "cell_type": "code",
   "execution_count": 31,
   "metadata": {},
   "outputs": [
    {
     "data": {
      "text/html": [
       "<div>\n",
       "<style scoped>\n",
       "    .dataframe tbody tr th:only-of-type {\n",
       "        vertical-align: middle;\n",
       "    }\n",
       "\n",
       "    .dataframe tbody tr th {\n",
       "        vertical-align: top;\n",
       "    }\n",
       "\n",
       "    .dataframe thead th {\n",
       "        text-align: right;\n",
       "    }\n",
       "</style>\n",
       "<table border=\"1\" class=\"dataframe\">\n",
       "  <thead>\n",
       "    <tr style=\"text-align: right;\">\n",
       "      <th></th>\n",
       "      <th>Total from 2017 USCIS Report</th>\n",
       "      <th>Total from USCIS Data Hub</th>\n",
       "    </tr>\n",
       "    <tr>\n",
       "      <th>Year</th>\n",
       "      <th></th>\n",
       "      <th></th>\n",
       "    </tr>\n",
       "  </thead>\n",
       "  <tbody>\n",
       "    <tr>\n",
       "      <th>2012</th>\n",
       "      <td>308242</td>\n",
       "      <td>281261</td>\n",
       "    </tr>\n",
       "    <tr>\n",
       "      <th>2013</th>\n",
       "      <td>299690</td>\n",
       "      <td>309422</td>\n",
       "    </tr>\n",
       "    <tr>\n",
       "      <th>2014</th>\n",
       "      <td>325971</td>\n",
       "      <td>349571</td>\n",
       "    </tr>\n",
       "    <tr>\n",
       "      <th>2015</th>\n",
       "      <td>368852</td>\n",
       "      <td>301575</td>\n",
       "    </tr>\n",
       "    <tr>\n",
       "      <th>2016</th>\n",
       "      <td>399349</td>\n",
       "      <td>380244</td>\n",
       "    </tr>\n",
       "    <tr>\n",
       "      <th>2017</th>\n",
       "      <td>336107</td>\n",
       "      <td>403251</td>\n",
       "    </tr>\n",
       "  </tbody>\n",
       "</table>\n",
       "</div>"
      ],
      "text/plain": [
       "      Total from 2017 USCIS Report  Total from USCIS Data Hub\n",
       "Year                                                         \n",
       "2012                        308242                     281261\n",
       "2013                        299690                     309422\n",
       "2014                        325971                     349571\n",
       "2015                        368852                     301575\n",
       "2016                        399349                     380244\n",
       "2017                        336107                     403251"
      ]
     },
     "execution_count": 31,
     "metadata": {},
     "output_type": "execute_result"
    }
   ],
   "source": [
    "USCIS_report = {\n",
    "            'Year':[2012, 2013, 2014, 2015, 2016, 2017],\n",
    "            'Total from 2017 USCIS Report':[308242, 299690, 325971, 368852, 399349, 336107],\n",
    "            'Total from USCIS Data Hub':[total_12, total_13, total_14, total_15, total_16, total_17]\n",
    "           }\n",
    "df_alt = pd.DataFrame(USCIS_report)\n",
    "df_alt.set_index('Year', inplace=True)\n",
    "df_alt"
   ]
  },
  {
   "cell_type": "markdown",
   "metadata": {},
   "source": [
    "The discrepancies here are puzzling, given that all the data is coming from the same organization. Neither total is consistently higher than the other, but they are consistently different. Perhaps there are errors in the USCIS H-1B Employer Data Hub - after all, it was launched less than two months ago. \n",
    "\n",
    "Please note that in the following interpretations, we operate under the assumption that the dataset provided on the  Employer Data Hub is correct. "
   ]
  },
  {
   "cell_type": "markdown",
   "metadata": {},
   "source": [
    "## Visualize trends in approval/denial rates over time\n",
    "### Percent Stacked Barplot\n",
    "REMINDER: 2019 data includes only the first quarter of fiscal year 2019."
   ]
  },
  {
   "cell_type": "code",
   "execution_count": 32,
   "metadata": {},
   "outputs": [],
   "source": [
    "# from raw value to percentage\n",
    "# source: https://python-graph-gallery.com/13-percent-stacked-barplot/\n",
    "totals = [i+j+k+l for i,j,k,l in zip(df['Initial_Approvals'], df['Initial_Denials'], df['Continuing_Approvals'], df['Continuing_Denials'])]\n",
    "dgreenbars = [i / j * 100 for i,j in zip(df['Initial_Approvals'], totals)]\n",
    "redbars = [i / j * 100 for i,j in zip(df['Initial_Denials'], totals)]\n",
    "lgreenbars = [i / j * 100 for i,j in zip(df['Continuing_Approvals'], totals)]\n",
    "pinkbars = [i / j * 100 for i,j in zip(df['Continuing_Denials'], totals)]"
   ]
  },
  {
   "cell_type": "code",
   "execution_count": 33,
   "metadata": {
    "scrolled": false
   },
   "outputs": [
    {
     "data": {
      "image/png": "[encoded data removed]",
      "text/plain": [
       "<Figure size 1080x720 with 1 Axes>"
      ]
     },
     "metadata": {
      "needs_background": "light"
     },
     "output_type": "display_data"
    }
   ],
   "source": [
    "# create percent stacked barplot\n",
    "# source: https://python-graph-gallery.com/13-percent-stacked-barplot/\n",
    "# source for font code: \n",
    "# https://matplotlib.org/api/matplotlib_configuration_api.html#matplotlib.rc\n",
    "\n",
    "r =[0,1,2,3,4,5,6,7]\n",
    "years = ('2012','2013','2014','2015','2016','2017','2018','2019')\n",
    "\n",
    "#formatting\n",
    "barWidth = 0.9\n",
    "f1 = plt.figure(figsize=(15,10))\n",
    "font = {'family' : 'normal',\n",
    "        'weight' : 'normal',\n",
    "        'size'   : 14}\n",
    "rc('font', **font)\n",
    "\n",
    "# Create dark green initial approval bars\n",
    "p1 = plt.bar(r, dgreenbars, color='#489c61', edgecolor='white', width=barWidth)\n",
    "# Create light green continuing approval bars\n",
    "p2 = plt.bar(r, lgreenbars, bottom=dgreenbars, color='#c1efcf', edgecolor='white', width=barWidth)\n",
    "# Create red initial denial bars\n",
    "p3 = plt.bar(r, redbars, bottom=[i+j for i,j in zip(dgreenbars, lgreenbars)], color='#ff0000', edgecolor='white', width=barWidth)\n",
    "# Create pink continuing denial bars\n",
    "p4 = plt.bar(r, pinkbars, bottom=[i+j+k for i,j,k in zip(dgreenbars, lgreenbars, redbars)], color='#efc1c1', edgecolor='white', width=barWidth)\n",
    "\n",
    "plt.xticks(r, years)\n",
    "plt.xlabel(\"Year\")\n",
    "plt.ylabel(\"Percent\")\n",
    "plt.title(\"All H-1B Petition Decisions 2012-2019\")\n",
    "\n",
    "plt.legend((p1[0], p2[0], p3[0], p4[0]), ('Initial Approval', 'Continuing Approval','Initial Denial', 'Continuing Denial'))\n",
    "\n",
    "plt.show()"
   ]
  },
  {
   "cell_type": "markdown",
   "metadata": {},
   "source": [
    "#### What is going on here?\n",
    "Since 2012, initial approval rates have steadily decreased. Since 2016, both initial and continuing denial rates have increased. The pattern of continuing approval rates is less straightforward. It appears that continuing approval rates have decreased since 2017.\n",
    "\n",
    "These patterns do not necessarily imply a policy change or increased stringency on the part of the USCIS. Does an increase in the number of applicants explain the reduced rates of approval? \n",
    "\n",
    "The next few figures begin to address this question by visualizing _absolute_ numbers instead of rates. If we observe constant or decreasing numbers of H-1B petitions, we will know that increased applicants cannot explain the trends above."
   ]
  },
  {
   "cell_type": "markdown",
   "metadata": {},
   "source": [
    "## Visualize absolute number of H-1B petitions; 2012-2018\n",
    "### Multiple Line Graph\n",
    "2019 omitted because dataset includes only the first quarter of FY 2019."
   ]
  },
  {
   "cell_type": "code",
   "execution_count": 38,
   "metadata": {
    "scrolled": false
   },
   "outputs": [
    {
     "data": {
      "image/png": "[encoded data removed]",
      "text/plain": [
       "<Figure size 1080x720 with 1 Axes>"
      ]
     },
     "metadata": {
      "needs_background": "light"
     },
     "output_type": "display_data"
    }
   ],
   "source": [
    "# source: https://www.pythonprogramming.in/matplotlib/plot-line-graph-with-multiple-lines-with-label-and-legend.html\n",
    "\n",
    "initial_1218 = [I_12, I_13, I_14, I_15, I_16, I_17, I_18]\n",
    "continuing_1218 = [C_12, C_13, C_14, C_15, C_16, C_17, C_18]\n",
    "totals_1218 = [total_12, total_13, total_14, total_15, total_16, total_17, total_18]\n",
    "\n",
    "\n",
    "f1 = plt.figure(figsize=(15,10))\n",
    "font = {'family' : 'normal',\n",
    "        'weight' : 'normal',\n",
    "        'size'   : 16}\n",
    "rc('font', **font)\n",
    "\n",
    "\n",
    "plt.plot(totals_1218, label='Total Petitions',linewidth = 4)\n",
    "plt.plot(initial_1218, label='Initial Petitions',linewidth = 4)\n",
    "plt.plot(continuing_1218, label='Continuing Petitions', color='#FFDE4A', linewidth = 4)\n",
    "\n",
    "\n",
    "# Add labels and title\n",
    "plt.title(\"Total H1-B Petitions Filed, 2012-2018\")\n",
    "plt.xlabel(\"Year\")\n",
    "plt.ylabel(\"Submitted H1-B Petitions\")\n",
    "plt.xticks(ticks, years)\n",
    "\n",
    "plt.legend()\n",
    "plt.show()"
   ]
  },
  {
   "cell_type": "markdown",
   "metadata": {},
   "source": [
    "#### What is going on here?\n",
    "\n",
    "Over the past few years, the number of continuing H-1B petitions and the number of _overall_ petitions have increased. Perhaps, then, the recent dip in continuing and overall approval rates can be explained by an increase in continuing applicants.\n",
    "\n",
    "The number of _initial_ H-1B petitions filed, however, has declined in the last decade. The fact that we still saw a decrease in initial approval rates indicates that some other factor may be driving the trend."
   ]
  },
  {
   "cell_type": "markdown",
   "metadata": {},
   "source": [
    "## Visualize absolute number of H-1B petitions by outcome type; 2012-2018\n",
    "### Multiple Line Graph\n",
    "2019 omitted because dataset includes only the first quarter of FY 2019."
   ]
  },
  {
   "cell_type": "code",
   "execution_count": 36,
   "metadata": {},
   "outputs": [
    {
     "data": {
      "image/png": "[encoded data removed]",
      "text/plain": [
       "<Figure size 1080x720 with 1 Axes>"
      ]
     },
     "metadata": {
      "needs_background": "light"
     },
     "output_type": "display_data"
    }
   ],
   "source": [
    "# source: https://www.pythonprogramming.in/matplotlib/plot-line-graph-with-multiple-lines-with-label-and-legend.html\n",
    "\n",
    "f1 = plt.figure(figsize=(15,10))\n",
    "font = {'family' : 'normal',\n",
    "        'weight' : 'normal',\n",
    "        'size'   : 16}\n",
    "rc('font', **font)\n",
    "\n",
    "ticks = [0,1,2,3,4,5,6]\n",
    "years = ('2012', '2013', '2014', '2015', '2016', '2017', '2018')\n",
    "\n",
    "IA = [IA12, IA13, IA14, IA15, IA16, IA17, IA18]\n",
    "ID = [ID12, ID13, ID14, ID15, ID16, ID17, ID18]\n",
    "CA = [CA12, CA13, CA14, CA15, CA16, CA17, CA18]\n",
    "CD = [CD12, CD13, CD14, CD15, CD16, CD17, CD18]\n",
    "\n",
    "#Plot a line graph\n",
    "plt.plot(IA, color='#489c61', label='Initial Approval', linewidth = 4)\n",
    "plt.plot(CA, color='#c1efcf', label='Continuing Approval', linewidth = 4)\n",
    "plt.plot(ID, color='#ff0000', label='Initial Denial', linewidth = 4)\n",
    "plt.plot(CD, color='#efc1c1', label='Continuing Denial', linewidth = 4)\n",
    " \n",
    "# Add labels and title\n",
    "plt.title(\"Number of H-1B Petitions by Outcome, 2012-2018\")\n",
    "plt.xlabel(\"Year\")\n",
    "plt.ylabel(\"Submitted H-1B Petitions\")\n",
    "plt.xticks(ticks, years)\n",
    " \n",
    "plt.legend()\n",
    "plt.show()"
   ]
  },
  {
   "cell_type": "markdown",
   "metadata": {},
   "source": [
    "#### What is going on here?\n",
    "\n",
    "When we compare this line graph to the percent stacked bar graph above, we glean a few insights.\n",
    "\n",
    "* As denial rates have increased, so has the absolute number of people receiving denials of both types\n",
    "* The number of people receiving approval for continuing H-1B visas in the past several years has greatly increased. This trend was not evident on the stacked bar plot, and it is an interesting one. It suggests that the USCIS has actually become more generous in approving continuing petitions over time.\n",
    "* As initial approval rates have decreased, so has the absolute number of people receiving initial approvals. This is interesting, as it rules out the possibility that reduced relative rates of initial approvals over time can be explained simply by a growing applicant pool. "
   ]
  },
  {
   "cell_type": "markdown",
   "metadata": {},
   "source": [
    "## Future Directions/Analyses\n",
    "\n",
    "Public discourse surrounding immigration reform is often undercut by the fact that so few people fully understand the complex system.  We have broken down the data for a single and very specific visa class, even beginning to extrapolate informed opinions on domestic policy from this data is very difficult. \n",
    "\n",
    "Future researchers could run a multinomial logistic regression to identify the extent to which the year explains the change in approvals and denials over time. Has the overall denial or approval rate changed significanty since Trump's 2017 \"Buy American, Hire American\" executive order?\n",
    "\n",
    "Future research should also widen the scope of this project to examine other factors that may affect denial rates over time. For example, research should take into account global immigration patterns, national rates of unemployment/layoffs, and public sentiment toward immigrants. Future research should also examine the NAFP’s 2017 claim that “USCIS raised the standard of proof for approving an H-1B petition without any new law or regulation that would permit the agency to do so legally, according to attorney and employers.” Is this actually the case?\n",
    "\n",
    "Another future direction would involve combining the 2011-2018 LCA databases into one and running the same descriptive statistics on the 2011-2018 data to look for changes in hiring patterns over time given the continuing demand for computer programmers. A deeper look into the 2011-2016 prevailing wage determinations and employer information could identify companies who file excessive numbers of LCAs and could be used to verify the claim that there is abuse of the system. \n",
    "\n",
    "Lastly, we started this project with the hope of building a predictive model (based on the LCA database) in which an applicant could plug in their job stats into the model and get back out a prediction that their application would get through the LCA step. Since the LCA dataset is so imbalanced (many more approvals than denials) it is a challenging machine learning problem. We attempted to create a model based on this example --https://www.datacamp.com/community/tutorials/predicting-H-1B-visa-status-python -- but with given the size of the 2018 dataset there was not enough memory on our server to run it. In retrospect, a more interesting machine learning problem would involve modeling BOTH the LCA step of the process and the USCIS lottery/adjudication step.  "
   ]
  },
  {
   "cell_type": "markdown",
   "metadata": {},
   "source": [
    "## Contributing\n",
    "\n",
    "**The following resources were helpful for understanding the H-1B application process and current events surrounding this issue:**\n",
    "* Infographic: https://www.immi-usa.com/h1b-application-process-step-by-step-guide/\n",
    "* News articles about President Trump’s 2020 legal immigration goals: \n",
    "    * https://www.cnn.com/2019/05/16/politics/merit-based-immigration-explainer/index.html\n",
    "    * https://www.nbcnews.com/politics/white-house/trump-plays-middle-2020-legal-immigration-focus-n1006671\n",
    "* Concise explanation of Labor Conditions Approval: https://www.upcounsel.com/what-is-a-lca\n",
    "* Legal definitions of ‘initial’ and ‘continuing’: https://www.uscis.gov/tools/reports-studies/understanding-our-h-1b-employer-data-hub\n",
    "* NFAP Policy Brief: https://nfap.com/wp-content/uploads/2019/04/H-1B-Denial-Rates-Past-and-Present.NFAP-Policy-Brief.April-2019.pdf\n",
    "* USCIS 2017 Report: https://www.uscis.gov/sites/default/files/USCIS/Resources/Reports%20and%20Studies/Immigration%20Forms%20Data/BAHA/h-1b-2007-2017-trend-tables.pdf\n",
    "\n",
    "\n",
    "**Links to source code are embedded throughout. In our data explorations, we used code from:**\n",
    "* https://python-graph-gallery.com/13-percent-stacked-barplot/\n",
    "* https://matplotlib.org/api/matplotlib_configuration_api.html#matplotlib.rc\n",
    "* https://www.pythonprogramming.in/matplotlib/plot-line-graph-with-multiple-lines-with-label-and-legend.html"
   ]
  }
 ],
 "metadata": {
  "kernelspec": {
   "display_name": "Psych81.09",
   "language": "python",
   "name": "psych81.09"
  },
  "language_info": {
   "codemirror_mode": {
    "name": "ipython",
    "version": 3
   },
   "file_extension": ".py",
   "mimetype": "text/x-python",
   "name": "python",
   "nbconvert_exporter": "python",
   "pygments_lexer": "ipython3",
   "version": "3.6.8"
  }
 },
 "nbformat": 4,
 "nbformat_minor": 2
}
