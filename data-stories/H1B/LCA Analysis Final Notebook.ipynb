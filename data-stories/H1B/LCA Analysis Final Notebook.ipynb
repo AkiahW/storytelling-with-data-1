{
 "cells": [
  {
   "cell_type": "markdown",
   "metadata": {},
   "source": [
    "# 2018 Labor Conditions Application Certification Analysis"
   ]
  },
  {
   "cell_type": "markdown",
   "metadata": {},
   "source": [
    "The aim of this exploratory analysis is to find interesting patterns in the H-1B Labor Condition Application (LCA) process, specifically to learn about which applications get certified or denied and what employers can do to increase their chances of making it through the LCA application swiftly as to ensure timely filing for the H1B lottery (see Sonia's notebook). \n",
    "\n",
    "A case status is the status of the H-1B application after LCA processing. LCA either certifies or denies the application. Once applications are certified, they are sent to USCIS for H-1B adjudication and are subject to a cap of 85,000 visas a year. \n",
    "\n",
    "What can this data set tell us? ?\n",
    "\n",
    "Question 1. What are the top 10 occupations for H-1B visas with certified status?\n",
    "\n",
    "Question 2: Which company hires the most data scientists based on H-1B applications?\n",
    "\n",
    "Qustion 3: What is the average salary for data scientists based on H-1B applications? And how does it compare to the average salary of all H-1B applicants?\n",
    "\n",
    "What industries are in the top 5 percentile of H-1B applications?\n",
    "\n",
    "What month is the tipping point for a high rate of denied applications?\n",
    "\n",
    "Insights from the analysis:\n",
    "\n",
    "Applications software developers, computer systems analysts, computer programmers, and other computer occupations topped the list of occupations that received H-1B certified status. Others occupations include management analysts, accountants and auditors, network administators, and financial analysts.\n",
    "Microsoft hires the most data scientists (40), outpacing Facebook's distant second of 12 hires, and Uber's distant third of 6 hires.\n",
    "H-1B certified Data Scientists earn an average of \\$88,646 which is 17% more than the average of all H-1B visa applicants, \\$75,735.\n",
    "The state of Hawaii has the highest rate of H-1B visas denied (13%). This makes sense since Hawaii is mainly a tourist economy and most certified H-1B applications are from the high-tech/computer and Finance industries.\n",
    "The state of Delaware has the highest rate of H-1B denied by population. Delaware's economy is primarily agriculture, manufacturing, and mining.\n",
    "52 industries are in the top 5 percentile of applications. Holding top rank is Computer Programming Services.\n",
    "H-1B visa applications are more likely to obtain certified status when applied early in the year. A significant number of applications are denied starting from October.\n",
    "Key take-aways gained from this analysis are:\n",
    "\n",
    "The competition for H-1B visas is very high as there are more applicants (93,533) than visas (80,000). The timeliness of the application submission is critical. To increase their chances of success, employers should submit their H-1B applications before October.\n",
    "Good news for H-1B data scientists! They earn 17% more than the average H-1B applicants.\n",
    "If you're a data scientist and a non-citizen of the US, apply first to Microsoft, Facebook and Uber.\n",
    "About the data\n",
    "This project uses three diffferent data sets:\n",
    "\n",
    "The H-1B dataset used in this project was obtained from superdatascience.com. It is a modified version of the original dataset to simplify the analysis. The original data source can be downloaded from the United States Department of Labor website.\n",
    "The dataset containing NAICS (North America Industry Classification System) codes can be downloaded from [data.gov] (https://catalog.data.gov/dataset/north-american-industry-classification-system-naics) website.\n",
    "The populations of US states was obtained from this Wikipedia webpage and stored a csv file."
   ]
  },
  {
   "cell_type": "markdown",
   "metadata": {},
   "source": [
    "## Import Libraries"
   ]
  },
  {
   "cell_type": "code",
   "execution_count": 3,
   "metadata": {},
   "outputs": [],
   "source": [
    "# Required packages for analysis\n",
    "import pandas as pd\n",
    "import numpy as np\n",
    "import matplotlib.pyplot as plt\n",
    "import seaborn as sns\n",
    "%matplotlib inline\n",
    "import warnings\n",
    "warnings.filterwarnings('ignore')"
   ]
  },
  {
   "cell_type": "markdown",
   "metadata": {},
   "source": [
    "## Load Data"
   ]
  },
  {
   "cell_type": "code",
   "execution_count": 4,
   "metadata": {},
   "outputs": [],
   "source": [
    "# Read in the H1B data set for 2018\n",
    "LCA = pd.read_csv('2018.csv', encoding = 'latin1')"
   ]
  },
  {
   "cell_type": "code",
   "execution_count": 5,
   "metadata": {},
   "outputs": [
    {
     "data": {
      "text/plain": [
       "(609036, 15)"
      ]
     },
     "execution_count": 5,
     "metadata": {},
     "output_type": "execute_result"
    }
   ],
   "source": [
    "# Acertain the total number rows and columns\n",
    "LCA.shape"
   ]
  },
  {
   "cell_type": "markdown",
   "metadata": {},
   "source": [
    "## Explore Data"
   ]
  },
  {
   "cell_type": "code",
   "execution_count": 6,
   "metadata": {},
   "outputs": [
    {
     "data": {
      "text/html": [
       "<div>\n",
       "<style scoped>\n",
       "    .dataframe tbody tr th:only-of-type {\n",
       "        vertical-align: middle;\n",
       "    }\n",
       "\n",
       "    .dataframe tbody tr th {\n",
       "        vertical-align: top;\n",
       "    }\n",
       "\n",
       "    .dataframe thead th {\n",
       "        text-align: right;\n",
       "    }\n",
       "</style>\n",
       "<table border=\"1\" class=\"dataframe\">\n",
       "  <thead>\n",
       "    <tr style=\"text-align: right;\">\n",
       "      <th></th>\n",
       "      <th>CASE_NUMBER</th>\n",
       "      <th>CASE_STATUS</th>\n",
       "      <th>CASE_SUBMITTED</th>\n",
       "      <th>DECISION_DATE</th>\n",
       "      <th>VISA_CLASS</th>\n",
       "      <th>EMPLOYMENT_START_DATE</th>\n",
       "      <th>EMPLOYMENT_END_DATE</th>\n",
       "      <th>EMPLOYER_NAME</th>\n",
       "      <th>EMPLOYER_STATE</th>\n",
       "      <th>EMPLOYER_POSTAL_CODE</th>\n",
       "      <th>JOB_TITLE</th>\n",
       "      <th>SOC_CODE</th>\n",
       "      <th>SOC_NAME</th>\n",
       "      <th>NAICS_CODE</th>\n",
       "      <th>PREVAILING_WAGE</th>\n",
       "    </tr>\n",
       "  </thead>\n",
       "  <tbody>\n",
       "    <tr>\n",
       "      <th>0</th>\n",
       "      <td>I-200-18026-338377</td>\n",
       "      <td>CERTIFIED</td>\n",
       "      <td>1/29/2018</td>\n",
       "      <td>2/2/2018</td>\n",
       "      <td>H-1B</td>\n",
       "      <td>7/28/2018</td>\n",
       "      <td>7/27/2021</td>\n",
       "      <td>MICROSOFT CORPORATION</td>\n",
       "      <td>WA</td>\n",
       "      <td>98052</td>\n",
       "      <td>SOFTWARE ENGINEER</td>\n",
       "      <td>15-1132</td>\n",
       "      <td>SOFTWARE DEVELOPERS, APPLICATIONS</td>\n",
       "      <td>51121.0</td>\n",
       "      <td>112549.0</td>\n",
       "    </tr>\n",
       "    <tr>\n",
       "      <th>1</th>\n",
       "      <td>I-200-17296-353451</td>\n",
       "      <td>CERTIFIED</td>\n",
       "      <td>10/23/2017</td>\n",
       "      <td>10/27/2017</td>\n",
       "      <td>H-1B</td>\n",
       "      <td>11/6/2017</td>\n",
       "      <td>11/6/2020</td>\n",
       "      <td>ERNST &amp; YOUNG U.S. LLP</td>\n",
       "      <td>NJ</td>\n",
       "      <td>7094</td>\n",
       "      <td>TAX SENIOR</td>\n",
       "      <td>13-2011</td>\n",
       "      <td>ACCOUNTANTS AND AUDITORS</td>\n",
       "      <td>541211.0</td>\n",
       "      <td>79976.0</td>\n",
       "    </tr>\n",
       "    <tr>\n",
       "      <th>2</th>\n",
       "      <td>I-200-18242-524477</td>\n",
       "      <td>CERTIFIED</td>\n",
       "      <td>8/30/2018</td>\n",
       "      <td>9/6/2018</td>\n",
       "      <td>H-1B</td>\n",
       "      <td>9/10/2018</td>\n",
       "      <td>9/9/2021</td>\n",
       "      <td>LOGIXHUB LLC</td>\n",
       "      <td>TX</td>\n",
       "      <td>75062</td>\n",
       "      <td>DATABASE ADMINISTRATOR</td>\n",
       "      <td>15-1141</td>\n",
       "      <td>DATABASE ADMINISTRATORS</td>\n",
       "      <td>541511.0</td>\n",
       "      <td>77792.0</td>\n",
       "    </tr>\n",
       "    <tr>\n",
       "      <th>3</th>\n",
       "      <td>I-200-18070-575236</td>\n",
       "      <td>CERTIFIED</td>\n",
       "      <td>NaN</td>\n",
       "      <td>3/30/2018</td>\n",
       "      <td>H-1B</td>\n",
       "      <td>9/10/2018</td>\n",
       "      <td>9/9/2021</td>\n",
       "      <td>HEXAWARE TECHNOLOGIES, INC.</td>\n",
       "      <td>NJ</td>\n",
       "      <td>8830</td>\n",
       "      <td>SOFTWARE ENGINEER</td>\n",
       "      <td>15-1132</td>\n",
       "      <td>SOFTWARE DEVELOPERS, APPLICATIONS</td>\n",
       "      <td>541511.0</td>\n",
       "      <td>84406.0</td>\n",
       "    </tr>\n",
       "    <tr>\n",
       "      <th>4</th>\n",
       "      <td>I-200-18243-850522</td>\n",
       "      <td>CERTIFIED</td>\n",
       "      <td>8/31/2018</td>\n",
       "      <td>9/7/2018</td>\n",
       "      <td>H-1B</td>\n",
       "      <td>9/7/2018</td>\n",
       "      <td>9/6/2021</td>\n",
       "      <td>ECLOUD LABS,INC.</td>\n",
       "      <td>NJ</td>\n",
       "      <td>8830</td>\n",
       "      <td>MICROSOFT DYNAMICS CRM APPLICATION DEVELOPER</td>\n",
       "      <td>15-1132</td>\n",
       "      <td>SOFTWARE DEVELOPERS, APPLICATIONS</td>\n",
       "      <td>541511.0</td>\n",
       "      <td>87714.0</td>\n",
       "    </tr>\n",
       "  </tbody>\n",
       "</table>\n",
       "</div>"
      ],
      "text/plain": [
       "          CASE_NUMBER CASE_STATUS CASE_SUBMITTED DECISION_DATE VISA_CLASS  \\\n",
       "0  I-200-18026-338377   CERTIFIED      1/29/2018      2/2/2018       H-1B   \n",
       "1  I-200-17296-353451   CERTIFIED     10/23/2017    10/27/2017       H-1B   \n",
       "2  I-200-18242-524477   CERTIFIED      8/30/2018      9/6/2018       H-1B   \n",
       "3  I-200-18070-575236   CERTIFIED            NaN     3/30/2018       H-1B   \n",
       "4  I-200-18243-850522   CERTIFIED      8/31/2018      9/7/2018       H-1B   \n",
       "\n",
       "  EMPLOYMENT_START_DATE EMPLOYMENT_END_DATE                EMPLOYER_NAME  \\\n",
       "0             7/28/2018           7/27/2021        MICROSOFT CORPORATION   \n",
       "1             11/6/2017           11/6/2020       ERNST & YOUNG U.S. LLP   \n",
       "2             9/10/2018            9/9/2021                 LOGIXHUB LLC   \n",
       "3             9/10/2018            9/9/2021  HEXAWARE TECHNOLOGIES, INC.   \n",
       "4              9/7/2018            9/6/2021             ECLOUD LABS,INC.   \n",
       "\n",
       "  EMPLOYER_STATE EMPLOYER_POSTAL_CODE  \\\n",
       "0             WA                98052   \n",
       "1             NJ                 7094   \n",
       "2             TX                75062   \n",
       "3             NJ                 8830   \n",
       "4             NJ                 8830   \n",
       "\n",
       "                                      JOB_TITLE SOC_CODE  \\\n",
       "0                             SOFTWARE ENGINEER  15-1132   \n",
       "1                                    TAX SENIOR  13-2011   \n",
       "2                        DATABASE ADMINISTRATOR  15-1141   \n",
       "3                             SOFTWARE ENGINEER  15-1132   \n",
       "4  MICROSOFT DYNAMICS CRM APPLICATION DEVELOPER  15-1132   \n",
       "\n",
       "                            SOC_NAME  NAICS_CODE  PREVAILING_WAGE  \n",
       "0  SOFTWARE DEVELOPERS, APPLICATIONS     51121.0         112549.0  \n",
       "1           ACCOUNTANTS AND AUDITORS    541211.0          79976.0  \n",
       "2            DATABASE ADMINISTRATORS    541511.0          77792.0  \n",
       "3  SOFTWARE DEVELOPERS, APPLICATIONS    541511.0          84406.0  \n",
       "4  SOFTWARE DEVELOPERS, APPLICATIONS    541511.0          87714.0  "
      ]
     },
     "execution_count": 6,
     "metadata": {},
     "output_type": "execute_result"
    }
   ],
   "source": [
    "# Quick check to make sure dataframe was imported correctly\n",
    "LCA.head()"
   ]
  },
  {
   "cell_type": "code",
   "execution_count": 8,
   "metadata": {},
   "outputs": [
    {
     "name": "stdout",
     "output_type": "stream",
     "text": [
      "<class 'pandas.core.frame.DataFrame'>\n",
      "RangeIndex: 609036 entries, 0 to 609035\n",
      "Data columns (total 15 columns):\n",
      "CASE_NUMBER              609036 non-null object\n",
      "CASE_STATUS              609036 non-null object\n",
      "CASE_SUBMITTED           609035 non-null object\n",
      "DECISION_DATE            609036 non-null object\n",
      "VISA_CLASS               609036 non-null object\n",
      "EMPLOYMENT_START_DATE    609029 non-null object\n",
      "EMPLOYMENT_END_DATE      609027 non-null object\n",
      "EMPLOYER_NAME            609017 non-null object\n",
      "EMPLOYER_STATE           608967 non-null object\n",
      "EMPLOYER_POSTAL_CODE     609020 non-null object\n",
      "JOB_TITLE                609031 non-null object\n",
      "SOC_CODE                 609032 non-null object\n",
      "SOC_NAME                 609032 non-null object\n",
      "NAICS_CODE               609030 non-null float64\n",
      "PREVAILING_WAGE          609035 non-null float64\n",
      "dtypes: float64(2), object(13)\n",
      "memory usage: 69.7+ MB\n"
     ]
    }
   ],
   "source": [
    "# Check the structure of the datafram\n",
    "LCA.info()"
   ]
  },
  {
   "cell_type": "markdown",
   "metadata": {},
   "source": [
    "# What are the top 10 occupations for certified LCAs"
   ]
  },
  {
   "cell_type": "code",
   "execution_count": 11,
   "metadata": {},
   "outputs": [
    {
     "name": "stdout",
     "output_type": "stream",
     "text": [
      "Number of LCAs Filed in 2018: 609036\n"
     ]
    }
   ],
   "source": [
    "#The number of cases in the visas dataset\n",
    "LCA_cases = LCA.CASE_NUMBER.count()\n",
    "print(\"Number of LCAs Filed in 2018:\", LCA_cases)"
   ]
  },
  {
   "cell_type": "code",
   "execution_count": 14,
   "metadata": {},
   "outputs": [
    {
     "name": "stdout",
     "output_type": "stream",
     "text": [
      "Case Status Categories:  ['CERTIFIED' 'DENIED' 'WITHDRAWN' 'CERTIFIED-WITHDRAWN']\n"
     ]
    }
   ],
   "source": [
    "# Check how many case status categories are in the dataset\n",
    "status_cat = LCA.CASE_STATUS.unique()\n",
    "print(\"Case Status Categories: \", status_cat)"
   ]
  },
  {
   "cell_type": "code",
   "execution_count": 19,
   "metadata": {},
   "outputs": [
    {
     "name": "stdout",
     "output_type": "stream",
     "text": [
      "Number of Certfied LCAs is:  582638\n",
      "Number of distinct occupations:  595\n"
     ]
    }
   ],
   "source": [
    "# Subset just the certified and certified-withdrawn cases \n",
    "certified_LCA = LCA[(LCA.CASE_STATUS == 'CERTIFIED') | (LCA.CASE_STATUS == 'CERTIFIED-WITHDRAWN')]\n",
    "\n",
    "# The number of cases in the certified LCA dataset\n",
    "cert_LCA = certified_LCA.CASE_NUMBER.count()\n",
    "print(\"Number of Certfied LCAs is: \", cert_LCA)\n",
    "\n",
    "# The number of different occupations in the certified LCA dataset\n",
    "distinct_occ = len(certified_LCA.SOC_CODE.unique())\n",
    "print(\"Number of distinct occupations: \", distinct_occ)"
   ]
  },
  {
   "cell_type": "code",
   "execution_count": 26,
   "metadata": {},
   "outputs": [
    {
     "name": "stdout",
     "output_type": "stream",
     "text": [
      "Number of Denied LCAs is:  26398\n"
     ]
    }
   ],
   "source": [
    "#Combine the withdrawn cases statues\n",
    "denied_LCA = LCA[(LCA.CASE_STATUS == 'DENIED') | (LCA.CASE_STATUS == 'WITHDRAWN')]\n",
    "\n",
    "# The number of cases in the denied LCA dataset\n",
    "denied_LCA = denied_LCA.CASE_NUMBER.count()\n",
    "print(\"Number of Denied LCAs is: \", denied_LCA)"
   ]
  },
  {
   "cell_type": "code",
   "execution_count": 36,
   "metadata": {},
   "outputs": [
    {
     "data": {
      "text/html": [
       "<div>\n",
       "<style scoped>\n",
       "    .dataframe tbody tr th:only-of-type {\n",
       "        vertical-align: middle;\n",
       "    }\n",
       "\n",
       "    .dataframe tbody tr th {\n",
       "        vertical-align: top;\n",
       "    }\n",
       "\n",
       "    .dataframe thead th {\n",
       "        text-align: right;\n",
       "    }\n",
       "</style>\n",
       "<table border=\"1\" class=\"dataframe\">\n",
       "  <thead>\n",
       "    <tr style=\"text-align: right;\">\n",
       "      <th></th>\n",
       "      <th>SOC_NAME</th>\n",
       "      <th>COUNT</th>\n",
       "    </tr>\n",
       "  </thead>\n",
       "  <tbody>\n",
       "    <tr>\n",
       "      <th>724</th>\n",
       "      <td>SOFTWARE DEVELOPERS, APPLICATIONS</td>\n",
       "      <td>177669</td>\n",
       "    </tr>\n",
       "    <tr>\n",
       "      <th>177</th>\n",
       "      <td>COMPUTER OCCUPATIONS, ALL OTHER</td>\n",
       "      <td>56123</td>\n",
       "    </tr>\n",
       "    <tr>\n",
       "      <th>201</th>\n",
       "      <td>COMPUTER SYSTEMS ANALYSTS</td>\n",
       "      <td>55260</td>\n",
       "    </tr>\n",
       "    <tr>\n",
       "      <th>737</th>\n",
       "      <td>SOFTWARE DEVELOPERS, SYSTEMS SOFTWARE</td>\n",
       "      <td>25243</td>\n",
       "    </tr>\n",
       "    <tr>\n",
       "      <th>185</th>\n",
       "      <td>COMPUTER PROGRAMMERS</td>\n",
       "      <td>24698</td>\n",
       "    </tr>\n",
       "    <tr>\n",
       "      <th>199</th>\n",
       "      <td>COMPUTER SYSTEMS ANALYST</td>\n",
       "      <td>13204</td>\n",
       "    </tr>\n",
       "    <tr>\n",
       "      <th>569</th>\n",
       "      <td>OPERATIONS RESEARCH ANALYSTS</td>\n",
       "      <td>12007</td>\n",
       "    </tr>\n",
       "    <tr>\n",
       "      <th>462</th>\n",
       "      <td>MANAGEMENT ANALYSTS</td>\n",
       "      <td>11432</td>\n",
       "    </tr>\n",
       "    <tr>\n",
       "      <th>499</th>\n",
       "      <td>MECHANICAL ENGINEERS</td>\n",
       "      <td>9265</td>\n",
       "    </tr>\n",
       "    <tr>\n",
       "      <th>238</th>\n",
       "      <td>DATABASE ADMINISTRATORS</td>\n",
       "      <td>9206</td>\n",
       "    </tr>\n",
       "  </tbody>\n",
       "</table>\n",
       "</div>"
      ],
      "text/plain": [
       "                                  SOC_NAME   COUNT\n",
       "724      SOFTWARE DEVELOPERS, APPLICATIONS  177669\n",
       "177        COMPUTER OCCUPATIONS, ALL OTHER   56123\n",
       "201              COMPUTER SYSTEMS ANALYSTS   55260\n",
       "737  SOFTWARE DEVELOPERS, SYSTEMS SOFTWARE   25243\n",
       "185                   COMPUTER PROGRAMMERS   24698\n",
       "199               COMPUTER SYSTEMS ANALYST   13204\n",
       "569           OPERATIONS RESEARCH ANALYSTS   12007\n",
       "462                    MANAGEMENT ANALYSTS   11432\n",
       "499                   MECHANICAL ENGINEERS    9265\n",
       "238                DATABASE ADMINISTRATORS    9206"
      ]
     },
     "execution_count": 36,
     "metadata": {},
     "output_type": "execute_result"
    }
   ],
   "source": [
    "# Group, count, and sort to list Top 10 job titles of certified cases \n",
    "top_10_occupation = certified_visas.groupby('SOC_NAME').size().reset_index(name='COUNT').sort_values(by='COUNT', ascending=False)\n",
    "top_10_occupation[:10]"
   ]
  },
  {
   "cell_type": "markdown",
   "metadata": {},
   "source": [
    "### Not shocking that the top 10 positions are all computer science related fields.  "
   ]
  },
  {
   "cell_type": "markdown",
   "metadata": {},
   "source": [
    "## What companies are bringing in overseas data scientists? "
   ]
  },
  {
   "cell_type": "code",
   "execution_count": 29,
   "metadata": {},
   "outputs": [
    {
     "data": {
      "text/html": [
       "<div>\n",
       "<style scoped>\n",
       "    .dataframe tbody tr th:only-of-type {\n",
       "        vertical-align: middle;\n",
       "    }\n",
       "\n",
       "    .dataframe tbody tr th {\n",
       "        vertical-align: top;\n",
       "    }\n",
       "\n",
       "    .dataframe thead th {\n",
       "        text-align: right;\n",
       "    }\n",
       "</style>\n",
       "<table border=\"1\" class=\"dataframe\">\n",
       "  <thead>\n",
       "    <tr style=\"text-align: right;\">\n",
       "      <th></th>\n",
       "      <th>EMPLOYER_NAME</th>\n",
       "      <th>COUNT</th>\n",
       "    </tr>\n",
       "  </thead>\n",
       "  <tbody>\n",
       "    <tr>\n",
       "      <th>314</th>\n",
       "      <td>FACEBOOK, INC.</td>\n",
       "      <td>132</td>\n",
       "    </tr>\n",
       "    <tr>\n",
       "      <th>529</th>\n",
       "      <td>MICROSOFT CORPORATION</td>\n",
       "      <td>80</td>\n",
       "    </tr>\n",
       "    <tr>\n",
       "      <th>404</th>\n",
       "      <td>IBM CORPORATION</td>\n",
       "      <td>68</td>\n",
       "    </tr>\n",
       "    <tr>\n",
       "      <th>861</th>\n",
       "      <td>UBER TECHNOLOGIES, INC.</td>\n",
       "      <td>58</td>\n",
       "    </tr>\n",
       "    <tr>\n",
       "      <th>237</th>\n",
       "      <td>CYBER INFOTECH LLC</td>\n",
       "      <td>30</td>\n",
       "    </tr>\n",
       "    <tr>\n",
       "      <th>42</th>\n",
       "      <td>AIRBNB, INC.</td>\n",
       "      <td>29</td>\n",
       "    </tr>\n",
       "    <tr>\n",
       "      <th>486</th>\n",
       "      <td>LINKEDIN CORPORATION</td>\n",
       "      <td>24</td>\n",
       "    </tr>\n",
       "    <tr>\n",
       "      <th>905</th>\n",
       "      <td>WAL-MART ASSOCIATES, INC.</td>\n",
       "      <td>21</td>\n",
       "    </tr>\n",
       "    <tr>\n",
       "      <th>496</th>\n",
       "      <td>LYFT, INC.</td>\n",
       "      <td>21</td>\n",
       "    </tr>\n",
       "    <tr>\n",
       "      <th>708</th>\n",
       "      <td>SAP LABS, LLC</td>\n",
       "      <td>20</td>\n",
       "    </tr>\n",
       "  </tbody>\n",
       "</table>\n",
       "</div>"
      ],
      "text/plain": [
       "                 EMPLOYER_NAME  COUNT\n",
       "314             FACEBOOK, INC.    132\n",
       "529      MICROSOFT CORPORATION     80\n",
       "404            IBM CORPORATION     68\n",
       "861    UBER TECHNOLOGIES, INC.     58\n",
       "237         CYBER INFOTECH LLC     30\n",
       "42                AIRBNB, INC.     29\n",
       "486       LINKEDIN CORPORATION     24\n",
       "905  WAL-MART ASSOCIATES, INC.     21\n",
       "496                 LYFT, INC.     21\n",
       "708              SAP LABS, LLC     20"
      ]
     },
     "execution_count": 29,
     "metadata": {},
     "output_type": "execute_result"
    }
   ],
   "source": [
    "# Subset, group, size, and sort\n",
    "ds_gb_company = LCA[LCA.JOB_TITLE == 'DATA SCIENTIST'].groupby('EMPLOYER_NAME').size().reset_index(name='COUNT')\n",
    "ds_gb_company = ds_gb_company.sort_values(by='COUNT', ascending=False)\n",
    "ds_gb_company.head()\n",
    "\n",
    "# Top 10 companies requested data scientists\n",
    "ds_gb_company[:10]"
   ]
  },
  {
   "cell_type": "code",
   "execution_count": 8,
   "metadata": {},
   "outputs": [
    {
     "data": {
      "text/html": [
       "<div>\n",
       "<style scoped>\n",
       "    .dataframe tbody tr th:only-of-type {\n",
       "        vertical-align: middle;\n",
       "    }\n",
       "\n",
       "    .dataframe tbody tr th {\n",
       "        vertical-align: top;\n",
       "    }\n",
       "\n",
       "    .dataframe thead th {\n",
       "        text-align: right;\n",
       "    }\n",
       "</style>\n",
       "<table border=\"1\" class=\"dataframe\">\n",
       "  <thead>\n",
       "    <tr style=\"text-align: right;\">\n",
       "      <th></th>\n",
       "      <th>EMPLOYER_NAME</th>\n",
       "      <th>COUNT</th>\n",
       "    </tr>\n",
       "  </thead>\n",
       "  <tbody>\n",
       "    <tr>\n",
       "      <th>40</th>\n",
       "      <td>INFOBIZ SYSTEMS LLC</td>\n",
       "      <td>181</td>\n",
       "    </tr>\n",
       "    <tr>\n",
       "      <th>22</th>\n",
       "      <td>ERNST &amp; YOUNG U.S. LLP</td>\n",
       "      <td>106</td>\n",
       "    </tr>\n",
       "    <tr>\n",
       "      <th>50</th>\n",
       "      <td>MARVEL TECHNOLOGIES INC</td>\n",
       "      <td>70</td>\n",
       "    </tr>\n",
       "    <tr>\n",
       "      <th>65</th>\n",
       "      <td>SAVIN TECHNOLOGIES INC</td>\n",
       "      <td>55</td>\n",
       "    </tr>\n",
       "    <tr>\n",
       "      <th>86</th>\n",
       "      <td>VED SOFTWARE SERVICES INC</td>\n",
       "      <td>38</td>\n",
       "    </tr>\n",
       "    <tr>\n",
       "      <th>88</th>\n",
       "      <td>VIZVA TECH SOLUTIONS, LLC</td>\n",
       "      <td>38</td>\n",
       "    </tr>\n",
       "    <tr>\n",
       "      <th>20</th>\n",
       "      <td>EMINENCE CONSULTING INC</td>\n",
       "      <td>36</td>\n",
       "    </tr>\n",
       "    <tr>\n",
       "      <th>72</th>\n",
       "      <td>TECHMAGIX INC</td>\n",
       "      <td>34</td>\n",
       "    </tr>\n",
       "    <tr>\n",
       "      <th>15</th>\n",
       "      <td>DAZZLON COMPUTER SERVICES INC</td>\n",
       "      <td>33</td>\n",
       "    </tr>\n",
       "    <tr>\n",
       "      <th>70</th>\n",
       "      <td>STRATEGIC STAFFING IT INC</td>\n",
       "      <td>32</td>\n",
       "    </tr>\n",
       "  </tbody>\n",
       "</table>\n",
       "</div>"
      ],
      "text/plain": [
       "                    EMPLOYER_NAME  COUNT\n",
       "40            INFOBIZ SYSTEMS LLC    181\n",
       "22         ERNST & YOUNG U.S. LLP    106\n",
       "50        MARVEL TECHNOLOGIES INC     70\n",
       "65         SAVIN TECHNOLOGIES INC     55\n",
       "86      VED SOFTWARE SERVICES INC     38\n",
       "88      VIZVA TECH SOLUTIONS, LLC     38\n",
       "20        EMINENCE CONSULTING INC     36\n",
       "72                  TECHMAGIX INC     34\n",
       "15  DAZZLON COMPUTER SERVICES INC     33\n",
       "70      STRATEGIC STAFFING IT INC     32"
      ]
     },
     "execution_count": 8,
     "metadata": {},
     "output_type": "execute_result"
    }
   ],
   "source": [
    "# Subset, group, size, and sort\n",
    "ds1_gb_company = visas[visas.JOB_TITLE == 'SOFTWARE DEVELOPERS, APPLICATIONS'].groupby('EMPLOYER_NAME').size().reset_index(name='COUNT')\n",
    "ds1_gb_company = ds1_gb_company.sort_values(by='COUNT', ascending=False)\n",
    "ds1_gb_company.head()\n",
    "\n",
    "# Top 10 companies requesTING SOFTWARE DEVEVLOPERS FOR APPLICATIONS\n",
    "ds1_gb_company[:10]\n"
   ]
  },
  {
   "cell_type": "markdown",
   "metadata": {},
   "source": [
    "## What is the average slaary for data scientists based on LCAs? How does it compare to the averagee salary of all filed LCAs? "
   ]
  },
  {
   "cell_type": "code",
   "execution_count": 37,
   "metadata": {},
   "outputs": [
    {
     "name": "stdout",
     "output_type": "stream",
     "text": [
      "The average salary for all H-1B positions is $88,119\n"
     ]
    }
   ],
   "source": [
    "# Compute the mean salary for all applications\n",
    "all_positions_salary = visas['PREVAILING_WAGE'].mean()\n",
    "print('The average salary for all H-1B positions is ${:,.0f}'.format(all_positions_salary))"
   ]
  },
  {
   "cell_type": "code",
   "execution_count": 38,
   "metadata": {},
   "outputs": [
    {
     "name": "stdout",
     "output_type": "stream",
     "text": [
      "The average salary for H-1B data scientists is $92,497\n"
     ]
    }
   ],
   "source": [
    "# Compute the mean salary for data scientist applications\n",
    "ds_salary = visas['PREVAILING_WAGE'][visas.JOB_TITLE == 'DATA SCIENTIST'].mean()\n",
    "print('The average salary for H-1B data scientists is ${:,.0f}'.format(ds_salary))"
   ]
  },
  {
   "cell_type": "code",
   "execution_count": 40,
   "metadata": {},
   "outputs": [
    {
     "name": "stdout",
     "output_type": "stream",
     "text": [
      "Data Scientists earn on average $4,379 (5.0%) more than the average of all H-1B visa applicants\n"
     ]
    }
   ],
   "source": [
    "# Compute the difference and percent difference in salary\n",
    "salary_diff = ds_salary - all_positions_salary\n",
    "salary_percent_diff = (salary_diff / all_positions_salary) *100\n",
    "print('Data Scientists earn on average ${:,.0f} ({:.1f}%) more than the average of all H-1B visa applicants'.format(salary_diff, salary_percent_diff))"
   ]
  },
  {
   "cell_type": "code",
   "execution_count": 32,
   "metadata": {},
   "outputs": [
    {
     "ename": "NameError",
     "evalue": "name 'ds_salary' is not defined",
     "output_type": "error",
     "traceback": [
      "\u001b[0;31m---------------------------------------------------------------------------\u001b[0m",
      "\u001b[0;31mNameError\u001b[0m                                 Traceback (most recent call last)",
      "\u001b[0;32m<ipython-input-32-fbe29d40587c>\u001b[0m in \u001b[0;36m<module>\u001b[0;34m\u001b[0m\n\u001b[1;32m      1\u001b[0m \u001b[0;31m# Compute the mean salary for SOFTWARE DEVELOPERs applications\u001b[0m\u001b[0;34m\u001b[0m\u001b[0;34m\u001b[0m\u001b[0;34m\u001b[0m\u001b[0m\n\u001b[1;32m      2\u001b[0m \u001b[0mds_salary1\u001b[0m \u001b[0;34m=\u001b[0m \u001b[0mvisas\u001b[0m\u001b[0;34m[\u001b[0m\u001b[0;34m'PREVAILING_WAGE'\u001b[0m\u001b[0;34m]\u001b[0m\u001b[0;34m[\u001b[0m\u001b[0mvisas\u001b[0m\u001b[0;34m.\u001b[0m\u001b[0mJOB_TITLE\u001b[0m \u001b[0;34m==\u001b[0m \u001b[0;34m'SOFTWARE DEVELOPERS, APPLICATIONS'\u001b[0m\u001b[0;34m]\u001b[0m\u001b[0;34m.\u001b[0m\u001b[0mmean\u001b[0m\u001b[0;34m(\u001b[0m\u001b[0;34m)\u001b[0m\u001b[0;34m\u001b[0m\u001b[0;34m\u001b[0m\u001b[0m\n\u001b[0;32m----> 3\u001b[0;31m \u001b[0mprint\u001b[0m\u001b[0;34m(\u001b[0m\u001b[0;34m'The average salary for H-1B Applications Software Developers is ${:,.0f}'\u001b[0m\u001b[0;34m.\u001b[0m\u001b[0mformat\u001b[0m\u001b[0;34m(\u001b[0m\u001b[0mds_salary\u001b[0m\u001b[0;34m)\u001b[0m\u001b[0;34m)\u001b[0m\u001b[0;34m\u001b[0m\u001b[0;34m\u001b[0m\u001b[0m\n\u001b[0m",
      "\u001b[0;31mNameError\u001b[0m: name 'ds_salary' is not defined"
     ]
    }
   ],
   "source": [
    "# Compute the mean salary for SOFTWARE DEVELOPERs applications\n",
    "ds_salary1 = visas['PREVAILING_WAGE'][visas.JOB_TITLE == 'SOFTWARE DEVELOPERS, APPLICATIONS'].mean()\n",
    "print('The average salary for H-1B Applications Software Developers is ${:,.0f}'.format(ds_salary))"
   ]
  },
  {
   "cell_type": "code",
   "execution_count": 33,
   "metadata": {},
   "outputs": [
    {
     "ename": "NameError",
     "evalue": "name 'all_positions_salary' is not defined",
     "output_type": "error",
     "traceback": [
      "\u001b[0;31m---------------------------------------------------------------------------\u001b[0m",
      "\u001b[0;31mNameError\u001b[0m                                 Traceback (most recent call last)",
      "\u001b[0;32m<ipython-input-33-fccc0697ccb5>\u001b[0m in \u001b[0;36m<module>\u001b[0;34m\u001b[0m\n\u001b[1;32m      1\u001b[0m \u001b[0;31m# Compute the difference and percent difference in salary\u001b[0m\u001b[0;34m\u001b[0m\u001b[0;34m\u001b[0m\u001b[0;34m\u001b[0m\u001b[0m\n\u001b[0;32m----> 2\u001b[0;31m \u001b[0msalary_diff1\u001b[0m \u001b[0;34m=\u001b[0m \u001b[0mds_salary1\u001b[0m \u001b[0;34m-\u001b[0m \u001b[0mall_positions_salary\u001b[0m\u001b[0;34m\u001b[0m\u001b[0;34m\u001b[0m\u001b[0m\n\u001b[0m\u001b[1;32m      3\u001b[0m \u001b[0msalary_percent_diff1\u001b[0m \u001b[0;34m=\u001b[0m \u001b[0;34m(\u001b[0m\u001b[0msalary_diff1\u001b[0m \u001b[0;34m/\u001b[0m \u001b[0mall_positions_salary\u001b[0m\u001b[0;34m)\u001b[0m \u001b[0;34m*\u001b[0m\u001b[0;36m100\u001b[0m\u001b[0;34m\u001b[0m\u001b[0;34m\u001b[0m\u001b[0m\n\u001b[1;32m      4\u001b[0m \u001b[0mprint\u001b[0m\u001b[0;34m(\u001b[0m\u001b[0;34m'Application Software Developers earn on average ${:,.0f} ({:.1f}%) more than the average of all H-1B visa applicants'\u001b[0m\u001b[0;34m.\u001b[0m\u001b[0mformat\u001b[0m\u001b[0;34m(\u001b[0m\u001b[0msalary_diff\u001b[0m\u001b[0;34m,\u001b[0m \u001b[0msalary_percent_diff\u001b[0m\u001b[0;34m)\u001b[0m\u001b[0;34m)\u001b[0m\u001b[0;34m\u001b[0m\u001b[0;34m\u001b[0m\u001b[0m\n",
      "\u001b[0;31mNameError\u001b[0m: name 'all_positions_salary' is not defined"
     ]
    }
   ],
   "source": [
    "# Compute the difference and percent difference in salary\n",
    "salary_diff1 = ds_salary1 - all_positions_salary\n",
    "salary_percent_diff1 = (salary_diff1 / all_positions_salary) *100\n",
    "print('Application Software Developers earn on average ${:,.0f} ({:.1f}%) more than the average of all H-1B visa applicants'.format(salary_diff, salary_percent_diff))"
   ]
  },
  {
   "cell_type": "markdown",
   "metadata": {},
   "source": [
    "##### ^The above is super interesting. The PWDs for data scientists used to be 15% higher than all other LCAs (for 2007) with data science becoming more commonplace and nessecary in the everyday biz world the "
   ]
  },
  {
   "cell_type": "markdown",
   "metadata": {},
   "source": [
    "## Which state has the highest proportion of denied total H1-B visa applications? By State Population?\n",
    "\n",
    "##### The visas dataset does not have data on state population. We will have to read in the state population dataset, create a dataframe to store the calculated fields for visas by state and merge it the visas dataset so that we can calculate the proportion of denied applications by state and by population."
   ]
  },
  {
   "cell_type": "code",
   "execution_count": 10,
   "metadata": {},
   "outputs": [
    {
     "name": "stdout",
     "output_type": "stream",
     "text": [
      "number of cases denied:  6981\n"
     ]
    }
   ],
   "source": [
    "# Get the number of denied cases\n",
    "denied_apps = visas['CASE_STATUS'][visas.CASE_STATUS == 'DENIED'].count()\n",
    "print(\"number of cases denied: \", denied_apps)"
   ]
  },
  {
   "cell_type": "code",
   "execution_count": 12,
   "metadata": {},
   "outputs": [
    {
     "name": "stdout",
     "output_type": "stream",
     "text": [
      "dataset size:  (50, 3)\n"
     ]
    },
    {
     "data": {
      "text/html": [
       "<div>\n",
       "<style scoped>\n",
       "    .dataframe tbody tr th:only-of-type {\n",
       "        vertical-align: middle;\n",
       "    }\n",
       "\n",
       "    .dataframe tbody tr th {\n",
       "        vertical-align: top;\n",
       "    }\n",
       "\n",
       "    .dataframe thead th {\n",
       "        text-align: right;\n",
       "    }\n",
       "</style>\n",
       "<table border=\"1\" class=\"dataframe\">\n",
       "  <thead>\n",
       "    <tr style=\"text-align: right;\">\n",
       "      <th></th>\n",
       "      <th>State Abbreviation</th>\n",
       "      <th>State</th>\n",
       "      <th>Population Estimate</th>\n",
       "    </tr>\n",
       "  </thead>\n",
       "  <tbody>\n",
       "    <tr>\n",
       "      <th>0</th>\n",
       "      <td>AL</td>\n",
       "      <td>.Alabama</td>\n",
       "      <td>4887871</td>\n",
       "    </tr>\n",
       "    <tr>\n",
       "      <th>1</th>\n",
       "      <td>AK</td>\n",
       "      <td>.Alaska</td>\n",
       "      <td>737438</td>\n",
       "    </tr>\n",
       "    <tr>\n",
       "      <th>2</th>\n",
       "      <td>AZ</td>\n",
       "      <td>.Arizona</td>\n",
       "      <td>7171646</td>\n",
       "    </tr>\n",
       "    <tr>\n",
       "      <th>3</th>\n",
       "      <td>AR</td>\n",
       "      <td>.Arkansas</td>\n",
       "      <td>3013825</td>\n",
       "    </tr>\n",
       "    <tr>\n",
       "      <th>4</th>\n",
       "      <td>CA</td>\n",
       "      <td>.California</td>\n",
       "      <td>39557045</td>\n",
       "    </tr>\n",
       "  </tbody>\n",
       "</table>\n",
       "</div>"
      ],
      "text/plain": [
       "  State Abbreviation        State  Population Estimate\n",
       "0                 AL     .Alabama              4887871\n",
       "1                 AK      .Alaska               737438\n",
       "2                 AZ     .Arizona              7171646\n",
       "3                 AR    .Arkansas              3013825\n",
       "4                 CA  .California             39557045"
      ]
     },
     "execution_count": 12,
     "metadata": {},
     "output_type": "execute_result"
    }
   ],
   "source": [
    "# Read the states dataset\n",
    "states = pd.read_csv('POP2018.csv')\n",
    "\n",
    "# Check the number of states in the dataset\n",
    "#states.shape    # verified dataset has 50 rows and 3 columns\n",
    "\n",
    "print(\"dataset size: \",states.shape ) # verified dataset has 50 rows and 3 columns\n",
    "states.head()"
   ]
  },
  {
   "cell_type": "code",
   "execution_count": 29,
   "metadata": {},
   "outputs": [],
   "source": [
    "# Create a new dataframe with the states values\n",
    "visas_by_state = pd.DataFrame(states['State Abbreviation'].unique())   \n",
    "visas_by_state.columns = ['states']\n"
   ]
  },
  {
   "cell_type": "code",
   "execution_count": 31,
   "metadata": {},
   "outputs": [
    {
     "ename": "NameError",
     "evalue": "name 'visas_by_states' is not defined",
     "output_type": "error",
     "traceback": [
      "\u001b[0;31m---------------------------------------------------------------------------\u001b[0m",
      "\u001b[0;31mNameError\u001b[0m                                 Traceback (most recent call last)",
      "\u001b[0;32m<ipython-input-31-da278687db96>\u001b[0m in \u001b[0;36m<module>\u001b[0;34m\u001b[0m\n\u001b[1;32m      5\u001b[0m \u001b[0;34m\u001b[0m\u001b[0m\n\u001b[1;32m      6\u001b[0m \u001b[0;31m# Set the index to use the states as row labels\u001b[0m\u001b[0;34m\u001b[0m\u001b[0;34m\u001b[0m\u001b[0;34m\u001b[0m\u001b[0m\n\u001b[0;32m----> 7\u001b[0;31m \u001b[0mvisas_by_states\u001b[0m\u001b[0;34m.\u001b[0m\u001b[0mset_index\u001b[0m\u001b[0;34m(\u001b[0m\u001b[0mvisas_by_state\u001b[0m\u001b[0;34m.\u001b[0m\u001b[0mstate\u001b[0m\u001b[0;34m,\u001b[0m \u001b[0minplace\u001b[0m\u001b[0;34m=\u001b[0m\u001b[0;32mTrue\u001b[0m\u001b[0;34m,\u001b[0m \u001b[0mdrop\u001b[0m\u001b[0;34m=\u001b[0m\u001b[0;32mTrue\u001b[0m\u001b[0;34m)\u001b[0m\u001b[0;34m\u001b[0m\u001b[0;34m\u001b[0m\u001b[0m\n\u001b[0m\u001b[1;32m      8\u001b[0m \u001b[0;34m\u001b[0m\u001b[0m\n\u001b[1;32m      9\u001b[0m \u001b[0;31m# Show the new dataframe\u001b[0m\u001b[0;34m\u001b[0m\u001b[0;34m\u001b[0m\u001b[0;34m\u001b[0m\u001b[0m\n",
      "\u001b[0;31mNameError\u001b[0m: name 'visas_by_states' is not defined"
     ]
    }
   ],
   "source": [
    "# Create three more columns filled with zeros\n",
    "visas_by_state['denied'] = np.zeros(len(visas_by_state))\n",
    "visas_by_state['applicants'] = np.zeros(len(visas_by_state))\n",
    "visas_by_state['population'] = np.zeros(len(visas_by_state))\n",
    "\n",
    "# Set the index to use the states as row labels\n",
    "visas_by_states.set_index(visas_by_state.state, inplace=True, drop=True)\n",
    "\n",
    "# Show the new dataframe\n",
    "#visas_by_state.head()\n",
    "\n"
   ]
  },
  {
   "cell_type": "code",
   "execution_count": 24,
   "metadata": {},
   "outputs": [
    {
     "data": {
      "text/html": [
       "<div>\n",
       "<style scoped>\n",
       "    .dataframe tbody tr th:only-of-type {\n",
       "        vertical-align: middle;\n",
       "    }\n",
       "\n",
       "    .dataframe tbody tr th {\n",
       "        vertical-align: top;\n",
       "    }\n",
       "\n",
       "    .dataframe thead th {\n",
       "        text-align: right;\n",
       "    }\n",
       "</style>\n",
       "<table border=\"1\" class=\"dataframe\">\n",
       "  <thead>\n",
       "    <tr style=\"text-align: right;\">\n",
       "      <th></th>\n",
       "      <th>state</th>\n",
       "      <th>denied</th>\n",
       "      <th>applicants</th>\n",
       "      <th>population</th>\n",
       "      <th>denied_by_application</th>\n",
       "      <th>denied_by_population</th>\n",
       "    </tr>\n",
       "    <tr>\n",
       "      <th>state</th>\n",
       "      <th></th>\n",
       "      <th></th>\n",
       "      <th></th>\n",
       "      <th></th>\n",
       "      <th></th>\n",
       "      <th></th>\n",
       "    </tr>\n",
       "  </thead>\n",
       "  <tbody>\n",
       "    <tr>\n",
       "      <th>AL</th>\n",
       "      <td>AL</td>\n",
       "      <td>26.0</td>\n",
       "      <td>1174.0</td>\n",
       "      <td>4887871.0</td>\n",
       "      <td>0.022147</td>\n",
       "      <td>0.000005</td>\n",
       "    </tr>\n",
       "    <tr>\n",
       "      <th>AK</th>\n",
       "      <td>AK</td>\n",
       "      <td>1.0</td>\n",
       "      <td>64.0</td>\n",
       "      <td>737438.0</td>\n",
       "      <td>0.015625</td>\n",
       "      <td>0.000001</td>\n",
       "    </tr>\n",
       "    <tr>\n",
       "      <th>AZ</th>\n",
       "      <td>AZ</td>\n",
       "      <td>42.0</td>\n",
       "      <td>4417.0</td>\n",
       "      <td>7171646.0</td>\n",
       "      <td>0.009509</td>\n",
       "      <td>0.000006</td>\n",
       "    </tr>\n",
       "    <tr>\n",
       "      <th>AR</th>\n",
       "      <td>AR</td>\n",
       "      <td>14.0</td>\n",
       "      <td>2870.0</td>\n",
       "      <td>3013825.0</td>\n",
       "      <td>0.004878</td>\n",
       "      <td>0.000005</td>\n",
       "    </tr>\n",
       "    <tr>\n",
       "      <th>CA</th>\n",
       "      <td>CA</td>\n",
       "      <td>1421.0</td>\n",
       "      <td>106166.0</td>\n",
       "      <td>39557045.0</td>\n",
       "      <td>0.013385</td>\n",
       "      <td>0.000036</td>\n",
       "    </tr>\n",
       "  </tbody>\n",
       "</table>\n",
       "</div>"
      ],
      "text/plain": [
       "      state  denied  applicants  population  denied_by_application  \\\n",
       "state                                                                \n",
       "AL       AL    26.0      1174.0   4887871.0               0.022147   \n",
       "AK       AK     1.0        64.0    737438.0               0.015625   \n",
       "AZ       AZ    42.0      4417.0   7171646.0               0.009509   \n",
       "AR       AR    14.0      2870.0   3013825.0               0.004878   \n",
       "CA       CA  1421.0    106166.0  39557045.0               0.013385   \n",
       "\n",
       "       denied_by_population  \n",
       "state                        \n",
       "AL                 0.000005  \n",
       "AK                 0.000001  \n",
       "AZ                 0.000006  \n",
       "AR                 0.000005  \n",
       "CA                 0.000036  "
      ]
     },
     "execution_count": 24,
     "metadata": {},
     "output_type": "execute_result"
    }
   ],
   "source": [
    "# Fill the new dataframe with the calculated values that we need:\n",
    "for st in visas_by_state.state:\n",
    "    \n",
    "    # fill the number of denied visas by state\n",
    "    visas_by_state.loc[st, 'denied'] = len(visas[(visas.CASE_STATUS == 'DENIED') & (visas.EMPLOYER_STATE == st)])\n",
    "    \n",
    "    # fill the number of applicants by state\n",
    "    visas_by_state.loc[st, 'applicants'] = len(visas[visas.EMPLOYER_STATE == st])\n",
    "    \n",
    "    # fill the population by state\n",
    "    visas_by_state.loc[st, 'population'] = states[states['State Abbreviation'] == st]['Population Estimate'].sum()\n",
    "\n",
    "\n",
    "# Create two additional columns to represent the proportion of denied by applications and by population\n",
    "visas_by_state['denied_by_application'] = np.divide(visas_by_state.denied, visas_by_state.applicants)\n",
    "visas_by_state['denied_by_population'] = np.divide(visas_by_state.denied, visas_by_state.population)\n",
    "\n",
    "visas_by_state.head()"
   ]
  },
  {
   "cell_type": "code",
   "execution_count": 28,
   "metadata": {},
   "outputs": [
    {
     "ename": "ValueError",
     "evalue": "'state' is both an index level and a column label, which is ambiguous.",
     "output_type": "error",
     "traceback": [
      "\u001b[0;31m---------------------------------------------------------------------------\u001b[0m",
      "\u001b[0;31mValueError\u001b[0m                                Traceback (most recent call last)",
      "\u001b[0;32m<ipython-input-28-e317835954a8>\u001b[0m in \u001b[0;36m<module>\u001b[0;34m\u001b[0m\n\u001b[1;32m      1\u001b[0m \u001b[0;31m# Merge the datasets\u001b[0m\u001b[0;34m\u001b[0m\u001b[0;34m\u001b[0m\u001b[0;34m\u001b[0m\u001b[0m\n\u001b[0;32m----> 2\u001b[0;31m \u001b[0mvisas_by_state\u001b[0m \u001b[0;34m=\u001b[0m \u001b[0mpd\u001b[0m\u001b[0;34m.\u001b[0m\u001b[0mmerge\u001b[0m\u001b[0;34m(\u001b[0m\u001b[0mvisas_by_state\u001b[0m\u001b[0;34m,\u001b[0m \u001b[0mstates\u001b[0m\u001b[0;34m,\u001b[0m \u001b[0mleft_on\u001b[0m\u001b[0;34m=\u001b[0m\u001b[0;34m'state'\u001b[0m\u001b[0;34m,\u001b[0m \u001b[0mright_on\u001b[0m\u001b[0;34m=\u001b[0m\u001b[0;34m'State Abbreviation'\u001b[0m\u001b[0;34m)\u001b[0m\u001b[0;34m\u001b[0m\u001b[0;34m\u001b[0m\u001b[0m\n\u001b[0m\u001b[1;32m      3\u001b[0m \u001b[0;34m\u001b[0m\u001b[0m\n\u001b[1;32m      4\u001b[0m \u001b[0;31m# Explore the merged dataframe\u001b[0m\u001b[0;34m\u001b[0m\u001b[0;34m\u001b[0m\u001b[0;34m\u001b[0m\u001b[0m\n\u001b[1;32m      5\u001b[0m \u001b[0mvisas_by_state\u001b[0m\u001b[0;34m.\u001b[0m\u001b[0mhead\u001b[0m\u001b[0;34m(\u001b[0m\u001b[0;34m)\u001b[0m\u001b[0;34m\u001b[0m\u001b[0;34m\u001b[0m\u001b[0m\n",
      "\u001b[0;32m/optnfs/el7/jupyterhub/envs/Psych81.09/lib/python3.6/site-packages/pandas/core/reshape/merge.py\u001b[0m in \u001b[0;36mmerge\u001b[0;34m(left, right, how, on, left_on, right_on, left_index, right_index, sort, suffixes, copy, indicator, validate)\u001b[0m\n\u001b[1;32m     45\u001b[0m                          \u001b[0mright_index\u001b[0m\u001b[0;34m=\u001b[0m\u001b[0mright_index\u001b[0m\u001b[0;34m,\u001b[0m \u001b[0msort\u001b[0m\u001b[0;34m=\u001b[0m\u001b[0msort\u001b[0m\u001b[0;34m,\u001b[0m \u001b[0msuffixes\u001b[0m\u001b[0;34m=\u001b[0m\u001b[0msuffixes\u001b[0m\u001b[0;34m,\u001b[0m\u001b[0;34m\u001b[0m\u001b[0;34m\u001b[0m\u001b[0m\n\u001b[1;32m     46\u001b[0m                          \u001b[0mcopy\u001b[0m\u001b[0;34m=\u001b[0m\u001b[0mcopy\u001b[0m\u001b[0;34m,\u001b[0m \u001b[0mindicator\u001b[0m\u001b[0;34m=\u001b[0m\u001b[0mindicator\u001b[0m\u001b[0;34m,\u001b[0m\u001b[0;34m\u001b[0m\u001b[0;34m\u001b[0m\u001b[0m\n\u001b[0;32m---> 47\u001b[0;31m                          validate=validate)\n\u001b[0m\u001b[1;32m     48\u001b[0m     \u001b[0;32mreturn\u001b[0m \u001b[0mop\u001b[0m\u001b[0;34m.\u001b[0m\u001b[0mget_result\u001b[0m\u001b[0;34m(\u001b[0m\u001b[0;34m)\u001b[0m\u001b[0;34m\u001b[0m\u001b[0;34m\u001b[0m\u001b[0m\n\u001b[1;32m     49\u001b[0m \u001b[0;34m\u001b[0m\u001b[0m\n",
      "\u001b[0;32m/optnfs/el7/jupyterhub/envs/Psych81.09/lib/python3.6/site-packages/pandas/core/reshape/merge.py\u001b[0m in \u001b[0;36m__init__\u001b[0;34m(self, left, right, how, on, left_on, right_on, axis, left_index, right_index, sort, suffixes, copy, indicator, validate)\u001b[0m\n\u001b[1;32m    527\u001b[0m         (self.left_join_keys,\n\u001b[1;32m    528\u001b[0m          \u001b[0mself\u001b[0m\u001b[0;34m.\u001b[0m\u001b[0mright_join_keys\u001b[0m\u001b[0;34m,\u001b[0m\u001b[0;34m\u001b[0m\u001b[0;34m\u001b[0m\u001b[0m\n\u001b[0;32m--> 529\u001b[0;31m          self.join_names) = self._get_merge_keys()\n\u001b[0m\u001b[1;32m    530\u001b[0m \u001b[0;34m\u001b[0m\u001b[0m\n\u001b[1;32m    531\u001b[0m         \u001b[0;31m# validate the merge keys dtypes. We may need to coerce\u001b[0m\u001b[0;34m\u001b[0m\u001b[0;34m\u001b[0m\u001b[0;34m\u001b[0m\u001b[0m\n",
      "\u001b[0;32m/optnfs/el7/jupyterhub/envs/Psych81.09/lib/python3.6/site-packages/pandas/core/reshape/merge.py\u001b[0m in \u001b[0;36m_get_merge_keys\u001b[0;34m(self)\u001b[0m\n\u001b[1;32m    844\u001b[0m                         \u001b[0mright_keys\u001b[0m\u001b[0;34m.\u001b[0m\u001b[0mappend\u001b[0m\u001b[0;34m(\u001b[0m\u001b[0mrk\u001b[0m\u001b[0;34m)\u001b[0m\u001b[0;34m\u001b[0m\u001b[0;34m\u001b[0m\u001b[0m\n\u001b[1;32m    845\u001b[0m                     \u001b[0;32mif\u001b[0m \u001b[0mlk\u001b[0m \u001b[0;32mis\u001b[0m \u001b[0;32mnot\u001b[0m \u001b[0;32mNone\u001b[0m\u001b[0;34m:\u001b[0m\u001b[0;34m\u001b[0m\u001b[0;34m\u001b[0m\u001b[0m\n\u001b[0;32m--> 846\u001b[0;31m                         \u001b[0mleft_keys\u001b[0m\u001b[0;34m.\u001b[0m\u001b[0mappend\u001b[0m\u001b[0;34m(\u001b[0m\u001b[0mleft\u001b[0m\u001b[0;34m.\u001b[0m\u001b[0m_get_label_or_level_values\u001b[0m\u001b[0;34m(\u001b[0m\u001b[0mlk\u001b[0m\u001b[0;34m)\u001b[0m\u001b[0;34m)\u001b[0m\u001b[0;34m\u001b[0m\u001b[0;34m\u001b[0m\u001b[0m\n\u001b[0m\u001b[1;32m    847\u001b[0m                         \u001b[0mjoin_names\u001b[0m\u001b[0;34m.\u001b[0m\u001b[0mappend\u001b[0m\u001b[0;34m(\u001b[0m\u001b[0mlk\u001b[0m\u001b[0;34m)\u001b[0m\u001b[0;34m\u001b[0m\u001b[0;34m\u001b[0m\u001b[0m\n\u001b[1;32m    848\u001b[0m                     \u001b[0;32melse\u001b[0m\u001b[0;34m:\u001b[0m\u001b[0;34m\u001b[0m\u001b[0;34m\u001b[0m\u001b[0m\n",
      "\u001b[0;32m/optnfs/el7/jupyterhub/envs/Psych81.09/lib/python3.6/site-packages/pandas/core/generic.py\u001b[0m in \u001b[0;36m_get_label_or_level_values\u001b[0;34m(self, key, axis)\u001b[0m\n\u001b[1;32m   1699\u001b[0m \u001b[0;34m\u001b[0m\u001b[0m\n\u001b[1;32m   1700\u001b[0m         \u001b[0;32mif\u001b[0m \u001b[0mself\u001b[0m\u001b[0;34m.\u001b[0m\u001b[0m_is_label_reference\u001b[0m\u001b[0;34m(\u001b[0m\u001b[0mkey\u001b[0m\u001b[0;34m,\u001b[0m \u001b[0maxis\u001b[0m\u001b[0;34m=\u001b[0m\u001b[0maxis\u001b[0m\u001b[0;34m)\u001b[0m\u001b[0;34m:\u001b[0m\u001b[0;34m\u001b[0m\u001b[0;34m\u001b[0m\u001b[0m\n\u001b[0;32m-> 1701\u001b[0;31m             \u001b[0mself\u001b[0m\u001b[0;34m.\u001b[0m\u001b[0m_check_label_or_level_ambiguity\u001b[0m\u001b[0;34m(\u001b[0m\u001b[0mkey\u001b[0m\u001b[0;34m,\u001b[0m \u001b[0maxis\u001b[0m\u001b[0;34m=\u001b[0m\u001b[0maxis\u001b[0m\u001b[0;34m)\u001b[0m\u001b[0;34m\u001b[0m\u001b[0;34m\u001b[0m\u001b[0m\n\u001b[0m\u001b[1;32m   1702\u001b[0m             \u001b[0mvalues\u001b[0m \u001b[0;34m=\u001b[0m \u001b[0mself\u001b[0m\u001b[0;34m.\u001b[0m\u001b[0mxs\u001b[0m\u001b[0;34m(\u001b[0m\u001b[0mkey\u001b[0m\u001b[0;34m,\u001b[0m \u001b[0maxis\u001b[0m\u001b[0;34m=\u001b[0m\u001b[0mother_axes\u001b[0m\u001b[0;34m[\u001b[0m\u001b[0;36m0\u001b[0m\u001b[0;34m]\u001b[0m\u001b[0;34m)\u001b[0m\u001b[0;34m.\u001b[0m\u001b[0m_values\u001b[0m\u001b[0;34m\u001b[0m\u001b[0;34m\u001b[0m\u001b[0m\n\u001b[1;32m   1703\u001b[0m         \u001b[0;32melif\u001b[0m \u001b[0mself\u001b[0m\u001b[0;34m.\u001b[0m\u001b[0m_is_level_reference\u001b[0m\u001b[0;34m(\u001b[0m\u001b[0mkey\u001b[0m\u001b[0;34m,\u001b[0m \u001b[0maxis\u001b[0m\u001b[0;34m=\u001b[0m\u001b[0maxis\u001b[0m\u001b[0;34m)\u001b[0m\u001b[0;34m:\u001b[0m\u001b[0;34m\u001b[0m\u001b[0;34m\u001b[0m\u001b[0m\n",
      "\u001b[0;32m/optnfs/el7/jupyterhub/envs/Psych81.09/lib/python3.6/site-packages/pandas/core/generic.py\u001b[0m in \u001b[0;36m_check_label_or_level_ambiguity\u001b[0;34m(self, key, axis)\u001b[0m\n\u001b[1;32m   1653\u001b[0m                             \u001b[0mlabel_article\u001b[0m\u001b[0;34m=\u001b[0m\u001b[0mlabel_article\u001b[0m\u001b[0;34m,\u001b[0m\u001b[0;34m\u001b[0m\u001b[0;34m\u001b[0m\u001b[0m\n\u001b[1;32m   1654\u001b[0m                             label_type=label_type)\n\u001b[0;32m-> 1655\u001b[0;31m             \u001b[0;32mraise\u001b[0m \u001b[0mValueError\u001b[0m\u001b[0;34m(\u001b[0m\u001b[0mmsg\u001b[0m\u001b[0;34m)\u001b[0m\u001b[0;34m\u001b[0m\u001b[0;34m\u001b[0m\u001b[0m\n\u001b[0m\u001b[1;32m   1656\u001b[0m \u001b[0;34m\u001b[0m\u001b[0m\n\u001b[1;32m   1657\u001b[0m     \u001b[0;32mdef\u001b[0m \u001b[0m_get_label_or_level_values\u001b[0m\u001b[0;34m(\u001b[0m\u001b[0mself\u001b[0m\u001b[0;34m,\u001b[0m \u001b[0mkey\u001b[0m\u001b[0;34m,\u001b[0m \u001b[0maxis\u001b[0m\u001b[0;34m=\u001b[0m\u001b[0;36m0\u001b[0m\u001b[0;34m)\u001b[0m\u001b[0;34m:\u001b[0m\u001b[0;34m\u001b[0m\u001b[0;34m\u001b[0m\u001b[0m\n",
      "\u001b[0;31mValueError\u001b[0m: 'state' is both an index level and a column label, which is ambiguous."
     ]
    }
   ],
   "source": [
    "# Merge the datasets\n",
    "visas_by_state = pd.merge(visas_by_state, states, left_on='state', right_on='State Abbreviation')\n",
    "\n",
    "# Explore the merged dataframe\n",
    "visas_by_state.head()"
   ]
  },
  {
   "cell_type": "code",
   "execution_count": null,
   "metadata": {},
   "outputs": [],
   "source": []
  },
  {
   "cell_type": "markdown",
   "metadata": {},
   "source": [
    "## What month is the tipping point for a high rate of denials? "
   ]
  },
  {
   "cell_type": "code",
   "execution_count": 41,
   "metadata": {},
   "outputs": [],
   "source": [
    "\n",
    "# Filter just the dates of denied visas\n",
    "denied_visas = visas[['CASE_NUMBER','CASE_SUBMITTED', 'DECISION_DATE']][visas.CASE_STATUS == 'DENIED']"
   ]
  },
  {
   "cell_type": "code",
   "execution_count": 42,
   "metadata": {},
   "outputs": [],
   "source": [
    "# Extract the month from both dates\n",
    "denied_visas['Month_submitted'] =  pd.DatetimeIndex( denied_visas.CASE_SUBMITTED).month\n",
    "denied_visas['Month_decision'] =  pd.DatetimeIndex( denied_visas.DECISION_DATE).month"
   ]
  },
  {
   "cell_type": "code",
   "execution_count": null,
   "metadata": {},
   "outputs": [],
   "source": [
    "# Explore the denied_visas dataset\n",
    "denied_visas.head(10)"
   ]
  },
  {
   "cell_type": "code",
   "execution_count": 45,
   "metadata": {},
   "outputs": [
    {
     "data": {
      "text/plain": [
       "<function matplotlib.pyplot.show(*args, **kw)>"
      ]
     },
     "execution_count": 45,
     "metadata": {},
     "output_type": "execute_result"
    },
    {
     "data": {
      "image/png": "[encoded data removed]",
      "text/plain": [
       "<Figure size 432x288 with 1 Axes>"
      ]
     },
     "metadata": {
      "needs_background": "light"
     },
     "output_type": "display_data"
    }
   ],
   "source": [
    "# Group by month of submitted dates\n",
    "denied_visas_gr_by_month_sub = denied_visas.groupby('Month_submitted').size().reset_index(name='Denied_Count')\n",
    "denied_visas_gr_by_month_sub = denied_visas_gr_by_month_sub.sort_values(by='Month_submitted', ascending=False)  \n",
    "\n",
    "# Plot visas denied grouped by month submitted dates\n",
    "sns.barplot(x='Denied_Count', y='Month_submitted', data=denied_visas_gr_by_month_sub, \n",
    "            order=denied_visas_gr_by_month_sub.Month_submitted, orient='h')\n",
    "plt.show"
   ]
  },
  {
   "cell_type": "markdown",
   "metadata": {},
   "source": [
    "### This result is also intuitive becuase one must have a certified LCA to apply for an H1B. Lawyers who are prepared would have filed these LCAs ahead of time so they can be certified and returned before the H1B cap opens (your appliction must arrive within the 2 or 3 day window before the cap is full to even have a chance of getting approved). If your lawyer is filing your LCA is March he is cutting it WAY to close and his poor, overworked paralegals are making mistakes are higher rates which could be a factor in the high number of denials. "
   ]
  },
  {
   "cell_type": "markdown",
   "metadata": {},
   "source": [
    "## Conclusion\n",
    "\n",
    "#####  With a thriving economy in the US, many companies are petitioning H-1B working visas for their foreign national workers. This exploratory analysis uncovered insightful facts and trends about the H-1B visa applications: \n",
    "\n",
    "The majority of the H-1B certified applications went to applicants working in the the High-Tech/Computer industry.\n",
    "By far, Microsoft hires the most data scientists (40) whic is 3X more hires than Facebook (runner-up).\n",
    "Data scientists earn an average of \\$88,646 which is 17% more than the average of all applicants.\n",
    "The state of Hawaii has highest rate of denied H-1B applications (13 percent) while the state of Delaware has the highest rate of H-1B denied by population.\n",
    "52 industries are in the top 5 percentile of applications. Holding top rank is Computer Programming Services with 31,941 H-1B visa applications.\n",
    "The month of H1-B application submission plays a role on how likely the application will be denied. Applications are more likey to get certified when submitted early in the year. They are likely to be denied starting from October.\n",
    "The key insight gained from this analysis is the timeliness of application submission. This piece of information is very useful to employers. To increase their chances of success, employers should submit their H-1B visa applications as early as possible in the year. A denied application means that the foreign national workers cannot start working for the company. This would have a huge impact on the business bottomline."
   ]
  },
  {
   "cell_type": "code",
   "execution_count": null,
   "metadata": {},
   "outputs": [],
   "source": []
  }
 ],
 "metadata": {
  "kernelspec": {
   "display_name": "Psych81.09",
   "language": "python",
   "name": "psych81.09"
  },
  "language_info": {
   "codemirror_mode": {
    "name": "ipython",
    "version": 3
   },
   "file_extension": ".py",
   "mimetype": "text/x-python",
   "name": "python",
   "nbconvert_exporter": "python",
   "pygments_lexer": "ipython3",
   "version": "3.6.8"
  }
 },
 "nbformat": 4,
 "nbformat_minor": 2
}
