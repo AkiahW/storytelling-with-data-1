{
 "cells": [
  {
   "cell_type": "markdown",
   "metadata": {},
   "source": [
    "# Can I build a predictive model?\n",
    "### By: Sonia Rowley & Athina Schmidt"
   ]
  },
  {
   "cell_type": "code",
   "execution_count": 1,
   "metadata": {},
   "outputs": [],
   "source": [
    "# Import Fundamental Pacakges\n",
    "import numpy as np\n",
    "import pandas as pd\n",
    "\n",
    "# Import Packages for Machine Learning Algorithms\n",
    "from sklearn.model_selection import train_test_split\n",
    "from sklearn.linear_model import LogisticRegression\n",
    "from sklearn.metrics import confusion_matrix, classification_report\n",
    "\n",
    "# Import Library for Statistical & Regular Functions\n",
    "from statistics import mode\n",
    "import re\n",
    "\n",
    "# This Package imports our classifer\n",
    "from xgboost import XGBClassifier"
   ]
  },
  {
   "cell_type": "code",
   "execution_count": 2,
   "metadata": {},
   "outputs": [],
   "source": [
    "# Original data source: https://www.foreignlaborcert.doleta.gov/performancedata.cfm \n"
   ]
  },
  {
   "cell_type": "code",
   "execution_count": 3,
   "metadata": {},
   "outputs": [],
   "source": [
    "# Read in File\n",
    "df = pd.read_csv('2018.csv', encoding = 'latin1')"
   ]
  },
  {
   "cell_type": "code",
   "execution_count": 4,
   "metadata": {},
   "outputs": [
    {
     "name": "stdout",
     "output_type": "stream",
     "text": [
      "<class 'pandas.core.frame.DataFrame'>\n",
      "RangeIndex: 609036 entries, 0 to 609035\n",
      "Data columns (total 15 columns):\n",
      "CASE_NUMBER              609036 non-null object\n",
      "CASE_STATUS              609036 non-null object\n",
      "CASE_SUBMITTED           609035 non-null object\n",
      "DECISION_DATE            609036 non-null object\n",
      "VISA_CLASS               609036 non-null object\n",
      "EMPLOYMENT_START_DATE    609029 non-null object\n",
      "EMPLOYMENT_END_DATE      609027 non-null object\n",
      "EMPLOYER_NAME            609017 non-null object\n",
      "EMPLOYER_STATE           608967 non-null object\n",
      "EMPLOYER_POSTAL_CODE     609020 non-null object\n",
      "JOB_TITLE                609031 non-null object\n",
      "SOC_CODE                 609032 non-null object\n",
      "SOC_NAME                 609032 non-null object\n",
      "NAICS_CODE               609030 non-null float64\n",
      "PREVAILING_WAGE          609035 non-null float64\n",
      "dtypes: float64(2), object(13)\n",
      "memory usage: 69.7+ MB\n"
     ]
    },
    {
     "data": {
      "text/html": [
       "<div>\n",
       "<style scoped>\n",
       "    .dataframe tbody tr th:only-of-type {\n",
       "        vertical-align: middle;\n",
       "    }\n",
       "\n",
       "    .dataframe tbody tr th {\n",
       "        vertical-align: top;\n",
       "    }\n",
       "\n",
       "    .dataframe thead th {\n",
       "        text-align: right;\n",
       "    }\n",
       "</style>\n",
       "<table border=\"1\" class=\"dataframe\">\n",
       "  <thead>\n",
       "    <tr style=\"text-align: right;\">\n",
       "      <th></th>\n",
       "      <th>NAICS_CODE</th>\n",
       "      <th>PREVAILING_WAGE</th>\n",
       "    </tr>\n",
       "  </thead>\n",
       "  <tbody>\n",
       "    <tr>\n",
       "      <th>count</th>\n",
       "      <td>609030.000000</td>\n",
       "      <td>6.090350e+05</td>\n",
       "    </tr>\n",
       "    <tr>\n",
       "      <th>mean</th>\n",
       "      <td>443514.377500</td>\n",
       "      <td>8.811867e+04</td>\n",
       "    </tr>\n",
       "    <tr>\n",
       "      <th>std</th>\n",
       "      <td>195499.314088</td>\n",
       "      <td>1.281586e+06</td>\n",
       "    </tr>\n",
       "    <tr>\n",
       "      <th>min</th>\n",
       "      <td>23.000000</td>\n",
       "      <td>0.000000e+00</td>\n",
       "    </tr>\n",
       "    <tr>\n",
       "      <th>25%</th>\n",
       "      <td>452910.000000</td>\n",
       "      <td>6.870200e+04</td>\n",
       "    </tr>\n",
       "    <tr>\n",
       "      <th>50%</th>\n",
       "      <td>541511.000000</td>\n",
       "      <td>8.232600e+04</td>\n",
       "    </tr>\n",
       "    <tr>\n",
       "      <th>75%</th>\n",
       "      <td>541511.000000</td>\n",
       "      <td>9.934100e+04</td>\n",
       "    </tr>\n",
       "    <tr>\n",
       "      <th>max</th>\n",
       "      <td>928120.000000</td>\n",
       "      <td>1.000000e+09</td>\n",
       "    </tr>\n",
       "  </tbody>\n",
       "</table>\n",
       "</div>"
      ],
      "text/plain": [
       "          NAICS_CODE  PREVAILING_WAGE\n",
       "count  609030.000000     6.090350e+05\n",
       "mean   443514.377500     8.811867e+04\n",
       "std    195499.314088     1.281586e+06\n",
       "min        23.000000     0.000000e+00\n",
       "25%    452910.000000     6.870200e+04\n",
       "50%    541511.000000     8.232600e+04\n",
       "75%    541511.000000     9.934100e+04\n",
       "max    928120.000000     1.000000e+09"
      ]
     },
     "execution_count": 4,
     "metadata": {},
     "output_type": "execute_result"
    }
   ],
   "source": [
    "df.info()\n",
    "df. head()\n",
    "df.describe()"
   ]
  },
  {
   "cell_type": "code",
   "execution_count": 5,
   "metadata": {},
   "outputs": [
    {
     "data": {
      "text/plain": [
       "array(['CERTIFIED', 'DENIED', 'WITHDRAWN', 'CERTIFIED-WITHDRAWN'],\n",
       "      dtype=object)"
      ]
     },
     "execution_count": 5,
     "metadata": {},
     "output_type": "execute_result"
    }
   ],
   "source": [
    "df['CASE_STATUS'].unique()"
   ]
  },
  {
   "cell_type": "code",
   "execution_count": 6,
   "metadata": {},
   "outputs": [],
   "source": [
    "# Convert from ultiple classes of target variables to a binary system.\n",
    "# Certified + Certified-Withdrawn = CERTIFIED"
   ]
  },
  {
   "cell_type": "code",
   "execution_count": 7,
   "metadata": {},
   "outputs": [],
   "source": [
    "import warnings\n",
    "warnings.filterwarnings(\"ignore\")\n",
    "df.CASE_STATUS[df['CASE_STATUS']=='CERTIFIED-WITHDRAWN'] = 'CERTIFIED'"
   ]
  },
  {
   "cell_type": "code",
   "execution_count": 8,
   "metadata": {},
   "outputs": [
    {
     "name": "stdout",
     "output_type": "stream",
     "text": [
      "CERTIFIED    582638\n",
      "DENIED         6981\n",
      "Name: CASE_STATUS, dtype: int64\n"
     ]
    }
   ],
   "source": [
    "##Drop rows with withdrawn\n",
    "df.EMPLOYER_NAME.describe()\n",
    "df = df.drop(df[df.CASE_STATUS == 'WITHDRAWN'].index)\n",
    "\n",
    "## Storing non null in df w.r.t. case status\n",
    "df = df[df['CASE_STATUS'].notnull()]\n",
    "print(df['CASE_STATUS'].value_counts())"
   ]
  },
  {
   "cell_type": "code",
   "execution_count": 9,
   "metadata": {},
   "outputs": [
    {
     "name": "stdout",
     "output_type": "stream",
     "text": [
      "0.043343907420907796\n"
     ]
    }
   ],
   "source": [
    "print(26398/(26398+582638))"
   ]
  },
  {
   "cell_type": "code",
   "execution_count": 10,
   "metadata": {},
   "outputs": [
    {
     "name": "stdout",
     "output_type": "stream",
     "text": [
      "CASE_NUMBER               0\n",
      "CASE_STATUS               0\n",
      "CASE_SUBMITTED            1\n",
      "DECISION_DATE             0\n",
      "VISA_CLASS                0\n",
      "EMPLOYMENT_START_DATE     5\n",
      "EMPLOYMENT_END_DATE       6\n",
      "EMPLOYER_NAME            15\n",
      "EMPLOYER_STATE           59\n",
      "EMPLOYER_POSTAL_CODE     14\n",
      "JOB_TITLE                 2\n",
      "SOC_CODE                  2\n",
      "SOC_NAME                  2\n",
      "NAICS_CODE                4\n",
      "PREVAILING_WAGE           1\n",
      "dtype: int64\n"
     ]
    }
   ],
   "source": [
    "# Check count of NAN\n",
    "count_nan = len(df) - df.count()\n",
    "print(count_nan)"
   ]
  },
  {
   "cell_type": "code",
   "execution_count": 11,
   "metadata": {},
   "outputs": [],
   "source": [
    "## Filling na in employer name with mode\n",
    "df['EMPLOYER_NAME'] = df['EMPLOYER_NAME'].fillna(df['EMPLOYER_NAME'].mode()[0])"
   ]
  },
  {
   "cell_type": "code",
   "execution_count": 12,
   "metadata": {},
   "outputs": [],
   "source": [
    "# Fixing other N/A Values as above\n",
    "df = df.drop('CASE_SUBMITTED', axis = 1)\n",
    "df = df.drop('EMPLOYMENT_START_DATE', axis = 1)\n",
    "df = df.drop('EMPLOYMENT_END_DATE', axis = 1)\n",
    "df = df.drop('EMPLOYER_POSTAL_CODE', axis = 1)\n",
    "df = df.drop('NAICS_CODE', axis = 1)\n"
   ]
  },
  {
   "cell_type": "code",
   "execution_count": 13,
   "metadata": {},
   "outputs": [],
   "source": [
    "# Fixing 49 missing values for state\n",
    "df['EMPLOYER_STATE'] = df['EMPLOYER_STATE'].fillna(df['EMPLOYER_STATE'].mode()[0])"
   ]
  },
  {
   "cell_type": "code",
   "execution_count": 14,
   "metadata": {},
   "outputs": [],
   "source": [
    "assert pd.notnull(df['EMPLOYER_NAME']).all().all()"
   ]
  },
  {
   "cell_type": "code",
   "execution_count": 15,
   "metadata": {},
   "outputs": [
    {
     "name": "stdout",
     "output_type": "stream",
     "text": [
      "160576.0\n"
     ]
    },
    {
     "data": {
      "text/plain": [
       "82410.0"
      ]
     },
     "execution_count": 15,
     "metadata": {},
     "output_type": "execute_result"
    }
   ],
   "source": [
    "##to check the percentile in wages (Caps wages at 2nd and 98th percentile to get rid of $0 and positions entered)\n",
    "print(np.nanpercentile(df.PREVAILING_WAGE,98))\n",
    "df.PREVAILING_WAGE.median()"
   ]
  },
  {
   "cell_type": "code",
   "execution_count": 16,
   "metadata": {},
   "outputs": [],
   "source": [
    "## replacing min and max with 2 and 98 percentile\n",
    "df.loc[df.PREVAILING_WAGE < 34029, 'PREVAILING_WAGE']= 34029\n",
    "df.loc[df['PREVAILING_WAGE'] > 138703, 'PREVAILING_WAGE']= 138703\n",
    "df.PREVAILING_WAGE.fillna(df.PREVAILING_WAGE.mean(), inplace = True)"
   ]
  },
  {
   "cell_type": "code",
   "execution_count": 17,
   "metadata": {},
   "outputs": [],
   "source": [
    "## Filling na in JOB_TITLE and FULL_TIME_POSITION with mode\n",
    "df['JOB_TITLE'] = df['JOB_TITLE'].fillna(df['JOB_TITLE'].mode()[0])\n",
    "df['SOC_NAME'] = df['SOC_NAME'].fillna(df['SOC_NAME'].mode()[0])\n",
    "df['SOC_CODE'] = df['SOC_CODE'].fillna(df['SOC_CODE'].mode()[0])"
   ]
  },
  {
   "cell_type": "code",
   "execution_count": 18,
   "metadata": {},
   "outputs": [
    {
     "data": {
      "text/plain": [
       "(589619, 11)"
      ]
     },
     "execution_count": 18,
     "metadata": {},
     "output_type": "execute_result"
    }
   ],
   "source": [
    "df['NEW_EMPLOYER'] = np.nan\n",
    "df.shape"
   ]
  },
  {
   "cell_type": "code",
   "execution_count": 19,
   "metadata": {},
   "outputs": [],
   "source": [
    "warnings.filterwarnings(\"ignore\")\n",
    "\n",
    "df['EMPLOYER_NAME'] = df['EMPLOYER_NAME'].str.lower()\n",
    "df.NEW_EMPLOYER[df['EMPLOYER_NAME'].str.contains('university')] = 'university'\n",
    "df['NEW_EMPLOYER']= df.NEW_EMPLOYER.replace(np.nan, 'non university', regex=True)"
   ]
  },
  {
   "cell_type": "code",
   "execution_count": 20,
   "metadata": {},
   "outputs": [],
   "source": [
    "# Creating occupation and mapping the values\n",
    "warnings.filterwarnings(\"ignore\")\n",
    "\n",
    "df['OCCUPATION'] = np.nan\n",
    "df['SOC_NAME'] = df['SOC_NAME'].str.lower()\n",
    "df.OCCUPATION[df['SOC_NAME'].str.contains('computer','programmer')] = 'computer occupations'\n",
    "df.OCCUPATION[df['SOC_NAME'].str.contains('software','web developer')] = 'computer occupations'\n",
    "df.OCCUPATION[df['SOC_NAME'].str.contains('database')] = 'computer occupations'\n",
    "df.OCCUPATION[df['SOC_NAME'].str.contains('math','statistic')] = 'Mathematical Occupations'\n",
    "df.OCCUPATION[df['SOC_NAME'].str.contains('predictive model','stats')] = 'Mathematical Occupations'\n",
    "df.OCCUPATION[df['SOC_NAME'].str.contains('teacher','linguist')] = 'Education Occupations'\n",
    "df.OCCUPATION[df['SOC_NAME'].str.contains('professor','Teach')] = 'Education Occupations'\n",
    "df.OCCUPATION[df['SOC_NAME'].str.contains('school principal')] = 'Education Occupations'\n",
    "df.OCCUPATION[df['SOC_NAME'].str.contains('medical','doctor')] = 'Medical Occupations'\n",
    "df.OCCUPATION[df['SOC_NAME'].str.contains('physician','dentist')] = 'Medical Occupations'\n",
    "df.OCCUPATION[df['SOC_NAME'].str.contains('Health','Physical Therapists')] = 'Medical Occupations'\n",
    "df.OCCUPATION[df['SOC_NAME'].str.contains('surgeon','nurse')] = 'Medical Occupations'\n",
    "df.OCCUPATION[df['SOC_NAME'].str.contains('psychiatr')] = 'Medical Occupations'\n",
    "df.OCCUPATION[df['SOC_NAME'].str.contains('chemist','physicist')] = 'Advance Sciences'\n",
    "df.OCCUPATION[df['SOC_NAME'].str.contains('biology','scientist')] = 'Advance Sciences'\n",
    "df.OCCUPATION[df['SOC_NAME'].str.contains('biologi','clinical research')] = 'Advance Sciences'\n",
    "df.OCCUPATION[df['SOC_NAME'].str.contains('public relation','manage')] = 'Management Occupation'\n",
    "df.OCCUPATION[df['SOC_NAME'].str.contains('management','operation')] = 'Management Occupation'\n",
    "df.OCCUPATION[df['SOC_NAME'].str.contains('chief','plan')] = 'Management Occupation'\n",
    "df.OCCUPATION[df['SOC_NAME'].str.contains('executive')] = 'Management Occupation'\n",
    "df.OCCUPATION[df['SOC_NAME'].str.contains('advertis','marketing')] = 'Marketing Occupation'\n",
    "df.OCCUPATION[df['SOC_NAME'].str.contains('promotion','market research')] = 'Marketing Occupation'\n",
    "df.OCCUPATION[df['SOC_NAME'].str.contains('business','business analyst')] = 'Business Occupation'\n",
    "df.OCCUPATION[df['SOC_NAME'].str.contains('business systems analyst')] = 'Business Occupation'\n",
    "df.OCCUPATION[df['SOC_NAME'].str.contains('accountant','finance')] = 'Financial Occupation'\n",
    "df.OCCUPATION[df['SOC_NAME'].str.contains('financial')] = 'Financial Occupation'\n",
    "df.OCCUPATION[df['SOC_NAME'].str.contains('engineer','architect')] = 'Architecture & Engineering'\n",
    "df.OCCUPATION[df['SOC_NAME'].str.contains('surveyor','carto')] = 'Architecture & Engineering'\n",
    "df.OCCUPATION[df['SOC_NAME'].str.contains('technician','drafter')] = 'Architecture & Engineering'\n",
    "df.OCCUPATION[df['SOC_NAME'].str.contains('information security','information tech')] = 'Architecture & Engineering'\n",
    "df['OCCUPATION']= df.OCCUPATION.replace(np.nan, 'Others', regex=True)"
   ]
  },
  {
   "cell_type": "code",
   "execution_count": 21,
   "metadata": {},
   "outputs": [],
   "source": [
    "## Simplifying Worksite State and capturing it in another variable\n",
    "df['state'] = df['EMPLOYER_STATE']\n"
   ]
  },
  {
   "cell_type": "code",
   "execution_count": 22,
   "metadata": {},
   "outputs": [
    {
     "name": "stdout",
     "output_type": "stream",
     "text": [
      "          CASE_NUMBER CASE_STATUS DECISION_DATE VISA_CLASS  \\\n",
      "0  I-200-18026-338377   CERTIFIED      2/2/2018       H-1B   \n",
      "1  I-200-17296-353451   CERTIFIED    10/27/2017       H-1B   \n",
      "2  I-200-18242-524477   CERTIFIED      9/6/2018       H-1B   \n",
      "3  I-200-18070-575236   CERTIFIED     3/30/2018       H-1B   \n",
      "4  I-200-18243-850522   CERTIFIED      9/7/2018       H-1B   \n",
      "\n",
      "                 EMPLOYER_NAME EMPLOYER_STATE  \\\n",
      "0        microsoft corporation             WA   \n",
      "1       ernst & young u.s. llp             NJ   \n",
      "2                 logixhub llc             TX   \n",
      "3  hexaware technologies, inc.             NJ   \n",
      "4             ecloud labs,inc.             NJ   \n",
      "\n",
      "                                      JOB_TITLE SOC_CODE  \\\n",
      "0                             SOFTWARE ENGINEER  15-1132   \n",
      "1                                    TAX SENIOR  13-2011   \n",
      "2                        DATABASE ADMINISTRATOR  15-1141   \n",
      "3                             SOFTWARE ENGINEER  15-1132   \n",
      "4  MICROSOFT DYNAMICS CRM APPLICATION DEVELOPER  15-1132   \n",
      "\n",
      "                            SOC_NAME  PREVAILING_WAGE    NEW_EMPLOYER  \\\n",
      "0  software developers, applications         112549.0  non university   \n",
      "1           accountants and auditors          79976.0  non university   \n",
      "2            database administrators          77792.0  non university   \n",
      "3  software developers, applications          84406.0  non university   \n",
      "4  software developers, applications          87714.0  non university   \n",
      "\n",
      "             OCCUPATION state  \n",
      "0  computer occupations    WA  \n",
      "1  Financial Occupation    NJ  \n",
      "2  computer occupations    TX  \n",
      "3  computer occupations    NJ  \n",
      "4  computer occupations    NJ  \n"
     ]
    }
   ],
   "source": [
    "print(df.head())"
   ]
  },
  {
   "cell_type": "code",
   "execution_count": 23,
   "metadata": {},
   "outputs": [],
   "source": [
    "from sklearn import preprocessing\n",
    "class_mapping = {'CERTIFIED':0, 'DENIED':1}\n",
    "df[\"CASE_STATUS\"] = df[\"CASE_STATUS\"].map(class_mapping)"
   ]
  },
  {
   "cell_type": "code",
   "execution_count": 24,
   "metadata": {},
   "outputs": [
    {
     "name": "stdout",
     "output_type": "stream",
     "text": [
      "          CASE_NUMBER  CASE_STATUS DECISION_DATE VISA_CLASS  \\\n",
      "0  I-200-18026-338377            0      2/2/2018       H-1B   \n",
      "1  I-200-17296-353451            0    10/27/2017       H-1B   \n",
      "2  I-200-18242-524477            0      9/6/2018       H-1B   \n",
      "3  I-200-18070-575236            0     3/30/2018       H-1B   \n",
      "4  I-200-18243-850522            0      9/7/2018       H-1B   \n",
      "\n",
      "                 EMPLOYER_NAME EMPLOYER_STATE  \\\n",
      "0        microsoft corporation             WA   \n",
      "1       ernst & young u.s. llp             NJ   \n",
      "2                 logixhub llc             TX   \n",
      "3  hexaware technologies, inc.             NJ   \n",
      "4             ecloud labs,inc.             NJ   \n",
      "\n",
      "                                      JOB_TITLE SOC_CODE  \\\n",
      "0                             SOFTWARE ENGINEER  15-1132   \n",
      "1                                    TAX SENIOR  13-2011   \n",
      "2                        DATABASE ADMINISTRATOR  15-1141   \n",
      "3                             SOFTWARE ENGINEER  15-1132   \n",
      "4  MICROSOFT DYNAMICS CRM APPLICATION DEVELOPER  15-1132   \n",
      "\n",
      "                            SOC_NAME  PREVAILING_WAGE    NEW_EMPLOYER  \\\n",
      "0  software developers, applications         112549.0  non university   \n",
      "1           accountants and auditors          79976.0  non university   \n",
      "2            database administrators          77792.0  non university   \n",
      "3  software developers, applications          84406.0  non university   \n",
      "4  software developers, applications          87714.0  non university   \n",
      "\n",
      "             OCCUPATION state  \n",
      "0  computer occupations    WA  \n",
      "1  Financial Occupation    NJ  \n",
      "2  computer occupations    TX  \n",
      "3  computer occupations    NJ  \n",
      "4  computer occupations    NJ  \n"
     ]
    }
   ],
   "source": [
    "print(df.head())"
   ]
  },
  {
   "cell_type": "code",
   "execution_count": 25,
   "metadata": {},
   "outputs": [
    {
     "name": "stdout",
     "output_type": "stream",
     "text": [
      "                                                       0\n",
      "0                                      SOFTWARE ENGINEER\n",
      "1                                             TAX SENIOR\n",
      "2                                 DATABASE ADMINISTRATOR\n",
      "3           MICROSOFT DYNAMICS CRM APPLICATION DEVELOPER\n",
      "4                                SENIOR SYSTEM ARCHITECT\n",
      "5                            SENIOR ORACLE ADF DEVELOPER\n",
      "6                            SENIOR SYSTEMS ANALYST JC60\n",
      "7                  ASSOCIATE PRODUCT MANAGER(15-1199.09)\n",
      "8                                  SENIOR JAVA DEVELOPER\n",
      "9                                     SOFTWARE DEVELOPER\n",
      "10                          GLOBAL MMA ADVANCED ENGINEER\n",
      "11                                  TECHNICAL CONSULTANT\n",
      "12                                              ENGINEER\n",
      "13                                   SOLUTIONS ARCHITECT\n",
      "14     MEMBER TECHNICAL STAFF CONSULTANT-SYSTEMS ENGI...\n",
      "15                       BUSINESS DEVELOPMENT SPECIALIST\n",
      "16                                  RESEARCH ASSOCIATE I\n",
      "17                                     FINANCIAL ANALYST\n",
      "18                                 SR. SOFTWARE ENGINEER\n",
      "19         MEMBER OF TECHNICAL STAFF (SOFTWARE ENGINEER)\n",
      "20                                       FINANCE MANAGER\n",
      "21                                       SYSTEMS ANALYST\n",
      "22         FUNCTIONAL EXCELLENCE SPECIALIST - PURCHASING\n",
      "23           APPLICATION SOFTWARE DEVELOPMENT CONSULTANT\n",
      "24                    REGULATORY REPORTING ACCOUNTANT II\n",
      "25                        SOFTWARE ENGINEER (1615.33573)\n",
      "26                       DATABASE ADMINISTRATION ADVISOR\n",
      "27                                  ASSOCIATE SPECIALIST\n",
      "28                          SOFTWARE DEVELOPMENT ADVISOR\n",
      "29                             INFECTIOUS DISEASE FELLOW\n",
      "...                                                  ...\n",
      "99389                   ENTERPRISE APPLICATION ARCHITECT\n",
      "99390                            COST ESTIMATOR ENGINEER\n",
      "99391                        SENIOR PRODUCT MANAGER, CRM\n",
      "99392        ASSISTANT PROFESSOR (INTERNATIONAL AFFAIRS)\n",
      "99393                  MICROSOFT .NET SOFTWARE DEVELOPER\n",
      "99394  PROCESS ENGINEER LEVEL 3 NEW PRODUCT INTRODUCT...\n",
      "99395                    SOFTWARE DEVELOPMENT ENGINERR I\n",
      "99396                                    OBIEE ARCHITECT\n",
      "99397                          PRINCIPAL FPGA ENGINEER I\n",
      "99398                               INNOVATION ASSOCIATE\n",
      "99399                 INTERNATIONAL INDIRECT TAX MANAGER\n",
      "99400                    ACCOUNT STRATEGIST (1615.35393)\n",
      "99401  SENIOR ASSOCIATE DEAN BOSTON UNDERGRADUATE PRO...\n",
      "99402          VICE PRESIDENT AMERICAS TECHNOLOGY CENTER\n",
      "99403          HEALTH INFORMATION EXCHANGE (HIE) ANALYST\n",
      "99404         PHYSICIAN (INTERNAL MEDICINE/RHEUMATOLOGY)\n",
      "99405                    SCHOLARSHIP PROGRAM COORDINATOR\n",
      "99406                                               TEST\n",
      "99407                                       RECEPTIONIST\n",
      "99408                              ATMOSPHERIC SCIENTIST\n",
      "99409                            MARINE SERVICE ENGINEER\n",
      "99410                           EXECUTIVE&NBSP;ASSISTANT\n",
      "99411                             BARREL PROGRAM MANAGER\n",
      "99412                        JOURNEYMAN SPRINKLER FITTER\n",
      "99413                                 BEHAVIOR THERAPIST\n",
      "99414                                            LABORER\n",
      "99415                             DIRECTOR OF INTRUCTION\n",
      "99416                DIGITAL & COMMUNICATIONS SPECIALIST\n",
      "99417                 PROGRAM DIRECTOR AQUATICS & SPORTS\n",
      "99418                                     EVENT PRODUCER\n",
      "\n",
      "[99419 rows x 1 columns]\n"
     ]
    }
   ],
   "source": [
    "test1 = pd.Series(df['JOB_TITLE'].ravel()).unique()\n",
    "print(pd.DataFrame(test1))"
   ]
  },
  {
   "cell_type": "code",
   "execution_count": 26,
   "metadata": {},
   "outputs": [],
   "source": [
    "# dropping these columns\n",
    "df = df.drop('EMPLOYER_NAME', axis = 1)\n",
    "df = df.drop('SOC_NAME', axis = 1)\n",
    "df = df.drop('CASE_NUMBER', axis = 1)"
   ]
  },
  {
   "cell_type": "code",
   "execution_count": 27,
   "metadata": {},
   "outputs": [],
   "source": [
    "df1 = df.copy()"
   ]
  },
  {
   "cell_type": "code",
   "execution_count": 28,
   "metadata": {},
   "outputs": [],
   "source": [
    "df1[['CASE_STATUS','NEW_EMPLOYER','OCCUPATION','state']] = df1[['CASE_STATUS','NEW_EMPLOYER','OCCUPATION','state']].apply(lambda x: x.astype('category'))"
   ]
  },
  {
   "cell_type": "code",
   "execution_count": 29,
   "metadata": {},
   "outputs": [
    {
     "name": "stdout",
     "output_type": "stream",
     "text": [
      "<class 'pandas.core.frame.DataFrame'>\n",
      "Int64Index: 589619 entries, 0 to 609033\n",
      "Data columns (total 10 columns):\n",
      "CASE_STATUS        589619 non-null category\n",
      "DECISION_DATE      589619 non-null object\n",
      "VISA_CLASS         589619 non-null object\n",
      "EMPLOYER_STATE     589619 non-null object\n",
      "JOB_TITLE          589619 non-null object\n",
      "SOC_CODE           589619 non-null object\n",
      "PREVAILING_WAGE    589619 non-null float64\n",
      "NEW_EMPLOYER       589619 non-null category\n",
      "OCCUPATION         589619 non-null category\n",
      "state              589619 non-null category\n",
      "dtypes: category(4), float64(1), object(5)\n",
      "memory usage: 33.7+ MB\n"
     ]
    }
   ],
   "source": [
    "df1.info()"
   ]
  },
  {
   "cell_type": "markdown",
   "metadata": {},
   "source": [
    "## Splitting Data in Training and Test Sets\n",
    "\n",
    "It's a standard practice to split the dataset into a training and testing set. The reason behind this is that you should fit and train your model using the training set, and then finally predict and check your accuracy on the test set."
   ]
  },
  {
   "cell_type": "code",
   "execution_count": 30,
   "metadata": {},
   "outputs": [
    {
     "data": {
      "text/plain": [
       "Index(['DECISION_DATE', 'VISA_CLASS', 'EMPLOYER_STATE', 'JOB_TITLE',\n",
       "       'SOC_CODE', 'PREVAILING_WAGE', 'NEW_EMPLOYER', 'OCCUPATION', 'state'],\n",
       "      dtype='object')"
      ]
     },
     "execution_count": 30,
     "metadata": {},
     "output_type": "execute_result"
    }
   ],
   "source": [
    "X = df.drop('CASE_STATUS', axis=1)\n",
    "y = df.CASE_STATUS\n",
    "\n",
    "seed = 7\n",
    "test_size = 0.40\n",
    "X_train, X_test, y_train, y_test = train_test_split(X, y, test_size=test_size, random_state=seed)\n",
    "X_train.columns"
   ]
  },
  {
   "cell_type": "code",
   "execution_count": 31,
   "metadata": {},
   "outputs": [
    {
     "name": "stdout",
     "output_type": "stream",
     "text": [
      "DECISION_DATE      0\n",
      "VISA_CLASS         0\n",
      "EMPLOYER_STATE     0\n",
      "JOB_TITLE          0\n",
      "SOC_CODE           0\n",
      "PREVAILING_WAGE    0\n",
      "NEW_EMPLOYER       0\n",
      "OCCUPATION         0\n",
      "state              0\n",
      "dtype: int64\n"
     ]
    }
   ],
   "source": [
    "# YOUR TRAINING SET CAN HAVE NO NULL VALUES! CHECK THIS HERE:\n",
    "print(X_train.isnull().sum())"
   ]
  },
  {
   "cell_type": "markdown",
   "metadata": {},
   "source": [
    "Encode X_train and X_test to get them ready for Xgboost, as it only works on numeric data. The function pd.get_dummies() is used to encode the categorical values to integers. It will create a transpose of all the categorical values and then map 1 wherever the value is present or 0 if it's not present. You should definitely try at your end to to print the X_train_encode below to check the transpose."
   ]
  },
  {
   "cell_type": "code",
   "execution_count": 32,
   "metadata": {},
   "outputs": [],
   "source": [
    "X_train_encode = pd.get_dummies(X_train)\n",
    "X_test_encode = pd.get_dummies(X_test)"
   ]
  },
  {
   "cell_type": "code",
   "execution_count": 33,
   "metadata": {},
   "outputs": [
    {
     "data": {
      "text/plain": [
       "516415    0\n",
       "360016    0\n",
       "168822    0\n",
       "331333    0\n",
       "130016    0\n",
       "Name: CASE_STATUS, dtype: int64"
      ]
     },
     "execution_count": 33,
     "metadata": {},
     "output_type": "execute_result"
    }
   ],
   "source": [
    "y_train.head()"
   ]
  },
  {
   "cell_type": "code",
   "execution_count": 34,
   "metadata": {},
   "outputs": [
    {
     "name": "stdout",
     "output_type": "stream",
     "text": [
      "        PREVAILING_WAGE  DECISION_DATE_1/1/2018  DECISION_DATE_1/10/2018  \\\n",
      "516415          48090.0                       0                        0   \n",
      "360016         110864.0                       0                        0   \n",
      "168822          60944.0                       0                        0   \n",
      "331333          34029.0                       0                        0   \n",
      "130016          83096.0                       0                        0   \n",
      "104617          52728.0                       0                        0   \n",
      "299699         127920.0                       0                        0   \n",
      "455713          90646.0                       0                        0   \n",
      "349809          90002.0                       0                        0   \n",
      "265885          57907.0                       0                        0   \n",
      "388560          69722.0                       0                        0   \n",
      "416852          78021.0                       0                        0   \n",
      "603830          49608.0                       0                        0   \n",
      "262012          89461.0                       0                        0   \n",
      "461295         122886.0                       0                        0   \n",
      "11082          138703.0                       0                        0   \n",
      "578839          51773.0                       0                        0   \n",
      "116302         138703.0                       0                        0   \n",
      "535940          95014.0                       0                        0   \n",
      "470946          55536.0                       0                        0   \n",
      "258548          60500.0                       0                        0   \n",
      "515800         110552.0                       0                        0   \n",
      "479915          92955.0                       0                        0   \n",
      "533078         110864.0                       0                        0   \n",
      "606058         107474.0                       0                        0   \n",
      "583475         138703.0                       0                        0   \n",
      "85560           90780.0                       0                        0   \n",
      "569940          78874.0                       0                        0   \n",
      "86833           78395.0                       0                        0   \n",
      "192622          92019.0                       0                        0   \n",
      "...                 ...                     ...                      ...   \n",
      "422632          81266.0                       0                        0   \n",
      "500255          99341.0                       0                        0   \n",
      "573732         110490.0                       0                        0   \n",
      "346906          96366.0                       0                        0   \n",
      "49239           99935.0                       0                        0   \n",
      "133762          81786.0                       0                        0   \n",
      "588244         115274.0                       0                        0   \n",
      "237666          74714.0                       0                        0   \n",
      "375993          86653.0                       0                        0   \n",
      "113197          81266.0                       0                        0   \n",
      "28207           67142.0                       0                        0   \n",
      "264227         110032.0                       0                        0   \n",
      "61445          110864.0                       0                        0   \n",
      "80780           78312.0                       0                        0   \n",
      "532453         133016.0                       0                        0   \n",
      "362386          69930.0                       0                        0   \n",
      "126627         103958.0                       0                        0   \n",
      "123975          85259.0                       0                        0   \n",
      "135840         119246.0                       0                        0   \n",
      "561726          56243.0                       0                        0   \n",
      "182223          51355.0                       0                        0   \n",
      "569730         135491.0                       0                        0   \n",
      "130831          89627.0                       0                        0   \n",
      "325760          82098.0                       0                        0   \n",
      "81337          102669.0                       0                        0   \n",
      "339060          79610.0                       0                        0   \n",
      "552543          58677.0                       0                        0   \n",
      "592839         122429.0                       0                        0   \n",
      "195267         130104.0                       0                        0   \n",
      "605170          71448.0                       0                        0   \n",
      "\n",
      "        DECISION_DATE_1/11/2018  DECISION_DATE_1/12/2018  \\\n",
      "516415                        0                        0   \n",
      "360016                        0                        0   \n",
      "168822                        0                        0   \n",
      "331333                        0                        0   \n",
      "130016                        0                        0   \n",
      "104617                        0                        0   \n",
      "299699                        0                        0   \n",
      "455713                        0                        0   \n",
      "349809                        0                        0   \n",
      "265885                        0                        0   \n",
      "388560                        0                        0   \n",
      "416852                        0                        0   \n",
      "603830                        0                        0   \n",
      "262012                        0                        0   \n",
      "461295                        0                        0   \n",
      "11082                         0                        0   \n",
      "578839                        0                        0   \n",
      "116302                        0                        0   \n",
      "535940                        0                        0   \n",
      "470946                        0                        0   \n",
      "258548                        0                        0   \n",
      "515800                        0                        0   \n",
      "479915                        0                        0   \n",
      "533078                        0                        0   \n",
      "606058                        0                        0   \n",
      "583475                        0                        0   \n",
      "85560                         0                        0   \n",
      "569940                        0                        0   \n",
      "86833                         0                        0   \n",
      "192622                        0                        0   \n",
      "...                         ...                      ...   \n",
      "422632                        0                        0   \n",
      "500255                        0                        0   \n",
      "573732                        0                        0   \n",
      "346906                        0                        0   \n",
      "49239                         0                        0   \n",
      "133762                        0                        0   \n",
      "588244                        0                        0   \n",
      "237666                        0                        0   \n",
      "375993                        0                        0   \n",
      "113197                        0                        0   \n",
      "28207                         0                        0   \n",
      "264227                        0                        0   \n",
      "61445                         0                        0   \n",
      "80780                         0                        0   \n",
      "532453                        0                        0   \n",
      "362386                        0                        0   \n",
      "126627                        0                        0   \n",
      "123975                        0                        0   \n",
      "135840                        0                        0   \n",
      "561726                        0                        0   \n",
      "182223                        0                        0   \n",
      "569730                        0                        0   \n",
      "130831                        0                        0   \n",
      "325760                        0                        0   \n",
      "81337                         0                        0   \n",
      "339060                        0                        0   \n",
      "552543                        0                        0   \n",
      "592839                        0                        0   \n",
      "195267                        0                        0   \n",
      "605170                        0                        0   \n",
      "\n",
      "        DECISION_DATE_1/13/2018  DECISION_DATE_1/15/2018  \\\n",
      "516415                        0                        0   \n",
      "360016                        0                        0   \n",
      "168822                        0                        0   \n",
      "331333                        0                        0   \n",
      "130016                        0                        0   \n",
      "104617                        0                        0   \n",
      "299699                        0                        0   \n",
      "455713                        0                        0   \n",
      "349809                        0                        0   \n",
      "265885                        0                        0   \n",
      "388560                        0                        0   \n",
      "416852                        0                        0   \n",
      "603830                        0                        0   \n",
      "262012                        0                        0   \n",
      "461295                        0                        0   \n",
      "11082                         0                        0   \n",
      "578839                        0                        0   \n",
      "116302                        0                        0   \n",
      "535940                        0                        0   \n",
      "470946                        0                        0   \n",
      "258548                        0                        0   \n",
      "515800                        0                        0   \n",
      "479915                        0                        0   \n",
      "533078                        0                        0   \n",
      "606058                        0                        0   \n",
      "583475                        0                        0   \n",
      "85560                         0                        0   \n",
      "569940                        0                        0   \n",
      "86833                         0                        0   \n",
      "192622                        0                        0   \n",
      "...                         ...                      ...   \n",
      "422632                        0                        0   \n",
      "500255                        0                        0   \n",
      "573732                        0                        0   \n",
      "346906                        0                        0   \n",
      "49239                         0                        0   \n",
      "133762                        0                        0   \n",
      "588244                        0                        0   \n",
      "237666                        0                        0   \n",
      "375993                        0                        0   \n",
      "113197                        0                        0   \n",
      "28207                         0                        0   \n",
      "264227                        0                        0   \n",
      "61445                         0                        0   \n",
      "80780                         0                        0   \n",
      "532453                        0                        0   \n",
      "362386                        0                        0   \n",
      "126627                        0                        0   \n",
      "123975                        0                        0   \n",
      "135840                        0                        0   \n",
      "561726                        0                        0   \n",
      "182223                        0                        0   \n",
      "569730                        0                        0   \n",
      "130831                        0                        0   \n",
      "325760                        0                        0   \n",
      "81337                         0                        0   \n",
      "339060                        0                        0   \n",
      "552543                        0                        0   \n",
      "592839                        0                        0   \n",
      "195267                        0                        0   \n",
      "605170                        0                        0   \n",
      "\n",
      "        DECISION_DATE_1/16/2018  DECISION_DATE_1/17/2018  \\\n",
      "516415                        0                        0   \n",
      "360016                        0                        0   \n",
      "168822                        0                        0   \n",
      "331333                        0                        0   \n",
      "130016                        0                        0   \n",
      "104617                        0                        0   \n",
      "299699                        0                        0   \n",
      "455713                        0                        0   \n",
      "349809                        0                        0   \n",
      "265885                        0                        0   \n",
      "388560                        0                        0   \n",
      "416852                        0                        0   \n",
      "603830                        0                        0   \n",
      "262012                        0                        0   \n",
      "461295                        0                        0   \n",
      "11082                         0                        0   \n",
      "578839                        0                        0   \n",
      "116302                        0                        0   \n",
      "535940                        0                        0   \n",
      "470946                        0                        0   \n",
      "258548                        0                        0   \n",
      "515800                        0                        0   \n",
      "479915                        0                        0   \n",
      "533078                        0                        0   \n",
      "606058                        0                        0   \n",
      "583475                        0                        0   \n",
      "85560                         0                        0   \n",
      "569940                        0                        0   \n",
      "86833                         0                        0   \n",
      "192622                        0                        0   \n",
      "...                         ...                      ...   \n",
      "422632                        0                        0   \n",
      "500255                        0                        0   \n",
      "573732                        0                        0   \n",
      "346906                        0                        0   \n",
      "49239                         0                        0   \n",
      "133762                        0                        0   \n",
      "588244                        0                        0   \n",
      "237666                        0                        0   \n",
      "375993                        0                        0   \n",
      "113197                        0                        0   \n",
      "28207                         0                        0   \n",
      "264227                        0                        0   \n",
      "61445                         0                        0   \n",
      "80780                         0                        0   \n",
      "532453                        0                        0   \n",
      "362386                        0                        0   \n",
      "126627                        0                        0   \n",
      "123975                        0                        0   \n",
      "135840                        0                        0   \n",
      "561726                        0                        0   \n",
      "182223                        0                        0   \n",
      "569730                        0                        0   \n",
      "130831                        0                        0   \n",
      "325760                        0                        0   \n",
      "81337                         0                        0   \n",
      "339060                        0                        0   \n",
      "552543                        0                        0   \n",
      "592839                        0                        0   \n",
      "195267                        0                        0   \n",
      "605170                        0                        0   \n",
      "\n",
      "        DECISION_DATE_1/18/2018  ...  state_TN  state_TX  state_UT  state_VA  \\\n",
      "516415                        0  ...         0         0         0         0   \n",
      "360016                        0  ...         0         0         0         0   \n",
      "168822                        0  ...         0         0         0         0   \n",
      "331333                        0  ...         0         0         0         0   \n",
      "130016                        0  ...         0         0         0         0   \n",
      "104617                        0  ...         0         0         0         0   \n",
      "299699                        0  ...         0         0         0         0   \n",
      "455713                        0  ...         0         1         0         0   \n",
      "349809                        0  ...         0         0         0         0   \n",
      "265885                        0  ...         0         0         0         0   \n",
      "388560                        0  ...         0         0         0         0   \n",
      "416852                        0  ...         0         0         0         0   \n",
      "603830                        0  ...         0         0         0         0   \n",
      "262012                        0  ...         0         1         0         0   \n",
      "461295                        0  ...         0         0         0         0   \n",
      "11082                         0  ...         0         0         0         0   \n",
      "578839                        0  ...         0         1         0         0   \n",
      "116302                        0  ...         0         0         0         0   \n",
      "535940                        0  ...         0         0         0         0   \n",
      "470946                        0  ...         0         0         0         0   \n",
      "258548                        0  ...         0         0         0         0   \n",
      "515800                        0  ...         0         0         0         0   \n",
      "479915                        0  ...         0         0         0         0   \n",
      "533078                        0  ...         0         0         0         0   \n",
      "606058                        0  ...         0         0         0         0   \n",
      "583475                        0  ...         0         0         0         0   \n",
      "85560                         0  ...         0         0         0         0   \n",
      "569940                        0  ...         0         0         0         0   \n",
      "86833                         0  ...         0         0         0         0   \n",
      "192622                        0  ...         0         0         0         1   \n",
      "...                         ...  ...       ...       ...       ...       ...   \n",
      "422632                        0  ...         0         1         0         0   \n",
      "500255                        0  ...         0         0         0         0   \n",
      "573732                        0  ...         0         0         0         0   \n",
      "346906                        0  ...         0         0         0         0   \n",
      "49239                         0  ...         0         0         0         0   \n",
      "133762                        0  ...         0         0         0         0   \n",
      "588244                        0  ...         0         0         0         0   \n",
      "237666                        0  ...         0         0         0         0   \n",
      "375993                        0  ...         0         0         0         0   \n",
      "113197                        0  ...         0         1         0         0   \n",
      "28207                         0  ...         0         0         0         0   \n",
      "264227                        0  ...         0         0         0         0   \n",
      "61445                         0  ...         0         0         0         0   \n",
      "80780                         0  ...         0         0         0         0   \n",
      "532453                        0  ...         0         0         0         0   \n",
      "362386                        0  ...         0         0         0         0   \n",
      "126627                        0  ...         0         0         0         0   \n",
      "123975                        0  ...         0         0         0         0   \n",
      "135840                        0  ...         0         0         0         0   \n",
      "561726                        0  ...         0         0         0         0   \n",
      "182223                        0  ...         0         0         0         0   \n",
      "569730                        0  ...         0         0         0         1   \n",
      "130831                        0  ...         0         0         0         0   \n",
      "325760                        0  ...         0         0         0         0   \n",
      "81337                         0  ...         0         0         0         0   \n",
      "339060                        0  ...         0         1         0         0   \n",
      "552543                        0  ...         0         0         0         0   \n",
      "592839                        0  ...         0         0         0         0   \n",
      "195267                        0  ...         0         1         0         0   \n",
      "605170                        0  ...         0         0         0         0   \n",
      "\n",
      "        state_VI  state_VT  state_WA  state_WI  state_WV  state_WY  \n",
      "516415         0         0         0         0         0         0  \n",
      "360016         0         0         0         0         0         0  \n",
      "168822         0         0         0         0         0         0  \n",
      "331333         0         0         0         0         0         0  \n",
      "130016         0         0         0         0         0         0  \n",
      "104617         0         0         0         0         0         0  \n",
      "299699         0         0         0         0         0         0  \n",
      "455713         0         0         0         0         0         0  \n",
      "349809         0         0         0         0         0         0  \n",
      "265885         0         0         0         0         0         0  \n",
      "388560         0         0         1         0         0         0  \n",
      "416852         0         0         0         0         0         0  \n",
      "603830         0         0         0         0         0         0  \n",
      "262012         0         0         0         0         0         0  \n",
      "461295         0         0         0         0         0         0  \n",
      "11082          0         0         0         0         0         0  \n",
      "578839         0         0         0         0         0         0  \n",
      "116302         0         0         0         0         0         0  \n",
      "535940         0         0         0         0         0         0  \n",
      "470946         0         0         0         0         0         0  \n",
      "258548         0         0         0         0         0         0  \n",
      "515800         0         0         0         0         0         0  \n",
      "479915         0         0         0         0         0         0  \n",
      "533078         0         0         0         0         0         0  \n",
      "606058         0         0         0         0         0         0  \n",
      "583475         0         0         0         0         0         0  \n",
      "85560          0         0         0         0         0         0  \n",
      "569940         0         0         0         0         0         0  \n",
      "86833          0         0         0         0         0         0  \n",
      "192622         0         0         0         0         0         0  \n",
      "...          ...       ...       ...       ...       ...       ...  \n",
      "422632         0         0         0         0         0         0  \n",
      "500255         0         0         0         0         0         0  \n",
      "573732         0         0         1         0         0         0  \n",
      "346906         0         0         0         0         0         0  \n",
      "49239          0         0         0         0         0         0  \n",
      "133762         0         0         0         0         0         0  \n",
      "588244         0         0         0         0         0         0  \n",
      "237666         0         0         0         0         0         0  \n",
      "375993         0         0         0         0         0         0  \n",
      "113197         0         0         0         0         0         0  \n",
      "28207          0         0         0         0         0         0  \n",
      "264227         0         0         1         0         0         0  \n",
      "61445          0         0         0         0         0         0  \n",
      "80780          0         0         0         0         0         0  \n",
      "532453         0         0         0         0         0         0  \n",
      "362386         0         0         0         0         0         0  \n",
      "126627         0         0         1         0         0         0  \n",
      "123975         0         0         0         0         0         0  \n",
      "135840         0         0         0         0         0         0  \n",
      "561726         0         0         0         0         0         0  \n",
      "182223         0         0         0         0         0         0  \n",
      "569730         0         0         0         0         0         0  \n",
      "130831         0         0         0         0         0         0  \n",
      "325760         0         0         0         0         0         0  \n",
      "81337          0         0         0         0         0         0  \n",
      "339060         0         0         0         0         0         0  \n",
      "552543         0         0         0         0         0         0  \n",
      "592839         0         0         0         0         0         0  \n",
      "195267         0         0         0         0         0         0  \n",
      "605170         0         0         0         0         0         0  \n",
      "\n",
      "[353771 rows x 69820 columns]\n"
     ]
    }
   ],
   "source": [
    "print(X_train_encode)"
   ]
  },
  {
   "cell_type": "markdown",
   "metadata": {},
   "source": [
    "XGBoost is short term for “Extreme Gradient Boosting”, which is a supervised learning problem. Here you use the training data (with multiple features) x(i) to predict a target variable y(i).\n",
    "\n",
    "It is an implementation of gradient boosted decision trees designed for speed and performance."
   ]
  },
  {
   "cell_type": "code",
   "execution_count": 35,
   "metadata": {},
   "outputs": [],
   "source": [
    "train_X = X_train_encode.as_matrix()\n",
    "train_y = y_train.as_matrix()"
   ]
  },
  {
   "cell_type": "code",
   "execution_count": 36,
   "metadata": {},
   "outputs": [],
   "source": [
    "import xgboost\n",
    "gbm=xgboost.XGBClassifier(max_features='sqrt', subsample=0.8, random_state=10)"
   ]
  },
  {
   "cell_type": "markdown",
   "metadata": {},
   "source": [
    "## Using GridSearchCV() to tune hyperparameters:"
   ]
  },
  {
   "cell_type": "code",
   "execution_count": 45,
   "metadata": {},
   "outputs": [],
   "source": [
    "from sklearn.model_selection import GridSearchCV"
   ]
  },
  {
   "cell_type": "code",
   "execution_count": 46,
   "metadata": {},
   "outputs": [],
   "source": [
    "parameters = [{'n_estimators': [10, 100]},\n",
    "              {'learning_rate': [0.1, 0.01, 0.5]}]"
   ]
  },
  {
   "cell_type": "code",
   "execution_count": 47,
   "metadata": {},
   "outputs": [],
   "source": [
    "grid_search = GridSearchCV(estimator = gbm, param_grid = parameters, scoring='accuracy', cv = 3, n_jobs=-1)"
   ]
  },
  {
   "cell_type": "code",
   "execution_count": 44,
   "metadata": {},
   "outputs": [
    {
     "ename": "OSError",
     "evalue": "[Errno 12] Cannot allocate memory",
     "output_type": "error",
     "traceback": [
      "\u001b[0;31m---------------------------------------------------------------------------\u001b[0m",
      "\u001b[0;31mOSError\u001b[0m                                   Traceback (most recent call last)",
      "\u001b[0;32m<ipython-input-44-803ff376dcd1>\u001b[0m in \u001b[0;36m<module>\u001b[0;34m\u001b[0m\n\u001b[0;32m----> 1\u001b[0;31m \u001b[0mgrid_search\u001b[0m \u001b[0;34m=\u001b[0m \u001b[0mgrid_search\u001b[0m\u001b[0;34m.\u001b[0m\u001b[0mfit\u001b[0m\u001b[0;34m(\u001b[0m\u001b[0mtrain_X\u001b[0m\u001b[0;34m,\u001b[0m \u001b[0mtrain_y\u001b[0m\u001b[0;34m)\u001b[0m\u001b[0;34m\u001b[0m\u001b[0;34m\u001b[0m\u001b[0m\n\u001b[0m",
      "\u001b[0;32m/optnfs/el7/jupyterhub/envs/Psych81.09/lib/python3.6/site-packages/sklearn/model_selection/_search.py\u001b[0m in \u001b[0;36mfit\u001b[0;34m(self, X, y, groups, **fit_params)\u001b[0m\n\u001b[1;32m    685\u001b[0m                 \u001b[0;32mreturn\u001b[0m \u001b[0mresults\u001b[0m\u001b[0;34m\u001b[0m\u001b[0;34m\u001b[0m\u001b[0m\n\u001b[1;32m    686\u001b[0m \u001b[0;34m\u001b[0m\u001b[0m\n\u001b[0;32m--> 687\u001b[0;31m             \u001b[0mself\u001b[0m\u001b[0;34m.\u001b[0m\u001b[0m_run_search\u001b[0m\u001b[0;34m(\u001b[0m\u001b[0mevaluate_candidates\u001b[0m\u001b[0;34m)\u001b[0m\u001b[0;34m\u001b[0m\u001b[0;34m\u001b[0m\u001b[0m\n\u001b[0m\u001b[1;32m    688\u001b[0m \u001b[0;34m\u001b[0m\u001b[0m\n\u001b[1;32m    689\u001b[0m         \u001b[0;31m# For multi-metric evaluation, store the best_index_, best_params_ and\u001b[0m\u001b[0;34m\u001b[0m\u001b[0;34m\u001b[0m\u001b[0;34m\u001b[0m\u001b[0m\n",
      "\u001b[0;32m/optnfs/el7/jupyterhub/envs/Psych81.09/lib/python3.6/site-packages/sklearn/model_selection/_search.py\u001b[0m in \u001b[0;36m_run_search\u001b[0;34m(self, evaluate_candidates)\u001b[0m\n\u001b[1;32m   1146\u001b[0m     \u001b[0;32mdef\u001b[0m \u001b[0m_run_search\u001b[0m\u001b[0;34m(\u001b[0m\u001b[0mself\u001b[0m\u001b[0;34m,\u001b[0m \u001b[0mevaluate_candidates\u001b[0m\u001b[0;34m)\u001b[0m\u001b[0;34m:\u001b[0m\u001b[0;34m\u001b[0m\u001b[0;34m\u001b[0m\u001b[0m\n\u001b[1;32m   1147\u001b[0m         \u001b[0;34m\"\"\"Search all candidates in param_grid\"\"\"\u001b[0m\u001b[0;34m\u001b[0m\u001b[0;34m\u001b[0m\u001b[0m\n\u001b[0;32m-> 1148\u001b[0;31m         \u001b[0mevaluate_candidates\u001b[0m\u001b[0;34m(\u001b[0m\u001b[0mParameterGrid\u001b[0m\u001b[0;34m(\u001b[0m\u001b[0mself\u001b[0m\u001b[0;34m.\u001b[0m\u001b[0mparam_grid\u001b[0m\u001b[0;34m)\u001b[0m\u001b[0;34m)\u001b[0m\u001b[0;34m\u001b[0m\u001b[0;34m\u001b[0m\u001b[0m\n\u001b[0m\u001b[1;32m   1149\u001b[0m \u001b[0;34m\u001b[0m\u001b[0m\n\u001b[1;32m   1150\u001b[0m \u001b[0;34m\u001b[0m\u001b[0m\n",
      "\u001b[0;32m/optnfs/el7/jupyterhub/envs/Psych81.09/lib/python3.6/site-packages/sklearn/model_selection/_search.py\u001b[0m in \u001b[0;36mevaluate_candidates\u001b[0;34m(candidate_params)\u001b[0m\n\u001b[1;32m    664\u001b[0m                                \u001b[0;32mfor\u001b[0m \u001b[0mparameters\u001b[0m\u001b[0;34m,\u001b[0m \u001b[0;34m(\u001b[0m\u001b[0mtrain\u001b[0m\u001b[0;34m,\u001b[0m \u001b[0mtest\u001b[0m\u001b[0;34m)\u001b[0m\u001b[0;34m\u001b[0m\u001b[0;34m\u001b[0m\u001b[0m\n\u001b[1;32m    665\u001b[0m                                in product(candidate_params,\n\u001b[0;32m--> 666\u001b[0;31m                                           cv.split(X, y, groups)))\n\u001b[0m\u001b[1;32m    667\u001b[0m \u001b[0;34m\u001b[0m\u001b[0m\n\u001b[1;32m    668\u001b[0m                 \u001b[0;32mif\u001b[0m \u001b[0mlen\u001b[0m\u001b[0;34m(\u001b[0m\u001b[0mout\u001b[0m\u001b[0;34m)\u001b[0m \u001b[0;34m<\u001b[0m \u001b[0;36m1\u001b[0m\u001b[0;34m:\u001b[0m\u001b[0;34m\u001b[0m\u001b[0;34m\u001b[0m\u001b[0m\n",
      "\u001b[0;32m/optnfs/el7/jupyterhub/envs/Psych81.09/lib/python3.6/site-packages/joblib/parallel.py\u001b[0m in \u001b[0;36m__call__\u001b[0;34m(self, iterable)\u001b[0m\n\u001b[1;32m    919\u001b[0m             \u001b[0;31m# remaining jobs.\u001b[0m\u001b[0;34m\u001b[0m\u001b[0;34m\u001b[0m\u001b[0;34m\u001b[0m\u001b[0m\n\u001b[1;32m    920\u001b[0m             \u001b[0mself\u001b[0m\u001b[0;34m.\u001b[0m\u001b[0m_iterating\u001b[0m \u001b[0;34m=\u001b[0m \u001b[0;32mFalse\u001b[0m\u001b[0;34m\u001b[0m\u001b[0;34m\u001b[0m\u001b[0m\n\u001b[0;32m--> 921\u001b[0;31m             \u001b[0;32mif\u001b[0m \u001b[0mself\u001b[0m\u001b[0;34m.\u001b[0m\u001b[0mdispatch_one_batch\u001b[0m\u001b[0;34m(\u001b[0m\u001b[0miterator\u001b[0m\u001b[0;34m)\u001b[0m\u001b[0;34m:\u001b[0m\u001b[0;34m\u001b[0m\u001b[0;34m\u001b[0m\u001b[0m\n\u001b[0m\u001b[1;32m    922\u001b[0m                 \u001b[0mself\u001b[0m\u001b[0;34m.\u001b[0m\u001b[0m_iterating\u001b[0m \u001b[0;34m=\u001b[0m \u001b[0mself\u001b[0m\u001b[0;34m.\u001b[0m\u001b[0m_original_iterator\u001b[0m \u001b[0;32mis\u001b[0m \u001b[0;32mnot\u001b[0m \u001b[0;32mNone\u001b[0m\u001b[0;34m\u001b[0m\u001b[0;34m\u001b[0m\u001b[0m\n\u001b[1;32m    923\u001b[0m \u001b[0;34m\u001b[0m\u001b[0m\n",
      "\u001b[0;32m/optnfs/el7/jupyterhub/envs/Psych81.09/lib/python3.6/site-packages/joblib/parallel.py\u001b[0m in \u001b[0;36mdispatch_one_batch\u001b[0;34m(self, iterator)\u001b[0m\n\u001b[1;32m    757\u001b[0m                 \u001b[0;32mreturn\u001b[0m \u001b[0;32mFalse\u001b[0m\u001b[0;34m\u001b[0m\u001b[0;34m\u001b[0m\u001b[0m\n\u001b[1;32m    758\u001b[0m             \u001b[0;32melse\u001b[0m\u001b[0;34m:\u001b[0m\u001b[0;34m\u001b[0m\u001b[0;34m\u001b[0m\u001b[0m\n\u001b[0;32m--> 759\u001b[0;31m                 \u001b[0mself\u001b[0m\u001b[0;34m.\u001b[0m\u001b[0m_dispatch\u001b[0m\u001b[0;34m(\u001b[0m\u001b[0mtasks\u001b[0m\u001b[0;34m)\u001b[0m\u001b[0;34m\u001b[0m\u001b[0;34m\u001b[0m\u001b[0m\n\u001b[0m\u001b[1;32m    760\u001b[0m                 \u001b[0;32mreturn\u001b[0m \u001b[0;32mTrue\u001b[0m\u001b[0;34m\u001b[0m\u001b[0;34m\u001b[0m\u001b[0m\n\u001b[1;32m    761\u001b[0m \u001b[0;34m\u001b[0m\u001b[0m\n",
      "\u001b[0;32m/optnfs/el7/jupyterhub/envs/Psych81.09/lib/python3.6/site-packages/joblib/parallel.py\u001b[0m in \u001b[0;36m_dispatch\u001b[0;34m(self, batch)\u001b[0m\n\u001b[1;32m    714\u001b[0m         \u001b[0;32mwith\u001b[0m \u001b[0mself\u001b[0m\u001b[0;34m.\u001b[0m\u001b[0m_lock\u001b[0m\u001b[0;34m:\u001b[0m\u001b[0;34m\u001b[0m\u001b[0;34m\u001b[0m\u001b[0m\n\u001b[1;32m    715\u001b[0m             \u001b[0mjob_idx\u001b[0m \u001b[0;34m=\u001b[0m \u001b[0mlen\u001b[0m\u001b[0;34m(\u001b[0m\u001b[0mself\u001b[0m\u001b[0;34m.\u001b[0m\u001b[0m_jobs\u001b[0m\u001b[0;34m)\u001b[0m\u001b[0;34m\u001b[0m\u001b[0;34m\u001b[0m\u001b[0m\n\u001b[0;32m--> 716\u001b[0;31m             \u001b[0mjob\u001b[0m \u001b[0;34m=\u001b[0m \u001b[0mself\u001b[0m\u001b[0;34m.\u001b[0m\u001b[0m_backend\u001b[0m\u001b[0;34m.\u001b[0m\u001b[0mapply_async\u001b[0m\u001b[0;34m(\u001b[0m\u001b[0mbatch\u001b[0m\u001b[0;34m,\u001b[0m \u001b[0mcallback\u001b[0m\u001b[0;34m=\u001b[0m\u001b[0mcb\u001b[0m\u001b[0;34m)\u001b[0m\u001b[0;34m\u001b[0m\u001b[0;34m\u001b[0m\u001b[0m\n\u001b[0m\u001b[1;32m    717\u001b[0m             \u001b[0;31m# A job can complete so quickly than its callback is\u001b[0m\u001b[0;34m\u001b[0m\u001b[0;34m\u001b[0m\u001b[0;34m\u001b[0m\u001b[0m\n\u001b[1;32m    718\u001b[0m             \u001b[0;31m# called before we get here, causing self._jobs to\u001b[0m\u001b[0;34m\u001b[0m\u001b[0;34m\u001b[0m\u001b[0;34m\u001b[0m\u001b[0m\n",
      "\u001b[0;32m/optnfs/el7/jupyterhub/envs/Psych81.09/lib/python3.6/site-packages/joblib/_parallel_backends.py\u001b[0m in \u001b[0;36mapply_async\u001b[0;34m(self, func, callback)\u001b[0m\n\u001b[1;32m    508\u001b[0m     \u001b[0;32mdef\u001b[0m \u001b[0mapply_async\u001b[0m\u001b[0;34m(\u001b[0m\u001b[0mself\u001b[0m\u001b[0;34m,\u001b[0m \u001b[0mfunc\u001b[0m\u001b[0;34m,\u001b[0m \u001b[0mcallback\u001b[0m\u001b[0;34m=\u001b[0m\u001b[0;32mNone\u001b[0m\u001b[0;34m)\u001b[0m\u001b[0;34m:\u001b[0m\u001b[0;34m\u001b[0m\u001b[0;34m\u001b[0m\u001b[0m\n\u001b[1;32m    509\u001b[0m         \u001b[0;34m\"\"\"Schedule a func to be run\"\"\"\u001b[0m\u001b[0;34m\u001b[0m\u001b[0;34m\u001b[0m\u001b[0m\n\u001b[0;32m--> 510\u001b[0;31m         \u001b[0mfuture\u001b[0m \u001b[0;34m=\u001b[0m \u001b[0mself\u001b[0m\u001b[0;34m.\u001b[0m\u001b[0m_workers\u001b[0m\u001b[0;34m.\u001b[0m\u001b[0msubmit\u001b[0m\u001b[0;34m(\u001b[0m\u001b[0mSafeFunction\u001b[0m\u001b[0;34m(\u001b[0m\u001b[0mfunc\u001b[0m\u001b[0;34m)\u001b[0m\u001b[0;34m)\u001b[0m\u001b[0;34m\u001b[0m\u001b[0;34m\u001b[0m\u001b[0m\n\u001b[0m\u001b[1;32m    511\u001b[0m         \u001b[0mfuture\u001b[0m\u001b[0;34m.\u001b[0m\u001b[0mget\u001b[0m \u001b[0;34m=\u001b[0m \u001b[0mfunctools\u001b[0m\u001b[0;34m.\u001b[0m\u001b[0mpartial\u001b[0m\u001b[0;34m(\u001b[0m\u001b[0mself\u001b[0m\u001b[0;34m.\u001b[0m\u001b[0mwrap_future_result\u001b[0m\u001b[0;34m,\u001b[0m \u001b[0mfuture\u001b[0m\u001b[0;34m)\u001b[0m\u001b[0;34m\u001b[0m\u001b[0;34m\u001b[0m\u001b[0m\n\u001b[1;32m    512\u001b[0m         \u001b[0;32mif\u001b[0m \u001b[0mcallback\u001b[0m \u001b[0;32mis\u001b[0m \u001b[0;32mnot\u001b[0m \u001b[0;32mNone\u001b[0m\u001b[0;34m:\u001b[0m\u001b[0;34m\u001b[0m\u001b[0;34m\u001b[0m\u001b[0m\n",
      "\u001b[0;32m/optnfs/el7/jupyterhub/envs/Psych81.09/lib/python3.6/site-packages/joblib/externals/loky/reusable_executor.py\u001b[0m in \u001b[0;36msubmit\u001b[0;34m(self, fn, *args, **kwargs)\u001b[0m\n\u001b[1;32m    149\u001b[0m         \u001b[0;32mwith\u001b[0m \u001b[0mself\u001b[0m\u001b[0;34m.\u001b[0m\u001b[0m_submit_resize_lock\u001b[0m\u001b[0;34m:\u001b[0m\u001b[0;34m\u001b[0m\u001b[0;34m\u001b[0m\u001b[0m\n\u001b[1;32m    150\u001b[0m             return super(_ReusablePoolExecutor, self).submit(\n\u001b[0;32m--> 151\u001b[0;31m                 fn, *args, **kwargs)\n\u001b[0m\u001b[1;32m    152\u001b[0m \u001b[0;34m\u001b[0m\u001b[0m\n\u001b[1;32m    153\u001b[0m     \u001b[0;32mdef\u001b[0m \u001b[0m_resize\u001b[0m\u001b[0;34m(\u001b[0m\u001b[0mself\u001b[0m\u001b[0;34m,\u001b[0m \u001b[0mmax_workers\u001b[0m\u001b[0;34m)\u001b[0m\u001b[0;34m:\u001b[0m\u001b[0;34m\u001b[0m\u001b[0;34m\u001b[0m\u001b[0m\n",
      "\u001b[0;32m/optnfs/el7/jupyterhub/envs/Psych81.09/lib/python3.6/site-packages/joblib/externals/loky/process_executor.py\u001b[0m in \u001b[0;36msubmit\u001b[0;34m(self, fn, *args, **kwargs)\u001b[0m\n\u001b[1;32m   1040\u001b[0m             \u001b[0mself\u001b[0m\u001b[0;34m.\u001b[0m\u001b[0m_queue_management_thread_wakeup\u001b[0m\u001b[0;34m.\u001b[0m\u001b[0mwakeup\u001b[0m\u001b[0;34m(\u001b[0m\u001b[0;34m)\u001b[0m\u001b[0;34m\u001b[0m\u001b[0;34m\u001b[0m\u001b[0m\n\u001b[1;32m   1041\u001b[0m \u001b[0;34m\u001b[0m\u001b[0m\n\u001b[0;32m-> 1042\u001b[0;31m             \u001b[0mself\u001b[0m\u001b[0;34m.\u001b[0m\u001b[0m_ensure_executor_running\u001b[0m\u001b[0;34m(\u001b[0m\u001b[0;34m)\u001b[0m\u001b[0;34m\u001b[0m\u001b[0;34m\u001b[0m\u001b[0m\n\u001b[0m\u001b[1;32m   1043\u001b[0m             \u001b[0;32mreturn\u001b[0m \u001b[0mf\u001b[0m\u001b[0;34m\u001b[0m\u001b[0;34m\u001b[0m\u001b[0m\n\u001b[1;32m   1044\u001b[0m     \u001b[0msubmit\u001b[0m\u001b[0;34m.\u001b[0m\u001b[0m__doc__\u001b[0m \u001b[0;34m=\u001b[0m \u001b[0m_base\u001b[0m\u001b[0;34m.\u001b[0m\u001b[0mExecutor\u001b[0m\u001b[0;34m.\u001b[0m\u001b[0msubmit\u001b[0m\u001b[0;34m.\u001b[0m\u001b[0m__doc__\u001b[0m\u001b[0;34m\u001b[0m\u001b[0;34m\u001b[0m\u001b[0m\n",
      "\u001b[0;32m/optnfs/el7/jupyterhub/envs/Psych81.09/lib/python3.6/site-packages/joblib/externals/loky/process_executor.py\u001b[0m in \u001b[0;36m_ensure_executor_running\u001b[0;34m(self)\u001b[0m\n\u001b[1;32m   1014\u001b[0m         \u001b[0;32mwith\u001b[0m \u001b[0mself\u001b[0m\u001b[0;34m.\u001b[0m\u001b[0m_processes_management_lock\u001b[0m\u001b[0;34m:\u001b[0m\u001b[0;34m\u001b[0m\u001b[0;34m\u001b[0m\u001b[0m\n\u001b[1;32m   1015\u001b[0m             \u001b[0;32mif\u001b[0m \u001b[0mlen\u001b[0m\u001b[0;34m(\u001b[0m\u001b[0mself\u001b[0m\u001b[0;34m.\u001b[0m\u001b[0m_processes\u001b[0m\u001b[0;34m)\u001b[0m \u001b[0;34m!=\u001b[0m \u001b[0mself\u001b[0m\u001b[0;34m.\u001b[0m\u001b[0m_max_workers\u001b[0m\u001b[0;34m:\u001b[0m\u001b[0;34m\u001b[0m\u001b[0;34m\u001b[0m\u001b[0m\n\u001b[0;32m-> 1016\u001b[0;31m                 \u001b[0mself\u001b[0m\u001b[0;34m.\u001b[0m\u001b[0m_adjust_process_count\u001b[0m\u001b[0;34m(\u001b[0m\u001b[0;34m)\u001b[0m\u001b[0;34m\u001b[0m\u001b[0;34m\u001b[0m\u001b[0m\n\u001b[0m\u001b[1;32m   1017\u001b[0m             \u001b[0mself\u001b[0m\u001b[0;34m.\u001b[0m\u001b[0m_start_queue_management_thread\u001b[0m\u001b[0;34m(\u001b[0m\u001b[0;34m)\u001b[0m\u001b[0;34m\u001b[0m\u001b[0;34m\u001b[0m\u001b[0m\n\u001b[1;32m   1018\u001b[0m \u001b[0;34m\u001b[0m\u001b[0m\n",
      "\u001b[0;32m/optnfs/el7/jupyterhub/envs/Psych81.09/lib/python3.6/site-packages/joblib/externals/loky/process_executor.py\u001b[0m in \u001b[0;36m_adjust_process_count\u001b[0;34m(self)\u001b[0m\n\u001b[1;32m   1005\u001b[0m                       _CURRENT_DEPTH + 1))\n\u001b[1;32m   1006\u001b[0m             \u001b[0mp\u001b[0m\u001b[0;34m.\u001b[0m\u001b[0m_worker_exit_lock\u001b[0m \u001b[0;34m=\u001b[0m \u001b[0mworker_exit_lock\u001b[0m\u001b[0;34m\u001b[0m\u001b[0;34m\u001b[0m\u001b[0m\n\u001b[0;32m-> 1007\u001b[0;31m             \u001b[0mp\u001b[0m\u001b[0;34m.\u001b[0m\u001b[0mstart\u001b[0m\u001b[0;34m(\u001b[0m\u001b[0;34m)\u001b[0m\u001b[0;34m\u001b[0m\u001b[0;34m\u001b[0m\u001b[0m\n\u001b[0m\u001b[1;32m   1008\u001b[0m             \u001b[0mself\u001b[0m\u001b[0;34m.\u001b[0m\u001b[0m_processes\u001b[0m\u001b[0;34m[\u001b[0m\u001b[0mp\u001b[0m\u001b[0;34m.\u001b[0m\u001b[0mpid\u001b[0m\u001b[0;34m]\u001b[0m \u001b[0;34m=\u001b[0m \u001b[0mp\u001b[0m\u001b[0;34m\u001b[0m\u001b[0;34m\u001b[0m\u001b[0m\n\u001b[1;32m   1009\u001b[0m         \u001b[0mmp\u001b[0m\u001b[0;34m.\u001b[0m\u001b[0mutil\u001b[0m\u001b[0;34m.\u001b[0m\u001b[0mdebug\u001b[0m\u001b[0;34m(\u001b[0m\u001b[0;34m'Adjust process count : {}'\u001b[0m\u001b[0;34m.\u001b[0m\u001b[0mformat\u001b[0m\u001b[0;34m(\u001b[0m\u001b[0mself\u001b[0m\u001b[0;34m.\u001b[0m\u001b[0m_processes\u001b[0m\u001b[0;34m)\u001b[0m\u001b[0;34m)\u001b[0m\u001b[0;34m\u001b[0m\u001b[0;34m\u001b[0m\u001b[0m\n",
      "\u001b[0;32m/optnfs/el7/jupyterhub/envs/Psych81.09/lib/python3.6/multiprocessing/process.py\u001b[0m in \u001b[0;36mstart\u001b[0;34m(self)\u001b[0m\n\u001b[1;32m    103\u001b[0m                \u001b[0;34m'daemonic processes are not allowed to have children'\u001b[0m\u001b[0;34m\u001b[0m\u001b[0;34m\u001b[0m\u001b[0m\n\u001b[1;32m    104\u001b[0m         \u001b[0m_cleanup\u001b[0m\u001b[0;34m(\u001b[0m\u001b[0;34m)\u001b[0m\u001b[0;34m\u001b[0m\u001b[0;34m\u001b[0m\u001b[0m\n\u001b[0;32m--> 105\u001b[0;31m         \u001b[0mself\u001b[0m\u001b[0;34m.\u001b[0m\u001b[0m_popen\u001b[0m \u001b[0;34m=\u001b[0m \u001b[0mself\u001b[0m\u001b[0;34m.\u001b[0m\u001b[0m_Popen\u001b[0m\u001b[0;34m(\u001b[0m\u001b[0mself\u001b[0m\u001b[0;34m)\u001b[0m\u001b[0;34m\u001b[0m\u001b[0;34m\u001b[0m\u001b[0m\n\u001b[0m\u001b[1;32m    106\u001b[0m         \u001b[0mself\u001b[0m\u001b[0;34m.\u001b[0m\u001b[0m_sentinel\u001b[0m \u001b[0;34m=\u001b[0m \u001b[0mself\u001b[0m\u001b[0;34m.\u001b[0m\u001b[0m_popen\u001b[0m\u001b[0;34m.\u001b[0m\u001b[0msentinel\u001b[0m\u001b[0;34m\u001b[0m\u001b[0;34m\u001b[0m\u001b[0m\n\u001b[1;32m    107\u001b[0m         \u001b[0;31m# Avoid a refcycle if the target function holds an indirect\u001b[0m\u001b[0;34m\u001b[0m\u001b[0;34m\u001b[0m\u001b[0;34m\u001b[0m\u001b[0m\n",
      "\u001b[0;32m/optnfs/el7/jupyterhub/envs/Psych81.09/lib/python3.6/site-packages/joblib/externals/loky/backend/process.py\u001b[0m in \u001b[0;36m_Popen\u001b[0;34m(process_obj)\u001b[0m\n\u001b[1;32m     35\u001b[0m         \u001b[0;32melse\u001b[0m\u001b[0;34m:\u001b[0m\u001b[0;34m\u001b[0m\u001b[0;34m\u001b[0m\u001b[0m\n\u001b[1;32m     36\u001b[0m             \u001b[0;32mfrom\u001b[0m \u001b[0;34m.\u001b[0m\u001b[0mpopen_loky_posix\u001b[0m \u001b[0;32mimport\u001b[0m \u001b[0mPopen\u001b[0m\u001b[0;34m\u001b[0m\u001b[0;34m\u001b[0m\u001b[0m\n\u001b[0;32m---> 37\u001b[0;31m         \u001b[0;32mreturn\u001b[0m \u001b[0mPopen\u001b[0m\u001b[0;34m(\u001b[0m\u001b[0mprocess_obj\u001b[0m\u001b[0;34m)\u001b[0m\u001b[0;34m\u001b[0m\u001b[0;34m\u001b[0m\u001b[0m\n\u001b[0m\u001b[1;32m     38\u001b[0m \u001b[0;34m\u001b[0m\u001b[0m\n\u001b[1;32m     39\u001b[0m     \u001b[0;32mif\u001b[0m \u001b[0msys\u001b[0m\u001b[0;34m.\u001b[0m\u001b[0mversion_info\u001b[0m \u001b[0;34m<\u001b[0m \u001b[0;34m(\u001b[0m\u001b[0;36m3\u001b[0m\u001b[0;34m,\u001b[0m \u001b[0;36m3\u001b[0m\u001b[0;34m)\u001b[0m\u001b[0;34m:\u001b[0m\u001b[0;34m\u001b[0m\u001b[0;34m\u001b[0m\u001b[0m\n",
      "\u001b[0;32m/optnfs/el7/jupyterhub/envs/Psych81.09/lib/python3.6/site-packages/joblib/externals/loky/backend/popen_loky_posix.py\u001b[0m in \u001b[0;36m__init__\u001b[0;34m(self, process_obj)\u001b[0m\n\u001b[1;32m     50\u001b[0m             \u001b[0mself\u001b[0m\u001b[0;34m.\u001b[0m\u001b[0mreturncode\u001b[0m \u001b[0;34m=\u001b[0m \u001b[0;32mNone\u001b[0m\u001b[0;34m\u001b[0m\u001b[0;34m\u001b[0m\u001b[0m\n\u001b[1;32m     51\u001b[0m             \u001b[0mself\u001b[0m\u001b[0;34m.\u001b[0m\u001b[0m_fds\u001b[0m \u001b[0;34m=\u001b[0m \u001b[0;34m[\u001b[0m\u001b[0;34m]\u001b[0m\u001b[0;34m\u001b[0m\u001b[0;34m\u001b[0m\u001b[0m\n\u001b[0;32m---> 52\u001b[0;31m             \u001b[0mself\u001b[0m\u001b[0;34m.\u001b[0m\u001b[0m_launch\u001b[0m\u001b[0;34m(\u001b[0m\u001b[0mprocess_obj\u001b[0m\u001b[0;34m)\u001b[0m\u001b[0;34m\u001b[0m\u001b[0;34m\u001b[0m\u001b[0m\n\u001b[0m\u001b[1;32m     53\u001b[0m \u001b[0;34m\u001b[0m\u001b[0m\n\u001b[1;32m     54\u001b[0m         \u001b[0;32mif\u001b[0m \u001b[0msys\u001b[0m\u001b[0;34m.\u001b[0m\u001b[0mversion_info\u001b[0m \u001b[0;34m<\u001b[0m \u001b[0;34m(\u001b[0m\u001b[0;36m3\u001b[0m\u001b[0;34m,\u001b[0m \u001b[0;36m4\u001b[0m\u001b[0;34m)\u001b[0m\u001b[0;34m:\u001b[0m\u001b[0;34m\u001b[0m\u001b[0;34m\u001b[0m\u001b[0m\n",
      "\u001b[0;32m/optnfs/el7/jupyterhub/envs/Psych81.09/lib/python3.6/site-packages/joblib/externals/loky/backend/popen_loky_posix.py\u001b[0m in \u001b[0;36m_launch\u001b[0;34m(self, process_obj)\u001b[0m\n\u001b[1;32m    153\u001b[0m                 \u001b[0mself\u001b[0m\u001b[0;34m.\u001b[0m\u001b[0m_fds\u001b[0m\u001b[0;34m.\u001b[0m\u001b[0mextend\u001b[0m\u001b[0;34m(\u001b[0m\u001b[0;34m[\u001b[0m\u001b[0mchild_r\u001b[0m\u001b[0;34m,\u001b[0m \u001b[0mchild_w\u001b[0m\u001b[0;34m,\u001b[0m \u001b[0mtracker_fd\u001b[0m\u001b[0;34m]\u001b[0m\u001b[0;34m)\u001b[0m\u001b[0;34m\u001b[0m\u001b[0;34m\u001b[0m\u001b[0m\n\u001b[1;32m    154\u001b[0m                 \u001b[0;32mfrom\u001b[0m \u001b[0;34m.\u001b[0m\u001b[0mfork_exec\u001b[0m \u001b[0;32mimport\u001b[0m \u001b[0mfork_exec\u001b[0m\u001b[0;34m\u001b[0m\u001b[0;34m\u001b[0m\u001b[0m\n\u001b[0;32m--> 155\u001b[0;31m                 \u001b[0mpid\u001b[0m \u001b[0;34m=\u001b[0m \u001b[0mfork_exec\u001b[0m\u001b[0;34m(\u001b[0m\u001b[0mcmd_python\u001b[0m\u001b[0;34m,\u001b[0m \u001b[0mself\u001b[0m\u001b[0;34m.\u001b[0m\u001b[0m_fds\u001b[0m\u001b[0;34m)\u001b[0m\u001b[0;34m\u001b[0m\u001b[0;34m\u001b[0m\u001b[0m\n\u001b[0m\u001b[1;32m    156\u001b[0m                 util.debug(\"launched python with pid {} and cmd:\\n{}\"\n\u001b[1;32m    157\u001b[0m                            .format(pid, cmd_python))\n",
      "\u001b[0;32m/optnfs/el7/jupyterhub/envs/Psych81.09/lib/python3.6/site-packages/joblib/externals/loky/backend/fork_exec.py\u001b[0m in \u001b[0;36mfork_exec\u001b[0;34m(cmd, keep_fds)\u001b[0m\n\u001b[1;32m     36\u001b[0m \u001b[0;32mdef\u001b[0m \u001b[0mfork_exec\u001b[0m\u001b[0;34m(\u001b[0m\u001b[0mcmd\u001b[0m\u001b[0;34m,\u001b[0m \u001b[0mkeep_fds\u001b[0m\u001b[0;34m)\u001b[0m\u001b[0;34m:\u001b[0m\u001b[0;34m\u001b[0m\u001b[0;34m\u001b[0m\u001b[0m\n\u001b[1;32m     37\u001b[0m \u001b[0;34m\u001b[0m\u001b[0m\n\u001b[0;32m---> 38\u001b[0;31m     \u001b[0mpid\u001b[0m \u001b[0;34m=\u001b[0m \u001b[0mos\u001b[0m\u001b[0;34m.\u001b[0m\u001b[0mfork\u001b[0m\u001b[0;34m(\u001b[0m\u001b[0;34m)\u001b[0m\u001b[0;34m\u001b[0m\u001b[0;34m\u001b[0m\u001b[0m\n\u001b[0m\u001b[1;32m     39\u001b[0m     \u001b[0;32mif\u001b[0m \u001b[0mpid\u001b[0m \u001b[0;34m==\u001b[0m \u001b[0;36m0\u001b[0m\u001b[0;34m:\u001b[0m  \u001b[0;31m# pragma: no cover\u001b[0m\u001b[0;34m\u001b[0m\u001b[0;34m\u001b[0m\u001b[0m\n\u001b[1;32m     40\u001b[0m         \u001b[0mclose_fds\u001b[0m\u001b[0;34m(\u001b[0m\u001b[0mkeep_fds\u001b[0m\u001b[0;34m)\u001b[0m\u001b[0;34m\u001b[0m\u001b[0;34m\u001b[0m\u001b[0m\n",
      "\u001b[0;31mOSError\u001b[0m: [Errno 12] Cannot allocate memory"
     ]
    }
   ],
   "source": [
    "grid_search = grid_search.fit(train_X, train_y)"
   ]
  },
  {
   "cell_type": "code",
   "execution_count": null,
   "metadata": {},
   "outputs": [],
   "source": [
    "warnings.filterwarnings(\"ignore\")\n",
    "\n",
    "grid_search.grid_scores_, grid_search.best_params_, grid_search.best_score_"
   ]
  },
  {
   "cell_type": "code",
   "execution_count": null,
   "metadata": {},
   "outputs": [],
   "source": [
    "grid_search.best_estimator_"
   ]
  },
  {
   "cell_type": "code",
   "execution_count": null,
   "metadata": {},
   "outputs": [],
   "source": []
  }
 ],
 "metadata": {
  "kernelspec": {
   "display_name": "Psych81.09",
   "language": "python",
   "name": "psych81.09"
  },
  "language_info": {
   "codemirror_mode": {
    "name": "ipython",
    "version": 3
   },
   "file_extension": ".py",
   "mimetype": "text/x-python",
   "name": "python",
   "nbconvert_exporter": "python",
   "pygments_lexer": "ipython3",
   "version": "3.6.8"
  }
 },
 "nbformat": 4,
 "nbformat_minor": 2
}
