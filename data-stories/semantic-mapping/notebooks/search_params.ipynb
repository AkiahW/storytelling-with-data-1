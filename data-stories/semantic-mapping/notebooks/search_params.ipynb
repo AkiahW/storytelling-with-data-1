{
 "cells": [
  {
   "cell_type": "markdown",
   "metadata": {},
   "source": [
    "### imports"
   ]
  },
  {
   "cell_type": "code",
   "execution_count": 67,
   "metadata": {
    "ExecuteTime": {
     "end_time": "2019-05-29T16:26:40.341136Z",
     "start_time": "2019-05-29T16:26:40.313271Z"
    }
   },
   "outputs": [
    {
     "name": "stderr",
     "output_type": "stream",
     "text": [
      "DEBUG:matplotlib.backends:backend module://ipykernel.pylab.backend_inline version unknown\n"
     ]
    }
   ],
   "source": [
    "import numpy as np\n",
    "import hypertools as hyp\n",
    "import matplotlib.pyplot as plt\n",
    "import seaborn as sns\n",
    "import re\n",
    "import joblib\n",
    "import cortex\n",
    "import tables\n",
    "import pickle\n",
    "from sklearn.feature_extraction.text import CountVectorizer\n",
    "from sklearn.decomposition import LatentDirichletAllocation\n",
    "from scipy.spatial.distance import cdist\n",
    "\n",
    "from stimulus_utils import load_grids_for_stories, load_generic_trfiles\n",
    "from dsutils import make_word_ds, make_semantic_model\n",
    "from npp import zscore\n",
    "from util import make_delayed\n",
    "from ridge import bootstrap_ridge\n",
    "\n",
    "\n",
    "from nltk.corpus import stopwords\n",
    "\n",
    "import logging\n",
    "logging.basicConfig(level=logging.DEBUG)\n",
    "\n",
    "% matplotlib inline"
   ]
  },
  {
   "cell_type": "code",
   "execution_count": 68,
   "metadata": {
    "ExecuteTime": {
     "end_time": "2019-05-29T16:26:43.991591Z",
     "start_time": "2019-05-29T16:26:43.988370Z"
    },
    "collapsed": true
   },
   "outputs": [],
   "source": [
    "sns.set_context('talk')"
   ]
  },
  {
   "cell_type": "code",
   "execution_count": 27,
   "metadata": {
    "ExecuteTime": {
     "end_time": "2019-05-27T23:52:32.995001Z",
     "start_time": "2019-05-27T23:52:32.885785Z"
    }
   },
   "outputs": [
    {
     "name": "stderr",
     "output_type": "stream",
     "text": [
      "DEBUG:SemanticModel:Loading file: data/english1000sm.hf5\n",
      "DEBUG:SemanticModel:Done loading file..\n"
     ]
    }
   ],
   "source": [
    "from SemanticModel import SemanticModel\n",
    "eng1000 = SemanticModel.load(\"../data/english1000sm.hf5\")"
   ]
  },
  {
   "cell_type": "markdown",
   "metadata": {},
   "source": [
    "### load data"
   ]
  },
  {
   "cell_type": "code",
   "execution_count": 2,
   "metadata": {
    "ExecuteTime": {
     "end_time": "2019-05-27T21:58:17.471833Z",
     "start_time": "2019-05-27T21:58:17.459289Z"
    },
    "collapsed": true
   },
   "outputs": [],
   "source": [
    "# stories for fitting regression mdoels\n",
    "Rstories = ['alternateithicatom', 'avatar', 'howtodraw', 'legacy', 'life', 'myfirstdaywiththeyankees', \n",
    "                    'naked', 'odetostepfather', 'souls', 'undertheinfluence']\n",
    "\n",
    "# story for testing regression models/predicting activity\n",
    "Pstories = ['wheretheressmoke']\n",
    "\n",
    "allstories = Rstories + Pstories"
   ]
  },
  {
   "cell_type": "code",
   "execution_count": 3,
   "metadata": {
    "ExecuteTime": {
     "end_time": "2019-05-27T21:58:25.422477Z",
     "start_time": "2019-05-27T21:58:24.445697Z"
    },
    "collapsed": true
   },
   "outputs": [],
   "source": [
    "# Load TextGrids\n",
    "grids = load_grids_for_stories(allstories)\n",
    "\n",
    "# Load TRfiles\n",
    "trfiles = load_generic_trfiles(allstories)\n",
    "\n",
    "# Make word datasequences\n",
    "wordseqs = make_word_ds(grids, trfiles) # dictionary of {storyname : word DataSequence}"
   ]
  },
  {
   "cell_type": "code",
   "execution_count": 4,
   "metadata": {
    "ExecuteTime": {
     "end_time": "2019-05-27T21:59:18.270846Z",
     "start_time": "2019-05-27T21:59:10.435288Z"
    },
    "collapsed": true
   },
   "outputs": [],
   "source": [
    "# load wikipedia articles\n",
    "wiki_corpus = hyp.load('wiki').data[0]\n",
    "\n",
    "# fix encoding, remove newlines\n",
    "wiki_corpus = np.array([doc[0].decode('utf8').replace('\\n', ' ') for doc in wiki_corpus])\n",
    "\n",
    "# remove odd characters\n",
    "for i, doc in enumerate(wiki_corpus):\n",
    "    wiki_corpus[i] = re.sub(\"[^\\w\\s'-]+\", '', doc)"
   ]
  },
  {
   "cell_type": "code",
   "execution_count": 5,
   "metadata": {
    "ExecuteTime": {
     "end_time": "2019-05-27T21:59:21.281467Z",
     "start_time": "2019-05-27T21:59:18.272227Z"
    },
    "collapsed": true
   },
   "outputs": [],
   "source": [
    "# combine wikipedia pages and stories into full corpus\n",
    "training_corpus = np.append(wiki_corpus, np.array([' '.join(wordseqs[story].data) for story in allstories]), 0)"
   ]
  },
  {
   "cell_type": "code",
   "execution_count": 12,
   "metadata": {
    "ExecuteTime": {
     "end_time": "2019-05-27T22:08:46.870917Z",
     "start_time": "2019-05-27T22:08:45.094401Z"
    },
    "collapsed": true
   },
   "outputs": [],
   "source": [
    "# fMRI data\n",
    "resptf = tables.open_file(\"../data/fmri-responses.hf5\")\n",
    "zRresp = resptf.root.zRresp.read()\n",
    "zPresp = resptf.root.zPresp.read()\n",
    "mask = resptf.root.mask.read()"
   ]
  },
  {
   "cell_type": "code",
   "execution_count": 34,
   "metadata": {
    "ExecuteTime": {
     "end_time": "2019-05-28T00:41:05.360577Z",
     "start_time": "2019-05-28T00:41:05.353406Z"
    },
    "collapsed": true
   },
   "outputs": [],
   "source": [
    "# regression model params\n",
    "alphas = np.logspace(1, 3, 10)\n",
    "nboots = 1\n",
    "chunklen = 40\n",
    "nchunks = 20\n",
    "\n",
    "# param for concatenating stories\n",
    "trim = 5"
   ]
  },
  {
   "cell_type": "markdown",
   "metadata": {},
   "source": [
    "# functions"
   ]
  },
  {
   "cell_type": "code",
   "execution_count": 35,
   "metadata": {
    "ExecuteTime": {
     "end_time": "2019-05-28T00:41:06.503983Z",
     "start_time": "2019-05-28T00:41:06.476976Z"
    },
    "collapsed": true
   },
   "outputs": [],
   "source": [
    "def lanczosinterp2D(data, oldtime, newtime, window=3, cutoff_mult=1.0):\n",
    "    \n",
    "    \"\"\"Interpolates the columns of [data], assuming that the i'th row of data corresponds to\n",
    "    oldtime(i). A new matrix with the same number of columns and a number of rows given\n",
    "    by the length of [newtime] is returned.\n",
    "    \n",
    "    The time points in [newtime] are assumed to be evenly spaced, and their frequency will\n",
    "    be used to calculate the low-pass cutoff of the interpolation filter.\n",
    "    \n",
    "    [window] lobes of the sinc function will be used. [window] should be an integer.\n",
    "    \"\"\"\n",
    "    \n",
    "    # Find the cutoff frequency\n",
    "    cutoff = 1/np.mean(np.diff(newtime)) * cutoff_mult\n",
    "    print (\"Doing lanczos interpolation with cutoff=%0.3f and %d lobes.\" % (cutoff, window))\n",
    "    \n",
    "    # Build up sinc matrix\n",
    "    lancmat = np.zeros((len(newtime), len(oldtime)))\n",
    "    for ndi in range(len(newtime)):\n",
    "        lancmat[ndi,:] = lanczosfun(cutoff, newtime[ndi]-oldtime, window)\n",
    "    \n",
    "    # Construct new signal by multiplying the sinc matrix by the data\n",
    "    newdata = np.dot(lancmat, data)\n",
    "\n",
    "    return newdata"
   ]
  },
  {
   "cell_type": "code",
   "execution_count": 36,
   "metadata": {
    "ExecuteTime": {
     "end_time": "2019-05-28T00:41:07.019863Z",
     "start_time": "2019-05-28T00:41:07.010343Z"
    },
    "collapsed": true
   },
   "outputs": [],
   "source": [
    "def lanczosfun(cutoff, t, window=3):\n",
    "    \n",
    "    \"\"\"Compute the lanczos function with some cutoff frequency [B] at some time [t].\n",
    "    If given a [window], only the lowest-order [window] lobes of the sinc function\n",
    "    will be non-zero.\n",
    "    \"\"\"\n",
    "    \n",
    "    t = t * cutoff\n",
    "    val = window * np.sin(np.pi*t) * np.sin(np.pi*t/window) / (np.pi**2 * t**2)\n",
    "    val[t==0] = 1.0\n",
    "    val[np.abs(t)>window] = 0.0\n",
    "    return val"
   ]
  },
  {
   "cell_type": "markdown",
   "metadata": {},
   "source": [
    "### grid search function"
   ]
  },
  {
   "cell_type": "code",
   "execution_count": 37,
   "metadata": {
    "ExecuteTime": {
     "end_time": "2019-05-28T00:41:07.754786Z",
     "start_time": "2019-05-28T00:41:07.618987Z"
    },
    "collapsed": true
   },
   "outputs": [],
   "source": [
    "def search_params(topic_opts, window_opts, training_corpus):\n",
    "    \n",
    "    output_dict = dict()\n",
    "    \n",
    "    for n_topics in topic_opts:\n",
    "        for wsize in window_opts:\n",
    "            \n",
    "            print(f'topics: {n_topics}\\twindow size: {wsize}')\n",
    "            \n",
    "            # get windows\n",
    "            windows = []\n",
    "            for doc in training_corpus:\n",
    "                text = doc.split()\n",
    "                for i in range(0, len(text), wsize):\n",
    "                    windows.append(' '.join(text[i:i+wsize]))\n",
    "            \n",
    "            # fit model\n",
    "            print('fitting model')\n",
    "            cv = CountVectorizer(stop_words='english')\n",
    "            fit_cv = cv.fit_transform(windows)\n",
    "            LDA_wiki = LatentDirichletAllocation(n_components=n_topics, learning_method='batch', \n",
    "                                                 random_state=0).fit(fit_cv)\n",
    "            \n",
    "            # transform words\n",
    "            print('projecting stimulus words')\n",
    "            ldaseqs = dict()\n",
    "            for story in allstories:\n",
    "                vecs = np.empty((len(wordseqs[story].data), n_topics))\n",
    "                for ix, word in enumerate(wordseqs[story].data):\n",
    "                    vecs[ix] = LDA_wiki.transform(cv.transform([word]))\n",
    "                ldaseqs[story] = vecs\n",
    "                \n",
    "            # downsample to TR scale\n",
    "            print('downsampling topic vectors')\n",
    "            huthseqs = dict()\n",
    "            for story in allstories:\n",
    "                huthseqs[story] = make_semantic_model(wordseqs[story], eng1000)\n",
    "            downsampled_ldaseqs = dict()\n",
    "            for story in allstories:\n",
    "                downsampled_ldaseqs[story] = lanczosinterp2D(ldaseqs[story], huthseqs[story].data_times, \n",
    "                                                             huthseqs[story].tr_times, window=3)\n",
    "                \n",
    "            # concatenate across stories\n",
    "            LDARstim = np.vstack([zscore(downsampled_ldaseqs[story][5+trim:-trim]) for story in Rstories])\n",
    "            LDAPstim = np.vstack([zscore(downsampled_ldaseqs[story][5+trim:-trim]) for story in Pstories])\n",
    "            \n",
    "            # concatenate delays for FIR model\n",
    "            delLDARstim = make_delayed(LDARstim, range(1, 5))\n",
    "            delLDAPstim = make_delayed(LDAPstim, range(1, 5))\n",
    "            \n",
    "            # run regression analysis\n",
    "            print('computing alpha')\n",
    "            Lwt, Lcorr, Lalphas, Lbscorrs, Lvalinds = bootstrap_ridge(delLDARstim, zRresp, delLDAPstim, zPresp, \n",
    "                                                                      alphas, nboots, chunklen, nchunks, \n",
    "                                                                      singcutoff=1e-10, single_alpha=True)\n",
    "            # get weights\n",
    "            LDApred = np.dot(delLDAPstim, Lwt)\n",
    "            \n",
    "            # get voxelwise correlations\n",
    "            print('computing response correlations')\n",
    "            LDA_voxcorrs = np.zeros((zPresp.shape[1],))\n",
    "            for vi in range(zPresp.shape[1]):\n",
    "                LDA_voxcorrs[vi] = np.corrcoef(zPresp[:,vi], LDApred[:,vi])[0,1]\n",
    "                \n",
    "            print(f'median correlation: {str(np.median(LDA_voxcorrs))[:5]}')\n",
    "            \n",
    "            output_dict[f't{n_topics}_w{wsize}'] = np.median(LDA_voxcorrs)\n",
    "            \n",
    "    return output_dict"
   ]
  },
  {
   "cell_type": "code",
   "execution_count": 38,
   "metadata": {
    "ExecuteTime": {
     "end_time": "2019-05-28T00:41:08.278523Z",
     "start_time": "2019-05-28T00:41:08.274081Z"
    },
    "collapsed": true
   },
   "outputs": [],
   "source": [
    "# define range to search over\n",
    "topic_opts = [5, 10, 15, 25, 50, 100, 150, 200]\n",
    "window_opts = [50, 100, 200, 500]"
   ]
  },
  {
   "cell_type": "code",
   "execution_count": 39,
   "metadata": {
    "ExecuteTime": {
     "end_time": "2019-05-28T09:52:17.258314Z",
     "start_time": "2019-05-28T00:41:09.622088Z"
    }
   },
   "outputs": [
    {
     "name": "stdout",
     "output_type": "stream",
     "text": [
      "topics: 5\twindow size: 50\n",
      "fitting model\n",
      "projecting stimulus words\n",
      "downsampling topic vectors\n",
      "Doing lanczos interpolation with cutoff=0.499 and 3 lobes.\n",
      "Doing lanczos interpolation with cutoff=0.499 and 3 lobes.\n",
      "Doing lanczos interpolation with cutoff=0.499 and 3 lobes.\n",
      "Doing lanczos interpolation with cutoff=0.499 and 3 lobes.\n",
      "Doing lanczos interpolation with cutoff=0.499 and 3 lobes.\n",
      "Doing lanczos interpolation with cutoff=0.499 and 3 lobes.\n",
      "Doing lanczos interpolation with cutoff=0.499 and 3 lobes.\n",
      "Doing lanczos interpolation with cutoff=0.499 and 3 lobes.\n",
      "Doing lanczos interpolation with cutoff=0.499 and 3 lobes.\n",
      "Doing lanczos interpolation with cutoff=0.499 and 3 lobes.\n",
      "Doing lanczos interpolation with cutoff=0.499 and 3 lobes.\n",
      "computing alpha\n"
     ]
    },
    {
     "name": "stderr",
     "output_type": "stream",
     "text": [
      "INFO:ridge_corr:Selecting held-out test set..\n",
      "INFO:ridge_corr:Doing SVD...\n",
      "INFO:ridge_corr:Dropped 0 tiny singular values.. (U is now (2937, 20))\n",
      "INFO:ridge_corr:Training stimulus has Frobenius norm: 122.521\n",
      "INFO:ridge_corr:Training: alpha=10.000, mean corr=0.02807, max corr=0.41227, over-under(0.20)=160\n",
      "INFO:ridge_corr:Training: alpha=16.681, mean corr=0.02868, max corr=0.41101, over-under(0.20)=160\n",
      "INFO:ridge_corr:Training: alpha=27.826, mean corr=0.02925, max corr=0.40808, over-under(0.20)=168\n",
      "INFO:ridge_corr:Training: alpha=46.416, mean corr=0.02887, max corr=0.40506, over-under(0.20)=169\n",
      "INFO:ridge_corr:Training: alpha=77.426, mean corr=0.02723, max corr=0.40431, over-under(0.20)=174\n",
      "INFO:ridge_corr:Training: alpha=129.155, mean corr=0.02551, max corr=0.40393, over-under(0.20)=176\n",
      "INFO:ridge_corr:Training: alpha=215.443, mean corr=0.02450, max corr=0.40357, over-under(0.20)=172\n",
      "INFO:ridge_corr:Training: alpha=359.381, mean corr=0.02405, max corr=0.40327, over-under(0.20)=173\n",
      "INFO:ridge_corr:Training: alpha=599.484, mean corr=0.02387, max corr=0.40311, over-under(0.20)=173\n",
      "INFO:ridge_corr:Training: alpha=1000.000, mean corr=0.02381, max corr=0.40305, over-under(0.20)=173\n",
      "INFO:counter:1/1 items complete (16.99 seconds/item, 00:00:00 remaining)\n",
      "INFO:ridge_corr:Total training stimulus has Frobenius norm: 137.221\n",
      "INFO:ridge_corr:Finding single best alpha..\n",
      "INFO:ridge_corr:Best alpha = 27.826\n",
      "INFO:ridge_corr:Computing weights for each response using entire training set..\n"
     ]
    },
    {
     "name": "stdout",
     "output_type": "stream",
     "text": [
      "computing response correlations\n",
      "median correlation: 0.038\n",
      "topics: 5\twindow size: 100\n",
      "fitting model\n",
      "projecting stimulus words\n",
      "downsampling topic vectors\n",
      "Doing lanczos interpolation with cutoff=0.499 and 3 lobes.\n",
      "Doing lanczos interpolation with cutoff=0.499 and 3 lobes.\n",
      "Doing lanczos interpolation with cutoff=0.499 and 3 lobes.\n",
      "Doing lanczos interpolation with cutoff=0.499 and 3 lobes.\n",
      "Doing lanczos interpolation with cutoff=0.499 and 3 lobes.\n",
      "Doing lanczos interpolation with cutoff=0.499 and 3 lobes.\n",
      "Doing lanczos interpolation with cutoff=0.499 and 3 lobes.\n",
      "Doing lanczos interpolation with cutoff=0.499 and 3 lobes.\n",
      "Doing lanczos interpolation with cutoff=0.499 and 3 lobes.\n",
      "Doing lanczos interpolation with cutoff=0.499 and 3 lobes.\n",
      "Doing lanczos interpolation with cutoff=0.499 and 3 lobes.\n",
      "computing alpha"
     ]
    },
    {
     "name": "stderr",
     "output_type": "stream",
     "text": [
      "INFO:ridge_corr:Selecting held-out test set..\n",
      "INFO:ridge_corr:Doing SVD...\n",
      "INFO:ridge_corr:Dropped 0 tiny singular values.. (U is now (2937, 20))\n",
      "INFO:ridge_corr:Training stimulus has Frobenius norm: 121.583\n",
      "INFO:ridge_corr:Training: alpha=10.000, mean corr=0.03506, max corr=0.37931, over-under(0.20)=178\n",
      "INFO:ridge_corr:Training: alpha=16.681, mean corr=0.03564, max corr=0.37941, over-under(0.20)=182\n",
      "INFO:ridge_corr:Training: alpha=27.826, mean corr=0.03615, max corr=0.37884, over-under(0.20)=192\n",
      "INFO:ridge_corr:Training: alpha=46.416, mean corr=0.03578, max corr=0.37768, over-under(0.20)=187\n",
      "INFO:ridge_corr:Training: alpha=77.426, mean corr=0.03429, max corr=0.37736, over-under(0.20)=174\n",
      "INFO:ridge_corr:Training: alpha=129.155, mean corr=0.03275, max corr=0.37806, over-under(0.20)=161\n",
      "INFO:ridge_corr:Training: alpha=215.443, mean corr=0.03186, max corr=0.37875, over-under(0.20)=160\n",
      "INFO:ridge_corr:Training: alpha=359.381, mean corr=0.03148, max corr=0.37907, over-under(0.20)=158\n",
      "INFO:ridge_corr:Training: alpha=599.484, mean corr=0.03133, max corr=0.37919, over-under(0.20)=158\n",
      "INFO:ridge_corr:Training: alpha=1000.000, mean corr=0.03127, max corr=0.37923, over-under(0.20)=158\n",
      "INFO:counter:1/1 items complete (11.06 seconds/item, 00:00:00 remaining)\n",
      "INFO:ridge_corr:Total training stimulus has Frobenius norm: 137.415\n",
      "INFO:ridge_corr:Finding single best alpha..\n",
      "INFO:ridge_corr:Best alpha = 27.826\n",
      "INFO:ridge_corr:Computing weights for each response using entire training set..\n"
     ]
    },
    {
     "name": "stdout",
     "output_type": "stream",
     "text": [
      "\n",
      "computing response correlations\n",
      "median correlation: 0.039\n",
      "topics: 5\twindow size: 200\n",
      "fitting model\n",
      "projecting stimulus words\n",
      "downsampling topic vectors\n",
      "Doing lanczos interpolation with cutoff=0.499 and 3 lobes.\n",
      "Doing lanczos interpolation with cutoff=0.499 and 3 lobes.\n",
      "Doing lanczos interpolation with cutoff=0.499 and 3 lobes.\n",
      "Doing lanczos interpolation with cutoff=0.499 and 3 lobes.\n",
      "Doing lanczos interpolation with cutoff=0.499 and 3 lobes.\n",
      "Doing lanczos interpolation with cutoff=0.499 and 3 lobes.\n",
      "Doing lanczos interpolation with cutoff=0.499 and 3 lobes."
     ]
    },
    {
     "name": "stderr",
     "output_type": "stream",
     "text": [
      "INFO:ridge_corr:Selecting held-out test set..\n"
     ]
    },
    {
     "name": "stdout",
     "output_type": "stream",
     "text": [
      "\n",
      "Doing lanczos interpolation with cutoff=0.499 and 3 lobes.\n",
      "Doing lanczos interpolation with cutoff=0.499 and 3 lobes.\n",
      "Doing lanczos interpolation with cutoff=0.499 and 3 lobes.\n",
      "Doing lanczos interpolation with cutoff=0.499 and 3 lobes.\n",
      "computing alpha\n"
     ]
    },
    {
     "name": "stderr",
     "output_type": "stream",
     "text": [
      "INFO:ridge_corr:Doing SVD...\n",
      "INFO:ridge_corr:Dropped 0 tiny singular values.. (U is now (2937, 20))\n",
      "INFO:ridge_corr:Training stimulus has Frobenius norm: 121.325\n",
      "INFO:ridge_corr:Training: alpha=10.000, mean corr=0.03242, max corr=0.39334, over-under(0.20)=148\n",
      "INFO:ridge_corr:Training: alpha=16.681, mean corr=0.03297, max corr=0.39550, over-under(0.20)=152\n",
      "INFO:ridge_corr:Training: alpha=27.826, mean corr=0.03322, max corr=0.39739, over-under(0.20)=160\n",
      "INFO:ridge_corr:Training: alpha=46.416, mean corr=0.03219, max corr=0.39764, over-under(0.20)=166\n",
      "INFO:ridge_corr:Training: alpha=77.426, mean corr=0.02998, max corr=0.39725, over-under(0.20)=161\n",
      "INFO:ridge_corr:Training: alpha=129.155, mean corr=0.02807, max corr=0.39716, over-under(0.20)=156\n",
      "INFO:ridge_corr:Training: alpha=215.443, mean corr=0.02705, max corr=0.39714, over-under(0.20)=159\n",
      "INFO:ridge_corr:Training: alpha=359.381, mean corr=0.02662, max corr=0.39708, over-under(0.20)=160\n",
      "INFO:ridge_corr:Training: alpha=599.484, mean corr=0.02645, max corr=0.39704, over-under(0.20)=159\n",
      "INFO:ridge_corr:Training: alpha=1000.000, mean corr=0.02639, max corr=0.39702, over-under(0.20)=159\n",
      "INFO:counter:1/1 items complete (9.50 seconds/item, 00:00:00 remaining)\n",
      "INFO:ridge_corr:Total training stimulus has Frobenius norm: 137.782\n",
      "INFO:ridge_corr:Finding single best alpha..\n",
      "INFO:ridge_corr:Best alpha = 27.826\n",
      "INFO:ridge_corr:Computing weights for each response using entire training set..\n"
     ]
    },
    {
     "name": "stdout",
     "output_type": "stream",
     "text": [
      "computing response correlations\n",
      "median correlation: 0.040\n",
      "topics: 5\twindow size: 500\n",
      "fitting model\n",
      "projecting stimulus words\n",
      "downsampling topic vectors\n",
      "Doing lanczos interpolation with cutoff=0.499 and 3 lobes.\n",
      "Doing lanczos interpolation with cutoff=0.499 and 3 lobes.\n",
      "Doing lanczos interpolation with cutoff=0.499 and 3 lobes.\n",
      "Doing lanczos interpolation with cutoff=0.499 and 3 lobes.\n",
      "Doing lanczos interpolation with cutoff=0.499 and 3 lobes.\n",
      "Doing lanczos interpolation with cutoff=0.499 and 3 lobes.\n"
     ]
    },
    {
     "name": "stderr",
     "output_type": "stream",
     "text": [
      "INFO:ridge_corr:Selecting held-out test set..\n"
     ]
    },
    {
     "name": "stdout",
     "output_type": "stream",
     "text": [
      "Doing lanczos interpolation with cutoff=0.499 and 3 lobes.\n",
      "Doing lanczos interpolation with cutoff=0.499 and 3 lobes.\n",
      "Doing lanczos interpolation with cutoff=0.499 and 3 lobes.\n",
      "Doing lanczos interpolation with cutoff=0.499 and 3 lobes.\n",
      "Doing lanczos interpolation with cutoff=0.499 and 3 lobes.\n",
      "computing alpha\n"
     ]
    },
    {
     "name": "stderr",
     "output_type": "stream",
     "text": [
      "INFO:ridge_corr:Doing SVD...\n",
      "INFO:ridge_corr:Dropped 0 tiny singular values.. (U is now (2937, 20))\n",
      "INFO:ridge_corr:Training stimulus has Frobenius norm: 122.480\n",
      "INFO:ridge_corr:Training: alpha=10.000, mean corr=0.02820, max corr=0.33086, over-under(0.20)=146\n",
      "INFO:ridge_corr:Training: alpha=16.681, mean corr=0.02902, max corr=0.33338, over-under(0.20)=155\n",
      "INFO:ridge_corr:Training: alpha=27.826, mean corr=0.03000, max corr=0.33693, over-under(0.20)=169\n",
      "INFO:ridge_corr:Training: alpha=46.416, mean corr=0.03021, max corr=0.34026, over-under(0.20)=172\n",
      "INFO:ridge_corr:Training: alpha=77.426, mean corr=0.02917, max corr=0.34226, over-under(0.20)=156\n",
      "INFO:ridge_corr:Training: alpha=129.155, mean corr=0.02785, max corr=0.34277, over-under(0.20)=143\n",
      "INFO:ridge_corr:Training: alpha=215.443, mean corr=0.02702, max corr=0.34237, over-under(0.20)=136\n",
      "INFO:ridge_corr:Training: alpha=359.381, mean corr=0.02664, max corr=0.34190, over-under(0.20)=132\n",
      "INFO:ridge_corr:Training: alpha=599.484, mean corr=0.02649, max corr=0.34165, over-under(0.20)=131\n",
      "INFO:ridge_corr:Training: alpha=1000.000, mean corr=0.02644, max corr=0.34154, over-under(0.20)=130\n",
      "INFO:counter:1/1 items complete (10.28 seconds/item, 00:00:00 remaining)\n",
      "INFO:ridge_corr:Total training stimulus has Frobenius norm: 137.597\n",
      "INFO:ridge_corr:Finding single best alpha..\n",
      "INFO:ridge_corr:Best alpha = 46.416\n",
      "INFO:ridge_corr:Computing weights for each response using entire training set..\n"
     ]
    },
    {
     "name": "stdout",
     "output_type": "stream",
     "text": [
      "computing response correlations\n",
      "median correlation: 0.030\n",
      "topics: 10\twindow size: 50\n",
      "fitting model\n",
      "projecting stimulus words\n",
      "downsampling topic vectors\n",
      "Doing lanczos interpolation with cutoff=0.499 and 3 lobes.\n",
      "Doing lanczos interpolation with cutoff=0.499 and 3 lobes.\n",
      "Doing lanczos interpolation with cutoff=0.499 and 3 lobes.\n",
      "Doing lanczos interpolation with cutoff=0.499 and 3 lobes.\n",
      "Doing lanczos interpolation with cutoff=0.499 and 3 lobes.\n",
      "Doing lanczos interpolation with cutoff=0.499 and 3 lobes.\n",
      "Doing lanczos interpolation with cutoff=0.499 and 3 lobes.\n"
     ]
    },
    {
     "name": "stderr",
     "output_type": "stream",
     "text": [
      "INFO:ridge_corr:Selecting held-out test set..\n"
     ]
    },
    {
     "name": "stdout",
     "output_type": "stream",
     "text": [
      "Doing lanczos interpolation with cutoff=0.499 and 3 lobes.\n",
      "Doing lanczos interpolation with cutoff=0.499 and 3 lobes.\n",
      "Doing lanczos interpolation with cutoff=0.499 and 3 lobes.\n",
      "Doing lanczos interpolation with cutoff=0.499 and 3 lobes.\n",
      "computing alpha\n"
     ]
    },
    {
     "name": "stderr",
     "output_type": "stream",
     "text": [
      "INFO:ridge_corr:Doing SVD...\n",
      "INFO:ridge_corr:Dropped 0 tiny singular values.. (U is now (2937, 40))\n",
      "INFO:ridge_corr:Training stimulus has Frobenius norm: 155.513\n",
      "INFO:ridge_corr:Training: alpha=10.000, mean corr=0.03150, max corr=0.29111, over-under(0.20)=112\n",
      "INFO:ridge_corr:Training: alpha=16.681, mean corr=0.03266, max corr=0.29309, over-under(0.20)=123\n",
      "INFO:ridge_corr:Training: alpha=27.826, mean corr=0.03466, max corr=0.29601, over-under(0.20)=142\n",
      "INFO:ridge_corr:Training: alpha=46.416, mean corr=0.03675, max corr=0.29839, over-under(0.20)=153\n",
      "INFO:ridge_corr:Training: alpha=77.426, mean corr=0.03717, max corr=0.29847, over-under(0.20)=140\n",
      "INFO:ridge_corr:Training: alpha=129.155, mean corr=0.03588, max corr=0.29613, over-under(0.20)=115\n",
      "INFO:ridge_corr:Training: alpha=215.443, mean corr=0.03465, max corr=0.29281, over-under(0.20)=106\n",
      "INFO:ridge_corr:Training: alpha=359.381, mean corr=0.03401, max corr=0.29030, over-under(0.20)=99\n",
      "INFO:ridge_corr:Training: alpha=599.484, mean corr=0.03376, max corr=0.28903, over-under(0.20)=99\n",
      "INFO:ridge_corr:Training: alpha=1000.000, mean corr=0.03366, max corr=0.28850, over-under(0.20)=98\n",
      "INFO:counter:1/1 items complete (10.05 seconds/item, 00:00:00 remaining)\n",
      "INFO:ridge_corr:Total training stimulus has Frobenius norm: 174.671\n",
      "INFO:ridge_corr:Finding single best alpha..\n",
      "INFO:ridge_corr:Best alpha = 77.426\n",
      "INFO:ridge_corr:Computing weights for each response using entire training set..\n"
     ]
    },
    {
     "name": "stdout",
     "output_type": "stream",
     "text": [
      "computing response correlations\n",
      "median correlation: 0.031\n",
      "topics: 10\twindow size: 100\n",
      "fitting model\n",
      "projecting stimulus words\n",
      "downsampling topic vectors\n",
      "Doing lanczos interpolation with cutoff=0.499 and 3 lobes.\n",
      "Doing lanczos interpolation with cutoff=0.499 and 3 lobes.\n",
      "Doing lanczos interpolation with cutoff=0.499 and 3 lobes.\n",
      "Doing lanczos interpolation with cutoff=0.499 and 3 lobes.\n",
      "Doing lanczos interpolation with cutoff=0.499 and 3 lobes.\n",
      "Doing lanczos interpolation with cutoff=0.499 and 3 lobes.\n"
     ]
    },
    {
     "name": "stderr",
     "output_type": "stream",
     "text": [
      "INFO:ridge_corr:Selecting held-out test set..\n"
     ]
    },
    {
     "name": "stdout",
     "output_type": "stream",
     "text": [
      "Doing lanczos interpolation with cutoff=0.499 and 3 lobes.\n",
      "Doing lanczos interpolation with cutoff=0.499 and 3 lobes.\n",
      "Doing lanczos interpolation with cutoff=0.499 and 3 lobes.\n",
      "Doing lanczos interpolation with cutoff=0.499 and 3 lobes.\n",
      "Doing lanczos interpolation with cutoff=0.499 and 3 lobes.\n",
      "computing alpha\n"
     ]
    },
    {
     "name": "stderr",
     "output_type": "stream",
     "text": [
      "INFO:ridge_corr:Doing SVD...\n",
      "INFO:ridge_corr:Dropped 0 tiny singular values.. (U is now (2937, 40))\n",
      "INFO:ridge_corr:Training stimulus has Frobenius norm: 154.331\n",
      "INFO:ridge_corr:Training: alpha=10.000, mean corr=0.02610, max corr=0.39792, over-under(0.20)=153\n",
      "INFO:ridge_corr:Training: alpha=16.681, mean corr=0.02720, max corr=0.40018, over-under(0.20)=170\n",
      "INFO:ridge_corr:Training: alpha=27.826, mean corr=0.02906, max corr=0.40270, over-under(0.20)=188\n",
      "INFO:ridge_corr:Training: alpha=46.416, mean corr=0.03085, max corr=0.40372, over-under(0.20)=210\n",
      "INFO:ridge_corr:Training: alpha=77.426, mean corr=0.03078, max corr=0.40306, over-under(0.20)=206\n",
      "INFO:ridge_corr:Training: alpha=129.155, mean corr=0.02909, max corr=0.40184, over-under(0.20)=203\n",
      "INFO:ridge_corr:Training: alpha=215.443, mean corr=0.02759, max corr=0.40063, over-under(0.20)=199\n",
      "INFO:ridge_corr:Training: alpha=359.381, mean corr=0.02681, max corr=0.39973, over-under(0.20)=193\n",
      "INFO:ridge_corr:Training: alpha=599.484, mean corr=0.02648, max corr=0.39926, over-under(0.20)=193\n",
      "INFO:ridge_corr:Training: alpha=1000.000, mean corr=0.02635, max corr=0.39906, over-under(0.20)=193\n",
      "INFO:counter:1/1 items complete (10.35 seconds/item, 00:00:00 remaining)\n",
      "INFO:ridge_corr:Total training stimulus has Frobenius norm: 174.752\n",
      "INFO:ridge_corr:Finding single best alpha..\n",
      "INFO:ridge_corr:Best alpha = 46.416\n",
      "INFO:ridge_corr:Computing weights for each response using entire training set..\n"
     ]
    },
    {
     "name": "stdout",
     "output_type": "stream",
     "text": [
      "computing response correlations\n",
      "median correlation: 0.027\n",
      "topics: 10\twindow size: 200\n",
      "fitting model\n",
      "projecting stimulus words\n",
      "downsampling topic vectors\n",
      "Doing lanczos interpolation with cutoff=0.499 and 3 lobes.\n",
      "Doing lanczos interpolation with cutoff=0.499 and 3 lobes.\n",
      "Doing lanczos interpolation with cutoff=0.499 and 3 lobes.\n",
      "Doing lanczos interpolation with cutoff=0.499 and 3 lobes.\n",
      "Doing lanczos interpolation with cutoff=0.499 and 3 lobes.\n",
      "Doing lanczos interpolation with cutoff=0.499 and 3 lobes.\n"
     ]
    },
    {
     "name": "stderr",
     "output_type": "stream",
     "text": [
      "INFO:ridge_corr:Selecting held-out test set..\n"
     ]
    },
    {
     "name": "stdout",
     "output_type": "stream",
     "text": [
      "Doing lanczos interpolation with cutoff=0.499 and 3 lobes.\n",
      "Doing lanczos interpolation with cutoff=0.499 and 3 lobes.\n",
      "Doing lanczos interpolation with cutoff=0.499 and 3 lobes.\n",
      "Doing lanczos interpolation with cutoff=0.499 and 3 lobes.\n",
      "Doing lanczos interpolation with cutoff=0.499 and 3 lobes.\n",
      "computing alpha\n"
     ]
    },
    {
     "name": "stderr",
     "output_type": "stream",
     "text": [
      "INFO:ridge_corr:Doing SVD...\n",
      "INFO:ridge_corr:Dropped 0 tiny singular values.. (U is now (2937, 40))\n",
      "INFO:ridge_corr:Training stimulus has Frobenius norm: 153.961\n",
      "INFO:ridge_corr:Training: alpha=10.000, mean corr=0.03387, max corr=0.38200, over-under(0.20)=169\n",
      "INFO:ridge_corr:Training: alpha=16.681, mean corr=0.03502, max corr=0.38272, over-under(0.20)=185\n",
      "INFO:ridge_corr:Training: alpha=27.826, mean corr=0.03707, max corr=0.38355, over-under(0.20)=206\n",
      "INFO:ridge_corr:Training: alpha=46.416, mean corr=0.03916, max corr=0.38371, over-under(0.20)=232\n",
      "INFO:ridge_corr:Training: alpha=77.426, mean corr=0.03915, max corr=0.38314, over-under(0.20)=223\n",
      "INFO:ridge_corr:Training: alpha=129.155, mean corr=0.03716, max corr=0.38251, over-under(0.20)=205\n",
      "INFO:ridge_corr:Training: alpha=215.443, mean corr=0.03536, max corr=0.38184, over-under(0.20)=190\n",
      "INFO:ridge_corr:Training: alpha=359.381, mean corr=0.03442, max corr=0.38127, over-under(0.20)=189\n",
      "INFO:ridge_corr:Training: alpha=599.484, mean corr=0.03403, max corr=0.38094, over-under(0.20)=186\n",
      "INFO:ridge_corr:Training: alpha=1000.000, mean corr=0.03388, max corr=0.38081, over-under(0.20)=184\n",
      "INFO:counter:1/1 items complete (9.72 seconds/item, 00:00:00 remaining)\n",
      "INFO:ridge_corr:Total training stimulus has Frobenius norm: 174.879\n",
      "INFO:ridge_corr:Finding single best alpha..\n",
      "INFO:ridge_corr:Best alpha = 46.416\n",
      "INFO:ridge_corr:Computing weights for each response using entire training set..\n"
     ]
    },
    {
     "name": "stdout",
     "output_type": "stream",
     "text": [
      "computing response correlations\n",
      "median correlation: 0.030\n",
      "topics: 10\twindow size: 500\n",
      "fitting model\n",
      "projecting stimulus words\n",
      "downsampling topic vectors\n",
      "Doing lanczos interpolation with cutoff=0.499 and 3 lobes.\n",
      "Doing lanczos interpolation with cutoff=0.499 and 3 lobes.\n",
      "Doing lanczos interpolation with cutoff=0.499 and 3 lobes.\n",
      "Doing lanczos interpolation with cutoff=0.499 and 3 lobes.\n",
      "Doing lanczos interpolation with cutoff=0.499 and 3 lobes.\n",
      "Doing lanczos interpolation with cutoff=0.499 and 3 lobes.\n"
     ]
    },
    {
     "name": "stderr",
     "output_type": "stream",
     "text": [
      "INFO:ridge_corr:Selecting held-out test set..\n"
     ]
    },
    {
     "name": "stdout",
     "output_type": "stream",
     "text": [
      "Doing lanczos interpolation with cutoff=0.499 and 3 lobes.\n",
      "Doing lanczos interpolation with cutoff=0.499 and 3 lobes.\n",
      "Doing lanczos interpolation with cutoff=0.499 and 3 lobes.\n",
      "Doing lanczos interpolation with cutoff=0.499 and 3 lobes.\n",
      "Doing lanczos interpolation with cutoff=0.499 and 3 lobes.\n",
      "computing alpha\n"
     ]
    },
    {
     "name": "stderr",
     "output_type": "stream",
     "text": [
      "INFO:ridge_corr:Doing SVD...\n",
      "INFO:ridge_corr:Dropped 0 tiny singular values.. (U is now (2937, 40))\n",
      "INFO:ridge_corr:Training stimulus has Frobenius norm: 153.997\n",
      "INFO:ridge_corr:Training: alpha=10.000, mean corr=0.03138, max corr=0.35630, over-under(0.20)=125\n",
      "INFO:ridge_corr:Training: alpha=16.681, mean corr=0.03243, max corr=0.35771, over-under(0.20)=139\n",
      "INFO:ridge_corr:Training: alpha=27.826, mean corr=0.03433, max corr=0.35925, over-under(0.20)=162\n",
      "INFO:ridge_corr:Training: alpha=46.416, mean corr=0.03651, max corr=0.35884, over-under(0.20)=164\n",
      "INFO:ridge_corr:Training: alpha=77.426, mean corr=0.03720, max corr=0.35683, over-under(0.20)=172\n",
      "INFO:ridge_corr:Training: alpha=129.155, mean corr=0.03615, max corr=0.35532, over-under(0.20)=161\n",
      "INFO:ridge_corr:Training: alpha=215.443, mean corr=0.03500, max corr=0.35364, over-under(0.20)=158\n",
      "INFO:ridge_corr:Training: alpha=359.381, mean corr=0.03438, max corr=0.35240, over-under(0.20)=154\n",
      "INFO:ridge_corr:Training: alpha=599.484, mean corr=0.03412, max corr=0.35176, over-under(0.20)=151\n",
      "INFO:ridge_corr:Training: alpha=1000.000, mean corr=0.03402, max corr=0.35150, over-under(0.20)=150\n",
      "INFO:counter:1/1 items complete (9.75 seconds/item, 00:00:00 remaining)\n",
      "INFO:ridge_corr:Total training stimulus has Frobenius norm: 174.657\n",
      "INFO:ridge_corr:Finding single best alpha..\n",
      "INFO:ridge_corr:Best alpha = 77.426\n",
      "INFO:ridge_corr:Computing weights for each response using entire training set..\n"
     ]
    },
    {
     "name": "stdout",
     "output_type": "stream",
     "text": [
      "computing response correlations\n",
      "median correlation: 0.027\n",
      "topics: 15\twindow size: 50\n",
      "fitting model\n",
      "projecting stimulus words\n",
      "downsampling topic vectors\n",
      "Doing lanczos interpolation with cutoff=0.499 and 3 lobes.\n",
      "Doing lanczos interpolation with cutoff=0.499 and 3 lobes.\n",
      "Doing lanczos interpolation with cutoff=0.499 and 3 lobes.\n",
      "Doing lanczos interpolation with cutoff=0.499 and 3 lobes.\n",
      "Doing lanczos interpolation with cutoff=0.499 and 3 lobes.\n",
      "Doing lanczos interpolation with cutoff=0.499 and 3 lobes.\n"
     ]
    },
    {
     "name": "stderr",
     "output_type": "stream",
     "text": [
      "INFO:ridge_corr:Selecting held-out test set..\n"
     ]
    },
    {
     "name": "stdout",
     "output_type": "stream",
     "text": [
      "Doing lanczos interpolation with cutoff=0.499 and 3 lobes.\n",
      "Doing lanczos interpolation with cutoff=0.499 and 3 lobes.\n",
      "Doing lanczos interpolation with cutoff=0.499 and 3 lobes.\n",
      "Doing lanczos interpolation with cutoff=0.499 and 3 lobes.\n",
      "Doing lanczos interpolation with cutoff=0.499 and 3 lobes.\n",
      "computing alpha\n"
     ]
    },
    {
     "name": "stderr",
     "output_type": "stream",
     "text": [
      "INFO:ridge_corr:Doing SVD...\n",
      "INFO:ridge_corr:Dropped 0 tiny singular values.. (U is now (2937, 60))\n",
      "INFO:ridge_corr:Training stimulus has Frobenius norm: 179.938\n",
      "INFO:ridge_corr:Training: alpha=10.000, mean corr=0.01882, max corr=0.35342, over-under(0.20)=109\n",
      "INFO:ridge_corr:Training: alpha=16.681, mean corr=0.01965, max corr=0.35481, over-under(0.20)=119\n",
      "INFO:ridge_corr:Training: alpha=27.826, mean corr=0.02117, max corr=0.35662, over-under(0.20)=145\n",
      "INFO:ridge_corr:Training: alpha=46.416, mean corr=0.02294, max corr=0.35730, over-under(0.20)=178\n",
      "INFO:ridge_corr:Training: alpha=77.426, mean corr=0.02350, max corr=0.35730, over-under(0.20)=185\n",
      "INFO:ridge_corr:Training: alpha=129.155, mean corr=0.02248, max corr=0.35989, over-under(0.20)=184\n",
      "INFO:ridge_corr:Training: alpha=215.443, mean corr=0.02134, max corr=0.36200, over-under(0.20)=177\n",
      "INFO:ridge_corr:Training: alpha=359.381, mean corr=0.02072, max corr=0.36339, over-under(0.20)=171\n",
      "INFO:ridge_corr:Training: alpha=599.484, mean corr=0.02046, max corr=0.36405, over-under(0.20)=173\n",
      "INFO:ridge_corr:Training: alpha=1000.000, mean corr=0.02035, max corr=0.36431, over-under(0.20)=172\n",
      "INFO:counter:1/1 items complete (11.01 seconds/item, 00:00:00 remaining)\n",
      "INFO:ridge_corr:Total training stimulus has Frobenius norm: 199.533\n",
      "INFO:ridge_corr:Finding single best alpha..\n",
      "INFO:ridge_corr:Best alpha = 77.426\n",
      "INFO:ridge_corr:Computing weights for each response using entire training set..\n"
     ]
    },
    {
     "name": "stdout",
     "output_type": "stream",
     "text": [
      "computing response correlations\n",
      "median correlation: 0.026\n",
      "topics: 15\twindow size: 100\n",
      "fitting model\n",
      "projecting stimulus words\n",
      "downsampling topic vectors\n",
      "Doing lanczos interpolation with cutoff=0.499 and 3 lobes.\n",
      "Doing lanczos interpolation with cutoff=0.499 and 3 lobes.\n",
      "Doing lanczos interpolation with cutoff=0.499 and 3 lobes.\n",
      "Doing lanczos interpolation with cutoff=0.499 and 3 lobes.\n",
      "Doing lanczos interpolation with cutoff=0.499 and 3 lobes.\n",
      "Doing lanczos interpolation with cutoff=0.499 and 3 lobes.\n"
     ]
    },
    {
     "name": "stderr",
     "output_type": "stream",
     "text": [
      "INFO:ridge_corr:Selecting held-out test set..\n"
     ]
    },
    {
     "name": "stdout",
     "output_type": "stream",
     "text": [
      "Doing lanczos interpolation with cutoff=0.499 and 3 lobes.\n",
      "Doing lanczos interpolation with cutoff=0.499 and 3 lobes.\n",
      "Doing lanczos interpolation with cutoff=0.499 and 3 lobes.\n",
      "Doing lanczos interpolation with cutoff=0.499 and 3 lobes.\n",
      "Doing lanczos interpolation with cutoff=0.499 and 3 lobes.\n",
      "computing alpha\n"
     ]
    },
    {
     "name": "stderr",
     "output_type": "stream",
     "text": [
      "INFO:ridge_corr:Doing SVD...\n",
      "INFO:ridge_corr:Dropped 0 tiny singular values.. (U is now (2937, 60))\n",
      "INFO:ridge_corr:Training stimulus has Frobenius norm: 176.470\n",
      "INFO:ridge_corr:Training: alpha=10.000, mean corr=0.02110, max corr=0.35902, over-under(0.20)=115\n",
      "INFO:ridge_corr:Training: alpha=16.681, mean corr=0.02185, max corr=0.36076, over-under(0.20)=126\n",
      "INFO:ridge_corr:Training: alpha=27.826, mean corr=0.02344, max corr=0.36276, over-under(0.20)=145\n",
      "INFO:ridge_corr:Training: alpha=46.416, mean corr=0.02598, max corr=0.36238, over-under(0.20)=167\n",
      "INFO:ridge_corr:Training: alpha=77.426, mean corr=0.02816, max corr=0.35849, over-under(0.20)=201\n",
      "INFO:ridge_corr:Training: alpha=129.155, mean corr=0.02866, max corr=0.35977, over-under(0.20)=208\n",
      "INFO:ridge_corr:Training: alpha=215.443, mean corr=0.02833, max corr=0.36435, over-under(0.20)=213\n",
      "INFO:ridge_corr:Training: alpha=359.381, mean corr=0.02805, max corr=0.36646, over-under(0.20)=215\n",
      "INFO:ridge_corr:Training: alpha=599.484, mean corr=0.02792, max corr=0.36728, over-under(0.20)=214\n",
      "INFO:ridge_corr:Training: alpha=1000.000, mean corr=0.02787, max corr=0.36757, over-under(0.20)=213\n",
      "INFO:counter:1/1 items complete (10.28 seconds/item, 00:00:00 remaining)\n",
      "INFO:ridge_corr:Total training stimulus has Frobenius norm: 199.633\n",
      "INFO:ridge_corr:Finding single best alpha..\n",
      "INFO:ridge_corr:Best alpha = 129.155\n",
      "INFO:ridge_corr:Computing weights for each response using entire training set..\n"
     ]
    },
    {
     "name": "stdout",
     "output_type": "stream",
     "text": [
      "computing response correlations\n",
      "median correlation: 0.020\n",
      "topics: 15\twindow size: 200\n",
      "fitting model\n",
      "projecting stimulus words\n",
      "downsampling topic vectors\n",
      "Doing lanczos interpolation with cutoff=0.499 and 3 lobes.\n",
      "Doing lanczos interpolation with cutoff=0.499 and 3 lobes.\n",
      "Doing lanczos interpolation with cutoff=0.499 and 3 lobes.\n",
      "Doing lanczos interpolation with cutoff=0.499 and 3 lobes.\n",
      "Doing lanczos interpolation with cutoff=0.499 and 3 lobes.\n",
      "Doing lanczos interpolation with cutoff=0.499 and 3 lobes.\n",
      "Doing lanczos interpolation with cutoff=0.499 and 3 lobes.\n",
      "Doing lanczos interpolation with cutoff=0.499 and 3 lobes.\n",
      "Doing lanczos interpolation with cutoff=0.499 and 3 lobes.\n",
      "Doing lanczos interpolation with cutoff=0.499 and 3 lobes.\n",
      "Doing lanczos interpolation with cutoff=0.499 and 3 lobes.\n"
     ]
    },
    {
     "name": "stderr",
     "output_type": "stream",
     "text": [
      "INFO:ridge_corr:Selecting held-out test set..\n"
     ]
    },
    {
     "name": "stdout",
     "output_type": "stream",
     "text": [
      "computing alpha\n"
     ]
    },
    {
     "name": "stderr",
     "output_type": "stream",
     "text": [
      "INFO:ridge_corr:Doing SVD...\n",
      "INFO:ridge_corr:Dropped 0 tiny singular values.. (U is now (2937, 60))\n",
      "INFO:ridge_corr:Training stimulus has Frobenius norm: 175.920\n",
      "INFO:ridge_corr:Training: alpha=10.000, mean corr=0.02798, max corr=0.37387, over-under(0.20)=100\n",
      "INFO:ridge_corr:Training: alpha=16.681, mean corr=0.02884, max corr=0.37696, over-under(0.20)=116\n",
      "INFO:ridge_corr:Training: alpha=27.826, mean corr=0.03042, max corr=0.38193, over-under(0.20)=134\n",
      "INFO:ridge_corr:Training: alpha=46.416, mean corr=0.03212, max corr=0.38612, over-under(0.20)=154\n",
      "INFO:ridge_corr:Training: alpha=77.426, mean corr=0.03203, max corr=0.38660, over-under(0.20)=146\n",
      "INFO:ridge_corr:Training: alpha=129.155, mean corr=0.02977, max corr=0.38491, over-under(0.20)=138\n",
      "INFO:ridge_corr:Training: alpha=215.443, mean corr=0.02757, max corr=0.38319, over-under(0.20)=129\n",
      "INFO:ridge_corr:Training: alpha=359.381, mean corr=0.02638, max corr=0.38202, over-under(0.20)=125\n",
      "INFO:ridge_corr:Training: alpha=599.484, mean corr=0.02588, max corr=0.38142, over-under(0.20)=126\n",
      "INFO:ridge_corr:Training: alpha=1000.000, mean corr=0.02569, max corr=0.38116, over-under(0.20)=126\n",
      "INFO:counter:1/1 items complete (10.33 seconds/item, 00:00:00 remaining)\n",
      "INFO:ridge_corr:Total training stimulus has Frobenius norm: 200.014\n",
      "INFO:ridge_corr:Finding single best alpha..\n",
      "INFO:ridge_corr:Best alpha = 46.416\n",
      "INFO:ridge_corr:Computing weights for each response using entire training set..\n"
     ]
    },
    {
     "name": "stdout",
     "output_type": "stream",
     "text": [
      "computing response correlations\n",
      "median correlation: 0.021\n",
      "topics: 15\twindow size: 500\n",
      "fitting model\n",
      "projecting stimulus words\n",
      "downsampling topic vectors\n",
      "Doing lanczos interpolation with cutoff=0.499 and 3 lobes.\n",
      "Doing lanczos interpolation with cutoff=0.499 and 3 lobes.\n",
      "Doing lanczos interpolation with cutoff=0.499 and 3 lobes.\n",
      "Doing lanczos interpolation with cutoff=0.499 and 3 lobes.\n",
      "Doing lanczos interpolation with cutoff=0.499 and 3 lobes.\n",
      "Doing lanczos interpolation with cutoff=0.499 and 3 lobes.\n"
     ]
    },
    {
     "name": "stderr",
     "output_type": "stream",
     "text": [
      "INFO:ridge_corr:Selecting held-out test set..\n"
     ]
    },
    {
     "name": "stdout",
     "output_type": "stream",
     "text": [
      "Doing lanczos interpolation with cutoff=0.499 and 3 lobes.\n",
      "Doing lanczos interpolation with cutoff=0.499 and 3 lobes.\n",
      "Doing lanczos interpolation with cutoff=0.499 and 3 lobes.\n",
      "Doing lanczos interpolation with cutoff=0.499 and 3 lobes.\n",
      "Doing lanczos interpolation with cutoff=0.499 and 3 lobes.\n",
      "computing alpha\n"
     ]
    },
    {
     "name": "stderr",
     "output_type": "stream",
     "text": [
      "INFO:ridge_corr:Doing SVD...\n",
      "INFO:ridge_corr:Dropped 0 tiny singular values.. (U is now (2937, 60))\n",
      "INFO:ridge_corr:Training stimulus has Frobenius norm: 177.377\n",
      "INFO:ridge_corr:Training: alpha=10.000, mean corr=0.02949, max corr=0.33644, over-under(0.20)=107\n",
      "INFO:ridge_corr:Training: alpha=16.681, mean corr=0.03026, max corr=0.33867, over-under(0.20)=118\n",
      "INFO:ridge_corr:Training: alpha=27.826, mean corr=0.03158, max corr=0.34130, over-under(0.20)=137\n",
      "INFO:ridge_corr:Training: alpha=46.416, mean corr=0.03276, max corr=0.34313, over-under(0.20)=142\n",
      "INFO:ridge_corr:Training: alpha=77.426, mean corr=0.03201, max corr=0.34196, over-under(0.20)=128\n",
      "INFO:ridge_corr:Training: alpha=129.155, mean corr=0.02938, max corr=0.33926, over-under(0.20)=113\n",
      "INFO:ridge_corr:Training: alpha=215.443, mean corr=0.02713, max corr=0.33705, over-under(0.20)=108\n",
      "INFO:ridge_corr:Training: alpha=359.381, mean corr=0.02598, max corr=0.33564, over-under(0.20)=107\n",
      "INFO:ridge_corr:Training: alpha=599.484, mean corr=0.02551, max corr=0.33493, over-under(0.20)=107\n",
      "INFO:ridge_corr:Training: alpha=1000.000, mean corr=0.02533, max corr=0.33464, over-under(0.20)=106\n",
      "INFO:counter:1/1 items complete (10.83 seconds/item, 00:00:00 remaining)\n",
      "INFO:ridge_corr:Total training stimulus has Frobenius norm: 200.537\n",
      "INFO:ridge_corr:Finding single best alpha..\n",
      "INFO:ridge_corr:Best alpha = 46.416\n",
      "INFO:ridge_corr:Computing weights for each response using entire training set..\n"
     ]
    },
    {
     "name": "stdout",
     "output_type": "stream",
     "text": [
      "computing response correlations\n",
      "median correlation: 0.017\n",
      "topics: 25\twindow size: 50\n",
      "fitting model\n",
      "projecting stimulus words\n",
      "downsampling topic vectors\n",
      "Doing lanczos interpolation with cutoff=0.499 and 3 lobes.\n",
      "Doing lanczos interpolation with cutoff=0.499 and 3 lobes.\n",
      "Doing lanczos interpolation with cutoff=0.499 and 3 lobes.\n",
      "Doing lanczos interpolation with cutoff=0.499 and 3 lobes.\n",
      "Doing lanczos interpolation with cutoff=0.499 and 3 lobes.\n",
      "Doing lanczos interpolation with cutoff=0.499 and 3 lobes.\n"
     ]
    },
    {
     "name": "stderr",
     "output_type": "stream",
     "text": [
      "INFO:ridge_corr:Selecting held-out test set..\n"
     ]
    },
    {
     "name": "stdout",
     "output_type": "stream",
     "text": [
      "Doing lanczos interpolation with cutoff=0.499 and 3 lobes.\n",
      "Doing lanczos interpolation with cutoff=0.499 and 3 lobes.\n",
      "Doing lanczos interpolation with cutoff=0.499 and 3 lobes.\n",
      "Doing lanczos interpolation with cutoff=0.499 and 3 lobes.\n",
      "Doing lanczos interpolation with cutoff=0.499 and 3 lobes.\n",
      "computing alpha\n"
     ]
    },
    {
     "name": "stderr",
     "output_type": "stream",
     "text": [
      "INFO:ridge_corr:Doing SVD...\n",
      "INFO:ridge_corr:Dropped 0 tiny singular values.. (U is now (2937, 100))\n",
      "INFO:ridge_corr:Training stimulus has Frobenius norm: 200.978\n",
      "INFO:ridge_corr:Training: alpha=10.000, mean corr=0.02307, max corr=0.34135, over-under(0.20)=57\n",
      "INFO:ridge_corr:Training: alpha=16.681, mean corr=0.02364, max corr=0.34426, over-under(0.20)=69\n",
      "INFO:ridge_corr:Training: alpha=27.826, mean corr=0.02485, max corr=0.34936, over-under(0.20)=86\n",
      "INFO:ridge_corr:Training: alpha=46.416, mean corr=0.02673, max corr=0.35429, over-under(0.20)=108\n",
      "INFO:ridge_corr:Training: alpha=77.426, mean corr=0.02820, max corr=0.35494, over-under(0.20)=128\n",
      "INFO:ridge_corr:Training: alpha=129.155, mean corr=0.02781, max corr=0.35208, over-under(0.20)=124\n",
      "INFO:ridge_corr:Training: alpha=215.443, mean corr=0.02655, max corr=0.34871, over-under(0.20)=121\n",
      "INFO:ridge_corr:Training: alpha=359.381, mean corr=0.02568, max corr=0.34621, over-under(0.20)=119\n",
      "INFO:ridge_corr:Training: alpha=599.484, mean corr=0.02528, max corr=0.34486, over-under(0.20)=118\n",
      "INFO:ridge_corr:Training: alpha=1000.000, mean corr=0.02512, max corr=0.34427, over-under(0.20)=116\n",
      "INFO:counter:1/1 items complete (10.07 seconds/item, 00:00:00 remaining)\n",
      "INFO:ridge_corr:Total training stimulus has Frobenius norm: 227.239\n",
      "INFO:ridge_corr:Finding single best alpha..\n",
      "INFO:ridge_corr:Best alpha = 77.426\n",
      "INFO:ridge_corr:Computing weights for each response using entire training set..\n"
     ]
    },
    {
     "name": "stdout",
     "output_type": "stream",
     "text": [
      "computing response correlations\n",
      "median correlation: 0.032\n",
      "topics: 25\twindow size: 100\n",
      "fitting model\n",
      "projecting stimulus words\n",
      "downsampling topic vectors\n",
      "Doing lanczos interpolation with cutoff=0.499 and 3 lobes.\n",
      "Doing lanczos interpolation with cutoff=0.499 and 3 lobes.\n",
      "Doing lanczos interpolation with cutoff=0.499 and 3 lobes.\n",
      "Doing lanczos interpolation with cutoff=0.499 and 3 lobes.\n",
      "Doing lanczos interpolation with cutoff=0.499 and 3 lobes.\n",
      "Doing lanczos interpolation with cutoff=0.499 and 3 lobes.\n"
     ]
    },
    {
     "name": "stderr",
     "output_type": "stream",
     "text": [
      "INFO:ridge_corr:Selecting held-out test set..\n"
     ]
    },
    {
     "name": "stdout",
     "output_type": "stream",
     "text": [
      "Doing lanczos interpolation with cutoff=0.499 and 3 lobes.\n",
      "Doing lanczos interpolation with cutoff=0.499 and 3 lobes.\n",
      "Doing lanczos interpolation with cutoff=0.499 and 3 lobes.\n",
      "Doing lanczos interpolation with cutoff=0.499 and 3 lobes.\n",
      "Doing lanczos interpolation with cutoff=0.499 and 3 lobes.\n",
      "computing alpha\n"
     ]
    },
    {
     "name": "stderr",
     "output_type": "stream",
     "text": [
      "INFO:ridge_corr:Doing SVD...\n",
      "INFO:ridge_corr:Dropped 0 tiny singular values.. (U is now (2937, 100))\n",
      "INFO:ridge_corr:Training stimulus has Frobenius norm: 202.423\n",
      "INFO:ridge_corr:Training: alpha=10.000, mean corr=0.02677, max corr=0.37379, over-under(0.20)=100\n",
      "INFO:ridge_corr:Training: alpha=16.681, mean corr=0.02748, max corr=0.37697, over-under(0.20)=105\n",
      "INFO:ridge_corr:Training: alpha=27.826, mean corr=0.02887, max corr=0.38199, over-under(0.20)=127\n",
      "INFO:ridge_corr:Training: alpha=46.416, mean corr=0.03072, max corr=0.38574, over-under(0.20)=143\n",
      "INFO:ridge_corr:Training: alpha=77.426, mean corr=0.03146, max corr=0.38516, over-under(0.20)=139\n",
      "INFO:ridge_corr:Training: alpha=129.155, mean corr=0.02984, max corr=0.38297, over-under(0.20)=118\n",
      "INFO:ridge_corr:Training: alpha=215.443, mean corr=0.02754, max corr=0.38166, over-under(0.20)=106\n",
      "INFO:ridge_corr:Training: alpha=359.381, mean corr=0.02611, max corr=0.38101, over-under(0.20)=105\n",
      "INFO:ridge_corr:Training: alpha=599.484, mean corr=0.02546, max corr=0.38066, over-under(0.20)=105\n",
      "INFO:ridge_corr:Training: alpha=1000.000, mean corr=0.02521, max corr=0.38051, over-under(0.20)=105\n",
      "INFO:counter:1/1 items complete (11.51 seconds/item, 00:00:00 remaining)\n",
      "INFO:ridge_corr:Total training stimulus has Frobenius norm: 230.295\n",
      "INFO:ridge_corr:Finding single best alpha..\n",
      "INFO:ridge_corr:Best alpha = 77.426\n",
      "INFO:ridge_corr:Computing weights for each response using entire training set..\n"
     ]
    },
    {
     "name": "stdout",
     "output_type": "stream",
     "text": [
      "computing response correlations\n",
      "median correlation: 0.022\n",
      "topics: 25\twindow size: 200\n",
      "fitting model\n",
      "projecting stimulus words\n",
      "downsampling topic vectors\n",
      "Doing lanczos interpolation with cutoff=0.499 and 3 lobes.\n",
      "Doing lanczos interpolation with cutoff=0.499 and 3 lobes.\n",
      "Doing lanczos interpolation with cutoff=0.499 and 3 lobes.\n",
      "Doing lanczos interpolation with cutoff=0.499 and 3 lobes.\n",
      "Doing lanczos interpolation with cutoff=0.499 and 3 lobes.\n",
      "Doing lanczos interpolation with cutoff=0.499 and 3 lobes.\n",
      "Doing lanczos interpolation with cutoff=0.499 and 3 lobes.\n",
      "Doing lanczos interpolation with cutoff=0.499 and 3 lobes.\n",
      "Doing lanczos interpolation with cutoff=0.499 and 3 lobes.\n",
      "Doing lanczos interpolation with cutoff=0.499 and 3 lobes.\n",
      "Doing lanczos interpolation with cutoff=0.499 and 3 lobes.\n"
     ]
    },
    {
     "name": "stderr",
     "output_type": "stream",
     "text": [
      "INFO:ridge_corr:Selecting held-out test set..\n"
     ]
    },
    {
     "name": "stdout",
     "output_type": "stream",
     "text": [
      "computing alpha\n"
     ]
    },
    {
     "name": "stderr",
     "output_type": "stream",
     "text": [
      "INFO:ridge_corr:Doing SVD...\n",
      "INFO:ridge_corr:Dropped 0 tiny singular values.. (U is now (2937, 100))\n",
      "INFO:ridge_corr:Training stimulus has Frobenius norm: 207.282\n",
      "INFO:ridge_corr:Training: alpha=10.000, mean corr=0.02947, max corr=0.35666, over-under(0.20)=154\n",
      "INFO:ridge_corr:Training: alpha=16.681, mean corr=0.03054, max corr=0.36321, over-under(0.20)=166\n",
      "INFO:ridge_corr:Training: alpha=27.826, mean corr=0.03272, max corr=0.37424, over-under(0.20)=223\n",
      "INFO:ridge_corr:Training: alpha=46.416, mean corr=0.03616, max corr=0.38455, over-under(0.20)=285\n",
      "INFO:ridge_corr:Training: alpha=77.426, mean corr=0.03950, max corr=0.38738, over-under(0.20)=336\n",
      "INFO:ridge_corr:Training: alpha=129.155, mean corr=0.04036, max corr=0.38539, over-under(0.20)=301\n",
      "INFO:ridge_corr:Training: alpha=215.443, mean corr=0.03937, max corr=0.38307, over-under(0.20)=264\n",
      "INFO:ridge_corr:Training: alpha=359.381, mean corr=0.03846, max corr=0.38153, over-under(0.20)=252\n",
      "INFO:ridge_corr:Training: alpha=599.484, mean corr=0.03802, max corr=0.38074, over-under(0.20)=246\n",
      "INFO:ridge_corr:Training: alpha=1000.000, mean corr=0.03784, max corr=0.38040, over-under(0.20)=242\n",
      "INFO:counter:1/1 items complete (10.58 seconds/item, 00:00:00 remaining)\n",
      "INFO:ridge_corr:Total training stimulus has Frobenius norm: 232.065\n",
      "INFO:ridge_corr:Finding single best alpha..\n",
      "INFO:ridge_corr:Best alpha = 129.155\n",
      "INFO:ridge_corr:Computing weights for each response using entire training set..\n"
     ]
    },
    {
     "name": "stdout",
     "output_type": "stream",
     "text": [
      "computing response correlations\n",
      "median correlation: 0.017\n",
      "topics: 25\twindow size: 500\n",
      "fitting model\n",
      "projecting stimulus words\n",
      "downsampling topic vectors\n",
      "Doing lanczos interpolation with cutoff=0.499 and 3 lobes.\n",
      "Doing lanczos interpolation with cutoff=0.499 and 3 lobes.\n",
      "Doing lanczos interpolation with cutoff=0.499 and 3 lobes.\n",
      "Doing lanczos interpolation with cutoff=0.499 and 3 lobes.\n",
      "Doing lanczos interpolation with cutoff=0.499 and 3 lobes.\n",
      "Doing lanczos interpolation with cutoff=0.499 and 3 lobes.\n",
      "Doing lanczos interpolation with cutoff=0.499 and 3 lobes.\n",
      "Doing lanczos interpolation with cutoff=0.499 and 3 lobes.\n",
      "Doing lanczos interpolation with cutoff=0.499 and 3 lobes.\n",
      "Doing lanczos interpolation with cutoff=0.499 and 3 lobes.\n",
      "Doing lanczos interpolation with cutoff=0.499 and 3 lobes.\n"
     ]
    },
    {
     "name": "stderr",
     "output_type": "stream",
     "text": [
      "INFO:ridge_corr:Selecting held-out test set..\n"
     ]
    },
    {
     "name": "stdout",
     "output_type": "stream",
     "text": [
      "computing alpha\n"
     ]
    },
    {
     "name": "stderr",
     "output_type": "stream",
     "text": [
      "INFO:ridge_corr:Doing SVD...\n",
      "INFO:ridge_corr:Dropped 0 tiny singular values.. (U is now (2937, 100))\n",
      "INFO:ridge_corr:Training stimulus has Frobenius norm: 203.244\n",
      "INFO:ridge_corr:Training: alpha=10.000, mean corr=0.01835, max corr=0.36817, over-under(0.20)=60\n",
      "INFO:ridge_corr:Training: alpha=16.681, mean corr=0.01937, max corr=0.37206, over-under(0.20)=65\n",
      "INFO:ridge_corr:Training: alpha=27.826, mean corr=0.02155, max corr=0.37817, over-under(0.20)=83\n",
      "INFO:ridge_corr:Training: alpha=46.416, mean corr=0.02508, max corr=0.38256, over-under(0.20)=113\n",
      "INFO:ridge_corr:Training: alpha=77.426, mean corr=0.02864, max corr=0.38096, over-under(0.20)=137\n",
      "INFO:ridge_corr:Training: alpha=129.155, mean corr=0.03011, max corr=0.37696, over-under(0.20)=148\n",
      "INFO:ridge_corr:Training: alpha=215.443, mean corr=0.02993, max corr=0.37440, over-under(0.20)=141\n",
      "INFO:ridge_corr:Training: alpha=359.381, mean corr=0.02955, max corr=0.37313, over-under(0.20)=134\n",
      "INFO:ridge_corr:Training: alpha=599.484, mean corr=0.02935, max corr=0.37251, over-under(0.20)=132\n",
      "INFO:ridge_corr:Training: alpha=1000.000, mean corr=0.02927, max corr=0.37225, over-under(0.20)=132\n",
      "INFO:counter:1/1 items complete (9.79 seconds/item, 00:00:00 remaining)\n",
      "INFO:ridge_corr:Total training stimulus has Frobenius norm: 229.290\n",
      "INFO:ridge_corr:Finding single best alpha..\n",
      "INFO:ridge_corr:Best alpha = 129.155\n",
      "INFO:ridge_corr:Computing weights for each response using entire training set..\n"
     ]
    },
    {
     "name": "stdout",
     "output_type": "stream",
     "text": [
      "computing response correlations\n",
      "median correlation: 0.023\n",
      "topics: 50\twindow size: 50\n",
      "fitting model\n",
      "projecting stimulus words\n",
      "downsampling topic vectors\n",
      "Doing lanczos interpolation with cutoff=0.499 and 3 lobes.\n",
      "Doing lanczos interpolation with cutoff=0.499 and 3 lobes.\n",
      "Doing lanczos interpolation with cutoff=0.499 and 3 lobes.\n",
      "Doing lanczos interpolation with cutoff=0.499 and 3 lobes.\n",
      "Doing lanczos interpolation with cutoff=0.499 and 3 lobes.\n",
      "Doing lanczos interpolation with cutoff=0.499 and 3 lobes.\n"
     ]
    },
    {
     "name": "stderr",
     "output_type": "stream",
     "text": [
      "INFO:ridge_corr:Selecting held-out test set..\n"
     ]
    },
    {
     "name": "stdout",
     "output_type": "stream",
     "text": [
      "Doing lanczos interpolation with cutoff=0.499 and 3 lobes.\n",
      "Doing lanczos interpolation with cutoff=0.499 and 3 lobes.\n",
      "Doing lanczos interpolation with cutoff=0.499 and 3 lobes.\n",
      "Doing lanczos interpolation with cutoff=0.499 and 3 lobes.\n",
      "Doing lanczos interpolation with cutoff=0.499 and 3 lobes.\n",
      "computing alpha\n"
     ]
    },
    {
     "name": "stderr",
     "output_type": "stream",
     "text": [
      "INFO:ridge_corr:Doing SVD...\n",
      "INFO:ridge_corr:Dropped 0 tiny singular values.. (U is now (2937, 200))\n",
      "INFO:ridge_corr:Training stimulus has Frobenius norm: 249.084\n",
      "INFO:ridge_corr:Training: alpha=10.000, mean corr=0.00817, max corr=0.32044, over-under(0.20)=38\n",
      "INFO:ridge_corr:Training: alpha=16.681, mean corr=0.00863, max corr=0.33086, over-under(0.20)=40\n",
      "INFO:ridge_corr:Training: alpha=27.826, mean corr=0.00976, max corr=0.35241, over-under(0.20)=59\n",
      "INFO:ridge_corr:Training: alpha=46.416, mean corr=0.01221, max corr=0.38355, over-under(0.20)=94\n",
      "INFO:ridge_corr:Training: alpha=77.426, mean corr=0.01607, max corr=0.40910, over-under(0.20)=141\n",
      "INFO:ridge_corr:Training: alpha=129.155, mean corr=0.01961, max corr=0.42106, over-under(0.20)=161\n",
      "INFO:ridge_corr:Training: alpha=215.443, mean corr=0.02119, max corr=0.42591, over-under(0.20)=171\n",
      "INFO:ridge_corr:Training: alpha=359.381, mean corr=0.02156, max corr=0.42804, over-under(0.20)=171\n",
      "INFO:ridge_corr:Training: alpha=599.484, mean corr=0.02159, max corr=0.42883, over-under(0.20)=171\n",
      "INFO:ridge_corr:Training: alpha=1000.000, mean corr=0.02159, max corr=0.42909, over-under(0.20)=173\n",
      "INFO:counter:1/1 items complete (10.89 seconds/item, 00:00:00 remaining)\n",
      "INFO:ridge_corr:Total training stimulus has Frobenius norm: 278.707\n",
      "INFO:ridge_corr:Finding single best alpha..\n",
      "INFO:ridge_corr:Best alpha = 599.484\n",
      "INFO:ridge_corr:Computing weights for each response using entire training set..\n"
     ]
    },
    {
     "name": "stdout",
     "output_type": "stream",
     "text": [
      "computing response correlations\n",
      "median correlation: 0.012\n",
      "topics: 50\twindow size: 100\n",
      "fitting model\n",
      "projecting stimulus words\n",
      "downsampling topic vectors\n",
      "Doing lanczos interpolation with cutoff=0.499 and 3 lobes.\n",
      "Doing lanczos interpolation with cutoff=0.499 and 3 lobes.\n",
      "Doing lanczos interpolation with cutoff=0.499 and 3 lobes.\n",
      "Doing lanczos interpolation with cutoff=0.499 and 3 lobes.\n",
      "Doing lanczos interpolation with cutoff=0.499 and 3 lobes.\n",
      "Doing lanczos interpolation with cutoff=0.499 and 3 lobes.\n",
      "Doing lanczos interpolation with cutoff=0.499 and 3 lobes.\n",
      "Doing lanczos interpolation with cutoff=0.499 and 3 lobes.\n",
      "Doing lanczos interpolation with cutoff=0.499 and 3 lobes.\n",
      "Doing lanczos interpolation with cutoff=0.499 and 3 lobes.\n",
      "Doing lanczos interpolation with cutoff=0.499 and 3 lobes.\n"
     ]
    },
    {
     "name": "stderr",
     "output_type": "stream",
     "text": [
      "INFO:ridge_corr:Selecting held-out test set..\n",
      "INFO:ridge_corr:Doing SVD...\n",
      "INFO:ridge_corr:Dropped 0 tiny singular values.. (U is now (2937, 200))\n",
      "INFO:ridge_corr:Training stimulus has Frobenius norm: 247.155\n",
      "INFO:ridge_corr:Training: alpha=10.000, mean corr=0.02370, max corr=0.34015, over-under(0.20)=52\n",
      "INFO:ridge_corr:Training: alpha=16.681, mean corr=0.02435, max corr=0.34506, over-under(0.20)=56\n",
      "INFO:ridge_corr:Training: alpha=27.826, mean corr=0.02570, max corr=0.35405, over-under(0.20)=73\n",
      "INFO:ridge_corr:Training: alpha=46.416, mean corr=0.02784, max corr=0.36367, over-under(0.20)=105\n",
      "INFO:ridge_corr:Training: alpha=77.426, mean corr=0.02979, max corr=0.36634, over-under(0.20)=128\n",
      "INFO:ridge_corr:Training: alpha=129.155, mean corr=0.02959, max corr=0.36256, over-under(0.20)=134\n",
      "INFO:ridge_corr:Training: alpha=215.443, mean corr=0.02763, max corr=0.35762, over-under(0.20)=121\n",
      "INFO:ridge_corr:Training: alpha=359.381, mean corr=0.02600, max corr=0.35373, over-under(0.20)=113\n",
      "INFO:ridge_corr:Training: alpha=599.484, mean corr=0.02518, max corr=0.35143, over-under(0.20)=111\n",
      "INFO:ridge_corr:Training: alpha=1000.000, mean corr=0.02484, max corr=0.35038, over-under(0.20)=109\n",
      "INFO:counter:1/1 items complete (14.44 seconds/item, 00:00:00 remaining)\n",
      "INFO:ridge_corr:Total training stimulus has Frobenius norm: 282.551\n",
      "INFO:ridge_corr:Finding single best alpha..\n",
      "INFO:ridge_corr:Best alpha = 77.426\n",
      "INFO:ridge_corr:Computing weights for each response using entire training set..\n"
     ]
    },
    {
     "name": "stdout",
     "output_type": "stream",
     "text": [
      "computing alpha\n",
      "computing response correlations\n",
      "median correlation: 0.022\n",
      "topics: 50\twindow size: 200\n",
      "fitting model\n",
      "projecting stimulus words\n",
      "downsampling topic vectors\n",
      "Doing lanczos interpolation with cutoff=0.499 and 3 lobes.\n",
      "Doing lanczos interpolation with cutoff=0.499 and 3 lobes.\n",
      "Doing lanczos interpolation with cutoff=0.499 and 3 lobes.\n",
      "Doing lanczos interpolation with cutoff=0.499 and 3 lobes.\n",
      "Doing lanczos interpolation with cutoff=0.499 and 3 lobes.\n",
      "Doing lanczos interpolation with cutoff=0.499 and 3 lobes.\n"
     ]
    },
    {
     "name": "stderr",
     "output_type": "stream",
     "text": [
      "INFO:ridge_corr:Selecting held-out test set..\n"
     ]
    },
    {
     "name": "stdout",
     "output_type": "stream",
     "text": [
      "Doing lanczos interpolation with cutoff=0.499 and 3 lobes.\n",
      "Doing lanczos interpolation with cutoff=0.499 and 3 lobes.\n",
      "Doing lanczos interpolation with cutoff=0.499 and 3 lobes.\n",
      "Doing lanczos interpolation with cutoff=0.499 and 3 lobes.\n",
      "Doing lanczos interpolation with cutoff=0.499 and 3 lobes.\n",
      "computing alpha\n"
     ]
    },
    {
     "name": "stderr",
     "output_type": "stream",
     "text": [
      "INFO:ridge_corr:Doing SVD...\n",
      "INFO:ridge_corr:Dropped 0 tiny singular values.. (U is now (2937, 200))\n",
      "INFO:ridge_corr:Training stimulus has Frobenius norm: 250.820\n",
      "INFO:ridge_corr:Training: alpha=10.000, mean corr=0.01653, max corr=0.29942, over-under(0.20)=20\n",
      "INFO:ridge_corr:Training: alpha=16.681, mean corr=0.01699, max corr=0.30598, over-under(0.20)=25\n",
      "INFO:ridge_corr:Training: alpha=27.826, mean corr=0.01813, max corr=0.31966, over-under(0.20)=37\n",
      "INFO:ridge_corr:Training: alpha=46.416, mean corr=0.02063, max corr=0.33986, over-under(0.20)=53\n",
      "INFO:ridge_corr:Training: alpha=77.426, mean corr=0.02461, max corr=0.35676, over-under(0.20)=100\n",
      "INFO:ridge_corr:Training: alpha=129.155, mean corr=0.02795, max corr=0.36419, over-under(0.20)=121\n",
      "INFO:ridge_corr:Training: alpha=215.443, mean corr=0.02893, max corr=0.36626, over-under(0.20)=146\n",
      "INFO:ridge_corr:Training: alpha=359.381, mean corr=0.02884, max corr=0.36653, over-under(0.20)=149\n",
      "INFO:ridge_corr:Training: alpha=599.484, mean corr=0.02868, max corr=0.36635, over-under(0.20)=153\n",
      "INFO:ridge_corr:Training: alpha=1000.000, mean corr=0.02860, max corr=0.36619, over-under(0.20)=150\n",
      "INFO:counter:1/1 items complete (11.71 seconds/item, 00:00:00 remaining)\n",
      "INFO:ridge_corr:Total training stimulus has Frobenius norm: 282.460\n",
      "INFO:ridge_corr:Finding single best alpha..\n",
      "INFO:ridge_corr:Best alpha = 215.443\n",
      "INFO:ridge_corr:Computing weights for each response using entire training set..\n"
     ]
    },
    {
     "name": "stdout",
     "output_type": "stream",
     "text": [
      "computing response correlations\n",
      "median correlation: 0.018\n",
      "topics: 50\twindow size: 500\n",
      "fitting model\n",
      "projecting stimulus words\n",
      "downsampling topic vectors\n",
      "Doing lanczos interpolation with cutoff=0.499 and 3 lobes.\n",
      "Doing lanczos interpolation with cutoff=0.499 and 3 lobes.\n",
      "Doing lanczos interpolation with cutoff=0.499 and 3 lobes.\n",
      "Doing lanczos interpolation with cutoff=0.499 and 3 lobes.\n",
      "Doing lanczos interpolation with cutoff=0.499 and 3 lobes.\n",
      "Doing lanczos interpolation with cutoff=0.499 and 3 lobes.\n"
     ]
    },
    {
     "name": "stderr",
     "output_type": "stream",
     "text": [
      "INFO:ridge_corr:Selecting held-out test set..\n"
     ]
    },
    {
     "name": "stdout",
     "output_type": "stream",
     "text": [
      "Doing lanczos interpolation with cutoff=0.499 and 3 lobes.\n",
      "Doing lanczos interpolation with cutoff=0.499 and 3 lobes.\n",
      "Doing lanczos interpolation with cutoff=0.499 and 3 lobes.\n",
      "Doing lanczos interpolation with cutoff=0.499 and 3 lobes.\n",
      "Doing lanczos interpolation with cutoff=0.499 and 3 lobes.\n",
      "computing alpha\n"
     ]
    },
    {
     "name": "stderr",
     "output_type": "stream",
     "text": [
      "INFO:ridge_corr:Doing SVD...\n",
      "INFO:ridge_corr:Dropped 0 tiny singular values.. (U is now (2937, 200))\n",
      "INFO:ridge_corr:Training stimulus has Frobenius norm: 246.451\n",
      "INFO:ridge_corr:Training: alpha=10.000, mean corr=0.02395, max corr=0.36571, over-under(0.20)=52\n",
      "INFO:ridge_corr:Training: alpha=16.681, mean corr=0.02498, max corr=0.37313, over-under(0.20)=60\n",
      "INFO:ridge_corr:Training: alpha=27.826, mean corr=0.02724, max corr=0.38654, over-under(0.20)=88\n",
      "INFO:ridge_corr:Training: alpha=46.416, mean corr=0.03115, max corr=0.40049, over-under(0.20)=136\n",
      "INFO:ridge_corr:Training: alpha=77.426, mean corr=0.03567, max corr=0.40335, over-under(0.20)=232\n",
      "INFO:ridge_corr:Training: alpha=129.155, mean corr=0.03762, max corr=0.39678, over-under(0.20)=267\n",
      "INFO:ridge_corr:Training: alpha=215.443, mean corr=0.03629, max corr=0.39021, over-under(0.20)=248\n",
      "INFO:ridge_corr:Training: alpha=359.381, mean corr=0.03455, max corr=0.38654, over-under(0.20)=233\n",
      "INFO:ridge_corr:Training: alpha=599.484, mean corr=0.03360, max corr=0.38670, over-under(0.20)=223\n",
      "INFO:ridge_corr:Training: alpha=1000.000, mean corr=0.03320, max corr=0.38676, over-under(0.20)=222\n",
      "INFO:counter:1/1 items complete (11.19 seconds/item, 00:00:00 remaining)\n",
      "INFO:ridge_corr:Total training stimulus has Frobenius norm: 279.307\n",
      "INFO:ridge_corr:Finding single best alpha..\n",
      "INFO:ridge_corr:Best alpha = 129.155\n",
      "INFO:ridge_corr:Computing weights for each response using entire training set..\n"
     ]
    },
    {
     "name": "stdout",
     "output_type": "stream",
     "text": [
      "computing response correlations\n",
      "median correlation: 0.017\n",
      "topics: 100\twindow size: 50\n",
      "fitting model\n",
      "projecting stimulus words\n",
      "downsampling topic vectors\n",
      "Doing lanczos interpolation with cutoff=0.499 and 3 lobes.\n",
      "Doing lanczos interpolation with cutoff=0.499 and 3 lobes.\n",
      "Doing lanczos interpolation with cutoff=0.499 and 3 lobes.\n",
      "Doing lanczos interpolation with cutoff=0.499 and 3 lobes.\n",
      "Doing lanczos interpolation with cutoff=0.499 and 3 lobes.\n",
      "Doing lanczos interpolation with cutoff=0.499 and 3 lobes.\n",
      "Doing lanczos interpolation with cutoff=0.499 and 3 lobes.\n",
      "Doing lanczos interpolation with cutoff=0.499 and 3 lobes.\n",
      "Doing lanczos interpolation with cutoff=0.499 and 3 lobes.\n",
      "Doing lanczos interpolation with cutoff=0.499 and 3 lobes.\n",
      "Doing lanczos interpolation with cutoff=0.499 and 3 lobes.\n"
     ]
    },
    {
     "name": "stderr",
     "output_type": "stream",
     "text": [
      "INFO:ridge_corr:Selecting held-out test set..\n"
     ]
    },
    {
     "name": "stdout",
     "output_type": "stream",
     "text": [
      "computing alpha\n"
     ]
    },
    {
     "name": "stderr",
     "output_type": "stream",
     "text": [
      "INFO:ridge_corr:Doing SVD...\n",
      "INFO:ridge_corr:Dropped 0 tiny singular values.. (U is now (2937, 400))\n",
      "INFO:ridge_corr:Training stimulus has Frobenius norm: 301.262\n",
      "INFO:ridge_corr:Training: alpha=10.000, mean corr=0.01147, max corr=0.25910, over-under(0.20)=6\n",
      "INFO:ridge_corr:Training: alpha=16.681, mean corr=0.01194, max corr=0.27100, over-under(0.20)=10\n",
      "INFO:ridge_corr:Training: alpha=27.826, mean corr=0.01307, max corr=0.29494, over-under(0.20)=17\n",
      "INFO:ridge_corr:Training: alpha=46.416, mean corr=0.01545, max corr=0.32884, over-under(0.20)=41\n",
      "INFO:ridge_corr:Training: alpha=77.426, mean corr=0.01942, max corr=0.35402, over-under(0.20)=77\n",
      "INFO:ridge_corr:Training: alpha=129.155, mean corr=0.02359, max corr=0.35930, over-under(0.20)=105\n",
      "INFO:ridge_corr:Training: alpha=215.443, mean corr=0.02553, max corr=0.35688, over-under(0.20)=105\n",
      "INFO:ridge_corr:Training: alpha=359.381, mean corr=0.02571, max corr=0.35468, over-under(0.20)=104\n",
      "INFO:ridge_corr:Training: alpha=599.484, mean corr=0.02556, max corr=0.35342, over-under(0.20)=102\n",
      "INFO:ridge_corr:Training: alpha=1000.000, mean corr=0.02545, max corr=0.35281, over-under(0.20)=100\n",
      "INFO:counter:1/1 items complete (16.01 seconds/item, 00:00:00 remaining)\n",
      "INFO:ridge_corr:Total training stimulus has Frobenius norm: 337.780\n",
      "INFO:ridge_corr:Finding single best alpha..\n",
      "INFO:ridge_corr:Best alpha = 359.381\n",
      "INFO:ridge_corr:Computing weights for each response using entire training set..\n"
     ]
    },
    {
     "name": "stdout",
     "output_type": "stream",
     "text": [
      "computing response correlations\n",
      "median correlation: 0.014\n",
      "topics: 100\twindow size: 100\n",
      "fitting model\n",
      "projecting stimulus words\n",
      "downsampling topic vectors\n",
      "Doing lanczos interpolation with cutoff=0.499 and 3 lobes.\n",
      "Doing lanczos interpolation with cutoff=0.499 and 3 lobes.\n",
      "Doing lanczos interpolation with cutoff=0.499 and 3 lobes.\n",
      "Doing lanczos interpolation with cutoff=0.499 and 3 lobes.\n",
      "Doing lanczos interpolation with cutoff=0.499 and 3 lobes.\n",
      "Doing lanczos interpolation with cutoff=0.499 and 3 lobes.\n",
      "Doing lanczos interpolation with cutoff=0.499 and 3 lobes.\n",
      "Doing lanczos interpolation with cutoff=0.499 and 3 lobes.\n",
      "Doing lanczos interpolation with cutoff=0.499 and 3 lobes.\n",
      "Doing lanczos interpolation with cutoff=0.499 and 3 lobes.\n",
      "Doing lanczos interpolation with cutoff=0.499 and 3 lobes.\n"
     ]
    },
    {
     "name": "stderr",
     "output_type": "stream",
     "text": [
      "INFO:ridge_corr:Selecting held-out test set..\n"
     ]
    },
    {
     "name": "stdout",
     "output_type": "stream",
     "text": [
      "computing alpha\n"
     ]
    },
    {
     "name": "stderr",
     "output_type": "stream",
     "text": [
      "INFO:ridge_corr:Doing SVD...\n",
      "INFO:ridge_corr:Dropped 0 tiny singular values.. (U is now (2937, 400))\n",
      "INFO:ridge_corr:Training stimulus has Frobenius norm: 311.660\n",
      "INFO:ridge_corr:Training: alpha=10.000, mean corr=0.01219, max corr=0.29133, over-under(0.20)=10\n",
      "INFO:ridge_corr:Training: alpha=16.681, mean corr=0.01295, max corr=0.29903, over-under(0.20)=14\n",
      "INFO:ridge_corr:Training: alpha=27.826, mean corr=0.01459, max corr=0.31274, over-under(0.20)=23\n",
      "INFO:ridge_corr:Training: alpha=46.416, mean corr=0.01763, max corr=0.32793, over-under(0.20)=43\n",
      "INFO:ridge_corr:Training: alpha=77.426, mean corr=0.02254, max corr=0.33418, over-under(0.20)=74\n",
      "INFO:ridge_corr:Training: alpha=129.155, mean corr=0.02824, max corr=0.33083, over-under(0.20)=98\n",
      "INFO:ridge_corr:Training: alpha=215.443, mean corr=0.03154, max corr=0.32574, over-under(0.20)=117\n",
      "INFO:ridge_corr:Training: alpha=359.381, mean corr=0.03232, max corr=0.32453, over-under(0.20)=108\n",
      "INFO:ridge_corr:Training: alpha=599.484, mean corr=0.03235, max corr=0.32443, over-under(0.20)=113\n",
      "INFO:ridge_corr:Training: alpha=1000.000, mean corr=0.03231, max corr=0.32423, over-under(0.20)=111\n",
      "INFO:counter:1/1 items complete (12.73 seconds/item, 00:00:00 remaining)\n",
      "INFO:ridge_corr:Total training stimulus has Frobenius norm: 348.007\n",
      "INFO:ridge_corr:Finding single best alpha..\n",
      "INFO:ridge_corr:Best alpha = 599.484\n",
      "INFO:ridge_corr:Computing weights for each response using entire training set..\n"
     ]
    },
    {
     "name": "stdout",
     "output_type": "stream",
     "text": [
      "computing response correlations\n",
      "median correlation: 0.015\n",
      "topics: 100\twindow size: 200\n",
      "fitting model\n",
      "projecting stimulus words\n",
      "downsampling topic vectors\n",
      "Doing lanczos interpolation with cutoff=0.499 and 3 lobes.\n",
      "Doing lanczos interpolation with cutoff=0.499 and 3 lobes.\n",
      "Doing lanczos interpolation with cutoff=0.499 and 3 lobes.\n",
      "Doing lanczos interpolation with cutoff=0.499 and 3 lobes.\n",
      "Doing lanczos interpolation with cutoff=0.499 and 3 lobes.\n",
      "Doing lanczos interpolation with cutoff=0.499 and 3 lobes.\n",
      "Doing lanczos interpolation with cutoff=0.499 and 3 lobes.\n",
      "Doing lanczos interpolation with cutoff=0.499 and 3 lobes.\n",
      "Doing lanczos interpolation with cutoff=0.499 and 3 lobes.\n",
      "Doing lanczos interpolation with cutoff=0.499 and 3 lobes.\n",
      "Doing lanczos interpolation with cutoff=0.499 and 3 lobes.\n"
     ]
    },
    {
     "name": "stderr",
     "output_type": "stream",
     "text": [
      "INFO:ridge_corr:Selecting held-out test set..\n"
     ]
    },
    {
     "name": "stdout",
     "output_type": "stream",
     "text": [
      "computing alpha\n"
     ]
    },
    {
     "name": "stderr",
     "output_type": "stream",
     "text": [
      "INFO:ridge_corr:Doing SVD...\n",
      "INFO:ridge_corr:Dropped 0 tiny singular values.. (U is now (2937, 400))\n",
      "INFO:ridge_corr:Training stimulus has Frobenius norm: 313.157\n",
      "INFO:ridge_corr:Training: alpha=10.000, mean corr=0.01341, max corr=0.31199, over-under(0.20)=28\n",
      "INFO:ridge_corr:Training: alpha=16.681, mean corr=0.01430, max corr=0.32106, over-under(0.20)=34\n",
      "INFO:ridge_corr:Training: alpha=27.826, mean corr=0.01625, max corr=0.33747, over-under(0.20)=51\n",
      "INFO:ridge_corr:Training: alpha=46.416, mean corr=0.01975, max corr=0.35629, over-under(0.20)=85\n",
      "INFO:ridge_corr:Training: alpha=77.426, mean corr=0.02483, max corr=0.37058, over-under(0.20)=144\n",
      "INFO:ridge_corr:Training: alpha=129.155, mean corr=0.02996, max corr=0.38786, over-under(0.20)=175\n",
      "INFO:ridge_corr:Training: alpha=215.443, mean corr=0.03235, max corr=0.39248, over-under(0.20)=174\n",
      "INFO:ridge_corr:Training: alpha=359.381, mean corr=0.03251, max corr=0.39395, over-under(0.20)=170\n",
      "INFO:ridge_corr:Training: alpha=599.484, mean corr=0.03223, max corr=0.39446, over-under(0.20)=170\n",
      "INFO:ridge_corr:Training: alpha=1000.000, mean corr=0.03206, max corr=0.39460, over-under(0.20)=166\n",
      "INFO:counter:1/1 items complete (13.59 seconds/item, 00:00:00 remaining)\n",
      "INFO:ridge_corr:Total training stimulus has Frobenius norm: 352.162\n",
      "INFO:ridge_corr:Finding single best alpha..\n",
      "INFO:ridge_corr:Best alpha = 359.381\n",
      "INFO:ridge_corr:Computing weights for each response using entire training set..\n"
     ]
    },
    {
     "name": "stdout",
     "output_type": "stream",
     "text": [
      "computing response correlations\n",
      "median correlation: 0.021\n",
      "topics: 100\twindow size: 500\n",
      "fitting model\n",
      "projecting stimulus words\n",
      "downsampling topic vectors\n",
      "Doing lanczos interpolation with cutoff=0.499 and 3 lobes.\n",
      "Doing lanczos interpolation with cutoff=0.499 and 3 lobes.\n",
      "Doing lanczos interpolation with cutoff=0.499 and 3 lobes.\n",
      "Doing lanczos interpolation with cutoff=0.499 and 3 lobes.\n",
      "Doing lanczos interpolation with cutoff=0.499 and 3 lobes.\n",
      "Doing lanczos interpolation with cutoff=0.499 and 3 lobes.\n",
      "Doing lanczos interpolation with cutoff=0.499 and 3 lobes.\n",
      "Doing lanczos interpolation with cutoff=0.499 and 3 lobes.\n",
      "Doing lanczos interpolation with cutoff=0.499 and 3 lobes.\n",
      "Doing lanczos interpolation with cutoff=0.499 and 3 lobes.\n"
     ]
    },
    {
     "name": "stderr",
     "output_type": "stream",
     "text": [
      "INFO:ridge_corr:Selecting held-out test set..\n"
     ]
    },
    {
     "name": "stdout",
     "output_type": "stream",
     "text": [
      "Doing lanczos interpolation with cutoff=0.499 and 3 lobes.\n",
      "computing alpha\n"
     ]
    },
    {
     "name": "stderr",
     "output_type": "stream",
     "text": [
      "INFO:ridge_corr:Doing SVD...\n",
      "INFO:ridge_corr:Dropped 0 tiny singular values.. (U is now (2937, 400))\n",
      "INFO:ridge_corr:Training stimulus has Frobenius norm: 318.332\n",
      "INFO:ridge_corr:Training: alpha=10.000, mean corr=0.01628, max corr=0.27972, over-under(0.20)=8\n",
      "INFO:ridge_corr:Training: alpha=16.681, mean corr=0.01714, max corr=0.28915, over-under(0.20)=13\n",
      "INFO:ridge_corr:Training: alpha=27.826, mean corr=0.01889, max corr=0.30700, over-under(0.20)=22\n",
      "INFO:ridge_corr:Training: alpha=46.416, mean corr=0.02170, max corr=0.33055, over-under(0.20)=43\n",
      "INFO:ridge_corr:Training: alpha=77.426, mean corr=0.02527, max corr=0.36173, over-under(0.20)=75\n",
      "INFO:ridge_corr:Training: alpha=129.155, mean corr=0.02811, max corr=0.37392, over-under(0.20)=93\n",
      "INFO:ridge_corr:Training: alpha=215.443, mean corr=0.02847, max corr=0.37631, over-under(0.20)=90\n",
      "INFO:ridge_corr:Training: alpha=359.381, mean corr=0.02763, max corr=0.37621, over-under(0.20)=88\n",
      "INFO:ridge_corr:Training: alpha=599.484, mean corr=0.02701, max corr=0.37576, over-under(0.20)=87\n",
      "INFO:ridge_corr:Training: alpha=1000.000, mean corr=0.02673, max corr=0.37547, over-under(0.20)=87\n",
      "INFO:counter:1/1 items complete (15.01 seconds/item, 00:00:00 remaining)\n",
      "INFO:ridge_corr:Total training stimulus has Frobenius norm: 358.103\n",
      "INFO:ridge_corr:Finding single best alpha..\n",
      "INFO:ridge_corr:Best alpha = 215.443\n",
      "INFO:ridge_corr:Computing weights for each response using entire training set..\n"
     ]
    },
    {
     "name": "stdout",
     "output_type": "stream",
     "text": [
      "computing response correlations\n",
      "median correlation: 0.023\n",
      "topics: 150\twindow size: 50\n",
      "fitting model\n",
      "projecting stimulus words\n",
      "downsampling topic vectors\n",
      "Doing lanczos interpolation with cutoff=0.499 and 3 lobes.\n",
      "Doing lanczos interpolation with cutoff=0.499 and 3 lobes.\n",
      "Doing lanczos interpolation with cutoff=0.499 and 3 lobes.\n",
      "Doing lanczos interpolation with cutoff=0.499 and 3 lobes.\n",
      "Doing lanczos interpolation with cutoff=0.499 and 3 lobes.\n",
      "Doing lanczos interpolation with cutoff=0.499 and 3 lobes.\n",
      "Doing lanczos interpolation with cutoff=0.499 and 3 lobes.\n",
      "Doing lanczos interpolation with cutoff=0.499 and 3 lobes.\n",
      "Doing lanczos interpolation with cutoff=0.499 and 3 lobes.\n",
      "Doing lanczos interpolation with cutoff=0.499 and 3 lobes.\n",
      "Doing lanczos interpolation with cutoff=0.499 and 3 lobes.\n"
     ]
    },
    {
     "name": "stderr",
     "output_type": "stream",
     "text": [
      "INFO:ridge_corr:Selecting held-out test set..\n"
     ]
    },
    {
     "name": "stdout",
     "output_type": "stream",
     "text": [
      "computing alpha\n"
     ]
    },
    {
     "name": "stderr",
     "output_type": "stream",
     "text": [
      "INFO:ridge_corr:Doing SVD...\n",
      "INFO:ridge_corr:Dropped 0 tiny singular values.. (U is now (2937, 600))\n",
      "INFO:ridge_corr:Training stimulus has Frobenius norm: 363.185\n",
      "INFO:ridge_corr:Training: alpha=10.000, mean corr=0.01642, max corr=0.23287, over-under(0.20)=2\n",
      "INFO:ridge_corr:Training: alpha=16.681, mean corr=0.01758, max corr=0.24336, over-under(0.20)=4\n",
      "INFO:ridge_corr:Training: alpha=27.826, mean corr=0.01992, max corr=0.26392, over-under(0.20)=10\n",
      "INFO:ridge_corr:Training: alpha=46.416, mean corr=0.02371, max corr=0.29283, over-under(0.20)=22\n",
      "INFO:ridge_corr:Training: alpha=77.426, mean corr=0.02858, max corr=0.31496, over-under(0.20)=45\n",
      "INFO:ridge_corr:Training: alpha=129.155, mean corr=0.03266, max corr=0.31880, over-under(0.20)=65\n",
      "INFO:ridge_corr:Training: alpha=215.443, mean corr=0.03311, max corr=0.31428, over-under(0.20)=62\n",
      "INFO:ridge_corr:Training: alpha=359.381, mean corr=0.03130, max corr=0.30975, over-under(0.20)=54\n",
      "INFO:ridge_corr:Training: alpha=599.484, mean corr=0.02986, max corr=0.30654, over-under(0.20)=50\n",
      "INFO:ridge_corr:Training: alpha=1000.000, mean corr=0.02917, max corr=0.30471, over-under(0.20)=49\n",
      "INFO:counter:1/1 items complete (14.19 seconds/item, 00:00:00 remaining)\n",
      "INFO:ridge_corr:Total training stimulus has Frobenius norm: 413.140\n",
      "INFO:ridge_corr:Finding single best alpha..\n",
      "INFO:ridge_corr:Best alpha = 215.443\n",
      "INFO:ridge_corr:Computing weights for each response using entire training set..\n"
     ]
    },
    {
     "name": "stdout",
     "output_type": "stream",
     "text": [
      "computing response correlations\n",
      "median correlation: 0.018\n",
      "topics: 150\twindow size: 100\n",
      "fitting model\n",
      "projecting stimulus words\n",
      "downsampling topic vectors\n",
      "Doing lanczos interpolation with cutoff=0.499 and 3 lobes.\n",
      "Doing lanczos interpolation with cutoff=0.499 and 3 lobes.\n",
      "Doing lanczos interpolation with cutoff=0.499 and 3 lobes.\n",
      "Doing lanczos interpolation with cutoff=0.499 and 3 lobes.\n",
      "Doing lanczos interpolation with cutoff=0.499 and 3 lobes.\n",
      "Doing lanczos interpolation with cutoff=0.499 and 3 lobes.\n",
      "Doing lanczos interpolation with cutoff=0.499 and 3 lobes.\n",
      "Doing lanczos interpolation with cutoff=0.499 and 3 lobes.\n",
      "Doing lanczos interpolation with cutoff=0.499 and 3 lobes.\n",
      "Doing lanczos interpolation with cutoff=0.499 and 3 lobes.\n",
      "Doing lanczos interpolation with cutoff=0.499 and 3 lobes.\n"
     ]
    },
    {
     "name": "stderr",
     "output_type": "stream",
     "text": [
      "INFO:ridge_corr:Selecting held-out test set..\n"
     ]
    },
    {
     "name": "stdout",
     "output_type": "stream",
     "text": [
      "computing alpha\n"
     ]
    },
    {
     "name": "stderr",
     "output_type": "stream",
     "text": [
      "INFO:ridge_corr:Doing SVD...\n",
      "INFO:ridge_corr:Dropped 0 tiny singular values.. (U is now (2937, 600))\n",
      "INFO:ridge_corr:Training stimulus has Frobenius norm: 370.535\n",
      "INFO:ridge_corr:Training: alpha=10.000, mean corr=0.01004, max corr=0.24259, over-under(0.20)=3\n",
      "INFO:ridge_corr:Training: alpha=16.681, mean corr=0.01109, max corr=0.25082, over-under(0.20)=8\n",
      "INFO:ridge_corr:Training: alpha=27.826, mean corr=0.01332, max corr=0.26982, over-under(0.20)=22\n",
      "INFO:ridge_corr:Training: alpha=46.416, mean corr=0.01722, max corr=0.29671, over-under(0.20)=48\n",
      "INFO:ridge_corr:Training: alpha=77.426, mean corr=0.02263, max corr=0.31020, over-under(0.20)=80\n",
      "INFO:ridge_corr:Training: alpha=129.155, mean corr=0.02805, max corr=0.30568, over-under(0.20)=98\n",
      "INFO:ridge_corr:Training: alpha=215.443, mean corr=0.03062, max corr=0.29755, over-under(0.20)=107\n",
      "INFO:ridge_corr:Training: alpha=359.381, mean corr=0.03051, max corr=0.29264, over-under(0.20)=105\n",
      "INFO:ridge_corr:Training: alpha=599.484, mean corr=0.02994, max corr=0.29039, over-under(0.20)=106\n",
      "INFO:ridge_corr:Training: alpha=1000.000, mean corr=0.02960, max corr=0.28932, over-under(0.20)=103\n",
      "INFO:counter:1/1 items complete (13.24 seconds/item, 00:00:00 remaining)\n",
      "INFO:ridge_corr:Total training stimulus has Frobenius norm: 412.227\n",
      "INFO:ridge_corr:Finding single best alpha..\n",
      "INFO:ridge_corr:Best alpha = 215.443\n",
      "INFO:ridge_corr:Computing weights for each response using entire training set..\n"
     ]
    },
    {
     "name": "stdout",
     "output_type": "stream",
     "text": [
      "computing response correlations\n",
      "median correlation: 0.019\n",
      "topics: 150\twindow size: 200\n",
      "fitting model\n",
      "projecting stimulus words\n",
      "downsampling topic vectors\n",
      "Doing lanczos interpolation with cutoff=0.499 and 3 lobes.\n",
      "Doing lanczos interpolation with cutoff=0.499 and 3 lobes.\n",
      "Doing lanczos interpolation with cutoff=0.499 and 3 lobes.\n",
      "Doing lanczos interpolation with cutoff=0.499 and 3 lobes.\n",
      "Doing lanczos interpolation with cutoff=0.499 and 3 lobes.\n",
      "Doing lanczos interpolation with cutoff=0.499 and 3 lobes.\n",
      "Doing lanczos interpolation with cutoff=0.499 and 3 lobes.\n",
      "Doing lanczos interpolation with cutoff=0.499 and 3 lobes.\n",
      "Doing lanczos interpolation with cutoff=0.499 and 3 lobes.\n",
      "Doing lanczos interpolation with cutoff=0.499 and 3 lobes.\n",
      "Doing lanczos interpolation with cutoff=0.499 and 3 lobes.\n"
     ]
    },
    {
     "name": "stderr",
     "output_type": "stream",
     "text": [
      "INFO:ridge_corr:Selecting held-out test set..\n"
     ]
    },
    {
     "name": "stdout",
     "output_type": "stream",
     "text": [
      "computing alpha\n"
     ]
    },
    {
     "name": "stderr",
     "output_type": "stream",
     "text": [
      "INFO:ridge_corr:Doing SVD...\n",
      "INFO:ridge_corr:Dropped 0 tiny singular values.. (U is now (2937, 600))\n",
      "INFO:ridge_corr:Training stimulus has Frobenius norm: 385.540\n",
      "INFO:ridge_corr:Training: alpha=10.000, mean corr=0.00980, max corr=0.24190, over-under(0.20)=5\n",
      "INFO:ridge_corr:Training: alpha=16.681, mean corr=0.01002, max corr=0.25069, over-under(0.20)=9\n",
      "INFO:ridge_corr:Training: alpha=27.826, mean corr=0.01066, max corr=0.26833, over-under(0.20)=15\n",
      "INFO:ridge_corr:Training: alpha=46.416, mean corr=0.01247, max corr=0.29339, over-under(0.20)=29\n",
      "INFO:ridge_corr:Training: alpha=77.426, mean corr=0.01608, max corr=0.31156, over-under(0.20)=53\n",
      "INFO:ridge_corr:Training: alpha=129.155, mean corr=0.02050, max corr=0.31934, over-under(0.20)=92\n",
      "INFO:ridge_corr:Training: alpha=215.443, mean corr=0.02314, max corr=0.32381, over-under(0.20)=100\n",
      "INFO:ridge_corr:Training: alpha=359.381, mean corr=0.02357, max corr=0.32195, over-under(0.20)=98\n",
      "INFO:ridge_corr:Training: alpha=599.484, mean corr=0.02335, max corr=0.31869, over-under(0.20)=96\n",
      "INFO:ridge_corr:Training: alpha=1000.000, mean corr=0.02316, max corr=0.31637, over-under(0.20)=93\n",
      "INFO:counter:1/1 items complete (15.17 seconds/item, 00:00:00 remaining)\n",
      "INFO:ridge_corr:Total training stimulus has Frobenius norm: 430.305\n",
      "INFO:ridge_corr:Finding single best alpha..\n",
      "INFO:ridge_corr:Best alpha = 359.381\n",
      "INFO:ridge_corr:Computing weights for each response using entire training set..\n"
     ]
    },
    {
     "name": "stdout",
     "output_type": "stream",
     "text": [
      "computing response correlations\n",
      "median correlation: 0.016\n",
      "topics: 150\twindow size: 500\n",
      "fitting model\n",
      "projecting stimulus words\n",
      "downsampling topic vectors\n",
      "Doing lanczos interpolation with cutoff=0.499 and 3 lobes.\n",
      "Doing lanczos interpolation with cutoff=0.499 and 3 lobes.\n",
      "Doing lanczos interpolation with cutoff=0.499 and 3 lobes.\n",
      "Doing lanczos interpolation with cutoff=0.499 and 3 lobes.\n",
      "Doing lanczos interpolation with cutoff=0.499 and 3 lobes.\n",
      "Doing lanczos interpolation with cutoff=0.499 and 3 lobes.\n",
      "Doing lanczos interpolation with cutoff=0.499 and 3 lobes.\n",
      "Doing lanczos interpolation with cutoff=0.499 and 3 lobes.\n",
      "Doing lanczos interpolation with cutoff=0.499 and 3 lobes.\n",
      "Doing lanczos interpolation with cutoff=0.499 and 3 lobes.\n",
      "Doing lanczos interpolation with cutoff=0.499 and 3 lobes.\n"
     ]
    },
    {
     "name": "stderr",
     "output_type": "stream",
     "text": [
      "INFO:ridge_corr:Selecting held-out test set..\n"
     ]
    },
    {
     "name": "stdout",
     "output_type": "stream",
     "text": [
      "computing alpha\n"
     ]
    },
    {
     "name": "stderr",
     "output_type": "stream",
     "text": [
      "INFO:ridge_corr:Doing SVD...\n",
      "INFO:ridge_corr:Dropped 0 tiny singular values.. (U is now (2937, 600))\n",
      "INFO:ridge_corr:Training stimulus has Frobenius norm: 379.261\n",
      "INFO:ridge_corr:Training: alpha=10.000, mean corr=0.01392, max corr=0.32987, over-under(0.20)=26\n",
      "INFO:ridge_corr:Training: alpha=16.681, mean corr=0.01544, max corr=0.34367, over-under(0.20)=34\n",
      "INFO:ridge_corr:Training: alpha=27.826, mean corr=0.01834, max corr=0.36624, over-under(0.20)=50\n",
      "INFO:ridge_corr:Training: alpha=46.416, mean corr=0.02276, max corr=0.38885, over-under(0.20)=89\n",
      "INFO:ridge_corr:Training: alpha=77.426, mean corr=0.02820, max corr=0.40134, over-under(0.20)=173\n",
      "INFO:ridge_corr:Training: alpha=129.155, mean corr=0.03266, max corr=0.41682, over-under(0.20)=226\n",
      "INFO:ridge_corr:Training: alpha=215.443, mean corr=0.03333, max corr=0.41963, over-under(0.20)=216\n",
      "INFO:ridge_corr:Training: alpha=359.381, mean corr=0.03179, max corr=0.41997, over-under(0.20)=203\n",
      "INFO:ridge_corr:Training: alpha=599.484, mean corr=0.03060, max corr=0.42019, over-under(0.20)=194\n",
      "INFO:ridge_corr:Training: alpha=1000.000, mean corr=0.03005, max corr=0.42030, over-under(0.20)=195\n",
      "INFO:counter:1/1 items complete (13.74 seconds/item, 00:00:00 remaining)\n",
      "INFO:ridge_corr:Total training stimulus has Frobenius norm: 431.820\n",
      "INFO:ridge_corr:Finding single best alpha..\n",
      "INFO:ridge_corr:Best alpha = 215.443\n",
      "INFO:ridge_corr:Computing weights for each response using entire training set..\n"
     ]
    },
    {
     "name": "stdout",
     "output_type": "stream",
     "text": [
      "computing response correlations\n",
      "median correlation: 0.022\n",
      "topics: 200\twindow size: 50\n",
      "fitting model\n",
      "projecting stimulus words\n",
      "downsampling topic vectors\n",
      "Doing lanczos interpolation with cutoff=0.499 and 3 lobes.\n",
      "Doing lanczos interpolation with cutoff=0.499 and 3 lobes.\n",
      "Doing lanczos interpolation with cutoff=0.499 and 3 lobes.\n",
      "Doing lanczos interpolation with cutoff=0.499 and 3 lobes.\n",
      "Doing lanczos interpolation with cutoff=0.499 and 3 lobes.\n",
      "Doing lanczos interpolation with cutoff=0.499 and 3 lobes.\n",
      "Doing lanczos interpolation with cutoff=0.499 and 3 lobes.\n",
      "Doing lanczos interpolation with cutoff=0.499 and 3 lobes.\n",
      "Doing lanczos interpolation with cutoff=0.499 and 3 lobes.\n",
      "Doing lanczos interpolation with cutoff=0.499 and 3 lobes.\n",
      "Doing lanczos interpolation with cutoff=0.499 and 3 lobes.\n"
     ]
    },
    {
     "name": "stderr",
     "output_type": "stream",
     "text": [
      "INFO:ridge_corr:Selecting held-out test set..\n"
     ]
    },
    {
     "name": "stdout",
     "output_type": "stream",
     "text": [
      "computing alpha\n"
     ]
    },
    {
     "name": "stderr",
     "output_type": "stream",
     "text": [
      "INFO:ridge_corr:Doing SVD...\n",
      "INFO:ridge_corr:Dropped 0 tiny singular values.. (U is now (2937, 800))\n",
      "INFO:ridge_corr:Training stimulus has Frobenius norm: 414.297\n",
      "INFO:ridge_corr:Training: alpha=10.000, mean corr=0.00751, max corr=0.18832, over-under(0.20)=0\n",
      "INFO:ridge_corr:Training: alpha=16.681, mean corr=0.00817, max corr=0.19924, over-under(0.20)=0\n",
      "INFO:ridge_corr:Training: alpha=27.826, mean corr=0.00964, max corr=0.21796, over-under(0.20)=4\n",
      "INFO:ridge_corr:Training: alpha=46.416, mean corr=0.01262, max corr=0.26913, over-under(0.20)=13\n",
      "INFO:ridge_corr:Training: alpha=77.426, mean corr=0.01766, max corr=0.31666, over-under(0.20)=34\n",
      "INFO:ridge_corr:Training: alpha=129.155, mean corr=0.02407, max corr=0.33949, over-under(0.20)=88\n",
      "INFO:ridge_corr:Training: alpha=215.443, mean corr=0.02880, max corr=0.34407, over-under(0.20)=116\n",
      "INFO:ridge_corr:Training: alpha=359.381, mean corr=0.03028, max corr=0.34292, over-under(0.20)=129\n",
      "INFO:ridge_corr:Training: alpha=599.484, mean corr=0.03040, max corr=0.34075, over-under(0.20)=123\n",
      "INFO:ridge_corr:Training: alpha=1000.000, mean corr=0.03033, max corr=0.33910, over-under(0.20)=119\n",
      "INFO:counter:1/1 items complete (18.27 seconds/item, 00:00:00 remaining)\n",
      "INFO:ridge_corr:Total training stimulus has Frobenius norm: 469.321\n",
      "INFO:ridge_corr:Finding single best alpha..\n",
      "INFO:ridge_corr:Best alpha = 599.484\n",
      "INFO:ridge_corr:Computing weights for each response using entire training set..\n"
     ]
    },
    {
     "name": "stdout",
     "output_type": "stream",
     "text": [
      "computing response correlations\n",
      "median correlation: 0.014\n",
      "topics: 200\twindow size: 100\n",
      "fitting model\n",
      "projecting stimulus words\n",
      "downsampling topic vectors\n",
      "Doing lanczos interpolation with cutoff=0.499 and 3 lobes.\n",
      "Doing lanczos interpolation with cutoff=0.499 and 3 lobes.\n",
      "Doing lanczos interpolation with cutoff=0.499 and 3 lobes.\n",
      "Doing lanczos interpolation with cutoff=0.499 and 3 lobes.\n",
      "Doing lanczos interpolation with cutoff=0.499 and 3 lobes.\n",
      "Doing lanczos interpolation with cutoff=0.499 and 3 lobes.\n",
      "Doing lanczos interpolation with cutoff=0.499 and 3 lobes.\n",
      "Doing lanczos interpolation with cutoff=0.499 and 3 lobes.\n",
      "Doing lanczos interpolation with cutoff=0.499 and 3 lobes.\n",
      "Doing lanczos interpolation with cutoff=0.499 and 3 lobes.\n"
     ]
    },
    {
     "name": "stderr",
     "output_type": "stream",
     "text": [
      "INFO:ridge_corr:Selecting held-out test set..\n"
     ]
    },
    {
     "name": "stdout",
     "output_type": "stream",
     "text": [
      "Doing lanczos interpolation with cutoff=0.499 and 3 lobes.\n",
      "computing alpha\n"
     ]
    },
    {
     "name": "stderr",
     "output_type": "stream",
     "text": [
      "INFO:ridge_corr:Doing SVD...\n",
      "INFO:ridge_corr:Dropped 0 tiny singular values.. (U is now (2937, 800))\n",
      "INFO:ridge_corr:Training stimulus has Frobenius norm: 444.077\n",
      "INFO:ridge_corr:Training: alpha=10.000, mean corr=0.01760, max corr=0.31920, over-under(0.20)=8\n",
      "INFO:ridge_corr:Training: alpha=16.681, mean corr=0.01877, max corr=0.34005, over-under(0.20)=14\n",
      "INFO:ridge_corr:Training: alpha=27.826, mean corr=0.02086, max corr=0.37544, over-under(0.20)=36\n",
      "INFO:ridge_corr:Training: alpha=46.416, mean corr=0.02379, max corr=0.41677, over-under(0.20)=83\n",
      "INFO:ridge_corr:Training: alpha=77.426, mean corr=0.02699, max corr=0.44046, over-under(0.20)=135\n",
      "INFO:ridge_corr:Training: alpha=129.155, mean corr=0.02918, max corr=0.43882, over-under(0.20)=170\n",
      "INFO:ridge_corr:Training: alpha=215.443, mean corr=0.02877, max corr=0.43096, over-under(0.20)=165\n",
      "INFO:ridge_corr:Training: alpha=359.381, mean corr=0.02692, max corr=0.42774, over-under(0.20)=153\n",
      "INFO:ridge_corr:Training: alpha=599.484, mean corr=0.02560, max corr=0.42782, over-under(0.20)=151\n",
      "INFO:ridge_corr:Training: alpha=1000.000, mean corr=0.02498, max corr=0.42842, over-under(0.20)=149\n",
      "INFO:counter:1/1 items complete (16.05 seconds/item, 00:00:00 remaining)\n",
      "INFO:ridge_corr:Total training stimulus has Frobenius norm: 502.945\n",
      "INFO:ridge_corr:Finding single best alpha..\n",
      "INFO:ridge_corr:Best alpha = 129.155\n",
      "INFO:ridge_corr:Computing weights for each response using entire training set..\n"
     ]
    },
    {
     "name": "stdout",
     "output_type": "stream",
     "text": [
      "computing response correlations\n",
      "median correlation: 0.036\n",
      "topics: 200\twindow size: 200\n",
      "fitting model\n",
      "projecting stimulus words\n",
      "downsampling topic vectors\n",
      "Doing lanczos interpolation with cutoff=0.499 and 3 lobes.\n",
      "Doing lanczos interpolation with cutoff=0.499 and 3 lobes.\n",
      "Doing lanczos interpolation with cutoff=0.499 and 3 lobes.\n",
      "Doing lanczos interpolation with cutoff=0.499 and 3 lobes.\n",
      "Doing lanczos interpolation with cutoff=0.499 and 3 lobes.\n",
      "Doing lanczos interpolation with cutoff=0.499 and 3 lobes.\n",
      "Doing lanczos interpolation with cutoff=0.499 and 3 lobes.\n",
      "Doing lanczos interpolation with cutoff=0.499 and 3 lobes.\n",
      "Doing lanczos interpolation with cutoff=0.499 and 3 lobes.\n"
     ]
    },
    {
     "name": "stderr",
     "output_type": "stream",
     "text": [
      "INFO:ridge_corr:Selecting held-out test set..\n"
     ]
    },
    {
     "name": "stdout",
     "output_type": "stream",
     "text": [
      "Doing lanczos interpolation with cutoff=0.499 and 3 lobes.\n",
      "Doing lanczos interpolation with cutoff=0.499 and 3 lobes.\n",
      "computing alpha\n"
     ]
    },
    {
     "name": "stderr",
     "output_type": "stream",
     "text": [
      "INFO:ridge_corr:Doing SVD...\n",
      "INFO:ridge_corr:Dropped 0 tiny singular values.. (U is now (2937, 800))\n",
      "INFO:ridge_corr:Training stimulus has Frobenius norm: 449.487\n",
      "INFO:ridge_corr:Training: alpha=10.000, mean corr=0.01608, max corr=0.19674, over-under(0.20)=0\n",
      "INFO:ridge_corr:Training: alpha=16.681, mean corr=0.01738, max corr=0.19119, over-under(0.20)=0\n",
      "INFO:ridge_corr:Training: alpha=27.826, mean corr=0.01949, max corr=0.20503, over-under(0.20)=1\n",
      "INFO:ridge_corr:Training: alpha=46.416, mean corr=0.02220, max corr=0.22239, over-under(0.20)=9\n",
      "INFO:ridge_corr:Training: alpha=77.426, mean corr=0.02512, max corr=0.24493, over-under(0.20)=26\n",
      "INFO:ridge_corr:Training: alpha=129.155, mean corr=0.02748, max corr=0.26430, over-under(0.20)=44\n",
      "INFO:ridge_corr:Training: alpha=215.443, mean corr=0.02743, max corr=0.26970, over-under(0.20)=50\n",
      "INFO:ridge_corr:Training: alpha=359.381, mean corr=0.02553, max corr=0.26978, over-under(0.20)=45\n",
      "INFO:ridge_corr:Training: alpha=599.484, mean corr=0.02405, max corr=0.26838, over-under(0.20)=45\n",
      "INFO:ridge_corr:Training: alpha=1000.000, mean corr=0.02337, max corr=0.26760, over-under(0.20)=43\n",
      "INFO:counter:1/1 items complete (38.91 seconds/item, 00:00:00 remaining)\n",
      "INFO:ridge_corr:Total training stimulus has Frobenius norm: 498.223\n",
      "INFO:ridge_corr:Finding single best alpha..\n",
      "INFO:ridge_corr:Best alpha = 129.155\n",
      "INFO:ridge_corr:Computing weights for each response using entire training set..\n"
     ]
    },
    {
     "name": "stdout",
     "output_type": "stream",
     "text": [
      "computing response correlations\n",
      "median correlation: 0.021\n",
      "topics: 200\twindow size: 500\n",
      "fitting model\n",
      "projecting stimulus words\n",
      "downsampling topic vectors\n",
      "Doing lanczos interpolation with cutoff=0.499 and 3 lobes.\n",
      "Doing lanczos interpolation with cutoff=0.499 and 3 lobes.\n",
      "Doing lanczos interpolation with cutoff=0.499 and 3 lobes.\n",
      "Doing lanczos interpolation with cutoff=0.499 and 3 lobes.\n",
      "Doing lanczos interpolation with cutoff=0.499 and 3 lobes.\n",
      "Doing lanczos interpolation with cutoff=0.499 and 3 lobes.\n",
      "Doing lanczos interpolation with cutoff=0.499 and 3 lobes.\n",
      "Doing lanczos interpolation with cutoff=0.499 and 3 lobes.\n",
      "Doing lanczos interpolation with cutoff=0.499 and 3 lobes.\n",
      "Doing lanczos interpolation with cutoff=0.499 and 3 lobes.\n",
      "Doing lanczos interpolation with cutoff=0.499 and 3 lobes.\n"
     ]
    },
    {
     "name": "stderr",
     "output_type": "stream",
     "text": [
      "INFO:ridge_corr:Selecting held-out test set..\n"
     ]
    },
    {
     "name": "stdout",
     "output_type": "stream",
     "text": [
      "computing alpha\n"
     ]
    },
    {
     "name": "stderr",
     "output_type": "stream",
     "text": [
      "INFO:ridge_corr:Doing SVD...\n",
      "INFO:ridge_corr:Dropped 0 tiny singular values.. (U is now (2937, 800))\n",
      "INFO:ridge_corr:Training stimulus has Frobenius norm: 456.746\n",
      "INFO:ridge_corr:Training: alpha=10.000, mean corr=0.01756, max corr=0.23382, over-under(0.20)=8\n",
      "INFO:ridge_corr:Training: alpha=16.681, mean corr=0.01885, max corr=0.24819, over-under(0.20)=16\n",
      "INFO:ridge_corr:Training: alpha=27.826, mean corr=0.02058, max corr=0.28112, over-under(0.20)=22\n",
      "INFO:ridge_corr:Training: alpha=46.416, mean corr=0.02287, max corr=0.32622, over-under(0.20)=50\n",
      "INFO:ridge_corr:Training: alpha=77.426, mean corr=0.02639, max corr=0.35093, over-under(0.20)=106\n",
      "INFO:ridge_corr:Training: alpha=129.155, mean corr=0.03070, max corr=0.35327, over-under(0.20)=151\n",
      "INFO:ridge_corr:Training: alpha=215.443, mean corr=0.03270, max corr=0.35034, over-under(0.20)=167\n",
      "INFO:ridge_corr:Training: alpha=359.381, mean corr=0.03206, max corr=0.34801, over-under(0.20)=152\n",
      "INFO:ridge_corr:Training: alpha=599.484, mean corr=0.03116, max corr=0.34729, over-under(0.20)=149\n",
      "INFO:ridge_corr:Training: alpha=1000.000, mean corr=0.03070, max corr=0.34710, over-under(0.20)=146\n",
      "INFO:counter:1/1 items complete (33.94 seconds/item, 00:00:00 remaining)\n",
      "INFO:ridge_corr:Total training stimulus has Frobenius norm: 519.826\n",
      "INFO:ridge_corr:Finding single best alpha..\n",
      "INFO:ridge_corr:Best alpha = 215.443\n",
      "INFO:ridge_corr:Computing weights for each response using entire training set..\n"
     ]
    },
    {
     "name": "stdout",
     "output_type": "stream",
     "text": [
      "computing response correlations\n",
      "median correlation: 0.021\n"
     ]
    }
   ],
   "source": [
    "# run function (takes about 9 hrs to run)\n",
    "output_dict = search_params(topic_opts, window_opts, training_corpus)"
   ]
  },
  {
   "cell_type": "code",
   "execution_count": 96,
   "metadata": {
    "ExecuteTime": {
     "end_time": "2019-05-29T22:47:16.624263Z",
     "start_time": "2019-05-29T22:47:16.607117Z"
    },
    "collapsed": true
   },
   "outputs": [],
   "source": [
    "# # save out results\n",
    "# with open('param_search.p', 'wb') as f:\n",
    "#     pickle.dump(output_dict, f)"
   ]
  },
  {
   "cell_type": "code",
   "execution_count": null,
   "metadata": {
    "collapsed": true
   },
   "outputs": [],
   "source": [
    "# load in results\n",
    "with open('param_search.p', 'rb') as f:\n",
    "    output_dict = pickle.load(f)"
   ]
  },
  {
   "cell_type": "code",
   "execution_count": 102,
   "metadata": {
    "ExecuteTime": {
     "end_time": "2019-05-29T22:53:28.503796Z",
     "start_time": "2019-05-29T22:53:28.490369Z"
    }
   },
   "outputs": [
    {
     "data": {
      "text/plain": [
       "{'t100_w100': 0.01587027631967619,\n",
       " 't100_w200': 0.021689974849120115,\n",
       " 't100_w50': 0.014794131730306768,\n",
       " 't100_w500': 0.02355096383284238,\n",
       " 't10_w100': 0.02785412031084032,\n",
       " 't10_w200': 0.03070530952003156,\n",
       " 't10_w50': 0.031160058535650972,\n",
       " 't10_w500': 0.027444627245801823,\n",
       " 't150_w100': 0.019723834832609734,\n",
       " 't150_w200': 0.016455425673771132,\n",
       " 't150_w50': 0.018286002702085438,\n",
       " 't150_w500': 0.02299699722197819,\n",
       " 't15_w100': 0.020166365938751877,\n",
       " 't15_w200': 0.02138423177067568,\n",
       " 't15_w50': 0.026153249081666385,\n",
       " 't15_w500': 0.01720503205834003,\n",
       " 't200_w100': 0.03664252827562457,\n",
       " 't200_w200': 0.021646719065568934,\n",
       " 't200_w50': 0.014387209188794364,\n",
       " 't200_w500': 0.02197151787594756,\n",
       " 't25_w100': 0.02243145465726691,\n",
       " 't25_w200': 0.017014336969915923,\n",
       " 't25_w50': 0.03286811083264847,\n",
       " 't25_w500': 0.02382122246911248,\n",
       " 't50_w100': 0.022993364858437816,\n",
       " 't50_w200': 0.01837938814902054,\n",
       " 't50_w50': 0.012442694499907524,\n",
       " 't50_w500': 0.01741217886267219,\n",
       " 't5_w100': 0.039285112684016354,\n",
       " 't5_w200': 0.04082480953613997,\n",
       " 't5_w50': 0.038378474605140475,\n",
       " 't5_w500': 0.0305821745436447}"
      ]
     },
     "execution_count": 102,
     "metadata": {},
     "output_type": "execute_result"
    }
   ],
   "source": [
    "output_dict"
   ]
  },
  {
   "cell_type": "code",
   "execution_count": 57,
   "metadata": {
    "ExecuteTime": {
     "end_time": "2019-05-29T16:23:53.666547Z",
     "start_time": "2019-05-29T16:23:53.606116Z"
    },
    "collapsed": true
   },
   "outputs": [],
   "source": [
    "# format results for plotting\n",
    "t5 = np.mean([v for k, v in output_dict.items() if 't5' in k])\n",
    "t10 = np.mean([v for k, v in output_dict.items() if 't10' in k])\n",
    "t15 = np.mean([v for k, v in output_dict.items() if 't15' in k])\n",
    "t25 = np.mean([v for k, v in output_dict.items() if 't25' in k])\n",
    "t50 = np.mean([v for k, v in output_dict.items() if 't50' in k])\n",
    "t100 = np.mean([v for k, v in output_dict.items() if 't100' in k])\n",
    "t150 = np.mean([v for k, v in output_dict.items() if 't150' in k])\n",
    "t200 = np.mean([v for k, v in output_dict.items() if 't200' in k])\n",
    "w50 = np.mean([v for k, v in output_dict.items() if 'w50' in k])\n",
    "w100 = np.mean([v for k, v in output_dict.items() if 'w100' in k])\n",
    "w200 = np.mean([v for k, v in output_dict.items() if 'w200' in k])\n",
    "w500 = np.mean([v for k, v in output_dict.items() if 'w500' in k])"
   ]
  },
  {
   "cell_type": "code",
   "execution_count": 70,
   "metadata": {
    "ExecuteTime": {
     "end_time": "2019-05-29T16:28:00.722101Z",
     "start_time": "2019-05-29T16:28:00.719402Z"
    },
    "collapsed": true
   },
   "outputs": [],
   "source": [
    "# median correlation of Huth model predictions (copied from other notebook)\n",
    "Huth_pred_acc = 0.06684583347295449"
   ]
  },
  {
   "cell_type": "code",
   "execution_count": 103,
   "metadata": {
    "ExecuteTime": {
     "end_time": "2019-05-29T22:53:59.109671Z",
     "start_time": "2019-05-29T22:53:58.898730Z"
    }
   },
   "outputs": [
    {
     "data": {
      "image/png": "[encoded data removed]",
      "text/plain": [
       "<Figure size 432x288 with 1 Axes>"
      ]
     },
     "metadata": {},
     "output_type": "display_data"
    }
   ],
   "source": [
    "plt.plot([5, 10, 15, 25, 50, 100, 150, 200], [t5, t10, t15, t25, t50, t100, t150, t200])\n",
    "# un-comment this line to compare to Huth model accuracy\n",
    "# plt.axhline(Huth_pred_acc, color='r')\n",
    "plt.xlabel('Number of topics')\n",
    "plt.ylabel('Mean voxel response\\nprediction accuracy')\n",
    "plt.title('Effect of changing number of topics')\n",
    "plt.tight_layout()"
   ]
  },
  {
   "cell_type": "code",
   "execution_count": 101,
   "metadata": {
    "ExecuteTime": {
     "end_time": "2019-05-29T22:52:00.348205Z",
     "start_time": "2019-05-29T22:52:00.164943Z"
    }
   },
   "outputs": [
    {
     "data": {
      "image/png": "[encoded data removed]",
      "text/plain": [
       "<Figure size 432x288 with 1 Axes>"
      ]
     },
     "metadata": {},
     "output_type": "display_data"
    }
   ],
   "source": [
    "plt.plot([50, 100, 200, 500], [w50, w100, w200, w500])\n",
    "# un-comment this line to compare to Huth model accuracy\n",
    "# plt.axhline(Huth_pred_acc, color='r')\n",
    "plt.xlabel('Window size')\n",
    "plt.ylabel('Mean voxel response\\nprediction accuracy')\n",
    "plt.title('Effect of changing window size')\n",
    "plt.tight_layout()"
   ]
  },
  {
   "cell_type": "code",
   "execution_count": 106,
   "metadata": {
    "ExecuteTime": {
     "end_time": "2019-05-29T22:56:17.700022Z",
     "start_time": "2019-05-29T22:56:17.685385Z"
    }
   },
   "outputs": [
    {
     "name": "stdout",
     "output_type": "stream",
     "text": [
      "best combination of n_topics and window size:\n",
      "\tt5_w200\n",
      "highest correlation between real and predicted voxel response:\n",
      "\t0.04082480953613997\n"
     ]
    }
   ],
   "source": [
    "params = list(output_dict.keys())\n",
    "corrs = list(output_dict.values())\n",
    "\n",
    "# best combination of parameters\n",
    "best_param = params[np.argmax(corrs)]\n",
    "print(f'best combination of n_topics and window size:\\n\\t{best_param}')\n",
    "print(f'highest correlation between real and predicted voxel response:\\n\\t{output_dict[best_param]}')"
   ]
  },
  {
   "cell_type": "code",
   "execution_count": 116,
   "metadata": {
    "ExecuteTime": {
     "end_time": "2019-05-29T23:00:28.956847Z",
     "start_time": "2019-05-29T23:00:25.879639Z"
    }
   },
   "outputs": [
    {
     "name": "stdout",
     "output_type": "stream",
     "text": [
      "number of words in Huth corpus vocabulary :\n",
      "\t10470\n",
      "number of words in Wikipedia model corpus vocabulary :\n",
      "\t290766\n"
     ]
    }
   ],
   "source": [
    "print(f'number of words in Huth corpus vocabulary :\\n\\t{len(eng1000.vocab)}')\n",
    "print(f'number of words in Wikipedia model corpus vocabulary :\\n\\t{len(set(\" \".join(training_corpus).split(\" \")))}')"
   ]
  }
 ],
 "metadata": {
  "kernelspec": {
   "display_name": "Python 3",
   "language": "python",
   "name": "python3"
  },
  "language_info": {
   "codemirror_mode": {
    "name": "ipython",
    "version": 3
   },
   "file_extension": ".py",
   "mimetype": "text/x-python",
   "name": "python",
   "nbconvert_exporter": "python",
   "pygments_lexer": "ipython3",
   "version": "3.6.2"
  }
 },
 "nbformat": 4,
 "nbformat_minor": 2
}
