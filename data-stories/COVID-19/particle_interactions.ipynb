{
  "nbformat": 4,
  "nbformat_minor": 0,
  "metadata": {
    "colab": {
      "name": "particle_interactions.ipynb",
      "provenance": [],
      "collapsed_sections": [],
      "authorship_tag": "ABX9TyPsBGAeL414MuK5ZCUdxlFK",
      "include_colab_link": true
    },
    "kernelspec": {
      "name": "python3",
      "display_name": "Python 3"
    }
  },
  "cells": [
    {
      "cell_type": "markdown",
      "metadata": {
        "id": "view-in-github",
        "colab_type": "text"
      },
      "source": [
        "<a href=\"https://colab.research.google.com/github/ContextLab/storytelling-with-data/blob/master/data-stories/COVID-19/particle_interactions.ipynb\" target=\"_parent\"><img src=\"https://colab.research.google.com/assets/colab-badge.svg\" alt=\"Open In Colab\"/></a>"
      ]
    },
    {
      "cell_type": "markdown",
      "metadata": {
        "id": "U3uODfBqsxCS",
        "colab_type": "text"
      },
      "source": [
        "# Particle interactions demo code\n",
        "\n",
        "This notebook implements a particle-based simulation of dynamic interactions, inspired by [this Washington Post article](https://www.washingtonpost.com/graphics/2020/world/corona-simulator/).  The physics simulations are implemented in [PyMunk](http://www.pymunk.org/en/latest/).\n",
        "\n",
        "The main class is the `Environment` class; it initializes a physics simulator within a rectangular 2D environment, along with a population of particles that move around and interact.  You can then query the population at various points to gain insights into the state of the simulated population at each moment.\n",
        "\n",
        "The basic building blocks of the `Environment` class are:\n",
        "  - The `Rectangle` class implements the basic \"canvas\" that the simulation runs on.  The class defines the rectangular boundaries of the simulation environment.  It also specifies the size of the environment.\n",
        "    - To initilize a new `Rectangle` instance, use `r = Rectangle(c1, c2)`, where `c1` and `c2` are 2D vectors specifying opposite corners of the rectangle.\n",
        "  - The `Circle` class implements an individual particle.  There are a bunch of options you can customize, or just leave them at their default settings.\n",
        "    - To initilize a new `Circle` instance, use `c = Circle(x)`, where `x` is a 2D vector specifying the circle's center.\n",
        "\n",
        "Sample code for running simulations is provided at the bottom of this notebook."
      ]
    },
    {
      "cell_type": "code",
      "metadata": {
        "id": "oOM-9wTrLq0D",
        "colab_type": "code",
        "outputId": "fd39dac1-0378-4169-ad3e-605dc8302e17",
        "colab": {
          "base_uri": "https://localhost:8080/",
          "height": 139
        }
      },
      "source": [
        "!pip install pymunk"
      ],
      "execution_count": 3,
      "outputs": [
        {
          "output_type": "stream",
          "text": [
            "Collecting pymunk\n",
            "\u001b[?25l  Downloading https://files.pythonhosted.org/packages/80/0f/25a65edbda2d7d72c28ab150292c85293896183bf5e16cffc8e3608b8934/pymunk-5.6.0-py2.py3-none-manylinux1_x86_64.whl (535kB)\n",
            "\u001b[K     |████████████████████████████████| 542kB 2.7MB/s \n",
            "\u001b[?25hRequirement already satisfied: cffi!=1.13.1 in /usr/local/lib/python3.6/dist-packages (from pymunk) (1.14.0)\n",
            "Requirement already satisfied: pycparser in /usr/local/lib/python3.6/dist-packages (from cffi!=1.13.1->pymunk) (2.20)\n",
            "Installing collected packages: pymunk\n",
            "Successfully installed pymunk-5.6.0\n"
          ],
          "name": "stdout"
        }
      ]
    },
    {
      "cell_type": "code",
      "metadata": {
        "id": "vpuULnMd8MR_",
        "colab_type": "code",
        "colab": {
          "base_uri": "https://localhost:8080/",
          "height": 34
        },
        "outputId": "1acd293a-1aaa-4d66-8686-d2eee85de769"
      },
      "source": [
        "import plotly.express as px\n",
        "import numpy as np\n",
        "import pandas as pd\n",
        "import itertools\n",
        "from scipy.spatial.distance import cdist, pdist, squareform\n",
        "from sklearn.decomposition import IncrementalPCA\n",
        "from copy import copy\n",
        "import pymunk as pm\n",
        "import pymunk.matplotlib_util as mpl_util\n",
        "import matplotlib.pyplot as plt\n",
        "from matplotlib import animation, rc"
      ],
      "execution_count": 4,
      "outputs": [
        {
          "output_type": "stream",
          "text": [
            "Loading chipmunk for Linux (64bit) [/usr/local/lib/python3.6/dist-packages/pymunk/libchipmunk.so]\n"
          ],
          "name": "stdout"
        }
      ]
    },
    {
      "cell_type": "code",
      "metadata": {
        "id": "6sOrtitw9y0z",
        "colab_type": "code",
        "colab": {}
      },
      "source": [
        "class Rectangle():\n",
        "  def __init__(self, c1, c2, linewidth=2, tol=1e-3, sim=None):\n",
        "    def corners(n): #return corners in n dimensions\n",
        "      def fullfact(dims):\n",
        "        vals = np.asmatrix(range(1, dims[0] + 1)).T\n",
        "        if len(dims) == 1:\n",
        "          return vals\n",
        "        else:\n",
        "          aftervals = np.asmatrix(fullfact(dims[1:]))\n",
        "          inds = np.asmatrix(np.zeros((np.prod(dims), len(dims))))\n",
        "          row = 0\n",
        "          for i in range(aftervals.shape[0]):\n",
        "            inds[row:(row + len(vals)), 0] = vals\n",
        "            inds[row:(row + len(vals)), 1:] = np.tile(aftervals[i, :], (len(vals), 1))\n",
        "            row += len(vals)\n",
        "        return inds\n",
        "      x = fullfact(n*[2])\n",
        "\n",
        "      mask1 = (x == 1)\n",
        "      mask2 = (x == 2)\n",
        "\n",
        "      c = np.zeros(np.shape(x))\n",
        "      for i in range(np.shape(x)[1]):\n",
        "        m1 = np.zeros(mask1.shape)\n",
        "        m2 = np.zeros(mask2.shape)\n",
        "\n",
        "        m1[:, i] = mask1[:, i].ravel()\n",
        "        m2[:, i] = mask2[:, i].ravel()\n",
        "        \n",
        "        c[np.where(m1)] = c1[i]\n",
        "        c[np.where(m2)] = c2[i]\n",
        "      \n",
        "      return c    \n",
        "    \n",
        "    def edges(c): #return edges, given corners\n",
        "      e = []\n",
        "      for i in range(c.shape[0]):\n",
        "        for j in range(i):\n",
        "          if self.adjacent(c[i, :], c[j, :]):\n",
        "            e.append([c[i, :], c[j, :]])\n",
        "      return e\n",
        "\n",
        "    assert (len(c1) == len(c2)) and (len(c1) == 2), 'Rectangle must be 2D'\n",
        "    self.corners = corners(len(c1))\n",
        "    self.edges = edges(self.corners)\n",
        "\n",
        "    #add visual properties to support drawing\n",
        "    self.linewidth = linewidth\n",
        "    self.tol = tol\n",
        "\n",
        "    if not sim: #set simulation engine object\n",
        "      self.sim = pm.Space()\n",
        "    else:\n",
        "      self.sim = sim\n",
        "    \n",
        "    #add physical properties to support simulation\n",
        "    edges_sim = []\n",
        "    static_body = self.sim.static_body\n",
        "    for e in self.edges:      \n",
        "      next_edge = pm.Segment(static_body, e[0], e[1], self.linewidth / 100)\n",
        "      next_edge.elasticity = 0.99\n",
        "      next_edge.friction = 0.0\n",
        "      self.sim.add(next_edge)\n",
        "  \n",
        "  def adjacent(self, a, b):\n",
        "      return np.sum(a == b) == len(a) - 1\n",
        "  \n",
        "  def upper_bounds(self):\n",
        "    return np.max(self.corners, axis=0)\n",
        "  \n",
        "  def lower_bounds(self):\n",
        "    return np.min(self.corners, axis=0)\n",
        "\n",
        "  def random_point_within(self):\n",
        "    lb = self.lower_bounds() + self.tol\n",
        "    ub = self.upper_bounds() - self.tol\n",
        "    return np.multiply(ub - lb, np.random.rand(len(lb))) + lb"
      ],
      "execution_count": 0,
      "outputs": []
    },
    {
      "cell_type": "code",
      "metadata": {
        "id": "RM65p74gOoqM",
        "colab_type": "code",
        "colab": {}
      },
      "source": [
        "class Circle():\n",
        "  def __init__(self, center, name=None, status='healthy', transrate=1.0, recovery_time=10, sim=None, radius=0.05, markersize=5, color='gray', mass=1, velocity=[0, 0], tol=1e-3, visible=True):\n",
        "    assert len(center) == 2, 'Circle must be 2D'\n",
        "    assert np.isscalar(radius), 'Radius must be a scalar'\n",
        "    assert radius >= 0, 'Radius must be non-negative'\n",
        "\n",
        "    self.center = center\n",
        "    self.radius = radius\n",
        "    self.markersize = markersize\n",
        "    self.color = color\n",
        "    self.mass = mass\n",
        "    self.tol = tol\n",
        "    self.name = name\n",
        "    self.transrate = transrate\n",
        "    self.visible = visible\n",
        "    self.infect_time = 0.0\n",
        "    self.recovery_time = recovery_time\n",
        "\n",
        "    #physics model\n",
        "    if not sim: #set simulation engine object\n",
        "      self.sim = pm.Space()\n",
        "    else:\n",
        "      self.sim = sim\n",
        "    \n",
        "    self.intertia = pm.moment_for_circle(self.mass, 0, self.radius, (0, 0))  \n",
        "    self.body = pm.Body(self.mass, self.intertia)      \n",
        "    self.body.velocity = pm.Vec2d(velocity)\n",
        "    self.body.position = self.center\n",
        "    \n",
        "    self.circle = pm.Circle(self.body, self.radius, (0, 0))\n",
        "    self.circle.elasticity = 0.99\n",
        "    self.circle.friction = 0.0\n",
        "    self.sim.add(self.body, self.circle)\n",
        "\n",
        "    self.status = 'healthy'\n",
        "    self.update(status=status)\n",
        "\n",
        "  def update(self, status=None, now=0):\n",
        "    #if infection is starting now, start the infection timer\n",
        "    if (self.status == 'healthy') and (status == 'infected'):\n",
        "      self.infect_time = now\n",
        "    \n",
        "    #if currently infected longer than the recovery time, either recover or die\n",
        "    if (self.status == 'infected') and ((now - self.infect_time) >= self.recovery_time):\n",
        "      if not (status == 'deceased'):\n",
        "        status = 'recovered'\n",
        "    \n",
        "    #if already recovered, cannot get re-infected\n",
        "    if (self.status == 'recovered') and (status == 'infected'):\n",
        "      status = None\n",
        "\n",
        "    if status:\n",
        "      self.status = status\n",
        "      if self.status == 'healthy':\n",
        "        self.color = (0.5, 0.5, 0.5, 0.75)\n",
        "      elif self.status == 'infected':\n",
        "        self.color = (0.9, 0.0, 0.0, 0.75)\n",
        "      elif self.status == 'recovered':\n",
        "        self.color = (0.0, 0.9, 0.0, 0.75)\n",
        "      elif self.status == 'deceased':\n",
        "        self.color = (0.1, 0.1, 0.1, 0.75)\n",
        "        self.visible = False\n",
        "    \n",
        "    if not self.visible:\n",
        "      self.sim.remove(self.circle, self.body)\n",
        "    else:\n",
        "      self.circle.color = self.color\n",
        "    if self.body:  \n",
        "      self.center = self.body.position\n",
        "\n",
        "  def within(self, point):\n",
        "    self.update()\n",
        "\n",
        "    #return whether point is contained within circle (allowing for fuzziness up to self.tol)\n",
        "    assert len(point) == len(self.center), 'Point must have the same dimensionality as Circle'\n",
        "    return np.all(point <= self.upper_bounds() + self.tol) and np.all(point >= self.lower_bounds() - self.tol)\n",
        "  \n",
        "  def interact(self, other, now=0):    \n",
        "    if self.intersect(other.center, tol=other.radius):\n",
        "      if self.status == 'infected':\n",
        "        if np.random.rand() < self.transrate:\n",
        "          other.update(status='infected', now=now)\n",
        "      elif other.status == 'infected':\n",
        "        if np.random.rand() < other.transrate:\n",
        "          self.update(status='infected', now=now)\n",
        "\n",
        "  def intersect(self, point, tol=None):\n",
        "    self.update()\n",
        "\n",
        "    if not tol:\n",
        "      tol = self.tol\n",
        "\n",
        "    #return whether point is contained within circle or near its boundary (allowing for fuzziness up to tol)\n",
        "    dist = np.sqrt(np.sum(np.power(self.center - point, 2)))\n",
        "    return dist <= self.radius + tol"
      ],
      "execution_count": 0,
      "outputs": []
    },
    {
      "cell_type": "code",
      "metadata": {
        "id": "risx75SD5kMw",
        "colab_type": "code",
        "colab": {}
      },
      "source": [
        "def random_velocity(dims):\n",
        "  v = np.random.rand(dims)\n",
        "  signs = (2 * (np.random.rand(dims) > 0.5)) - 1\n",
        "  v[signs] *= -1\n",
        "  v *= velocity_scale\n",
        "  return v.tolist()"
      ],
      "execution_count": 0,
      "outputs": []
    },
    {
      "cell_type": "code",
      "metadata": {
        "id": "NpMwfbtz5m0G",
        "colab_type": "code",
        "colab": {
          "base_uri": "https://localhost:8080/",
          "height": 287
        },
        "outputId": "74df94ea-0694-4505-dff6-b1b9f9f890a1"
      },
      "source": [
        "random_velocity(2)"
      ],
      "execution_count": 2,
      "outputs": [
        {
          "output_type": "error",
          "ename": "NameError",
          "evalue": "ignored",
          "traceback": [
            "\u001b[0;31m---------------------------------------------------------------------------\u001b[0m",
            "\u001b[0;31mNameError\u001b[0m                                 Traceback (most recent call last)",
            "\u001b[0;32m<ipython-input-2-d62b6dec22ff>\u001b[0m in \u001b[0;36m<module>\u001b[0;34m()\u001b[0m\n\u001b[0;32m----> 1\u001b[0;31m \u001b[0mrandom_velocity\u001b[0m\u001b[0;34m(\u001b[0m\u001b[0;36m2\u001b[0m\u001b[0;34m)\u001b[0m\u001b[0;34m\u001b[0m\u001b[0;34m\u001b[0m\u001b[0m\n\u001b[0m",
            "\u001b[0;32m<ipython-input-1-9961842951d0>\u001b[0m in \u001b[0;36mrandom_velocity\u001b[0;34m(dims)\u001b[0m\n\u001b[1;32m      1\u001b[0m \u001b[0;32mdef\u001b[0m \u001b[0mrandom_velocity\u001b[0m\u001b[0;34m(\u001b[0m\u001b[0mdims\u001b[0m\u001b[0;34m)\u001b[0m\u001b[0;34m:\u001b[0m\u001b[0;34m\u001b[0m\u001b[0;34m\u001b[0m\u001b[0m\n\u001b[0;32m----> 2\u001b[0;31m   \u001b[0mv\u001b[0m \u001b[0;34m=\u001b[0m \u001b[0mnp\u001b[0m\u001b[0;34m.\u001b[0m\u001b[0mrandom\u001b[0m\u001b[0;34m.\u001b[0m\u001b[0mrand\u001b[0m\u001b[0;34m(\u001b[0m\u001b[0mdims\u001b[0m\u001b[0;34m)\u001b[0m\u001b[0;34m\u001b[0m\u001b[0;34m\u001b[0m\u001b[0m\n\u001b[0m\u001b[1;32m      3\u001b[0m   \u001b[0msigns\u001b[0m \u001b[0;34m=\u001b[0m \u001b[0;34m(\u001b[0m\u001b[0;36m2\u001b[0m \u001b[0;34m*\u001b[0m \u001b[0;34m(\u001b[0m\u001b[0mnp\u001b[0m\u001b[0;34m.\u001b[0m\u001b[0mrandom\u001b[0m\u001b[0;34m.\u001b[0m\u001b[0mrand\u001b[0m\u001b[0;34m(\u001b[0m\u001b[0mdims\u001b[0m\u001b[0;34m)\u001b[0m \u001b[0;34m>\u001b[0m \u001b[0;36m0.5\u001b[0m\u001b[0;34m)\u001b[0m\u001b[0;34m)\u001b[0m \u001b[0;34m-\u001b[0m \u001b[0;36m1\u001b[0m\u001b[0;34m\u001b[0m\u001b[0;34m\u001b[0m\u001b[0m\n\u001b[1;32m      4\u001b[0m   \u001b[0mv\u001b[0m\u001b[0;34m[\u001b[0m\u001b[0msigns\u001b[0m\u001b[0;34m]\u001b[0m \u001b[0;34m*=\u001b[0m \u001b[0;34m-\u001b[0m\u001b[0;36m1\u001b[0m\u001b[0;34m\u001b[0m\u001b[0;34m\u001b[0m\u001b[0m\n\u001b[1;32m      5\u001b[0m   \u001b[0mv\u001b[0m \u001b[0;34m*=\u001b[0m \u001b[0mvelocity_scale\u001b[0m\u001b[0;34m\u001b[0m\u001b[0;34m\u001b[0m\u001b[0m\n",
            "\u001b[0;31mNameError\u001b[0m: name 'np' is not defined"
          ]
        }
      ]
    },
    {
      "cell_type": "code",
      "metadata": {
        "id": "a6xJifwMxVwz",
        "colab_type": "code",
        "colab": {}
      },
      "source": [
        "class Environment():\n",
        "  def __init__(self, size=5, popsize=250, pinfect=0.05, velocity_scale=1.0, transrate=1.0, dt=0.1):\n",
        "    def random_velocity(dims):\n",
        "      v = np.random.rand(dims)\n",
        "      signs = (2 * (np.random.rand(dims) > 0.5)) - 1\n",
        "      v[signs] *= -1\n",
        "      v *= velocity_scale\n",
        "      return v.tolist()\n",
        "\n",
        "    dims = 2 #fixed at 2D while using pymunk\n",
        "\n",
        "    self.sim = pm.Space()\n",
        "\n",
        "    self.borders = Rectangle(dims*[0], dims*[size], sim=self.sim)\n",
        "    self.size = size\n",
        "    self.dims = dims\n",
        "    self.population = []\n",
        "    for p in range(popsize):\n",
        "      if np.random.rand() < pinfect:\n",
        "        status = 'infected'\n",
        "      else:\n",
        "        status = 'healthy'\n",
        "      \n",
        "      self.population.append(Circle(self.borders.random_point_within(), f'Person {p}', status=status, transrate=transrate, velocity=random_velocity(self.dims), sim=self.sim))\n",
        "    self.dt = dt\n",
        "  \n",
        "  def simulate_interactions(self, now=0):\n",
        "    x = np.vstack([p.center for p in self.population])\n",
        "    collisions = np.where(squareform(pdist(x) <= 2*self.population[0].radius))    \n",
        "\n",
        "    for i in collisions[0]:\n",
        "      for j in collisions[1]:\n",
        "        env.population[i].interact(self.population[j], now=now)\n",
        "  \n",
        "  def update_statuses(self, now=0, return_data=False):\n",
        "    data = []\n",
        "    for p in self.population:\n",
        "      p.update(now=now)\n",
        "      if return_data:\n",
        "        data.append({'t': now,\n",
        "                     'size': p.radius,\n",
        "                     'name': p.name,\n",
        "                     'status': p.status,\n",
        "                     'x': p.center[0],\n",
        "                     'y': p.center[1]})\n",
        "    if return_data:\n",
        "      return data\n",
        "\n",
        "  def run(self, T):\n",
        "    assert np.isscalar(T) and (T > 0), 'T must be a positive scalar'            \n",
        "\n",
        "    data = []\n",
        "    shapes = []\n",
        "    for t in np.arange(0, T, self.dt):\n",
        "      self.sim.step(self.dt)\n",
        "      self.simulate_interactions(now=t)\n",
        "      data.extend(self.update_statuses(return_data=True, now=t))\n",
        "    return pd.DataFrame(data)\n",
        "  \n",
        "  def draw(self, fig=None, animate=False, ax=None):\n",
        "    if not fig:\n",
        "      fig = plt.figure(figsize=(self.size, self.size))\n",
        "\n",
        "    if not ax:\n",
        "      ax = plt.axes(xlim=[0, self.size], ylim=[0, self.size])\n",
        "      ax.set_aspect('equal')\n",
        "    opts = mpl_util.DrawOptions(ax)\n",
        "    opts.collision_point_color = (0, 0, 0, 0)\n",
        "    \n",
        "    self.sim.debug_draw(opts)\n",
        "\n",
        "    if not animate:\n",
        "      return fig\n",
        "    else:\n",
        "      return fig.get_children()[1].get_children()\n",
        "    return fig\n",
        "  \n",
        "  def animate(self, T, fig=None):\n",
        "    if not fig:\n",
        "      fig = plt.figure(figsize=(self.size, self.size))\n",
        "    ax = plt.axes(xlim=[0, self.size], ylim=[0, self.size])\n",
        "    ax.set_aspect('equal')\n",
        "\n",
        "    assert np.isscalar(T) and (T > 0), 'T must be a positive scalar'\n",
        "    def init():\n",
        "      self.simulate_interactions()\n",
        "      ax.clear()\n",
        "      return []\n",
        "    \n",
        "    def get_frame(t):\n",
        "      self.sim.step(self.dt)\n",
        "      self.simulate_interactions(now=t)\n",
        "      env.update_statuses(now=t)\n",
        "\n",
        "      ax.clear()\n",
        "      ax.set_xlim([0, self.size])\n",
        "      ax.set_ylim([0, self.size])\n",
        "      ax.set_aspect('equal')\n",
        "      return self.draw(fig=fig, animate=True, ax=ax)\n",
        "    \n",
        "    ts = np.arange(0, T, self.dt)\n",
        "    return animation.FuncAnimation(fig, get_frame, interval=20, frames=ts, blit=True)"
      ],
      "execution_count": 0,
      "outputs": []
    },
    {
      "cell_type": "code",
      "metadata": {
        "id": "H27Shh-yTS59",
        "colab_type": "code",
        "colab": {}
      },
      "source": [
        "env = Environment();"
      ],
      "execution_count": 0,
      "outputs": []
    },
    {
      "cell_type": "code",
      "metadata": {
        "id": "mDs8PI0_4JZH",
        "colab_type": "code",
        "colab": {}
      },
      "source": [
        "anim = env.animate(20)\n",
        "rc('animation', html='jshtml')\n",
        "anim"
      ],
      "execution_count": 0,
      "outputs": []
    },
    {
      "cell_type": "code",
      "metadata": {
        "id": "WcLlnGQ9ubr2",
        "colab_type": "code",
        "colab": {}
      },
      "source": [
        "#baseline simulation\n",
        "env = Environment(pinfect=0.05); #reset environment\n",
        "df = env.run(50)"
      ],
      "execution_count": 0,
      "outputs": []
    },
    {
      "cell_type": "code",
      "metadata": {
        "id": "sVCTTpPjuyYE",
        "colab_type": "code",
        "colab": {}
      },
      "source": [
        "df.head()"
      ],
      "execution_count": 0,
      "outputs": []
    },
    {
      "cell_type": "code",
      "metadata": {
        "id": "6uHpSPRcxwIZ",
        "colab_type": "code",
        "colab": {}
      },
      "source": [
        "fig = px.histogram(df, x='t', color='status', barnorm='percent', category_orders={'status': ['infected', 'healthy', 'recovered', 'deceased']}, color_discrete_sequence=['#EF553B', '#636EFA', '#00CC96'])\n",
        "fig.layout['yaxis']['title']['text'] = 'Percent'\n",
        "fig.layout['xaxis']['title']['text'] = 'Simulation time (AU)'\n",
        "fig"
      ],
      "execution_count": 0,
      "outputs": []
    },
    {
      "cell_type": "code",
      "metadata": {
        "id": "18-nuUAw6LwB",
        "colab_type": "code",
        "colab": {}
      },
      "source": [
        ""
      ],
      "execution_count": 0,
      "outputs": []
    }
  ]
}