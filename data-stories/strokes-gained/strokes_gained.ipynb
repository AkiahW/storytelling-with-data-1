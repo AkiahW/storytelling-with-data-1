{
  "nbformat": 4,
  "nbformat_minor": 0,
  "metadata": {
    "kernelspec": {
      "display_name": "Psych 81.09",
      "language": "python",
      "name": "psych81.09"
    },
    "language_info": {
      "codemirror_mode": {
        "name": "ipython",
        "version": 3
      },
      "file_extension": ".py",
      "mimetype": "text/x-python",
      "name": "python",
      "nbconvert_exporter": "python",
      "pygments_lexer": "ipython3",
      "version": "3.6.8"
    },
    "colab": {
      "name": "strokes_gained.ipynb",
      "provenance": [],
      "include_colab_link": true
    }
  },
  "cells": [
    {
      "cell_type": "markdown",
      "metadata": {
        "id": "view-in-github",
        "colab_type": "text"
      },
      "source": [
        "<a href=\"https://colab.research.google.com/github/scottstuart11/strokes-gained/blob/master/strokes_gained.ipynb\" target=\"_parent\"><img src=\"https://colab.research.google.com/assets/colab-badge.svg\" alt=\"Open In Colab\"/></a>"
      ]
    },
    {
      "cell_type": "markdown",
      "metadata": {
        "id": "uZ8S_ZIBMMpI",
        "colab_type": "text"
      },
      "source": [
        "# Setup\n",
        "\n",
        "This demonstration notebook provides a suggested set of libraries that you might find useful in crafting your data stories.  You should comment out or delete libraries that you don't use in your analysis."
      ]
    },
    {
      "cell_type": "code",
      "metadata": {
        "id": "i5X225WPGwDo",
        "colab_type": "code",
        "outputId": "0c03d075-03b9-4190-f4c8-0aa735fda68b",
        "colab": {
          "base_uri": "https://localhost:8080/",
          "height": 71
        }
      },
      "source": [
        "#number crunching\n",
        "import numpy as np\n",
        "import pandas as pd\n",
        "\n",
        "#data visualization\n",
        "import seaborn as sns"
      ],
      "execution_count": 1,
      "outputs": [
        {
          "output_type": "stream",
          "text": [
            "/usr/local/lib/python3.6/dist-packages/statsmodels/tools/_testing.py:19: FutureWarning: pandas.util.testing is deprecated. Use the functions in the public API at pandas.testing instead.\n",
            "  import pandas.util.testing as tm\n"
          ],
          "name": "stderr"
        }
      ]
    },
    {
      "cell_type": "markdown",
      "metadata": {
        "id": "cXsl_Ks2NVf8",
        "colab_type": "text"
      },
      "source": [
        "# Project team\n",
        "\n",
        "Scott Stuart and Franklin Goldszer\n",
        "# Background and overview\n",
        "\n",
        "Our motivation was due to the fact that we are both golf enthusiasts and were interested in how data can show itself in the sport in a similair fashion to that which we saw with money ball.\n",
        "\n",
        "# Approach\n",
        "\n",
        "We will be considering the correlation between tournament money one by players and various metrics relating to their drive distance from the tee. \n",
        "\n",
        "# Quick summary\n",
        "\n",
        "We saw that there was a positive correlation between average drive dstance and tournament money won and converesely a negative correlation between distance to tee after first drive and tournament money won.\n",
        "\n"
      ]
    },
    {
      "cell_type": "markdown",
      "metadata": {
        "id": "XHvFYl-aOHpN",
        "colab_type": "text"
      },
      "source": [
        "# Data\n",
        "\n",
        "Briefly describe your dataset(s), including links to original sources.  Provide any relevant background information specific to your data sources."
      ]
    },
    {
      "cell_type": "code",
      "metadata": {
        "id": "pMalPJ-XMuVh",
        "colab_type": "code",
        "outputId": "d04d884b-67b7-44ac-b2fc-29678ea7a5b5",
        "colab": {
          "base_uri": "https://localhost:8080/",
          "height": 419
        }
      },
      "source": [
        "# Provide code for downloading or importing your data here\n",
        "# Load CSV file data into a dataframe.\n",
        "# We put the data on my local github for ease of upload:\n",
        "dataset = pd.read_csv('https://raw.githubusercontent.com/scottstuart11/strokes-gained/master/Final_Data.csv')\n",
        "dataset"
      ],
      "execution_count": 2,
      "outputs": [
        {
          "output_type": "execute_result",
          "data": {
            "text/html": [
              "<div>\n",
              "<style scoped>\n",
              "    .dataframe tbody tr th:only-of-type {\n",
              "        vertical-align: middle;\n",
              "    }\n",
              "\n",
              "    .dataframe tbody tr th {\n",
              "        vertical-align: top;\n",
              "    }\n",
              "\n",
              "    .dataframe thead th {\n",
              "        text-align: right;\n",
              "    }\n",
              "</style>\n",
              "<table border=\"1\" class=\"dataframe\">\n",
              "  <thead>\n",
              "    <tr style=\"text-align: right;\">\n",
              "      <th></th>\n",
              "      <th>Player Name</th>\n",
              "      <th>Season</th>\n",
              "      <th>Statistic</th>\n",
              "      <th>Variable</th>\n",
              "      <th>Value</th>\n",
              "    </tr>\n",
              "  </thead>\n",
              "  <tbody>\n",
              "    <tr>\n",
              "      <th>0</th>\n",
              "      <td>Ernie Els</td>\n",
              "      <td>2010</td>\n",
              "      <td>Total Money (Official and Unofficial)</td>\n",
              "      <td>Total Money (Official and Unofficial) - (MONEY)</td>\n",
              "      <td>5,652,075</td>\n",
              "    </tr>\n",
              "    <tr>\n",
              "      <th>1</th>\n",
              "      <td>Dustin Johnson</td>\n",
              "      <td>2010</td>\n",
              "      <td>Total Money (Official and Unofficial)</td>\n",
              "      <td>Total Money (Official and Unofficial) - (MONEY)</td>\n",
              "      <td>5,280,289</td>\n",
              "    </tr>\n",
              "    <tr>\n",
              "      <th>2</th>\n",
              "      <td>Matt Kuchar</td>\n",
              "      <td>2010</td>\n",
              "      <td>Total Money (Official and Unofficial)</td>\n",
              "      <td>Total Money (Official and Unofficial) - (MONEY)</td>\n",
              "      <td>5,180,477</td>\n",
              "    </tr>\n",
              "    <tr>\n",
              "      <th>3</th>\n",
              "      <td>Jim Furyk</td>\n",
              "      <td>2010</td>\n",
              "      <td>Total Money (Official and Unofficial)</td>\n",
              "      <td>Total Money (Official and Unofficial) - (MONEY)</td>\n",
              "      <td>4,984,622</td>\n",
              "    </tr>\n",
              "    <tr>\n",
              "      <th>4</th>\n",
              "      <td>Luke Donald</td>\n",
              "      <td>2010</td>\n",
              "      <td>Total Money (Official and Unofficial)</td>\n",
              "      <td>Total Money (Official and Unofficial) - (MONEY)</td>\n",
              "      <td>4,630,734</td>\n",
              "    </tr>\n",
              "    <tr>\n",
              "      <th>...</th>\n",
              "      <td>...</td>\n",
              "      <td>...</td>\n",
              "      <td>...</td>\n",
              "      <td>...</td>\n",
              "      <td>...</td>\n",
              "    </tr>\n",
              "    <tr>\n",
              "      <th>2826</th>\n",
              "      <td>David Duval</td>\n",
              "      <td>2013</td>\n",
              "      <td>Total Money (Official and Unofficial)</td>\n",
              "      <td>Total Money (Official and Unofficial) - (MONEY)</td>\n",
              "      <td>$6,210</td>\n",
              "    </tr>\n",
              "    <tr>\n",
              "      <th>2827</th>\n",
              "      <td>Kevin Kisner</td>\n",
              "      <td>2013</td>\n",
              "      <td>Total Money (Official and Unofficial)</td>\n",
              "      <td>Total Money (Official and Unofficial) - (MONEY)</td>\n",
              "      <td>$6,180</td>\n",
              "    </tr>\n",
              "    <tr>\n",
              "      <th>2828</th>\n",
              "      <td>Scott McCarron</td>\n",
              "      <td>2013</td>\n",
              "      <td>Total Money (Official and Unofficial)</td>\n",
              "      <td>Total Money (Official and Unofficial) - (MONEY)</td>\n",
              "      <td>$6,060</td>\n",
              "    </tr>\n",
              "    <tr>\n",
              "      <th>2829</th>\n",
              "      <td>Andrew Johnson</td>\n",
              "      <td>2013</td>\n",
              "      <td>Total Money (Official and Unofficial)</td>\n",
              "      <td>Total Money (Official and Unofficial) - (MONEY)</td>\n",
              "      <td>$5,850</td>\n",
              "    </tr>\n",
              "    <tr>\n",
              "      <th>2830</th>\n",
              "      <td>Frank Lickliter II</td>\n",
              "      <td>2013</td>\n",
              "      <td>Total Money (Official and Unofficial)</td>\n",
              "      <td>Total Money (Official and Unofficial) - (MONEY)</td>\n",
              "      <td>$5,730</td>\n",
              "    </tr>\n",
              "  </tbody>\n",
              "</table>\n",
              "<p>2831 rows × 5 columns</p>\n",
              "</div>"
            ],
            "text/plain": [
              "             Player Name  ...      Value\n",
              "0              Ernie Els  ...  5,652,075\n",
              "1         Dustin Johnson  ...  5,280,289\n",
              "2            Matt Kuchar  ...  5,180,477\n",
              "3              Jim Furyk  ...  4,984,622\n",
              "4            Luke Donald  ...  4,630,734\n",
              "...                  ...  ...        ...\n",
              "2826         David Duval  ...    $6,210 \n",
              "2827        Kevin Kisner  ...    $6,180 \n",
              "2828      Scott McCarron  ...    $6,060 \n",
              "2829      Andrew Johnson  ...    $5,850 \n",
              "2830  Frank Lickliter II  ...    $5,730 \n",
              "\n",
              "[2831 rows x 5 columns]"
            ]
          },
          "metadata": {
            "tags": []
          },
          "execution_count": 2
        }
      ]
    },
    {
      "cell_type": "markdown",
      "metadata": {
        "id": "2hpbjrd8Ofpa",
        "colab_type": "text"
      },
      "source": [
        "# Analysis\n",
        "\n",
        "Briefly describe each step of your analysis, followed by the code implementing that part of the analysis and/or producing the relevant figures.  (Copy this text block and the following code block as many times as are needed.)"
      ]
    },
    {
      "cell_type": "markdown",
      "metadata": {
        "id": "GMsSRDptSS-g",
        "colab_type": "text"
      },
      "source": [
        ""
      ]
    },
    {
      "cell_type": "code",
      "metadata": {
        "id": "4m3i6KItOypO",
        "colab_type": "code",
        "outputId": "76ab62fd-9762-4f77-b494-5962bab8a74b",
        "colab": {
          "base_uri": "https://localhost:8080/",
          "height": 204
        }
      },
      "source": [
        "\n",
        "# Transpose the data so that the rows relating to features are their own columns (those features being Distance to hole, Averade Drive Distance, and Money) now have their own columns \n",
        "df = dataset.set_index(['Player Name', 'Variable', 'Season'])['Value'].unstack('Variable').reset_index()\n",
        "\n",
        "df.rename(columns = {'Total Money (Official and Unofficial) - (MONEY)':'Money (Millions)', 'Average Distance to Hole After Tee Shot - (AVG)':'Distance to Hole (Yards)', 'Total Distance Efficiency - (AVERAGE DISTANCE (YARDS))':'Average Drive Distance (Yards)'}, inplace = True)\n",
        "\n",
        "df.head()\n"
      ],
      "execution_count": 8,
      "outputs": [
        {
          "output_type": "execute_result",
          "data": {
            "text/html": [
              "<div>\n",
              "<style scoped>\n",
              "    .dataframe tbody tr th:only-of-type {\n",
              "        vertical-align: middle;\n",
              "    }\n",
              "\n",
              "    .dataframe tbody tr th {\n",
              "        vertical-align: top;\n",
              "    }\n",
              "\n",
              "    .dataframe thead th {\n",
              "        text-align: right;\n",
              "    }\n",
              "</style>\n",
              "<table border=\"1\" class=\"dataframe\">\n",
              "  <thead>\n",
              "    <tr style=\"text-align: right;\">\n",
              "      <th>Variable</th>\n",
              "      <th>Player Name</th>\n",
              "      <th>Season</th>\n",
              "      <th>Distance to Hole (Yards)</th>\n",
              "      <th>Average Drive Distance (Yards)</th>\n",
              "      <th>Money (Millions)</th>\n",
              "    </tr>\n",
              "  </thead>\n",
              "  <tbody>\n",
              "    <tr>\n",
              "      <th>0</th>\n",
              "      <td>Aaron Baddeley</td>\n",
              "      <td>2010</td>\n",
              "      <td>166.1</td>\n",
              "      <td>300.441</td>\n",
              "      <td>879,317</td>\n",
              "    </tr>\n",
              "    <tr>\n",
              "      <th>1</th>\n",
              "      <td>Aaron Baddeley</td>\n",
              "      <td>2011</td>\n",
              "      <td>168.4</td>\n",
              "      <td>298.89</td>\n",
              "      <td>$3,157,193</td>\n",
              "    </tr>\n",
              "    <tr>\n",
              "      <th>2</th>\n",
              "      <td>Aaron Baddeley</td>\n",
              "      <td>2012</td>\n",
              "      <td>169.4</td>\n",
              "      <td>306.011</td>\n",
              "      <td>$1,215,753</td>\n",
              "    </tr>\n",
              "    <tr>\n",
              "      <th>3</th>\n",
              "      <td>Aaron Baddeley</td>\n",
              "      <td>2013</td>\n",
              "      <td>NaN</td>\n",
              "      <td>NaN</td>\n",
              "      <td>$721,024</td>\n",
              "    </tr>\n",
              "    <tr>\n",
              "      <th>4</th>\n",
              "      <td>Aaron Goldberg</td>\n",
              "      <td>2010</td>\n",
              "      <td>NaN</td>\n",
              "      <td>NaN</td>\n",
              "      <td>10,615</td>\n",
              "    </tr>\n",
              "  </tbody>\n",
              "</table>\n",
              "</div>"
            ],
            "text/plain": [
              "Variable     Player Name  ...  Money (Millions)\n",
              "0         Aaron Baddeley  ...           879,317\n",
              "1         Aaron Baddeley  ...       $3,157,193 \n",
              "2         Aaron Baddeley  ...       $1,215,753 \n",
              "3         Aaron Baddeley  ...         $721,024 \n",
              "4         Aaron Goldberg  ...            10,615\n",
              "\n",
              "[5 rows x 5 columns]"
            ]
          },
          "metadata": {
            "tags": []
          },
          "execution_count": 8
        }
      ]
    },
    {
      "cell_type": "code",
      "metadata": {
        "id": "gPhzQpUYGzPt",
        "colab_type": "code",
        "outputId": "e8d24140-362b-4599-9068-4ab65fcbf38d",
        "colab": {
          "base_uri": "https://localhost:8080/",
          "height": 204
        }
      },
      "source": [
        "# Gets rid of commas and dollar signs in the money values so they can then be made into numbers \n",
        "# for graph presentation\n",
        "def remove_and_convert(chars_to_remove, feature, df):\n",
        "  for feat in df.columns[2:]: # for each feature\n",
        "    if(feat == feature):        # if it matches with the variable feature (money)\n",
        "      for char in chars_to_remove:   # for each of the characters to remove\n",
        "        df[feature] = df[feature].str.replace(char, '') #replace the character with nothing\n",
        "    df[feat] = df[feat].astype(float) # turn the values into floats\n",
        "  return df\n",
        "\n",
        "df = remove_and_convert([\"$\", \",\"], \"Money (Millions)\", df)\n",
        "\n",
        "df.head()"
      ],
      "execution_count": 10,
      "outputs": [
        {
          "output_type": "execute_result",
          "data": {
            "text/html": [
              "<div>\n",
              "<style scoped>\n",
              "    .dataframe tbody tr th:only-of-type {\n",
              "        vertical-align: middle;\n",
              "    }\n",
              "\n",
              "    .dataframe tbody tr th {\n",
              "        vertical-align: top;\n",
              "    }\n",
              "\n",
              "    .dataframe thead th {\n",
              "        text-align: right;\n",
              "    }\n",
              "</style>\n",
              "<table border=\"1\" class=\"dataframe\">\n",
              "  <thead>\n",
              "    <tr style=\"text-align: right;\">\n",
              "      <th>Variable</th>\n",
              "      <th>Player Name</th>\n",
              "      <th>Season</th>\n",
              "      <th>Distance to Hole (Yards)</th>\n",
              "      <th>Average Drive Distance (Yards)</th>\n",
              "      <th>Money (Millions)</th>\n",
              "    </tr>\n",
              "  </thead>\n",
              "  <tbody>\n",
              "    <tr>\n",
              "      <th>0</th>\n",
              "      <td>Aaron Baddeley</td>\n",
              "      <td>2010</td>\n",
              "      <td>166.1</td>\n",
              "      <td>300.441</td>\n",
              "      <td>879317.0</td>\n",
              "    </tr>\n",
              "    <tr>\n",
              "      <th>1</th>\n",
              "      <td>Aaron Baddeley</td>\n",
              "      <td>2011</td>\n",
              "      <td>168.4</td>\n",
              "      <td>298.890</td>\n",
              "      <td>3157193.0</td>\n",
              "    </tr>\n",
              "    <tr>\n",
              "      <th>2</th>\n",
              "      <td>Aaron Baddeley</td>\n",
              "      <td>2012</td>\n",
              "      <td>169.4</td>\n",
              "      <td>306.011</td>\n",
              "      <td>1215753.0</td>\n",
              "    </tr>\n",
              "    <tr>\n",
              "      <th>3</th>\n",
              "      <td>Aaron Baddeley</td>\n",
              "      <td>2013</td>\n",
              "      <td>NaN</td>\n",
              "      <td>NaN</td>\n",
              "      <td>721024.0</td>\n",
              "    </tr>\n",
              "    <tr>\n",
              "      <th>4</th>\n",
              "      <td>Aaron Goldberg</td>\n",
              "      <td>2010</td>\n",
              "      <td>NaN</td>\n",
              "      <td>NaN</td>\n",
              "      <td>10615.0</td>\n",
              "    </tr>\n",
              "  </tbody>\n",
              "</table>\n",
              "</div>"
            ],
            "text/plain": [
              "Variable     Player Name  ...  Money (Millions)\n",
              "0         Aaron Baddeley  ...          879317.0\n",
              "1         Aaron Baddeley  ...         3157193.0\n",
              "2         Aaron Baddeley  ...         1215753.0\n",
              "3         Aaron Baddeley  ...          721024.0\n",
              "4         Aaron Goldberg  ...           10615.0\n",
              "\n",
              "[5 rows x 5 columns]"
            ]
          },
          "metadata": {
            "tags": []
          },
          "execution_count": 10
        }
      ]
    },
    {
      "cell_type": "code",
      "metadata": {
        "id": "fX8NgBYaHhL9",
        "colab_type": "code",
        "outputId": "c08a4777-85ef-499c-9d04-b96ecbf3d2bb",
        "colab": {
          "base_uri": "https://localhost:8080/",
          "height": 441
        }
      },
      "source": [
        "# https://seaborn.pydata.org/generated/seaborn.regplot.html\n",
        "# Each dot is a player-season, initially was using reg plot with the line below:\n",
        "# sns.regplot(x=\"Average Drive Distance\", y=\"Money\", data=df, color = 'Green')\n",
        "\n",
        "# But found this one on stack overflow: https://stackoverflow.com/questions/31568874/how-to-change-the-line-color-in-seaborn-linear-regression-jointplot\n",
        "\n",
        "g = sns.jointplot(x=\"Average Drive Distance (Yards)\", y=\"Money (Millions)\", data=df, kind='reg',joint_kws={'line_kws':{'color':'cyan'}})\n",
        "# plt.ticklabel_format(style='plain', axis='both', useOffset=False)\n"
      ],
      "execution_count": 11,
      "outputs": [
        {
          "output_type": "display_data",
          "data": {
            "image/png": "[encoded data removed]",
            "text/plain": [
              "<Figure size 432x432 with 3 Axes>"
            ]
          },
          "metadata": {
            "tags": [],
            "needs_background": "light"
          }
        }
      ]
    },
    {
      "cell_type": "code",
      "metadata": {
        "id": "UzshZ37kIQ58",
        "colab_type": "code",
        "outputId": "ed37da7e-2c65-4a1a-bc2a-7de77842e78d",
        "colab": {
          "base_uri": "https://localhost:8080/",
          "height": 441
        }
      },
      "source": [
        "g = sns.jointplot(x=\"Distance to Hole (Yards)\", y=\"Money (Millions)\", data=df, kind='reg', joint_kws={'line_kws':{'color':'cyan'}})"
      ],
      "execution_count": 12,
      "outputs": [
        {
          "output_type": "display_data",
          "data": {
            "image/png": "[encoded data removed]",
            "text/plain": [
              "<Figure size 432x432 with 3 Axes>"
            ]
          },
          "metadata": {
            "tags": [],
            "needs_background": "light"
          }
        }
      ]
    },
    {
      "cell_type": "code",
      "metadata": {
        "id": "xYnAJc-lI1f_",
        "colab_type": "code",
        "colab": {}
      },
      "source": [
        "# sns.boxplot(x=\"Season\", y=\"Average Drive Distance\", data=df);"
      ],
      "execution_count": 0,
      "outputs": []
    },
    {
      "cell_type": "markdown",
      "metadata": {
        "id": "HkYVN71FPIXE",
        "colab_type": "text"
      },
      "source": [
        "# Interpretations and conclusions\n",
        "\n",
        "According to strokes gained, distance and accuracy of the drive is the biggest predictor of success for a golfer which is what our data showed as well.\n",
        "\n",
        "# Future directions\n",
        "\n",
        "Could consider short game metrics such as chipping and putting and see how performance here predicts succcess in tournaments. "
      ]
    },
    {
      "cell_type": "code",
      "metadata": {
        "id": "oKZ5ChwVHSpH",
        "colab_type": "code",
        "colab": {}
      },
      "source": [
        ""
      ],
      "execution_count": 0,
      "outputs": []
    }
  ]
}