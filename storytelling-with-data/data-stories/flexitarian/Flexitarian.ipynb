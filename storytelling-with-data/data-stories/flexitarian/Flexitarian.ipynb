{
  "nbformat": 4,
  "nbformat_minor": 0,
  "metadata": {
    "colab": {
      "name": "Flexitarian.ipynb",
      "provenance": [],
      "collapsed_sections": [
        "46FTplGlgLsF",
        "ucemlpPFfbC_"
      ],
      "authorship_tag": "ABX9TyM5JK/kNYj1MEna3TpNXZFE",
      "include_colab_link": true
    },
    "kernelspec": {
      "name": "python3",
      "display_name": "Python 3"
    },
    "language_info": {
      "name": "python"
    }
  },
  "cells": [
    {
      "cell_type": "markdown",
      "metadata": {
        "id": "view-in-github",
        "colab_type": "text"
      },
      "source": [
        "<a href=\"https://colab.research.google.com/github/ishaliu/storytelling-with-data/blob/master/storytelling-with-data/data-stories/flexitarian/Flexitarian.ipynb\" target=\"_parent\"><img src=\"https://colab.research.google.com/assets/colab-badge.svg\" alt=\"Open In Colab\"/></a>"
      ]
    },
    {
      "cell_type": "markdown",
      "metadata": {
        "id": "Lcly_lSwdRXs"
      },
      "source": [
        "# Setup"
      ]
    },
    {
      "cell_type": "code",
      "metadata": {
        "id": "mw6GCUUCdDIg"
      },
      "source": [
        "# Import statements for relevant libraries\n",
        "import numpy as np\n",
        "import pandas as pd\n",
        "import plotnine as pn\n",
        "import csv\n",
        "import plotly\n",
        "import matplotlib.pyplot as plt\n",
        "import plotly.express as px\n",
        "import plotly.graph_objects as go\n",
        "import plotly.figure_factory as ff\n",
        "import seaborn as sns\n",
        "import bokeh as bk\n",
        "from matplotlib import pyplot as plt"
      ],
      "execution_count": null,
      "outputs": []
    },
    {
      "cell_type": "markdown",
      "metadata": {
        "id": "3Sa_KC6cfFNa"
      },
      "source": [
        "Upload Files:\n",
        "*   projected_emissions.csv\n",
        "*   MeatSurvey.csv\n",
        "*   2019USCitiesIndexResults.csv\n",
        "*   Food_Production.csv\n",
        "*   google.csv\n",
        "*   milk.csv\n"
      ]
    },
    {
      "cell_type": "code",
      "metadata": {
        "id": "oMOvu4WgdtdR"
      },
      "source": [
        "from google.colab import files\n",
        "files.upload()"
      ],
      "execution_count": null,
      "outputs": []
    },
    {
      "cell_type": "markdown",
      "metadata": {
        "id": "cvF17C6hdmIa"
      },
      "source": [
        "# Keara's Code\n"
      ]
    },
    {
      "cell_type": "markdown",
      "metadata": {
        "id": "6F-35z8fh5Rl"
      },
      "source": [
        "## Data"
      ]
    },
    {
      "cell_type": "markdown",
      "metadata": {
        "id": "-wTfP_lTduIG"
      },
      "source": [
        "###Projected Emissions"
      ]
    },
    {
      "cell_type": "code",
      "metadata": {
        "id": "N2pJfY0DeIA5"
      },
      "source": [
        "# Source: https://www.statista.com/statistics/263980/forecast-of-global-carbon-dioxide-emissions/\n",
        "projected = pd.read_csv('/content/projected_emissions.csv')\n",
        "projected"
      ],
      "execution_count": null,
      "outputs": []
    },
    {
      "cell_type": "code",
      "metadata": {
        "id": "3n74Rs2CeJjy"
      },
      "source": [
        "projected = projected.drop(0)\n",
        "projected = projected.drop(1)\n",
        "projected = projected.drop(2)\n",
        "projected = projected.rename(columns={'Unnamed: 1': 'Emissions'})\n",
        "projected = projected.rename(columns={'Global CO2 emissions 2018-2050': 'Year'})\n",
        "projected['Year'] = [2020, 2025, 2030, 2035, 2040, 2045, 2050]"
      ],
      "execution_count": null,
      "outputs": []
    },
    {
      "cell_type": "code",
      "metadata": {
        "id": "kONjhPkteSS7"
      },
      "source": [
        "#should probably not use this bc combining the datasets made things conflict\n",
        "projected['Year']=projected['Year'].astype(int)\n",
        "emissions2['Year']=emissions2['Year'].astype(int)\n",
        "projected['Emissions']=projected['Emissions'].astype(float)\n",
        "emissions2['Emissions']=emissions2['Emissions'].astype(float)\n",
        "merged = projected.merge(emissions2, how='outer')\n",
        "merged = merged.sort_values(by = 'Year')\n",
        "merged"
      ],
      "execution_count": null,
      "outputs": []
    },
    {
      "cell_type": "markdown",
      "metadata": {
        "id": "JTOooVTkeijK"
      },
      "source": [
        "###Vegan/Vegetarian Emissions"
      ]
    },
    {
      "cell_type": "markdown",
      "metadata": {
        "id": "rvBpuG04eo9X"
      },
      "source": [
        "Multiple vegetarian news sources cite that 2.7% of the world is vegan and 11.3% of the world is vegetarian.\n",
        "\n",
        "https://wtvox.com/lifestyle/2019-the-world-of-vegan-but-how-many-vegans-are-in-the-world/\n",
        "https://www.futurekind.com/blogs/vegan/vegan-statistics\n",
        "\n",
        "We will run on an assumption that this is true despite a lack of formal literature."
      ]
    },
    {
      "cell_type": "markdown",
      "metadata": {
        "id": "4bX9bAFaepug"
      },
      "source": [
        "A peer reviewed study by Scarborough et al. in *Climatic Change* found that medium meat eaters produce 5.63 kg of dietary CO2 equivalent per day, whereas vegetarians produce 3.81 kg and vegans produce 2.89 kg.\n",
        "https://link.springer.com/article/10.1007/s10584-014-1169-1"
      ]
    },
    {
      "cell_type": "code",
      "metadata": {
        "id": "xeJHn_vgelLs"
      },
      "source": [
        "world_pop = 7900000000\n",
        "meat_eaters = world_pop*.86\n",
        "vegans = world_pop*.027\n",
        "vegetarians = world_pop*.113"
      ],
      "execution_count": null,
      "outputs": []
    },
    {
      "cell_type": "code",
      "metadata": {
        "id": "PBiaqn2uetq9"
      },
      "source": [
        "veggie_monday = meat_eaters*(1.82)*52*0.00110231/1000000000\n",
        "vegan_monday = meat_eaters*(2.74)*52*0.00110231/1000000000"
      ],
      "execution_count": null,
      "outputs": []
    },
    {
      "cell_type": "code",
      "metadata": {
        "id": "kBAq3kPNevxH"
      },
      "source": [
        "fully_veggie = meat_eaters*(1.82)*365*0.00110231/1000000000\n",
        "fully_vegan = meat_eaters*(2.74)*365*0.00110231/1000000000"
      ],
      "execution_count": null,
      "outputs": []
    },
    {
      "cell_type": "code",
      "metadata": {
        "id": "1jl2iZiMex4b"
      },
      "source": [
        "projected['Emissions']\n",
        "projected['Meatless Monday'] = (projected['Emissions'] - veggie_monday)\n",
        "projected['Vegan Monday'] = (projected['Emissions'] - vegan_monday)\n",
        "projected['Fully Meatless'] = (projected['Emissions'] - fully_veggie)\n",
        "projected['Fully Vegan'] = (projected['Emissions'] - fully_vegan)"
      ],
      "execution_count": null,
      "outputs": []
    },
    {
      "cell_type": "code",
      "metadata": {
        "id": "8D-alAvqmfbx"
      },
      "source": [
        "projected"
      ],
      "execution_count": null,
      "outputs": []
    },
    {
      "cell_type": "code",
      "metadata": {
        "id": "e2L7mnvHe1l_"
      },
      "source": [
        "data = [['High Meat', 7.19], ['Medium Meat', 5.63], ['Low Meat', 4.67],['Vegetarian', 3.81], ['Vegan', 2.89]]\n",
        "food_emissions = pd.DataFrame(data, columns=['Diet', 'Emissions'])"
      ],
      "execution_count": null,
      "outputs": []
    },
    {
      "cell_type": "markdown",
      "metadata": {
        "id": "wopUP5r3iX0K"
      },
      "source": [
        "## Visualizations"
      ]
    },
    {
      "cell_type": "code",
      "metadata": {
        "id": "0Fhaw_7viZIU"
      },
      "source": [
        "fig, ax1 = plt.subplots(figsize=(10,8))\n",
        "\n",
        "#palette = sns.diverging_palette(145, 300, s=60, as_cmap=True)\n",
        "ax1 = sns.barplot(x='Diet', y='Emissions', data = food_emissions, palette='Set2')\n",
        "ax1.set_title('Individual Daily Dietary Emissions', fontsize=16)\n",
        "ax1.set_ylabel('CO2 Equivalent (Kg)', fontsize=14)\n",
        "ax1.set_xlabel('Diet', fontsize=14)\n",
        "\n",
        "plt.show()"
      ],
      "execution_count": null,
      "outputs": []
    },
    {
      "cell_type": "code",
      "metadata": {
        "id": "NXLhrOGpieut"
      },
      "source": [
        "fig, ax1 = plt.subplots(figsize=(10,8))\n",
        "sns.lineplot(x='Year', y='Emissions', data=projected)\n",
        "sns.lineplot(x='Year', y='Meatless Monday', data=projected)\n",
        "sns.lineplot(x='Year', y='Vegan Monday', data=projected)\n",
        "sns.lineplot(x='Year', y='Fully Meatless', data=projected)\n",
        "sns.lineplot(x='Year', y='Fully Vegan', data=projected)\n",
        "plt.ylabel('CO2 Equivalent (Billion Metric Tons)', fontsize=14);\n",
        "plt.xlabel('Year', fontsize=14)\n",
        "plt.title('Worldwide Projected Total Emissions', fontsize=16);\n",
        "plt.legend(labels=['No Change', 'Meatless Monday', 'Vegan Monday', 'Fully Meatless', 'Fully Vegan'], fontsize=12);"
      ],
      "execution_count": null,
      "outputs": []
    },
    {
      "cell_type": "markdown",
      "metadata": {
        "id": "q5eefyMpiSZ-"
      },
      "source": [
        "# Isha's Code"
      ]
    },
    {
      "cell_type": "markdown",
      "metadata": {
        "id": "uiWyqCDsiETj"
      },
      "source": [
        "## Data"
      ]
    },
    {
      "cell_type": "markdown",
      "metadata": {
        "id": "46FTplGlgLsF"
      },
      "source": [
        "###Sustainable Cities"
      ]
    },
    {
      "cell_type": "code",
      "metadata": {
        "id": "niblGJx_gPpr"
      },
      "source": [
        "# Source: 2019 Sustainable Development report - https://www.sustainabledevelopment.report/reports/2019-us-cities-sustainable-development-report/\n",
        "\n",
        "sustainablecities = pd.read_csv('/content/2019USCitiesIndexResults.csv')[[\"Region\", \"maincity\", \"score_sdgi\", \"rank_sdgIndex\"]]\n",
        "sustainablecities.head()"
      ],
      "execution_count": null,
      "outputs": []
    },
    {
      "cell_type": "code",
      "metadata": {
        "id": "yYWnhbVagSCH"
      },
      "source": [
        "cities_region = sustainablecities.groupby('Region').mean()\n",
        "cities_region[\"Region\"] = [\"Northeast\", \"Midwest\", \"South\", \"West\"]\n",
        "cities_region.head()"
      ],
      "execution_count": null,
      "outputs": []
    },
    {
      "cell_type": "markdown",
      "metadata": {
        "id": "ucemlpPFfbC_"
      },
      "source": [
        "### Diet Survey\n",
        "1,500 participants from the US were asked:\n",
        "\n",
        "Over the next 12 months how, if at all, are you planning to change your diet?"
      ]
    },
    {
      "cell_type": "code",
      "metadata": {
        "id": "qS02KzwZgCa3"
      },
      "source": [
        "# Source: https://d25d2506sfb94s.cloudfront.net/cumulus_uploads/document/ueji3eha6i/econTabReport.pdf\n",
        "meatsurvey = pd.read_csv('/content/MeatSurvey.csv')  \n",
        "meatsurvey.insert(2, \"Stacked\", \"Yes\")\n",
        "\n",
        "meatsurvey.head()"
      ],
      "execution_count": null,
      "outputs": []
    },
    {
      "cell_type": "markdown",
      "metadata": {
        "id": "iPQSPToriwHS"
      },
      "source": [
        "## Visualizations"
      ]
    },
    {
      "cell_type": "code",
      "metadata": {
        "id": "eWY1g2LuixUB"
      },
      "source": [
        "from plotnine import *\n",
        "\n",
        "(ggplot(meatsurvey)\n",
        "  + aes(x = \"Stacked\", y = \"Percent\", fill = \"Response\")\n",
        "  + geom_col(width = 0.5)\n",
        "  + coord_flip()\n",
        "  + scale_fill_manual(values = [\"#6b705c\", \"#cb997e\", \"#ddbea9\", \"#ffe8d6\"])\n",
        "  + theme_void()\n",
        "  + labs(title = \"Over the next 12 months how, if at all, are you planning to change your diet?\")\n",
        ")"
      ],
      "execution_count": null,
      "outputs": []
    },
    {
      "cell_type": "code",
      "metadata": {
        "id": "ACoifIGXizbj"
      },
      "source": [
        "(ggplot(sustainablecities)\n",
        "  + aes(x = \"maincity\", y = \"score_sdgi\", fill = \"score_sdgi\")\n",
        "  + geom_col(width = 0.75)\n",
        "  + scale_x_discrete(limits=sustainablecities[\"maincity\"].tolist())\n",
        "  + scale_fill_gradient(low = \"#EDDF99\", high = \"#2B9700\")\n",
        "  + theme_void()\n",
        "  + labs(title = \"US Cities Ranked by Sustainability Index Score\", fill = \"Sustainability Index Score\")\n",
        "\n",
        ")"
      ],
      "execution_count": null,
      "outputs": []
    },
    {
      "cell_type": "code",
      "metadata": {
        "id": "sk3Rbqxzi0-G"
      },
      "source": [
        "(ggplot(cities_region)\n",
        "  + aes(x = \"Region\", y = \"score_sdgi\", fill = \"Region\")\n",
        "  + geom_col(width = 0.75, show_legend=False)\n",
        "  + scale_x_discrete(limits=[\"West\", \"Northeast\", \"Midwest\", \"South\"])\n",
        "  + scale_fill_manual(values = [\"#b5c99a\", \"#97a97c\", \"#e9f5db\", \"#718355\"])\n",
        "  + theme_minimal()\n",
        "  + labs(title = \"US Regions Ranked By Average Sustainability Index Score\", y = \"Sustainability Index Score\")\n",
        ")"
      ],
      "execution_count": null,
      "outputs": []
    },
    {
      "cell_type": "markdown",
      "metadata": {
        "id": "wX8lNEhujEUw"
      },
      "source": [
        "# Amelia's Code"
      ]
    },
    {
      "cell_type": "markdown",
      "metadata": {
        "id": "agRcU6WFjrM0"
      },
      "source": [
        "## Food Production"
      ]
    },
    {
      "cell_type": "code",
      "metadata": {
        "id": "10_S-O8WjHxn"
      },
      "source": [
        "df = pd.read_csv(\"Food_Production.csv\") #dataset taken from Kaggle: https://www.kaggle.com/selfvivek/environment-impact-of-food-production\n",
        "\n",
        "df.head(n = 25)"
      ],
      "execution_count": null,
      "outputs": []
    },
    {
      "cell_type": "code",
      "metadata": {
        "id": "qXJIukS4jK75"
      },
      "source": [
        "df2 = df.sort_values(\"Total_emissions\", ascending = True)\n",
        "df2"
      ],
      "execution_count": null,
      "outputs": []
    },
    {
      "cell_type": "code",
      "metadata": {
        "id": "JYGojLs-jMNx"
      },
      "source": [
        "fig = px.bar(df2, x = \"Food product\", y = \"Total_emissions\", \n",
        "                 color = \"Total_emissions\",\n",
        "                 color_continuous_scale = \"Bluered\")\n",
        "fig.show()"
      ],
      "execution_count": null,
      "outputs": []
    },
    {
      "cell_type": "code",
      "metadata": {
        "id": "fZhiKDPEjN3k"
      },
      "source": [
        "food_list = [\"nuts\",\"fruit\",\"vegetables\",\"vegetables\",\"vegetables\",\"fruit\",\"vegetables\",\"vegetables\",\"fruit\",\"vegetables\",\"fruit\",\"vegetables\",\"Soymilk\",\"fruit\",\"grain\",\"grain\",\"sugar\",\"wine\",\"fruit\",\"grain\",\"grain\",\"grain\",\"nuts\",\"sugar\",\"milk\",\"tofu\",\n",
        "             \"oil\",\"oil\",\"grain\",\"eggs\",\"fish\",\"oil\",\"oil\",\"poultry meat\",\"pig meat\",\"oil\",\"shrimp\",\"coffee\",\"dark chocolate\",\"beef (dairy herd)\",\"cheese\",\"lamb & mutton\",\"beef (beef herd)\"]\n",
        "df2[\"type\"] = food_list\n",
        "df2.head()"
      ],
      "execution_count": null,
      "outputs": []
    },
    {
      "cell_type": "code",
      "metadata": {
        "id": "ziiMPEGZjQjM"
      },
      "source": [
        "df_cat = pd.DataFrame(df2['Total_emissions'].groupby([df2['type']]).sum())\n",
        "df_cat.head(n=25)"
      ],
      "execution_count": null,
      "outputs": []
    },
    {
      "cell_type": "code",
      "metadata": {
        "id": "4bMo3s_ujUTE"
      },
      "source": [
        "list2 = [\"Soymilk\",\"beef (beef herd)\",\"beef (dairy herd)\", \"cheese\",\"coffee\",\"dark chocolate\",\"eggs\",\"fish\",\"fruit\",\"grain\",\"lamb & mutton\",\n",
        "         \"milk\",\"nuts\",\"oil\",\"pig meat\",\"poultry meat\",\"shrimp\",\"sugar\",\"tofu\",\"vegetables\",\"wine\"]\n",
        "df_cat[\"type2\"] = list2\n",
        "df_cat"
      ],
      "execution_count": null,
      "outputs": []
    },
    {
      "cell_type": "code",
      "metadata": {
        "id": "_CJ8aipgjXiA"
      },
      "source": [
        "df_cat2 = df_cat.sort_values(\"Total_emissions\", ascending = True)\n",
        "df_cat2.head(n=5)"
      ],
      "execution_count": null,
      "outputs": []
    },
    {
      "cell_type": "code",
      "metadata": {
        "id": "EfyZM13ujYDh"
      },
      "source": [
        "fig = px.bar(df_cat2, y = \"type2\", x = \"Total_emissions\", \n",
        "                 color = \"Total_emissions\",\n",
        "                 color_continuous_scale = \"Bluered\",\n",
        "             orientation = 'h',\n",
        "             title = \"Total Emissions of Popular Foods\",\n",
        "             labels = {\n",
        "                 \"type2\": \"Food category\",\n",
        "                 \"Total_emissions\": \"Total Emissions\"\n",
        "             })\n",
        "fig.show()"
      ],
      "execution_count": null,
      "outputs": []
    },
    {
      "cell_type": "code",
      "metadata": {
        "id": "-WVz6961jZSX"
      },
      "source": [
        "fig = px.bar(df2, y = \"Food product\", x = \"Total_emissions\", \n",
        "                 color = \"Total_emissions\",\n",
        "                 color_continuous_scale = \"Bluered\",\n",
        "             orientation = 'h',\n",
        "              #title = \"Total Emissions of Popular Foods\",\n",
        "             labels = {\n",
        "                 \"type2\": \"Food category\",\n",
        "                 \"Total_emissions\": \"Total Emissions\"\n",
        "             })\n",
        "\n",
        "fig.update_layout({\n",
        "    'plot_bgcolor': 'rgba(0,0,0,0)'},\n",
        "    #'paper_bgcolor': 'rgba(0,0,0,0)'},\n",
        "    height = 500,\n",
        "    width = 1000,\n",
        "    font = dict( size = 20)\n",
        ")\n",
        "\n",
        "fig.show()"
      ],
      "execution_count": null,
      "outputs": []
    },
    {
      "cell_type": "code",
      "metadata": {
        "id": "F9Aj1huMjapb"
      },
      "source": [
        "fig = px.bar(df2, x = \"Food product\", y = \"Greenhouse gas emissions per 100g protein (kgCO₂eq per 100g protein)\")\n",
        "fig.show()"
      ],
      "execution_count": null,
      "outputs": []
    },
    {
      "cell_type": "code",
      "metadata": {
        "id": "jrjXKBD2jcGp"
      },
      "source": [
        "#Eutrophying emissions per 100g protein (gPO₄eq per 100 grams protein)\n",
        "fig = px.scatter(df2, x = \"Food product\", y = \"Eutrophying emissions per 100g protein (gPO₄eq per 100 grams protein)\")\n",
        "fig.show()"
      ],
      "execution_count": null,
      "outputs": []
    },
    {
      "cell_type": "code",
      "metadata": {
        "id": "PRwPxHGPjdVd"
      },
      "source": [
        "fig = px.scatter(df2, x = \"Food product\", y = \"Greenhouse gas emissions per 1000kcal (kgCO₂eq per 1000kcal)\")\n",
        "fig.show()"
      ],
      "execution_count": null,
      "outputs": []
    },
    {
      "cell_type": "code",
      "metadata": {
        "id": "62_JxMLsjfPG"
      },
      "source": [
        "fig = px.scatter(df2, x = \"Food product\", y = \"Scarcity-weighted water use per 100g protein (liters per 100g protein)\")\n",
        "fig.show()"
      ],
      "execution_count": null,
      "outputs": []
    },
    {
      "cell_type": "code",
      "metadata": {
        "id": "r8N9IkRhjgib"
      },
      "source": [
        "fig = px.bar(df2, x = \"Food product\", y = \"Scarcity-weighted water use per kilogram (liters per kilogram)\")\n",
        "fig.show()"
      ],
      "execution_count": null,
      "outputs": []
    },
    {
      "cell_type": "code",
      "metadata": {
        "id": "MJIGpHVfjh5Z"
      },
      "source": [
        "fig = px.bar(df2, x = \"Food product\", y = \"Freshwater withdrawals per 100g protein (liters per 100g protein)\")\n",
        "fig.show()"
      ],
      "execution_count": null,
      "outputs": []
    },
    {
      "cell_type": "markdown",
      "metadata": {
        "id": "TvhVFfyKju9u"
      },
      "source": [
        "## Google Vegan/Vegetarian Trends"
      ]
    },
    {
      "cell_type": "code",
      "metadata": {
        "id": "4bg8zDb5jxhH"
      },
      "source": [
        "goog = pd.read_csv(\"google.csv\") #Data taken from Google Trends: https://trends.google.com/trends/explore?date=all&geo=US&q=vegan\n",
        "goog.head()"
      ],
      "execution_count": null,
      "outputs": []
    },
    {
      "cell_type": "code",
      "metadata": {
        "id": "--Ct9ajajzwG"
      },
      "source": [
        "goog2 = pd.melt(goog, id_vars=['Month'], var_name='Type',value_name='Score')\n",
        "goog2.head()"
      ],
      "execution_count": null,
      "outputs": []
    },
    {
      "cell_type": "code",
      "metadata": {
        "id": "gXO_xhGTj22g"
      },
      "source": [
        "fig = px.line(goog2, x = \"Month\", y = \"Score\",\n",
        "              color = \"Type\",\n",
        "              #title = \"Relative Popularity of Google Searches for 'Vegan' and 'Vegetarian'\",\n",
        "              labels = {\n",
        "                  \"Month\":\"Year\"\n",
        "              })\n",
        "\n",
        "fig.update_layout({\n",
        "    'plot_bgcolor': 'rgba(0,0,0,0)',\n",
        "    'paper_bgcolor': 'rgba(0,0,0,0)'\n",
        "})\n",
        "\n",
        "\n",
        "fig.update_layout(legend=dict(\n",
        "    yanchor=\"top\",\n",
        "    y=0.95,\n",
        "    xanchor=\"left\",\n",
        "    x=0.05\n",
        "))\n",
        "\n",
        "fig.show()"
      ],
      "execution_count": null,
      "outputs": []
    },
    {
      "cell_type": "markdown",
      "metadata": {
        "id": "pjPYavXKkAqA"
      },
      "source": [
        "## Milk Trends"
      ]
    },
    {
      "cell_type": "code",
      "metadata": {
        "id": "dSpYM2cdj3Tl"
      },
      "source": [
        "milk = pd.read_csv(\"milk.csv\")\n",
        "milk.head()"
      ],
      "execution_count": null,
      "outputs": []
    },
    {
      "cell_type": "code",
      "metadata": {
        "id": "i32w08g1kHD9"
      },
      "source": [
        "milk2 = pd.melt(milk, id_vars=['Month'], var_name='Type',value_name='Score')\n",
        "milk2.head()"
      ],
      "execution_count": null,
      "outputs": []
    },
    {
      "cell_type": "code",
      "metadata": {
        "id": "c7ULcNcekIjY"
      },
      "source": [
        "fig = px.line(milk2, x = \"Month\", y = \"Score\",\n",
        "              color = \"Type\")\n",
        "fig.show()"
      ],
      "execution_count": null,
      "outputs": []
    }
  ]
}