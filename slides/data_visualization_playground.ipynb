{
  "nbformat": 4,
  "nbformat_minor": 0,
  "metadata": {
    "kernelspec": {
      "display_name": "Psych 81.09",
      "language": "python",
      "name": "psych81.09"
    },
    "language_info": {
      "codemirror_mode": {
        "name": "ipython",
        "version": 3
      },
      "file_extension": ".py",
      "mimetype": "text/x-python",
      "name": "python",
      "nbconvert_exporter": "python",
      "pygments_lexer": "ipython3",
      "version": "3.6.8"
    },
    "colab": {
      "name": "data_visualization_playground.ipynb",
      "provenance": [],
      "include_colab_link": true
    }
  },
  "cells": [
    {
      "cell_type": "markdown",
      "metadata": {
        "id": "view-in-github",
        "colab_type": "text"
      },
      "source": [
        "<a href=\"https://colab.research.google.com/github/ContextLab/storytelling-with-data/blob/master/slides/data_visualization_playground.ipynb\" target=\"_parent\"><img src=\"https://colab.research.google.com/assets/colab-badge.svg\" alt=\"Open In Colab\"/></a>"
      ]
    },
    {
      "cell_type": "markdown",
      "metadata": {
        "id": "qYJPc2EczLEC",
        "colab_type": "text"
      },
      "source": [
        "# Data visualization playground\n",
        "\n",
        "This notebook is based on the Storytelling with Data [demo repository](https://github.com/ContextLab/storytelling-with-data/tree/master/data-stories/demo), and is intended to provide an interactive space for exploring various [data visualization approaches](https://github.com/ContextLab/storytelling-with-data/blob/master/slides/data-viz.md)."
      ]
    },
    {
      "cell_type": "code",
      "metadata": {
        "id": "poB_y0KEJcD3",
        "colab_type": "code",
        "outputId": "6cc87def-0762-46e9-8721-571b289da0a7",
        "colab": {
          "base_uri": "https://localhost:8080/",
          "height": 434
        }
      },
      "source": [
        "!pip install hypertools"
      ],
      "execution_count": 2,
      "outputs": [
        {
          "output_type": "stream",
          "text": [
            "Requirement already satisfied: hypertools in /usr/local/lib/python3.6/dist-packages (0.6.2)\n",
            "Requirement already satisfied: PPCA>=0.0.2 in /usr/local/lib/python3.6/dist-packages (from hypertools) (0.0.4)\n",
            "Requirement already satisfied: numpy>=1.10.4 in /usr/local/lib/python3.6/dist-packages (from hypertools) (1.18.2)\n",
            "Requirement already satisfied: seaborn>=0.8.1 in /usr/local/lib/python3.6/dist-packages (from hypertools) (0.10.0)\n",
            "Requirement already satisfied: scikit-learn<0.22,>=0.19.1 in /usr/local/lib/python3.6/dist-packages (from hypertools) (0.21.3)\n",
            "Requirement already satisfied: deepdish in /usr/local/lib/python3.6/dist-packages (from hypertools) (0.3.6)\n",
            "Requirement already satisfied: pandas>=0.18.0 in /usr/local/lib/python3.6/dist-packages (from hypertools) (1.0.3)\n",
            "Requirement already satisfied: requests in /usr/local/lib/python3.6/dist-packages (from hypertools) (2.21.0)\n",
            "Requirement already satisfied: six in /usr/local/lib/python3.6/dist-packages (from hypertools) (1.12.0)\n",
            "Requirement already satisfied: future in /usr/local/lib/python3.6/dist-packages (from hypertools) (0.16.0)\n",
            "Requirement already satisfied: scipy>=1.0.0 in /usr/local/lib/python3.6/dist-packages (from hypertools) (1.4.1)\n",
            "Requirement already satisfied: matplotlib>=1.5.1 in /usr/local/lib/python3.6/dist-packages (from hypertools) (3.2.1)\n",
            "Requirement already satisfied: joblib>=0.11 in /usr/local/lib/python3.6/dist-packages (from scikit-learn<0.22,>=0.19.1->hypertools) (0.14.1)\n",
            "Requirement already satisfied: tables in /usr/local/lib/python3.6/dist-packages (from deepdish->hypertools) (3.4.4)\n",
            "Requirement already satisfied: pytz>=2017.2 in /usr/local/lib/python3.6/dist-packages (from pandas>=0.18.0->hypertools) (2018.9)\n",
            "Requirement already satisfied: python-dateutil>=2.6.1 in /usr/local/lib/python3.6/dist-packages (from pandas>=0.18.0->hypertools) (2.8.1)\n",
            "Requirement already satisfied: certifi>=2017.4.17 in /usr/local/lib/python3.6/dist-packages (from requests->hypertools) (2020.4.5.1)\n",
            "Requirement already satisfied: chardet<3.1.0,>=3.0.2 in /usr/local/lib/python3.6/dist-packages (from requests->hypertools) (3.0.4)\n",
            "Requirement already satisfied: idna<2.9,>=2.5 in /usr/local/lib/python3.6/dist-packages (from requests->hypertools) (2.8)\n",
            "Requirement already satisfied: urllib3<1.25,>=1.21.1 in /usr/local/lib/python3.6/dist-packages (from requests->hypertools) (1.24.3)\n",
            "Requirement already satisfied: cycler>=0.10 in /usr/local/lib/python3.6/dist-packages (from matplotlib>=1.5.1->hypertools) (0.10.0)\n",
            "Requirement already satisfied: kiwisolver>=1.0.1 in /usr/local/lib/python3.6/dist-packages (from matplotlib>=1.5.1->hypertools) (1.2.0)\n",
            "Requirement already satisfied: pyparsing!=2.0.4,!=2.1.2,!=2.1.6,>=2.0.1 in /usr/local/lib/python3.6/dist-packages (from matplotlib>=1.5.1->hypertools) (2.4.7)\n",
            "Requirement already satisfied: numexpr>=2.5.2 in /usr/local/lib/python3.6/dist-packages (from tables->deepdish->hypertools) (2.7.1)\n"
          ],
          "name": "stdout"
        }
      ]
    },
    {
      "cell_type": "code",
      "metadata": {
        "id": "i5X225WPGwDo",
        "colab_type": "code",
        "colab": {}
      },
      "source": [
        "import warnings\n",
        "warnings.simplefilter('ignore')\n",
        "\n",
        "#number crunching\n",
        "import numpy as np\n",
        "import pandas as pd\n",
        "\n",
        "#data visualization\n",
        "import plotly\n",
        "import plotly.express as px\n",
        "import seaborn as sns\n",
        "import bokeh as bk\n",
        "from matplotlib import pyplot as plt\n",
        "import plotnine as pn\n",
        "import hypertools as hyp\n",
        "import folium as fm\n",
        "from mpl_toolkits.mplot3d import Axes3D\n",
        "\n",
        "#machine learning and stats\n",
        "import scipy as sp\n",
        "import sklearn as sk\n",
        "import tensorflow as tf\n",
        "import statsmodels.api as sm"
      ],
      "execution_count": 0,
      "outputs": []
    },
    {
      "cell_type": "markdown",
      "metadata": {
        "id": "XHvFYl-aOHpN",
        "colab_type": "text"
      },
      "source": [
        "# Data\n",
        "\n",
        "As a class, we'll choose one or more datasets from [this list](https://github.com/awesomedata/awesome-public-datasets) to explore."
      ]
    },
    {
      "cell_type": "code",
      "metadata": {
        "id": "pMalPJ-XMuVh",
        "colab_type": "code",
        "colab": {}
      },
      "source": [
        "# Provide code for downloading or importing the data (ideally into a Pandas DataFrame) here..."
      ],
      "execution_count": 0,
      "outputs": []
    },
    {
      "cell_type": "markdown",
      "metadata": {
        "id": "2hpbjrd8Ofpa",
        "colab_type": "text"
      },
      "source": [
        "# Analysis\n",
        "\n",
        "We'll use plotly, seaborn, bokeh, matplotlib, plotnine, hypertools, and/or folium to visualize different aspects of our sample dataset(s)."
      ]
    },
    {
      "cell_type": "markdown",
      "metadata": {
        "id": "iVmcKfDp1o2C",
        "colab_type": "text"
      },
      "source": [
        "# Examining raw examples\n",
        "\n",
        "Print out or visualize some of the raw data to get a sense of a few examples."
      ]
    },
    {
      "cell_type": "markdown",
      "metadata": {
        "id": "02SFytVD183H",
        "colab_type": "text"
      },
      "source": [
        "# Statistical summary\n",
        "\n",
        "Display some sort of statistical summary of the dataset."
      ]
    },
    {
      "cell_type": "markdown",
      "metadata": {
        "id": "_CqcWQ3E25Vo",
        "colab_type": "text"
      },
      "source": [
        "# Bar graph\n",
        "\n",
        "Use a bar graph to display some property or trend in the dataset."
      ]
    },
    {
      "cell_type": "markdown",
      "metadata": {
        "id": "u_JnrA923LUg",
        "colab_type": "text"
      },
      "source": [
        "# Scatterplot\n",
        "\n",
        "Generate a 2D or 3D scatterplot to visualize some property or trend in the dataset."
      ]
    },
    {
      "cell_type": "markdown",
      "metadata": {
        "id": "qui12Zy23T8X",
        "colab_type": "text"
      },
      "source": [
        "# Heatmap\n",
        "\n",
        "Use a heatmap or 2D histogram to visualize some property of the dataset."
      ]
    },
    {
      "cell_type": "markdown",
      "metadata": {
        "id": "CjUO6ssh3jQP",
        "colab_type": "text"
      },
      "source": [
        "# Circular data\n",
        "\n",
        "If there are any circular (cyclical, angular) aspects of the dataset, visualize them using a rose plot."
      ]
    },
    {
      "cell_type": "markdown",
      "metadata": {
        "id": "wU6uuA0J3vII",
        "colab_type": "text"
      },
      "source": [
        "# Clustering analysis\n",
        "\n",
        "Show how different observations or parts of the dataset are grouped."
      ]
    },
    {
      "cell_type": "markdown",
      "metadata": {
        "id": "X7W7G1fk3_gu",
        "colab_type": "text"
      },
      "source": [
        "# Timeseries data\n",
        "\n",
        "If there is a temporal aspect of the dataset, visualize it (e.g., using a lineplot, animation, or some other type of figure)."
      ]
    },
    {
      "cell_type": "markdown",
      "metadata": {
        "id": "g68sAter4MPR",
        "colab_type": "text"
      },
      "source": [
        "# Network data\n",
        "\n",
        "If there are network properties of the dataset, visualize them in some way."
      ]
    },
    {
      "cell_type": "markdown",
      "metadata": {
        "id": "HUPQ_p6Y4UT4",
        "colab_type": "text"
      },
      "source": [
        "# Geospatial data\n",
        "\n",
        "If there are locations provided in the dataset, visualize them using some sort of map or geographic plot."
      ]
    }
  ]
}